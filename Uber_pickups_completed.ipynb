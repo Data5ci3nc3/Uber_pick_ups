{
 "cells": [
  {
   "cell_type": "markdown",
   "metadata": {},
   "source": [
    "<img src=\"https://upload.wikimedia.org/wikipedia/commons/thumb/5/58/Uber_logo_2018.svg/1024px-Uber_logo_2018.svg.png\" alt=\"UBER LOGO\" width=\"50%\" />\n",
    "\n",
    "# UBER Pickups"
   ]
  },
  {
   "cell_type": "markdown",
   "metadata": {},
   "source": [
    "## Company's Description 📇\n",
    "\n",
    "<a href=\"http://uber.com/\" target=\"_blank\">Uber</a> is one of the most famous startup in the world. It started as a ride-sharing application for people who couldn't afford a taxi. Now, Uber expanded its activities to Food Delivery with <a href=\"https://www.ubereats.com/fr-en\" target=\"_blank\">Uber Eats</a>, package delivery, freight transportation and even urban transportation with <a href=\"https://www.uber.com/fr/en/ride/uber-bike/\" target=\"_blank\"> Jump Bike</a> and <a href=\"https://www.li.me/\" target=\"_blank\"> Lime </a> that the company funded. \n",
    "\n",
    "\n",
    "The company's goal is to revolutionize transportation accross the globe. It operates now on about 70 countries and 900 cities and generates over $14 billion revenue! 😮\n"
   ]
  },
  {
   "cell_type": "markdown",
   "metadata": {},
   "source": [
    "## Project 🚧\n",
    "\n",
    "One of the main pain point that Uber's team found is that sometimes drivers are not around when users need them. For example, a user might be in San Francisco's Financial District whereas Uber drivers are looking for customers in Castro.  \n",
    "\n",
    "(If you are not familiar with the bay area, check out <a href=\"https://www.google.com/maps/place/San+Francisco,+CA,+USA/@37.7515389,-122.4567213,13.43z/data=!4m5!3m4!1s0x80859a6d00690021:0x4a501367f076adff!8m2!3d37.7749295!4d-122.4194155\" target=\"_blank\">Google Maps</a>)\n",
    "\n",
    "Eventhough both neighborhood are not that far away, users would still have to wait 10 to 15 minutes before being picked-up, which is too long. Uber's research shows that users accept to wait 5-7 minutes, otherwise they would cancel their ride. \n",
    "\n",
    "Therefore, Uber's data team would like to work on a project where **their app would recommend hot-zones in major cities to be in at any given time of day.**  "
   ]
  },
  {
   "cell_type": "markdown",
   "metadata": {},
   "source": [
    "## Goals 🎯\n",
    "\n",
    "Uber already has data about pickups in major cities. Your objective is to create algorithms that will determine where are the hot-zones that drivers should be in. Therefore you will:\n",
    "\n",
    "* Create an algorithm to find hot zones \n",
    "* Visualize results on a nice dashboard "
   ]
  },
  {
   "cell_type": "markdown",
   "metadata": {},
   "source": [
    "## Scope of this project 🖼️\n",
    "\n",
    "To start off, Uber wants to try this feature in New York city. Therefore you will only focus on this city. Data can be found here: \n",
    "\n",
    "👉👉<a href=\"https://full-stack-bigdata-datasets.s3.eu-west-3.amazonaws.com/Machine+Learning+non+Supervis%C3%A9/Projects/uber-trip-data.zip\" target=\"_blank\"> Uber Trip Data</a> 👈👈\n",
    "\n",
    "**You only need to focus on New York City for this project**"
   ]
  },
  {
   "cell_type": "markdown",
   "metadata": {},
   "source": [
    "## Helpers 🦮\n",
    "\n",
    "To help you achieve this project, here are a few tips that should help you: \n",
    "\n",
    "### Clustering is your friend \n",
    "\n",
    "Clustering technics are a perfect fit for the job. Think about it, all the pickup locations can be gathered into different clusters. You can then use **cluster coordinates to pin hot zones** 😉\n",
    "    \n",
    "\n",
    "### Create maps with `plotly` \n",
    "\n",
    "Check out <a href=\"https://plotly.com/\" target=\"_blank\">Plotly</a> documentation, you can create maps and populate them easily. Obviously, there are other libraries but this one should do the job pretty well. \n",
    "\n",
    "\n",
    "### Start small grow big \n",
    "\n",
    "Eventhough Uber wants to have hot-zones per hour and per day of week, you should first **start small**. Pick one day at a given hour and **then start to generalize** your approach. "
   ]
  },
  {
   "cell_type": "markdown",
   "metadata": {},
   "source": [
    "## Deliverable 📬\n",
    "\n",
    "To complete this project, your team should: \n",
    "\n",
    "* Have a map with hot-zones using any python library (`plotly` or anything else). \n",
    "* You should **at least** describe hot-zones per day of week. \n",
    "* Compare results with **at least** two unsupervised algorithms like KMeans and DBScan. \n",
    "\n",
    "Your maps should look something like this: \n",
    "\n",
    "<img src=\"https://full-stack-assets.s3.eu-west-3.amazonaws.com/images/Clusters_uber_pickups.png\" alt=\"Uber Cluster Map\" />"
   ]
  },
  {
   "cell_type": "markdown",
   "metadata": {},
   "source": [
    "### Working on the project with DBSCAN clustering algorithm"
   ]
  },
  {
   "cell_type": "markdown",
   "metadata": {},
   "source": [
    "##### Installing Plotly"
   ]
  },
  {
   "cell_type": "code",
   "execution_count": 1,
   "metadata": {},
   "outputs": [
    {
     "name": "stdout",
     "output_type": "stream",
     "text": [
      "Requirement already satisfied: plotly in /opt/conda/lib/python3.8/site-packages (5.5.0)\n",
      "Requirement already satisfied: six in /opt/conda/lib/python3.8/site-packages (from plotly) (1.15.0)\n",
      "Requirement already satisfied: tenacity>=6.2.0 in /opt/conda/lib/python3.8/site-packages (from plotly) (8.0.1)\n"
     ]
    }
   ],
   "source": [
    "!pip install plotly"
   ]
  },
  {
   "cell_type": "markdown",
   "metadata": {},
   "source": [
    "##### Importing adequate librairies"
   ]
  },
  {
   "cell_type": "code",
   "execution_count": 2,
   "metadata": {},
   "outputs": [],
   "source": [
    "import pandas as pd \n",
    "import numpy as np \n",
    "\n",
    "from sklearn.preprocessing import  OneHotEncoder, StandardScaler\n",
    "from sklearn.compose import ColumnTransformer\n",
    "\n",
    "import plotly.express as px\n",
    "import plotly.io as pio\n",
    "pio.renderers.default = \"iframe_connected\""
   ]
  },
  {
   "cell_type": "markdown",
   "metadata": {},
   "source": [
    "##### Loading the dataset"
   ]
  },
  {
   "cell_type": "code",
   "execution_count": 3,
   "metadata": {},
   "outputs": [],
   "source": [
    "df = pd.read_csv(\"https://raw.githubusercontent.com/fivethirtyeight/uber-tlc-foil-response/master/uber-trip-data/uber-raw-data-apr14.csv\")"
   ]
  },
  {
   "cell_type": "markdown",
   "metadata": {},
   "source": [
    "##### Understanding the overall structure of the dataset"
   ]
  },
  {
   "cell_type": "code",
   "execution_count": 4,
   "metadata": {},
   "outputs": [
    {
     "data": {
      "text/html": [
       "<div>\n",
       "<style scoped>\n",
       "    .dataframe tbody tr th:only-of-type {\n",
       "        vertical-align: middle;\n",
       "    }\n",
       "\n",
       "    .dataframe tbody tr th {\n",
       "        vertical-align: top;\n",
       "    }\n",
       "\n",
       "    .dataframe thead th {\n",
       "        text-align: right;\n",
       "    }\n",
       "</style>\n",
       "<table border=\"1\" class=\"dataframe\">\n",
       "  <thead>\n",
       "    <tr style=\"text-align: right;\">\n",
       "      <th></th>\n",
       "      <th>Date/Time</th>\n",
       "      <th>Lat</th>\n",
       "      <th>Lon</th>\n",
       "      <th>Base</th>\n",
       "    </tr>\n",
       "  </thead>\n",
       "  <tbody>\n",
       "    <tr>\n",
       "      <th>0</th>\n",
       "      <td>4/1/2014 0:11:00</td>\n",
       "      <td>40.7690</td>\n",
       "      <td>-73.9549</td>\n",
       "      <td>B02512</td>\n",
       "    </tr>\n",
       "    <tr>\n",
       "      <th>1</th>\n",
       "      <td>4/1/2014 0:17:00</td>\n",
       "      <td>40.7267</td>\n",
       "      <td>-74.0345</td>\n",
       "      <td>B02512</td>\n",
       "    </tr>\n",
       "    <tr>\n",
       "      <th>2</th>\n",
       "      <td>4/1/2014 0:21:00</td>\n",
       "      <td>40.7316</td>\n",
       "      <td>-73.9873</td>\n",
       "      <td>B02512</td>\n",
       "    </tr>\n",
       "    <tr>\n",
       "      <th>3</th>\n",
       "      <td>4/1/2014 0:28:00</td>\n",
       "      <td>40.7588</td>\n",
       "      <td>-73.9776</td>\n",
       "      <td>B02512</td>\n",
       "    </tr>\n",
       "    <tr>\n",
       "      <th>4</th>\n",
       "      <td>4/1/2014 0:33:00</td>\n",
       "      <td>40.7594</td>\n",
       "      <td>-73.9722</td>\n",
       "      <td>B02512</td>\n",
       "    </tr>\n",
       "  </tbody>\n",
       "</table>\n",
       "</div>"
      ],
      "text/plain": [
       "          Date/Time      Lat      Lon    Base\n",
       "0  4/1/2014 0:11:00  40.7690 -73.9549  B02512\n",
       "1  4/1/2014 0:17:00  40.7267 -74.0345  B02512\n",
       "2  4/1/2014 0:21:00  40.7316 -73.9873  B02512\n",
       "3  4/1/2014 0:28:00  40.7588 -73.9776  B02512\n",
       "4  4/1/2014 0:33:00  40.7594 -73.9722  B02512"
      ]
     },
     "execution_count": 4,
     "metadata": {},
     "output_type": "execute_result"
    }
   ],
   "source": [
    "df.head()"
   ]
  },
  {
   "cell_type": "code",
   "execution_count": 5,
   "metadata": {},
   "outputs": [
    {
     "name": "stdout",
     "output_type": "stream",
     "text": [
      "The dataset contains 564516 observations\n"
     ]
    }
   ],
   "source": [
    "print (\"The dataset contains {} observations\".format(df.shape[0]))"
   ]
  },
  {
   "cell_type": "code",
   "execution_count": 6,
   "metadata": {},
   "outputs": [
    {
     "name": "stdout",
     "output_type": "stream",
     "text": [
      "The dataset contains 4 columns\n"
     ]
    }
   ],
   "source": [
    "print (\"The dataset contains {} columns\".format(df.shape[1]))"
   ]
  },
  {
   "cell_type": "code",
   "execution_count": 7,
   "metadata": {},
   "outputs": [
    {
     "name": "stdout",
     "output_type": "stream",
     "text": [
      "<class 'pandas.core.frame.DataFrame'>\n",
      "RangeIndex: 564516 entries, 0 to 564515\n",
      "Data columns (total 4 columns):\n",
      " #   Column     Non-Null Count   Dtype  \n",
      "---  ------     --------------   -----  \n",
      " 0   Date/Time  564516 non-null  object \n",
      " 1   Lat        564516 non-null  float64\n",
      " 2   Lon        564516 non-null  float64\n",
      " 3   Base       564516 non-null  object \n",
      "dtypes: float64(2), object(2)\n",
      "memory usage: 17.2+ MB\n"
     ]
    }
   ],
   "source": [
    "df.info()"
   ]
  },
  {
   "cell_type": "markdown",
   "metadata": {},
   "source": [
    "##### Take a sample of 100 000 observations from the dataset"
   ]
  },
  {
   "cell_type": "code",
   "execution_count": 8,
   "metadata": {},
   "outputs": [
    {
     "data": {
      "text/html": [
       "<div>\n",
       "<style scoped>\n",
       "    .dataframe tbody tr th:only-of-type {\n",
       "        vertical-align: middle;\n",
       "    }\n",
       "\n",
       "    .dataframe tbody tr th {\n",
       "        vertical-align: top;\n",
       "    }\n",
       "\n",
       "    .dataframe thead th {\n",
       "        text-align: right;\n",
       "    }\n",
       "</style>\n",
       "<table border=\"1\" class=\"dataframe\">\n",
       "  <thead>\n",
       "    <tr style=\"text-align: right;\">\n",
       "      <th></th>\n",
       "      <th>Date/Time</th>\n",
       "      <th>Lat</th>\n",
       "      <th>Lon</th>\n",
       "      <th>Base</th>\n",
       "    </tr>\n",
       "  </thead>\n",
       "  <tbody>\n",
       "    <tr>\n",
       "      <th>112412</th>\n",
       "      <td>4/15/2014 21:56:00</td>\n",
       "      <td>40.7385</td>\n",
       "      <td>-73.9882</td>\n",
       "      <td>B02598</td>\n",
       "    </tr>\n",
       "    <tr>\n",
       "      <th>59958</th>\n",
       "      <td>4/5/2014 19:40:00</td>\n",
       "      <td>40.7145</td>\n",
       "      <td>-73.9845</td>\n",
       "      <td>B02598</td>\n",
       "    </tr>\n",
       "    <tr>\n",
       "      <th>72159</th>\n",
       "      <td>4/8/2014 8:36:00</td>\n",
       "      <td>40.6772</td>\n",
       "      <td>-73.9823</td>\n",
       "      <td>B02598</td>\n",
       "    </tr>\n",
       "    <tr>\n",
       "      <th>440386</th>\n",
       "      <td>4/15/2014 21:31:00</td>\n",
       "      <td>40.6801</td>\n",
       "      <td>-73.9969</td>\n",
       "      <td>B02682</td>\n",
       "    </tr>\n",
       "    <tr>\n",
       "      <th>146187</th>\n",
       "      <td>4/22/2014 8:44:00</td>\n",
       "      <td>40.7108</td>\n",
       "      <td>-74.0062</td>\n",
       "      <td>B02598</td>\n",
       "    </tr>\n",
       "  </tbody>\n",
       "</table>\n",
       "</div>"
      ],
      "text/plain": [
       "                 Date/Time      Lat      Lon    Base\n",
       "112412  4/15/2014 21:56:00  40.7385 -73.9882  B02598\n",
       "59958    4/5/2014 19:40:00  40.7145 -73.9845  B02598\n",
       "72159     4/8/2014 8:36:00  40.6772 -73.9823  B02598\n",
       "440386  4/15/2014 21:31:00  40.6801 -73.9969  B02682\n",
       "146187   4/22/2014 8:44:00  40.7108 -74.0062  B02598"
      ]
     },
     "execution_count": 8,
     "metadata": {},
     "output_type": "execute_result"
    }
   ],
   "source": [
    "dataset = df.sample(100000)\n",
    "dataset.head()"
   ]
  },
  {
   "cell_type": "markdown",
   "metadata": {},
   "source": [
    "##### Converting \"Date/Time\" column to datetime format"
   ]
  },
  {
   "cell_type": "code",
   "execution_count": 9,
   "metadata": {},
   "outputs": [],
   "source": [
    "dataset[\"Date/Time\"] = pd.to_datetime(dataset[\"Date/Time\"])"
   ]
  },
  {
   "cell_type": "markdown",
   "metadata": {},
   "source": [
    "##### Verifying that the dataframe does not contain any missing values"
   ]
  },
  {
   "cell_type": "code",
   "execution_count": 10,
   "metadata": {},
   "outputs": [
    {
     "data": {
      "text/plain": [
       "Date/Time    0\n",
       "Lat          0\n",
       "Lon          0\n",
       "Base         0\n",
       "dtype: int64"
      ]
     },
     "execution_count": 10,
     "metadata": {},
     "output_type": "execute_result"
    }
   ],
   "source": [
    "dataset.isnull().sum()"
   ]
  },
  {
   "cell_type": "code",
   "execution_count": 11,
   "metadata": {},
   "outputs": [
    {
     "name": "stdout",
     "output_type": "stream",
     "text": [
      "<class 'pandas.core.frame.DataFrame'>\n",
      "Int64Index: 100000 entries, 112412 to 437546\n",
      "Data columns (total 4 columns):\n",
      " #   Column     Non-Null Count   Dtype         \n",
      "---  ------     --------------   -----         \n",
      " 0   Date/Time  100000 non-null  datetime64[ns]\n",
      " 1   Lat        100000 non-null  float64       \n",
      " 2   Lon        100000 non-null  float64       \n",
      " 3   Base       100000 non-null  object        \n",
      "dtypes: datetime64[ns](1), float64(2), object(1)\n",
      "memory usage: 3.8+ MB\n"
     ]
    }
   ],
   "source": [
    "dataset.info()"
   ]
  },
  {
   "cell_type": "code",
   "execution_count": 12,
   "metadata": {},
   "outputs": [],
   "source": [
    "sample_data = dataset"
   ]
  },
  {
   "cell_type": "markdown",
   "metadata": {},
   "source": [
    "##### Basic feature engineering from after conversion of \"Date/Time\" column to datetime format"
   ]
  },
  {
   "cell_type": "code",
   "execution_count": 13,
   "metadata": {},
   "outputs": [],
   "source": [
    "sample_data[\"Year\"] = sample_data[\"Date/Time\"].dt.year\n",
    "sample_data[\"Month\"] = sample_data[\"Date/Time\"].dt.month\n",
    "sample_data[\"Day\"] = sample_data[\"Date/Time\"].dt.day\n",
    "sample_data[\"Hour\"] = sample_data[\"Date/Time\"].dt.hour\n",
    "sample_data[\"Minutes\"] = sample_data[\"Date/Time\"].dt.minute\n",
    "sample_data[\"DayOfWeek\"] = sample_data[\"Date/Time\"].dt.day_name()"
   ]
  },
  {
   "cell_type": "code",
   "execution_count": 14,
   "metadata": {},
   "outputs": [
    {
     "data": {
      "text/html": [
       "<div>\n",
       "<style scoped>\n",
       "    .dataframe tbody tr th:only-of-type {\n",
       "        vertical-align: middle;\n",
       "    }\n",
       "\n",
       "    .dataframe tbody tr th {\n",
       "        vertical-align: top;\n",
       "    }\n",
       "\n",
       "    .dataframe thead th {\n",
       "        text-align: right;\n",
       "    }\n",
       "</style>\n",
       "<table border=\"1\" class=\"dataframe\">\n",
       "  <thead>\n",
       "    <tr style=\"text-align: right;\">\n",
       "      <th></th>\n",
       "      <th>Date/Time</th>\n",
       "      <th>Lat</th>\n",
       "      <th>Lon</th>\n",
       "      <th>Base</th>\n",
       "      <th>Year</th>\n",
       "      <th>Month</th>\n",
       "      <th>Day</th>\n",
       "      <th>Hour</th>\n",
       "      <th>Minutes</th>\n",
       "      <th>DayOfWeek</th>\n",
       "    </tr>\n",
       "  </thead>\n",
       "  <tbody>\n",
       "    <tr>\n",
       "      <th>112412</th>\n",
       "      <td>2014-04-15 21:56:00</td>\n",
       "      <td>40.7385</td>\n",
       "      <td>-73.9882</td>\n",
       "      <td>B02598</td>\n",
       "      <td>2014</td>\n",
       "      <td>4</td>\n",
       "      <td>15</td>\n",
       "      <td>21</td>\n",
       "      <td>56</td>\n",
       "      <td>Tuesday</td>\n",
       "    </tr>\n",
       "    <tr>\n",
       "      <th>59958</th>\n",
       "      <td>2014-04-05 19:40:00</td>\n",
       "      <td>40.7145</td>\n",
       "      <td>-73.9845</td>\n",
       "      <td>B02598</td>\n",
       "      <td>2014</td>\n",
       "      <td>4</td>\n",
       "      <td>5</td>\n",
       "      <td>19</td>\n",
       "      <td>40</td>\n",
       "      <td>Saturday</td>\n",
       "    </tr>\n",
       "    <tr>\n",
       "      <th>72159</th>\n",
       "      <td>2014-04-08 08:36:00</td>\n",
       "      <td>40.6772</td>\n",
       "      <td>-73.9823</td>\n",
       "      <td>B02598</td>\n",
       "      <td>2014</td>\n",
       "      <td>4</td>\n",
       "      <td>8</td>\n",
       "      <td>8</td>\n",
       "      <td>36</td>\n",
       "      <td>Tuesday</td>\n",
       "    </tr>\n",
       "  </tbody>\n",
       "</table>\n",
       "</div>"
      ],
      "text/plain": [
       "                 Date/Time      Lat      Lon    Base  Year  Month  Day  Hour  \\\n",
       "112412 2014-04-15 21:56:00  40.7385 -73.9882  B02598  2014      4   15    21   \n",
       "59958  2014-04-05 19:40:00  40.7145 -73.9845  B02598  2014      4    5    19   \n",
       "72159  2014-04-08 08:36:00  40.6772 -73.9823  B02598  2014      4    8     8   \n",
       "\n",
       "        Minutes DayOfWeek  \n",
       "112412       56   Tuesday  \n",
       "59958        40  Saturday  \n",
       "72159        36   Tuesday  "
      ]
     },
     "execution_count": 14,
     "metadata": {},
     "output_type": "execute_result"
    }
   ],
   "source": [
    "sample_data.head(3)"
   ]
  },
  {
   "cell_type": "markdown",
   "metadata": {},
   "source": [
    "##### Dropping \"Date/Time\" and \"Base\" column before further processing"
   ]
  },
  {
   "cell_type": "code",
   "execution_count": 15,
   "metadata": {},
   "outputs": [],
   "source": [
    "sample_data = sample_data.drop(columns=[\"Date/Time\", \"Base\"])"
   ]
  },
  {
   "cell_type": "code",
   "execution_count": 16,
   "metadata": {},
   "outputs": [
    {
     "data": {
      "text/html": [
       "<div>\n",
       "<style scoped>\n",
       "    .dataframe tbody tr th:only-of-type {\n",
       "        vertical-align: middle;\n",
       "    }\n",
       "\n",
       "    .dataframe tbody tr th {\n",
       "        vertical-align: top;\n",
       "    }\n",
       "\n",
       "    .dataframe thead th {\n",
       "        text-align: right;\n",
       "    }\n",
       "</style>\n",
       "<table border=\"1\" class=\"dataframe\">\n",
       "  <thead>\n",
       "    <tr style=\"text-align: right;\">\n",
       "      <th></th>\n",
       "      <th>Lat</th>\n",
       "      <th>Lon</th>\n",
       "      <th>Year</th>\n",
       "      <th>Month</th>\n",
       "      <th>Day</th>\n",
       "      <th>Hour</th>\n",
       "      <th>Minutes</th>\n",
       "      <th>DayOfWeek</th>\n",
       "    </tr>\n",
       "  </thead>\n",
       "  <tbody>\n",
       "    <tr>\n",
       "      <th>112412</th>\n",
       "      <td>40.7385</td>\n",
       "      <td>-73.9882</td>\n",
       "      <td>2014</td>\n",
       "      <td>4</td>\n",
       "      <td>15</td>\n",
       "      <td>21</td>\n",
       "      <td>56</td>\n",
       "      <td>Tuesday</td>\n",
       "    </tr>\n",
       "    <tr>\n",
       "      <th>59958</th>\n",
       "      <td>40.7145</td>\n",
       "      <td>-73.9845</td>\n",
       "      <td>2014</td>\n",
       "      <td>4</td>\n",
       "      <td>5</td>\n",
       "      <td>19</td>\n",
       "      <td>40</td>\n",
       "      <td>Saturday</td>\n",
       "    </tr>\n",
       "    <tr>\n",
       "      <th>72159</th>\n",
       "      <td>40.6772</td>\n",
       "      <td>-73.9823</td>\n",
       "      <td>2014</td>\n",
       "      <td>4</td>\n",
       "      <td>8</td>\n",
       "      <td>8</td>\n",
       "      <td>36</td>\n",
       "      <td>Tuesday</td>\n",
       "    </tr>\n",
       "    <tr>\n",
       "      <th>440386</th>\n",
       "      <td>40.6801</td>\n",
       "      <td>-73.9969</td>\n",
       "      <td>2014</td>\n",
       "      <td>4</td>\n",
       "      <td>15</td>\n",
       "      <td>21</td>\n",
       "      <td>31</td>\n",
       "      <td>Tuesday</td>\n",
       "    </tr>\n",
       "    <tr>\n",
       "      <th>146187</th>\n",
       "      <td>40.7108</td>\n",
       "      <td>-74.0062</td>\n",
       "      <td>2014</td>\n",
       "      <td>4</td>\n",
       "      <td>22</td>\n",
       "      <td>8</td>\n",
       "      <td>44</td>\n",
       "      <td>Tuesday</td>\n",
       "    </tr>\n",
       "  </tbody>\n",
       "</table>\n",
       "</div>"
      ],
      "text/plain": [
       "            Lat      Lon  Year  Month  Day  Hour  Minutes DayOfWeek\n",
       "112412  40.7385 -73.9882  2014      4   15    21       56   Tuesday\n",
       "59958   40.7145 -73.9845  2014      4    5    19       40  Saturday\n",
       "72159   40.6772 -73.9823  2014      4    8     8       36   Tuesday\n",
       "440386  40.6801 -73.9969  2014      4   15    21       31   Tuesday\n",
       "146187  40.7108 -74.0062  2014      4   22     8       44   Tuesday"
      ]
     },
     "execution_count": 16,
     "metadata": {},
     "output_type": "execute_result"
    }
   ],
   "source": [
    "sample_data.head()"
   ]
  },
  {
   "cell_type": "code",
   "execution_count": 17,
   "metadata": {},
   "outputs": [
    {
     "data": {
      "text/plain": [
       "(100000, 8)"
      ]
     },
     "execution_count": 17,
     "metadata": {},
     "output_type": "execute_result"
    }
   ],
   "source": [
    "sample_data.shape"
   ]
  },
  {
   "cell_type": "markdown",
   "metadata": {},
   "source": [
    "##### Verifying that \"DayOfWeek\" column contains all the 7 days of the week"
   ]
  },
  {
   "cell_type": "code",
   "execution_count": 18,
   "metadata": {},
   "outputs": [
    {
     "data": {
      "text/plain": [
       "array(['Tuesday', 'Saturday', 'Friday', 'Monday', 'Wednesday', 'Sunday',\n",
       "       'Thursday'], dtype=object)"
      ]
     },
     "execution_count": 18,
     "metadata": {},
     "output_type": "execute_result"
    }
   ],
   "source": [
    "sample_data[\"DayOfWeek\"].unique()"
   ]
  },
  {
   "cell_type": "markdown",
   "metadata": {},
   "source": [
    "##### Verifying that \"Day\" column contains all the 30 days of April"
   ]
  },
  {
   "cell_type": "code",
   "execution_count": 19,
   "metadata": {},
   "outputs": [
    {
     "data": {
      "text/plain": [
       "array([15,  5,  8, 22, 25,  7, 18,  4, 30,  2, 13, 14, 23, 10, 16, 12, 24,\n",
       "        3,  9, 11, 26,  6, 19, 28, 17, 27, 29, 21, 20,  1])"
      ]
     },
     "execution_count": 19,
     "metadata": {},
     "output_type": "execute_result"
    }
   ],
   "source": [
    "sample_data[\"Day\"].unique()"
   ]
  },
  {
   "cell_type": "code",
   "execution_count": 20,
   "metadata": {},
   "outputs": [
    {
     "data": {
      "text/plain": [
       "30"
      ]
     },
     "execution_count": 20,
     "metadata": {},
     "output_type": "execute_result"
    }
   ],
   "source": [
    "len(sample_data[\"Day\"].unique())"
   ]
  },
  {
   "cell_type": "markdown",
   "metadata": {},
   "source": [
    "##### Verifying the values in the \"Hour\" column"
   ]
  },
  {
   "cell_type": "code",
   "execution_count": 21,
   "metadata": {},
   "outputs": [
    {
     "data": {
      "text/plain": [
       "array([21, 19,  8, 15,  9, 13, 20, 14, 23, 11, 16,  0, 18, 22, 12, 17,  2,\n",
       "        3,  7,  6,  1, 10,  5,  4])"
      ]
     },
     "execution_count": 21,
     "metadata": {},
     "output_type": "execute_result"
    }
   ],
   "source": [
    "sample_data[\"Hour\"].unique()"
   ]
  },
  {
   "cell_type": "code",
   "execution_count": 22,
   "metadata": {},
   "outputs": [
    {
     "data": {
      "text/plain": [
       "24"
      ]
     },
     "execution_count": 22,
     "metadata": {},
     "output_type": "execute_result"
    }
   ],
   "source": [
    "len(sample_data[\"Hour\"].unique())"
   ]
  },
  {
   "cell_type": "markdown",
   "metadata": {},
   "source": [
    "##### Creating dataframes for information concerning each of the seven days of the week for April"
   ]
  },
  {
   "cell_type": "code",
   "execution_count": 23,
   "metadata": {},
   "outputs": [],
   "source": [
    "monday = sample_data[sample_data.DayOfWeek == \"Monday\"]"
   ]
  },
  {
   "cell_type": "code",
   "execution_count": 24,
   "metadata": {},
   "outputs": [],
   "source": [
    "tuesday = sample_data[sample_data.DayOfWeek == \"Tuesday\"]"
   ]
  },
  {
   "cell_type": "code",
   "execution_count": 25,
   "metadata": {},
   "outputs": [],
   "source": [
    "wednesday = sample_data[sample_data.DayOfWeek == \"Wednesday\"]"
   ]
  },
  {
   "cell_type": "code",
   "execution_count": 26,
   "metadata": {},
   "outputs": [],
   "source": [
    "thursday = sample_data[sample_data.DayOfWeek == \"Thursday\"]"
   ]
  },
  {
   "cell_type": "code",
   "execution_count": 27,
   "metadata": {},
   "outputs": [],
   "source": [
    "friday = sample_data[sample_data.DayOfWeek == \"Friday\"]"
   ]
  },
  {
   "cell_type": "code",
   "execution_count": 28,
   "metadata": {},
   "outputs": [],
   "source": [
    "saturday = sample_data[sample_data.DayOfWeek == \"Saturday\"]"
   ]
  },
  {
   "cell_type": "code",
   "execution_count": 29,
   "metadata": {},
   "outputs": [],
   "source": [
    "sunday = sample_data[sample_data.DayOfWeek == \"Sunday\"]"
   ]
  },
  {
   "cell_type": "markdown",
   "metadata": {},
   "source": [
    "##### Verifying that the number of rows of each of the dataframes add up to the total number of rows of the original dataset"
   ]
  },
  {
   "cell_type": "code",
   "execution_count": 30,
   "metadata": {},
   "outputs": [
    {
     "data": {
      "text/plain": [
       "100000"
      ]
     },
     "execution_count": 30,
     "metadata": {},
     "output_type": "execute_result"
    }
   ],
   "source": [
    "monday.shape[0]+tuesday.shape[0]+wednesday.shape[0]+thursday.shape[0]+friday.shape[0]+saturday.shape[0]+sunday.shape[0]"
   ]
  },
  {
   "cell_type": "markdown",
   "metadata": {},
   "source": [
    "##### Creating dataframes for information concerning each of the 24 hours of the day"
   ]
  },
  {
   "cell_type": "code",
   "execution_count": 31,
   "metadata": {},
   "outputs": [],
   "source": [
    "midnight = sample_data[sample_data.Hour == 0]"
   ]
  },
  {
   "cell_type": "code",
   "execution_count": 32,
   "metadata": {},
   "outputs": [],
   "source": [
    "one = sample_data[sample_data.Hour == 1]"
   ]
  },
  {
   "cell_type": "code",
   "execution_count": 33,
   "metadata": {},
   "outputs": [],
   "source": [
    "two = sample_data[sample_data.Hour == 2]"
   ]
  },
  {
   "cell_type": "code",
   "execution_count": 34,
   "metadata": {},
   "outputs": [],
   "source": [
    "three = sample_data[sample_data.Hour == 3]"
   ]
  },
  {
   "cell_type": "code",
   "execution_count": 35,
   "metadata": {},
   "outputs": [],
   "source": [
    "four = sample_data[sample_data.Hour == 4]"
   ]
  },
  {
   "cell_type": "code",
   "execution_count": 36,
   "metadata": {},
   "outputs": [],
   "source": [
    "five = sample_data[sample_data.Hour == 5]"
   ]
  },
  {
   "cell_type": "code",
   "execution_count": 37,
   "metadata": {},
   "outputs": [],
   "source": [
    "six = sample_data[sample_data.Hour == 6]"
   ]
  },
  {
   "cell_type": "code",
   "execution_count": 38,
   "metadata": {},
   "outputs": [],
   "source": [
    "seven = sample_data[sample_data.Hour == 7]"
   ]
  },
  {
   "cell_type": "code",
   "execution_count": 39,
   "metadata": {},
   "outputs": [],
   "source": [
    "eight = sample_data[sample_data.Hour == 8]"
   ]
  },
  {
   "cell_type": "code",
   "execution_count": 40,
   "metadata": {},
   "outputs": [],
   "source": [
    "nine = sample_data[sample_data.Hour == 9]"
   ]
  },
  {
   "cell_type": "code",
   "execution_count": 41,
   "metadata": {},
   "outputs": [],
   "source": [
    "ten = sample_data[sample_data.Hour == 10]"
   ]
  },
  {
   "cell_type": "code",
   "execution_count": 42,
   "metadata": {},
   "outputs": [],
   "source": [
    "eleven = sample_data[sample_data.Hour == 11]"
   ]
  },
  {
   "cell_type": "code",
   "execution_count": 43,
   "metadata": {},
   "outputs": [],
   "source": [
    "twelve = sample_data[sample_data.Hour == 12]"
   ]
  },
  {
   "cell_type": "code",
   "execution_count": 44,
   "metadata": {},
   "outputs": [],
   "source": [
    "thirteen = sample_data[sample_data.Hour == 13]"
   ]
  },
  {
   "cell_type": "code",
   "execution_count": 45,
   "metadata": {},
   "outputs": [],
   "source": [
    "fourteen = sample_data[sample_data.Hour == 14]"
   ]
  },
  {
   "cell_type": "code",
   "execution_count": 46,
   "metadata": {},
   "outputs": [],
   "source": [
    "fifteen = sample_data[sample_data.Hour == 15]"
   ]
  },
  {
   "cell_type": "code",
   "execution_count": 47,
   "metadata": {},
   "outputs": [],
   "source": [
    "sixteen = sample_data[sample_data.Hour == 16]"
   ]
  },
  {
   "cell_type": "code",
   "execution_count": 48,
   "metadata": {},
   "outputs": [],
   "source": [
    "seventeen = sample_data[sample_data.Hour == 17]"
   ]
  },
  {
   "cell_type": "code",
   "execution_count": 49,
   "metadata": {},
   "outputs": [],
   "source": [
    "eighteen = sample_data[sample_data.Hour == 18]"
   ]
  },
  {
   "cell_type": "code",
   "execution_count": 50,
   "metadata": {},
   "outputs": [],
   "source": [
    "nineteen = sample_data[sample_data.Hour == 19]"
   ]
  },
  {
   "cell_type": "code",
   "execution_count": 51,
   "metadata": {},
   "outputs": [],
   "source": [
    "twenty = sample_data[sample_data.Hour == 20]"
   ]
  },
  {
   "cell_type": "code",
   "execution_count": 52,
   "metadata": {},
   "outputs": [],
   "source": [
    "twenty_one = sample_data[sample_data.Hour == 21]"
   ]
  },
  {
   "cell_type": "code",
   "execution_count": 53,
   "metadata": {},
   "outputs": [],
   "source": [
    "twenty_two = sample_data[sample_data.Hour == 22]"
   ]
  },
  {
   "cell_type": "code",
   "execution_count": 54,
   "metadata": {},
   "outputs": [],
   "source": [
    "twenty_three = sample_data[sample_data.Hour == 23]"
   ]
  },
  {
   "cell_type": "markdown",
   "metadata": {},
   "source": [
    "##### Verifying that the number of rows of each of the dataframes add up to the total number of rows of the original dataset"
   ]
  },
  {
   "cell_type": "code",
   "execution_count": 55,
   "metadata": {},
   "outputs": [
    {
     "data": {
      "text/plain": [
       "100000"
      ]
     },
     "execution_count": 55,
     "metadata": {},
     "output_type": "execute_result"
    }
   ],
   "source": [
    "one.shape[0]+two.shape[0]+three.shape[0]+four.shape[0]+five.shape[0]+six.shape[0]+seven.shape[0]+eight.shape[0]+nine.shape[0]+ten.shape[0]+eleven.shape[0]+twelve.shape[0]+thirteen.shape[0]+fourteen.shape[0]+fifteen.shape[0]+sixteen.shape[0]+seventeen.shape[0]+eighteen.shape[0]+nineteen.shape[0]+twenty.shape[0]+twenty_one.shape[0]+twenty_two.shape[0]+twenty_three.shape[0]+midnight.shape[0]"
   ]
  },
  {
   "cell_type": "markdown",
   "metadata": {},
   "source": [
    "### Picking one day at a given hour, as asked in the exercise, for a test"
   ]
  },
  {
   "cell_type": "code",
   "execution_count": 56,
   "metadata": {},
   "outputs": [
    {
     "data": {
      "text/html": [
       "<div>\n",
       "<style scoped>\n",
       "    .dataframe tbody tr th:only-of-type {\n",
       "        vertical-align: middle;\n",
       "    }\n",
       "\n",
       "    .dataframe tbody tr th {\n",
       "        vertical-align: top;\n",
       "    }\n",
       "\n",
       "    .dataframe thead th {\n",
       "        text-align: right;\n",
       "    }\n",
       "</style>\n",
       "<table border=\"1\" class=\"dataframe\">\n",
       "  <thead>\n",
       "    <tr style=\"text-align: right;\">\n",
       "      <th></th>\n",
       "      <th>Lat</th>\n",
       "      <th>Lon</th>\n",
       "      <th>Year</th>\n",
       "      <th>Month</th>\n",
       "      <th>Day</th>\n",
       "      <th>Hour</th>\n",
       "      <th>Minutes</th>\n",
       "      <th>DayOfWeek</th>\n",
       "    </tr>\n",
       "  </thead>\n",
       "  <tbody>\n",
       "    <tr>\n",
       "      <th>372834</th>\n",
       "      <td>40.7365</td>\n",
       "      <td>-74.0018</td>\n",
       "      <td>2014</td>\n",
       "      <td>4</td>\n",
       "      <td>6</td>\n",
       "      <td>12</td>\n",
       "      <td>15</td>\n",
       "      <td>Sunday</td>\n",
       "    </tr>\n",
       "    <tr>\n",
       "      <th>424825</th>\n",
       "      <td>40.7038</td>\n",
       "      <td>-73.9866</td>\n",
       "      <td>2014</td>\n",
       "      <td>4</td>\n",
       "      <td>13</td>\n",
       "      <td>12</td>\n",
       "      <td>49</td>\n",
       "      <td>Sunday</td>\n",
       "    </tr>\n",
       "    <tr>\n",
       "      <th>471560</th>\n",
       "      <td>40.7695</td>\n",
       "      <td>-73.9564</td>\n",
       "      <td>2014</td>\n",
       "      <td>4</td>\n",
       "      <td>20</td>\n",
       "      <td>12</td>\n",
       "      <td>29</td>\n",
       "      <td>Sunday</td>\n",
       "    </tr>\n",
       "    <tr>\n",
       "      <th>138184</th>\n",
       "      <td>40.7295</td>\n",
       "      <td>-73.9899</td>\n",
       "      <td>2014</td>\n",
       "      <td>4</td>\n",
       "      <td>20</td>\n",
       "      <td>12</td>\n",
       "      <td>16</td>\n",
       "      <td>Sunday</td>\n",
       "    </tr>\n",
       "    <tr>\n",
       "      <th>524032</th>\n",
       "      <td>40.7232</td>\n",
       "      <td>-73.7905</td>\n",
       "      <td>2014</td>\n",
       "      <td>4</td>\n",
       "      <td>27</td>\n",
       "      <td>12</td>\n",
       "      <td>19</td>\n",
       "      <td>Sunday</td>\n",
       "    </tr>\n",
       "  </tbody>\n",
       "</table>\n",
       "</div>"
      ],
      "text/plain": [
       "            Lat      Lon  Year  Month  Day  Hour  Minutes DayOfWeek\n",
       "372834  40.7365 -74.0018  2014      4    6    12       15    Sunday\n",
       "424825  40.7038 -73.9866  2014      4   13    12       49    Sunday\n",
       "471560  40.7695 -73.9564  2014      4   20    12       29    Sunday\n",
       "138184  40.7295 -73.9899  2014      4   20    12       16    Sunday\n",
       "524032  40.7232 -73.7905  2014      4   27    12       19    Sunday"
      ]
     },
     "execution_count": 56,
     "metadata": {},
     "output_type": "execute_result"
    }
   ],
   "source": [
    "sunday_noon = sunday[sunday.Hour == 12]\n",
    "sunday_noon.head()"
   ]
  },
  {
   "cell_type": "code",
   "execution_count": 57,
   "metadata": {},
   "outputs": [
    {
     "data": {
      "text/plain": [
       "(404, 8)"
      ]
     },
     "execution_count": 57,
     "metadata": {},
     "output_type": "execute_result"
    }
   ],
   "source": [
    "sunday_noon.shape"
   ]
  },
  {
   "cell_type": "markdown",
   "metadata": {},
   "source": [
    "##### Dropping unnecessary columns of the dataset"
   ]
  },
  {
   "cell_type": "code",
   "execution_count": 58,
   "metadata": {},
   "outputs": [],
   "source": [
    "sunday_noon = sunday_noon.drop(columns=[\"Year\", \"Month\", \"Day\"])"
   ]
  },
  {
   "cell_type": "code",
   "execution_count": 59,
   "metadata": {},
   "outputs": [
    {
     "data": {
      "text/html": [
       "<div>\n",
       "<style scoped>\n",
       "    .dataframe tbody tr th:only-of-type {\n",
       "        vertical-align: middle;\n",
       "    }\n",
       "\n",
       "    .dataframe tbody tr th {\n",
       "        vertical-align: top;\n",
       "    }\n",
       "\n",
       "    .dataframe thead th {\n",
       "        text-align: right;\n",
       "    }\n",
       "</style>\n",
       "<table border=\"1\" class=\"dataframe\">\n",
       "  <thead>\n",
       "    <tr style=\"text-align: right;\">\n",
       "      <th></th>\n",
       "      <th>Lat</th>\n",
       "      <th>Lon</th>\n",
       "      <th>Hour</th>\n",
       "      <th>Minutes</th>\n",
       "      <th>DayOfWeek</th>\n",
       "    </tr>\n",
       "  </thead>\n",
       "  <tbody>\n",
       "    <tr>\n",
       "      <th>372834</th>\n",
       "      <td>40.7365</td>\n",
       "      <td>-74.0018</td>\n",
       "      <td>12</td>\n",
       "      <td>15</td>\n",
       "      <td>Sunday</td>\n",
       "    </tr>\n",
       "    <tr>\n",
       "      <th>424825</th>\n",
       "      <td>40.7038</td>\n",
       "      <td>-73.9866</td>\n",
       "      <td>12</td>\n",
       "      <td>49</td>\n",
       "      <td>Sunday</td>\n",
       "    </tr>\n",
       "    <tr>\n",
       "      <th>471560</th>\n",
       "      <td>40.7695</td>\n",
       "      <td>-73.9564</td>\n",
       "      <td>12</td>\n",
       "      <td>29</td>\n",
       "      <td>Sunday</td>\n",
       "    </tr>\n",
       "    <tr>\n",
       "      <th>138184</th>\n",
       "      <td>40.7295</td>\n",
       "      <td>-73.9899</td>\n",
       "      <td>12</td>\n",
       "      <td>16</td>\n",
       "      <td>Sunday</td>\n",
       "    </tr>\n",
       "    <tr>\n",
       "      <th>524032</th>\n",
       "      <td>40.7232</td>\n",
       "      <td>-73.7905</td>\n",
       "      <td>12</td>\n",
       "      <td>19</td>\n",
       "      <td>Sunday</td>\n",
       "    </tr>\n",
       "  </tbody>\n",
       "</table>\n",
       "</div>"
      ],
      "text/plain": [
       "            Lat      Lon  Hour  Minutes DayOfWeek\n",
       "372834  40.7365 -74.0018    12       15    Sunday\n",
       "424825  40.7038 -73.9866    12       49    Sunday\n",
       "471560  40.7695 -73.9564    12       29    Sunday\n",
       "138184  40.7295 -73.9899    12       16    Sunday\n",
       "524032  40.7232 -73.7905    12       19    Sunday"
      ]
     },
     "execution_count": 59,
     "metadata": {},
     "output_type": "execute_result"
    }
   ],
   "source": [
    "sunday_noon.head()"
   ]
  },
  {
   "cell_type": "markdown",
   "metadata": {},
   "source": [
    "##### A scatterplot to show how the pick-up points are scattered in New York city on Sundays between noon and 12 h 59"
   ]
  },
  {
   "cell_type": "code",
   "execution_count": 60,
   "metadata": {},
   "outputs": [
    {
     "data": {
      "text/html": [
       "<iframe\n",
       "    scrolling=\"no\"\n",
       "    width=\"100%\"\n",
       "    height=\"545px\"\n",
       "    src=\"iframe_figures/figure_60.html\"\n",
       "    frameborder=\"0\"\n",
       "    allowfullscreen\n",
       "></iframe>\n"
      ]
     },
     "metadata": {},
     "output_type": "display_data"
    }
   ],
   "source": [
    "fig_sunday_noon = px.scatter_mapbox(\n",
    "        sunday_noon, \n",
    "        lat=\"Lat\", \n",
    "        lon=\"Lon\",\n",
    "        mapbox_style=\"carto-positron\"\n",
    ")\n",
    "\n",
    "fig_sunday_noon.show()"
   ]
  },
  {
   "cell_type": "markdown",
   "metadata": {},
   "source": [
    "##### Scaling numerical data and one-hot encoding categorical data"
   ]
  },
  {
   "cell_type": "code",
   "execution_count": 61,
   "metadata": {},
   "outputs": [
    {
     "name": "stdout",
     "output_type": "stream",
     "text": [
      "Preprocessing on dataset...\n",
      "            Lat      Lon  Hour  Minutes DayOfWeek\n",
      "372834  40.7365 -74.0018    12       15    Sunday\n",
      "424825  40.7038 -73.9866    12       49    Sunday\n",
      "471560  40.7695 -73.9564    12       29    Sunday\n",
      "138184  40.7295 -73.9899    12       16    Sunday\n",
      "524032  40.7232 -73.7905    12       19    Sunday\n",
      "...Completed.\n",
      "[[ 0.00888279 -0.62232407  0.         -0.88975319]\n",
      " [-0.79819302 -0.30117044  0.          1.2185183 ]\n",
      " [ 0.82336297  0.33691112  0.         -0.0216414 ]\n",
      " [-0.16388573 -0.37089458  0.         -0.8277452 ]\n",
      " [-0.3193774   3.84213397  0.         -0.64172125]]\n",
      "\n"
     ]
    }
   ],
   "source": [
    "numeric_features = [0, 1, 2, 3] # Positions of numerical variables\n",
    "numeric_transformer = StandardScaler()\n",
    "\n",
    "# Creation of the transformer for categorical values\n",
    "categorical_features = [4] # Positions of categorical variables\n",
    "categorical_transformer = OneHotEncoder(drop='first')\n",
    "\n",
    "# Combining the transformers in ColumnTransformer\n",
    "preprocessor = ColumnTransformer(\n",
    "    transformers=[\n",
    "        ('num', numeric_transformer, numeric_features),\n",
    "        ('cat', categorical_transformer, categorical_features)\n",
    "    ])\n",
    "\n",
    "print(\"Preprocessing on dataset...\")\n",
    "print(sunday_noon.head())\n",
    "scaled_X_sunday_noon = preprocessor.fit_transform(sunday_noon)\n",
    "print('...Completed.')\n",
    "print(scaled_X_sunday_noon[0:5, :])\n",
    "print()"
   ]
  },
  {
   "cell_type": "markdown",
   "metadata": {},
   "source": [
    "#####  Use DBSCAN and a for loop to create a variety of models testing different epsilon values"
   ]
  },
  {
   "cell_type": "code",
   "execution_count": 62,
   "metadata": {},
   "outputs": [],
   "source": [
    "from sklearn.cluster import DBSCAN\n",
    "\n",
    "outlier_percent = []\n",
    "\n",
    "for eps in np.linspace(0.001, 3, 100):\n",
    "    \n",
    "    # Create Model\n",
    "    dbscan = DBSCAN(eps=eps,min_samples=2*scaled_X_sunday_noon.shape[1], metric=\"manhattan\", algorithm=\"brute\")\n",
    "    dbscan.fit(scaled_X_sunday_noon)\n",
    "   \n",
    "     \n",
    "    # Log percentage of points that are outliers\n",
    "    perc_outliers = 100 * np.sum(dbscan.labels_ == -1) / len(dbscan.labels_)\n",
    "    \n",
    "    outlier_percent.append(perc_outliers)"
   ]
  },
  {
   "cell_type": "markdown",
   "metadata": {},
   "source": [
    "##### Creating a line plot of the percentage of outlier points versus the epsilon value choice"
   ]
  },
  {
   "cell_type": "code",
   "execution_count": 63,
   "metadata": {},
   "outputs": [
    {
     "data": {
      "text/plain": [
       "Text(0.5, 0, 'Epsilon value')"
      ]
     },
     "execution_count": 63,
     "metadata": {},
     "output_type": "execute_result"
    },
    {
     "data": {
      "image/png": "[encoded data removed]",
      "text/plain": [
       "<Figure size 432x288 with 1 Axes>"
      ]
     },
     "metadata": {
      "needs_background": "light"
     },
     "output_type": "display_data"
    }
   ],
   "source": [
    "import seaborn as sns\n",
    "import matplotlib.pyplot as plt\n",
    "sns.lineplot(x=np.linspace(0.001, 3, 100),y=outlier_percent)\n",
    "plt.ylabel(\"Percentage of points classified as outliers\")\n",
    "plt.xlabel(\"Epsilon value\")"
   ]
  },
  {
   "cell_type": "markdown",
   "metadata": {},
   "source": [
    "##### Following the litterature on DBSCAN, min_samples should be two times the number of dimensions"
   ]
  },
  {
   "cell_type": "code",
   "execution_count": 64,
   "metadata": {},
   "outputs": [
    {
     "data": {
      "text/plain": [
       "10"
      ]
     },
     "execution_count": 64,
     "metadata": {},
     "output_type": "execute_result"
    }
   ],
   "source": [
    "min_samples = (2*sunday_noon.shape[1])\n",
    "min_samples"
   ]
  },
  {
   "cell_type": "markdown",
   "metadata": {},
   "source": [
    "##### Retraining a DBSCAN model with epsilon value = 0.6, based on the plot created above, and min_samples = 8"
   ]
  },
  {
   "cell_type": "code",
   "execution_count": 65,
   "metadata": {},
   "outputs": [
    {
     "data": {
      "text/plain": [
       "DBSCAN(algorithm='brute', eps=0.6, metric='manhattan', min_samples=8)"
      ]
     },
     "execution_count": 65,
     "metadata": {},
     "output_type": "execute_result"
    }
   ],
   "source": [
    "eps = 0.6\n",
    "min_samples = 8\n",
    "dbscan = DBSCAN(eps=eps, min_samples=min_samples, metric=\"manhattan\", algorithm=\"brute\")\n",
    "dbscan.fit(scaled_X_sunday_noon)"
   ]
  },
  {
   "cell_type": "code",
   "execution_count": 66,
   "metadata": {},
   "outputs": [
    {
     "data": {
      "text/plain": [
       "(array([-1,  0]), array([139, 265]))"
      ]
     },
     "execution_count": 66,
     "metadata": {},
     "output_type": "execute_result"
    }
   ],
   "source": [
    "np.unique(dbscan.labels_, return_counts=True)"
   ]
  },
  {
   "cell_type": "code",
   "execution_count": 67,
   "metadata": {},
   "outputs": [
    {
     "data": {
      "text/html": [
       "<div>\n",
       "<style scoped>\n",
       "    .dataframe tbody tr th:only-of-type {\n",
       "        vertical-align: middle;\n",
       "    }\n",
       "\n",
       "    .dataframe tbody tr th {\n",
       "        vertical-align: top;\n",
       "    }\n",
       "\n",
       "    .dataframe thead th {\n",
       "        text-align: right;\n",
       "    }\n",
       "</style>\n",
       "<table border=\"1\" class=\"dataframe\">\n",
       "  <thead>\n",
       "    <tr style=\"text-align: right;\">\n",
       "      <th></th>\n",
       "      <th>Lat</th>\n",
       "      <th>Lon</th>\n",
       "      <th>Hour</th>\n",
       "      <th>Minutes</th>\n",
       "      <th>DayOfWeek</th>\n",
       "      <th>cluster</th>\n",
       "    </tr>\n",
       "  </thead>\n",
       "  <tbody>\n",
       "    <tr>\n",
       "      <th>372834</th>\n",
       "      <td>40.7365</td>\n",
       "      <td>-74.0018</td>\n",
       "      <td>12</td>\n",
       "      <td>15</td>\n",
       "      <td>Sunday</td>\n",
       "      <td>0</td>\n",
       "    </tr>\n",
       "    <tr>\n",
       "      <th>424825</th>\n",
       "      <td>40.7038</td>\n",
       "      <td>-73.9866</td>\n",
       "      <td>12</td>\n",
       "      <td>49</td>\n",
       "      <td>Sunday</td>\n",
       "      <td>-1</td>\n",
       "    </tr>\n",
       "    <tr>\n",
       "      <th>471560</th>\n",
       "      <td>40.7695</td>\n",
       "      <td>-73.9564</td>\n",
       "      <td>12</td>\n",
       "      <td>29</td>\n",
       "      <td>Sunday</td>\n",
       "      <td>0</td>\n",
       "    </tr>\n",
       "    <tr>\n",
       "      <th>138184</th>\n",
       "      <td>40.7295</td>\n",
       "      <td>-73.9899</td>\n",
       "      <td>12</td>\n",
       "      <td>16</td>\n",
       "      <td>Sunday</td>\n",
       "      <td>0</td>\n",
       "    </tr>\n",
       "    <tr>\n",
       "      <th>524032</th>\n",
       "      <td>40.7232</td>\n",
       "      <td>-73.7905</td>\n",
       "      <td>12</td>\n",
       "      <td>19</td>\n",
       "      <td>Sunday</td>\n",
       "      <td>-1</td>\n",
       "    </tr>\n",
       "  </tbody>\n",
       "</table>\n",
       "</div>"
      ],
      "text/plain": [
       "            Lat      Lon  Hour  Minutes DayOfWeek  cluster\n",
       "372834  40.7365 -74.0018    12       15    Sunday        0\n",
       "424825  40.7038 -73.9866    12       49    Sunday       -1\n",
       "471560  40.7695 -73.9564    12       29    Sunday        0\n",
       "138184  40.7295 -73.9899    12       16    Sunday        0\n",
       "524032  40.7232 -73.7905    12       19    Sunday       -1"
      ]
     },
     "execution_count": 67,
     "metadata": {},
     "output_type": "execute_result"
    }
   ],
   "source": [
    "sunday_noon[\"cluster\"] = dbscan.labels_\n",
    "sunday_noon.head()"
   ]
  },
  {
   "cell_type": "markdown",
   "metadata": {},
   "source": [
    "##### A scatterplot to see how the DBSCAN algorithm has clustered the pick-up points in New York city, except outliers on Sundays from noon to 12 h 59"
   ]
  },
  {
   "cell_type": "code",
   "execution_count": 68,
   "metadata": {},
   "outputs": [
    {
     "data": {
      "text/html": [
       "<iframe\n",
       "    scrolling=\"no\"\n",
       "    width=\"100%\"\n",
       "    height=\"545px\"\n",
       "    src=\"iframe_figures/figure_68.html\"\n",
       "    frameborder=\"0\"\n",
       "    allowfullscreen\n",
       "></iframe>\n"
      ]
     },
     "metadata": {},
     "output_type": "display_data"
    }
   ],
   "source": [
    "fig_sunday_noon_cluster = px.scatter_mapbox(\n",
    "        sunday_noon[sunday_noon.cluster != -1], \n",
    "        lat=\"Lat\", \n",
    "        lon=\"Lon\",\n",
    "        color=\"cluster\",\n",
    "        mapbox_style=\"carto-positron\"\n",
    ")\n",
    "\n",
    "fig_sunday_noon_cluster.show()"
   ]
  },
  {
   "cell_type": "markdown",
   "metadata": {},
   "source": [
    "### Picking Sunday to observe how the clustering algorithm behaves"
   ]
  },
  {
   "cell_type": "code",
   "execution_count": 69,
   "metadata": {},
   "outputs": [
    {
     "data": {
      "text/plain": [
       "(8989, 8)"
      ]
     },
     "execution_count": 69,
     "metadata": {},
     "output_type": "execute_result"
    }
   ],
   "source": [
    "sunday.shape"
   ]
  },
  {
   "cell_type": "code",
   "execution_count": 70,
   "metadata": {},
   "outputs": [
    {
     "data": {
      "text/html": [
       "<iframe\n",
       "    scrolling=\"no\"\n",
       "    width=\"100%\"\n",
       "    height=\"545px\"\n",
       "    src=\"iframe_figures/figure_70.html\"\n",
       "    frameborder=\"0\"\n",
       "    allowfullscreen\n",
       "></iframe>\n"
      ]
     },
     "metadata": {},
     "output_type": "display_data"
    }
   ],
   "source": [
    "fig_sunday = px.scatter_mapbox(\n",
    "        sunday, \n",
    "        lat=\"Lat\", \n",
    "        lon=\"Lon\",\n",
    "        mapbox_style=\"carto-positron\"\n",
    ")\n",
    "\n",
    "fig_sunday.show()"
   ]
  },
  {
   "cell_type": "markdown",
   "metadata": {},
   "source": [
    "##### Dropping unnecessary columns of the dataset"
   ]
  },
  {
   "cell_type": "code",
   "execution_count": 71,
   "metadata": {},
   "outputs": [],
   "source": [
    "sunday = sunday.drop(columns=[\"Year\", \"Month\", \"Day\"])"
   ]
  },
  {
   "cell_type": "code",
   "execution_count": 72,
   "metadata": {},
   "outputs": [
    {
     "data": {
      "text/html": [
       "<div>\n",
       "<style scoped>\n",
       "    .dataframe tbody tr th:only-of-type {\n",
       "        vertical-align: middle;\n",
       "    }\n",
       "\n",
       "    .dataframe tbody tr th {\n",
       "        vertical-align: top;\n",
       "    }\n",
       "\n",
       "    .dataframe thead th {\n",
       "        text-align: right;\n",
       "    }\n",
       "</style>\n",
       "<table border=\"1\" class=\"dataframe\">\n",
       "  <thead>\n",
       "    <tr style=\"text-align: right;\">\n",
       "      <th></th>\n",
       "      <th>Lat</th>\n",
       "      <th>Lon</th>\n",
       "      <th>Hour</th>\n",
       "      <th>Minutes</th>\n",
       "      <th>DayOfWeek</th>\n",
       "    </tr>\n",
       "  </thead>\n",
       "  <tbody>\n",
       "    <tr>\n",
       "      <th>15367</th>\n",
       "      <td>40.7630</td>\n",
       "      <td>-73.9715</td>\n",
       "      <td>11</td>\n",
       "      <td>56</td>\n",
       "      <td>Sunday</td>\n",
       "    </tr>\n",
       "    <tr>\n",
       "      <th>375728</th>\n",
       "      <td>40.7183</td>\n",
       "      <td>-74.0070</td>\n",
       "      <td>22</td>\n",
       "      <td>15</td>\n",
       "      <td>Sunday</td>\n",
       "    </tr>\n",
       "    <tr>\n",
       "      <th>189865</th>\n",
       "      <td>40.7199</td>\n",
       "      <td>-74.0003</td>\n",
       "      <td>18</td>\n",
       "      <td>22</td>\n",
       "      <td>Sunday</td>\n",
       "    </tr>\n",
       "    <tr>\n",
       "      <th>522402</th>\n",
       "      <td>40.7196</td>\n",
       "      <td>-73.9980</td>\n",
       "      <td>1</td>\n",
       "      <td>14</td>\n",
       "      <td>Sunday</td>\n",
       "    </tr>\n",
       "    <tr>\n",
       "      <th>372604</th>\n",
       "      <td>40.7076</td>\n",
       "      <td>-74.0030</td>\n",
       "      <td>11</td>\n",
       "      <td>20</td>\n",
       "      <td>Sunday</td>\n",
       "    </tr>\n",
       "  </tbody>\n",
       "</table>\n",
       "</div>"
      ],
      "text/plain": [
       "            Lat      Lon  Hour  Minutes DayOfWeek\n",
       "15367   40.7630 -73.9715    11       56    Sunday\n",
       "375728  40.7183 -74.0070    22       15    Sunday\n",
       "189865  40.7199 -74.0003    18       22    Sunday\n",
       "522402  40.7196 -73.9980     1       14    Sunday\n",
       "372604  40.7076 -74.0030    11       20    Sunday"
      ]
     },
     "execution_count": 72,
     "metadata": {},
     "output_type": "execute_result"
    }
   ],
   "source": [
    "sunday.head()"
   ]
  },
  {
   "cell_type": "markdown",
   "metadata": {},
   "source": [
    "##### Scaling numerical data and one-hot encoding categorical data"
   ]
  },
  {
   "cell_type": "code",
   "execution_count": 73,
   "metadata": {},
   "outputs": [
    {
     "name": "stdout",
     "output_type": "stream",
     "text": [
      "Preprocessing on dataset...\n",
      "            Lat      Lon  Hour  Minutes DayOfWeek\n",
      "15367   40.7630 -73.9715    11       56    Sunday\n",
      "375728  40.7183 -74.0070    22       15    Sunday\n",
      "189865  40.7199 -74.0003    18       22    Sunday\n",
      "522402  40.7196 -73.9980     1       14    Sunday\n",
      "372604  40.7076 -74.0030    11       20    Sunday\n",
      "...Completed.\n",
      "[[ 0.67794454 -0.01855794 -0.14193475  1.56507666]\n",
      " [-0.3480714  -0.56800173  1.43975876 -0.79483578]\n",
      " [-0.31134599 -0.46430389  0.86459748 -0.3919239 ]\n",
      " [-0.31823201 -0.42870612 -1.57983795 -0.85239462]\n",
      " [-0.59367253 -0.50609257 -0.14193475 -0.50704158]]\n",
      "\n"
     ]
    }
   ],
   "source": [
    "numeric_features = [0, 1, 2, 3] # Positions of numerical variables\n",
    "numeric_transformer = StandardScaler()\n",
    "\n",
    "# Creation of the transformer for categorical values\n",
    "categorical_features = [4] # Positions of categorical variables\n",
    "categorical_transformer = OneHotEncoder(drop='first')\n",
    "\n",
    "# Combining the transformers in ColumnTransformer\n",
    "preprocessor = ColumnTransformer(\n",
    "    transformers=[\n",
    "        ('num', numeric_transformer, numeric_features),\n",
    "        ('cat', categorical_transformer, categorical_features)\n",
    "    ])\n",
    "\n",
    "print(\"Preprocessing on dataset...\")\n",
    "print(sunday.head())\n",
    "scaled_X_sunday = preprocessor.fit_transform(sunday)\n",
    "print('...Completed.')\n",
    "print(scaled_X_sunday[0:5, :])\n",
    "print()"
   ]
  },
  {
   "cell_type": "markdown",
   "metadata": {},
   "source": [
    "#####  Use DBSCAN and a for loop to create a variety of models testing different epsilon values"
   ]
  },
  {
   "cell_type": "code",
   "execution_count": 74,
   "metadata": {},
   "outputs": [],
   "source": [
    "from sklearn.cluster import DBSCAN\n",
    "\n",
    "outlier_percent = []\n",
    "\n",
    "for eps in np.linspace(0.1, 2, 10):\n",
    "    \n",
    "    # Create Model\n",
    "    dbscan = DBSCAN(eps=eps,min_samples=2*scaled_X_sunday.shape[1], metric=\"manhattan\", algorithm=\"brute\")\n",
    "    dbscan.fit(scaled_X_sunday)\n",
    "   \n",
    "     \n",
    "    # Log percentage of points that are outliers\n",
    "    perc_outliers = 100 * np.sum(dbscan.labels_ == -1) / len(dbscan.labels_)\n",
    "    \n",
    "    outlier_percent.append(perc_outliers)"
   ]
  },
  {
   "cell_type": "markdown",
   "metadata": {},
   "source": [
    "##### Creating a line plot of the percentage of outlier points versus the epsilon value choice"
   ]
  },
  {
   "cell_type": "code",
   "execution_count": 75,
   "metadata": {},
   "outputs": [
    {
     "data": {
      "text/plain": [
       "Text(0.5, 0, 'Epsilon value')"
      ]
     },
     "execution_count": 75,
     "metadata": {},
     "output_type": "execute_result"
    },
    {
     "data": {
      "image/png": "[encoded data removed]",
      "text/plain": [
       "<Figure size 432x288 with 1 Axes>"
      ]
     },
     "metadata": {
      "needs_background": "light"
     },
     "output_type": "display_data"
    }
   ],
   "source": [
    "import seaborn as sns\n",
    "import matplotlib.pyplot as plt\n",
    "sns.lineplot(x=np.linspace(0.1, 2, 10), y=outlier_percent)\n",
    "plt.ylabel(\"Percentage of points classified as outliers\")\n",
    "plt.xlabel(\"Epsilon value\")"
   ]
  },
  {
   "cell_type": "markdown",
   "metadata": {},
   "source": [
    "##### Retraining a DBSCAN model with epsilon value = 0.75, based on the plot created above, and min_samples = 6"
   ]
  },
  {
   "cell_type": "code",
   "execution_count": 76,
   "metadata": {},
   "outputs": [
    {
     "data": {
      "text/plain": [
       "DBSCAN(algorithm='brute', eps=0.75, metric='manhattan', min_samples=6)"
      ]
     },
     "execution_count": 76,
     "metadata": {},
     "output_type": "execute_result"
    }
   ],
   "source": [
    "eps = 0.75\n",
    "min_samples = 6\n",
    "\n",
    "dbscan = DBSCAN(eps=eps, min_samples=min_samples, metric=\"manhattan\", algorithm=\"brute\")\n",
    "dbscan.fit(scaled_X_sunday)"
   ]
  },
  {
   "cell_type": "code",
   "execution_count": 77,
   "metadata": {},
   "outputs": [
    {
     "data": {
      "text/plain": [
       "(array([-1,  0,  1,  2,  3,  4]), array([ 520, 8066,  312,   16,   69,    6]))"
      ]
     },
     "execution_count": 77,
     "metadata": {},
     "output_type": "execute_result"
    }
   ],
   "source": [
    "np.unique(dbscan.labels_, return_counts=True)"
   ]
  },
  {
   "cell_type": "code",
   "execution_count": 78,
   "metadata": {},
   "outputs": [
    {
     "data": {
      "text/html": [
       "<div>\n",
       "<style scoped>\n",
       "    .dataframe tbody tr th:only-of-type {\n",
       "        vertical-align: middle;\n",
       "    }\n",
       "\n",
       "    .dataframe tbody tr th {\n",
       "        vertical-align: top;\n",
       "    }\n",
       "\n",
       "    .dataframe thead th {\n",
       "        text-align: right;\n",
       "    }\n",
       "</style>\n",
       "<table border=\"1\" class=\"dataframe\">\n",
       "  <thead>\n",
       "    <tr style=\"text-align: right;\">\n",
       "      <th></th>\n",
       "      <th>Lat</th>\n",
       "      <th>Lon</th>\n",
       "      <th>Hour</th>\n",
       "      <th>Minutes</th>\n",
       "      <th>DayOfWeek</th>\n",
       "      <th>cluster</th>\n",
       "    </tr>\n",
       "  </thead>\n",
       "  <tbody>\n",
       "    <tr>\n",
       "      <th>15367</th>\n",
       "      <td>40.7630</td>\n",
       "      <td>-73.9715</td>\n",
       "      <td>11</td>\n",
       "      <td>56</td>\n",
       "      <td>Sunday</td>\n",
       "      <td>0</td>\n",
       "    </tr>\n",
       "    <tr>\n",
       "      <th>375728</th>\n",
       "      <td>40.7183</td>\n",
       "      <td>-74.0070</td>\n",
       "      <td>22</td>\n",
       "      <td>15</td>\n",
       "      <td>Sunday</td>\n",
       "      <td>0</td>\n",
       "    </tr>\n",
       "    <tr>\n",
       "      <th>189865</th>\n",
       "      <td>40.7199</td>\n",
       "      <td>-74.0003</td>\n",
       "      <td>18</td>\n",
       "      <td>22</td>\n",
       "      <td>Sunday</td>\n",
       "      <td>0</td>\n",
       "    </tr>\n",
       "    <tr>\n",
       "      <th>522402</th>\n",
       "      <td>40.7196</td>\n",
       "      <td>-73.9980</td>\n",
       "      <td>1</td>\n",
       "      <td>14</td>\n",
       "      <td>Sunday</td>\n",
       "      <td>0</td>\n",
       "    </tr>\n",
       "    <tr>\n",
       "      <th>372604</th>\n",
       "      <td>40.7076</td>\n",
       "      <td>-74.0030</td>\n",
       "      <td>11</td>\n",
       "      <td>20</td>\n",
       "      <td>Sunday</td>\n",
       "      <td>0</td>\n",
       "    </tr>\n",
       "  </tbody>\n",
       "</table>\n",
       "</div>"
      ],
      "text/plain": [
       "            Lat      Lon  Hour  Minutes DayOfWeek  cluster\n",
       "15367   40.7630 -73.9715    11       56    Sunday        0\n",
       "375728  40.7183 -74.0070    22       15    Sunday        0\n",
       "189865  40.7199 -74.0003    18       22    Sunday        0\n",
       "522402  40.7196 -73.9980     1       14    Sunday        0\n",
       "372604  40.7076 -74.0030    11       20    Sunday        0"
      ]
     },
     "execution_count": 78,
     "metadata": {},
     "output_type": "execute_result"
    }
   ],
   "source": [
    "sunday[\"cluster\"] = dbscan.labels_\n",
    "sunday.head()"
   ]
  },
  {
   "cell_type": "markdown",
   "metadata": {},
   "source": [
    "##### A scatterplot to see how the DBSCAN algorithm has clustered the pick-up points, except outliers, in New York city on Sundays"
   ]
  },
  {
   "cell_type": "code",
   "execution_count": 79,
   "metadata": {},
   "outputs": [
    {
     "data": {
      "text/html": [
       "<iframe\n",
       "    scrolling=\"no\"\n",
       "    width=\"100%\"\n",
       "    height=\"545px\"\n",
       "    src=\"iframe_figures/figure_79.html\"\n",
       "    frameborder=\"0\"\n",
       "    allowfullscreen\n",
       "></iframe>\n"
      ]
     },
     "metadata": {},
     "output_type": "display_data"
    }
   ],
   "source": [
    "fig_sunday_cluster = px.scatter_mapbox(\n",
    "        sunday[sunday.cluster != -1], \n",
    "        lat=\"Lat\", \n",
    "        lon=\"Lon\",\n",
    "        color=\"cluster\",\n",
    "        mapbox_style=\"carto-positron\"\n",
    ")\n",
    "\n",
    "fig_sunday_cluster.show()"
   ]
  },
  {
   "cell_type": "markdown",
   "metadata": {},
   "source": [
    "### Picking Monday to observe how the clustering algorithm behaves"
   ]
  },
  {
   "cell_type": "code",
   "execution_count": 80,
   "metadata": {},
   "outputs": [
    {
     "data": {
      "text/plain": [
       "(10755, 8)"
      ]
     },
     "execution_count": 80,
     "metadata": {},
     "output_type": "execute_result"
    }
   ],
   "source": [
    "monday.shape"
   ]
  },
  {
   "cell_type": "code",
   "execution_count": 81,
   "metadata": {},
   "outputs": [
    {
     "data": {
      "text/html": [
       "<iframe\n",
       "    scrolling=\"no\"\n",
       "    width=\"100%\"\n",
       "    height=\"545px\"\n",
       "    src=\"iframe_figures/figure_81.html\"\n",
       "    frameborder=\"0\"\n",
       "    allowfullscreen\n",
       "></iframe>\n"
      ]
     },
     "metadata": {},
     "output_type": "display_data"
    }
   ],
   "source": [
    "fig_monday = px.scatter_mapbox(\n",
    "        monday, \n",
    "        lat=\"Lat\", \n",
    "        lon=\"Lon\",\n",
    "        mapbox_style=\"carto-positron\"\n",
    ")\n",
    "\n",
    "fig_monday.show()"
   ]
  },
  {
   "cell_type": "markdown",
   "metadata": {},
   "source": [
    "##### Dropping unnecessary columns of the dataset"
   ]
  },
  {
   "cell_type": "code",
   "execution_count": 82,
   "metadata": {},
   "outputs": [],
   "source": [
    "monday = monday.drop(columns=[\"Year\", \"Month\", \"Day\"])"
   ]
  },
  {
   "cell_type": "code",
   "execution_count": 83,
   "metadata": {},
   "outputs": [
    {
     "data": {
      "text/html": [
       "<div>\n",
       "<style scoped>\n",
       "    .dataframe tbody tr th:only-of-type {\n",
       "        vertical-align: middle;\n",
       "    }\n",
       "\n",
       "    .dataframe tbody tr th {\n",
       "        vertical-align: top;\n",
       "    }\n",
       "\n",
       "    .dataframe thead th {\n",
       "        text-align: right;\n",
       "    }\n",
       "</style>\n",
       "<table border=\"1\" class=\"dataframe\">\n",
       "  <thead>\n",
       "    <tr style=\"text-align: right;\">\n",
       "      <th></th>\n",
       "      <th>Lat</th>\n",
       "      <th>Lon</th>\n",
       "      <th>Hour</th>\n",
       "      <th>Minutes</th>\n",
       "      <th>DayOfWeek</th>\n",
       "    </tr>\n",
       "  </thead>\n",
       "  <tbody>\n",
       "    <tr>\n",
       "      <th>66945</th>\n",
       "      <td>40.7224</td>\n",
       "      <td>-73.9887</td>\n",
       "      <td>9</td>\n",
       "      <td>29</td>\n",
       "      <td>Monday</td>\n",
       "    </tr>\n",
       "    <tr>\n",
       "      <th>268379</th>\n",
       "      <td>40.6843</td>\n",
       "      <td>-73.8211</td>\n",
       "      <td>19</td>\n",
       "      <td>37</td>\n",
       "      <td>Monday</td>\n",
       "    </tr>\n",
       "    <tr>\n",
       "      <th>383369</th>\n",
       "      <td>40.7648</td>\n",
       "      <td>-73.9761</td>\n",
       "      <td>20</td>\n",
       "      <td>35</td>\n",
       "      <td>Monday</td>\n",
       "    </tr>\n",
       "    <tr>\n",
       "      <th>430220</th>\n",
       "      <td>40.6736</td>\n",
       "      <td>-73.9774</td>\n",
       "      <td>14</td>\n",
       "      <td>43</td>\n",
       "      <td>Monday</td>\n",
       "    </tr>\n",
       "    <tr>\n",
       "      <th>195292</th>\n",
       "      <td>40.7286</td>\n",
       "      <td>-73.9941</td>\n",
       "      <td>18</td>\n",
       "      <td>23</td>\n",
       "      <td>Monday</td>\n",
       "    </tr>\n",
       "  </tbody>\n",
       "</table>\n",
       "</div>"
      ],
      "text/plain": [
       "            Lat      Lon  Hour  Minutes DayOfWeek\n",
       "66945   40.7224 -73.9887     9       29    Monday\n",
       "268379  40.6843 -73.8211    19       37    Monday\n",
       "383369  40.7648 -73.9761    20       35    Monday\n",
       "430220  40.6736 -73.9774    14       43    Monday\n",
       "195292  40.7286 -73.9941    18       23    Monday"
      ]
     },
     "execution_count": 83,
     "metadata": {},
     "output_type": "execute_result"
    }
   ],
   "source": [
    "monday.head()"
   ]
  },
  {
   "cell_type": "markdown",
   "metadata": {},
   "source": [
    "##### Scaling numerical data and one-hot encoding categorical data"
   ]
  },
  {
   "cell_type": "code",
   "execution_count": 84,
   "metadata": {},
   "outputs": [
    {
     "name": "stdout",
     "output_type": "stream",
     "text": [
      "Preprocessing on dataset...\n",
      "            Lat      Lon  Hour  Minutes DayOfWeek\n",
      "66945   40.7224 -73.9887     9       29    Monday\n",
      "268379  40.6843 -73.8211    19       37    Monday\n",
      "383369  40.7648 -73.9761    20       35    Monday\n",
      "430220  40.6736 -73.9774    14       43    Monday\n",
      "195292  40.7286 -73.9941    18       23    Monday\n",
      "...Completed.\n",
      "[[-0.46897436 -0.27068791 -0.89700539 -0.01688367]\n",
      " [-1.45353508  2.68993553  0.92754174  0.44737678]\n",
      " [ 0.62670476 -0.04811121  1.10999645  0.33131167]\n",
      " [-1.73003901 -0.07107547  0.01526818  0.79557212]\n",
      " [-0.30875713 -0.36607793  0.74508703 -0.36507901]]\n",
      "\n"
     ]
    }
   ],
   "source": [
    "numeric_features = [0, 1, 2, 3] # Positions of numerical variables\n",
    "numeric_transformer = StandardScaler()\n",
    "\n",
    "# Creation of the transformer for categorical values\n",
    "categorical_features = [4] # Positions of categorical variables\n",
    "categorical_transformer = OneHotEncoder(drop='first')\n",
    "\n",
    "# Combining the transformers in ColumnTransformer\n",
    "preprocessor = ColumnTransformer(\n",
    "    transformers=[\n",
    "        ('num', numeric_transformer, numeric_features),\n",
    "        ('cat', categorical_transformer, categorical_features)\n",
    "    ])\n",
    "\n",
    "print(\"Preprocessing on dataset...\")\n",
    "print(monday.head())\n",
    "scaled_X_monday = preprocessor.fit_transform(monday)\n",
    "print('...Completed.')\n",
    "print(scaled_X_monday[0:5, :])\n",
    "print()"
   ]
  },
  {
   "cell_type": "markdown",
   "metadata": {},
   "source": [
    "#####  Use DBSCAN and a for loop to create a variety of models testing different epsilon values"
   ]
  },
  {
   "cell_type": "code",
   "execution_count": 85,
   "metadata": {},
   "outputs": [],
   "source": [
    "from sklearn.cluster import DBSCAN\n",
    "\n",
    "outlier_percent = []\n",
    "\n",
    "for eps in np.linspace(0.1, 2, 10):\n",
    "    \n",
    "    # Create Model\n",
    "    dbscan = DBSCAN(eps=eps,min_samples=2*scaled_X_monday.shape[1], metric=\"manhattan\", algorithm=\"brute\")\n",
    "    dbscan.fit(scaled_X_monday)\n",
    "   \n",
    "     \n",
    "    # Log percentage of points that are outliers\n",
    "    perc_outliers = 100 * np.sum(dbscan.labels_ == -1) / len(dbscan.labels_)\n",
    "    \n",
    "    outlier_percent.append(perc_outliers)"
   ]
  },
  {
   "cell_type": "markdown",
   "metadata": {},
   "source": [
    "##### Creating a line plot of the percentage of outlier points versus the epsilon value choice"
   ]
  },
  {
   "cell_type": "code",
   "execution_count": 86,
   "metadata": {},
   "outputs": [
    {
     "data": {
      "text/plain": [
       "Text(0.5, 0, 'Epsilon value')"
      ]
     },
     "execution_count": 86,
     "metadata": {},
     "output_type": "execute_result"
    },
    {
     "data": {
      "image/png": "[encoded data removed]",
      "text/plain": [
       "<Figure size 432x288 with 1 Axes>"
      ]
     },
     "metadata": {
      "needs_background": "light"
     },
     "output_type": "display_data"
    }
   ],
   "source": [
    "import seaborn as sns\n",
    "import matplotlib.pyplot as plt\n",
    "sns.lineplot(x=np.linspace(0.1, 2, 10), y=outlier_percent)\n",
    "plt.ylabel(\"Percentage of points classified as outliers\")\n",
    "plt.xlabel(\"Epsilon value\")"
   ]
  },
  {
   "cell_type": "markdown",
   "metadata": {},
   "source": [
    "##### Retraining a DBSCAN model with epsilon value = 0.5, based on the plot created above, and min_samples = 8"
   ]
  },
  {
   "cell_type": "code",
   "execution_count": 87,
   "metadata": {},
   "outputs": [
    {
     "data": {
      "text/plain": [
       "DBSCAN(algorithm='brute', metric='manhattan', min_samples=8)"
      ]
     },
     "execution_count": 87,
     "metadata": {},
     "output_type": "execute_result"
    }
   ],
   "source": [
    "eps = 0.5\n",
    "min_samples = 8\n",
    "\n",
    "dbscan = DBSCAN(eps=eps, min_samples=min_samples, metric=\"manhattan\", algorithm=\"brute\")\n",
    "dbscan.fit(scaled_X_monday)"
   ]
  },
  {
   "cell_type": "code",
   "execution_count": 88,
   "metadata": {},
   "outputs": [
    {
     "data": {
      "text/plain": [
       "(array([-1,  0,  1,  2,  3,  4,  5,  6,  7,  8,  9, 10]),\n",
       " array([2019, 8196,  235,  176,   72,   15,    6,    7,    5,    7,    7,\n",
       "          10]))"
      ]
     },
     "execution_count": 88,
     "metadata": {},
     "output_type": "execute_result"
    }
   ],
   "source": [
    "np.unique(dbscan.labels_, return_counts=True)"
   ]
  },
  {
   "cell_type": "code",
   "execution_count": 89,
   "metadata": {},
   "outputs": [
    {
     "data": {
      "text/html": [
       "<div>\n",
       "<style scoped>\n",
       "    .dataframe tbody tr th:only-of-type {\n",
       "        vertical-align: middle;\n",
       "    }\n",
       "\n",
       "    .dataframe tbody tr th {\n",
       "        vertical-align: top;\n",
       "    }\n",
       "\n",
       "    .dataframe thead th {\n",
       "        text-align: right;\n",
       "    }\n",
       "</style>\n",
       "<table border=\"1\" class=\"dataframe\">\n",
       "  <thead>\n",
       "    <tr style=\"text-align: right;\">\n",
       "      <th></th>\n",
       "      <th>Lat</th>\n",
       "      <th>Lon</th>\n",
       "      <th>Hour</th>\n",
       "      <th>Minutes</th>\n",
       "      <th>DayOfWeek</th>\n",
       "      <th>cluster</th>\n",
       "    </tr>\n",
       "  </thead>\n",
       "  <tbody>\n",
       "    <tr>\n",
       "      <th>66945</th>\n",
       "      <td>40.7224</td>\n",
       "      <td>-73.9887</td>\n",
       "      <td>9</td>\n",
       "      <td>29</td>\n",
       "      <td>Monday</td>\n",
       "      <td>0</td>\n",
       "    </tr>\n",
       "    <tr>\n",
       "      <th>268379</th>\n",
       "      <td>40.6843</td>\n",
       "      <td>-73.8211</td>\n",
       "      <td>19</td>\n",
       "      <td>37</td>\n",
       "      <td>Monday</td>\n",
       "      <td>-1</td>\n",
       "    </tr>\n",
       "    <tr>\n",
       "      <th>383369</th>\n",
       "      <td>40.7648</td>\n",
       "      <td>-73.9761</td>\n",
       "      <td>20</td>\n",
       "      <td>35</td>\n",
       "      <td>Monday</td>\n",
       "      <td>0</td>\n",
       "    </tr>\n",
       "    <tr>\n",
       "      <th>430220</th>\n",
       "      <td>40.6736</td>\n",
       "      <td>-73.9774</td>\n",
       "      <td>14</td>\n",
       "      <td>43</td>\n",
       "      <td>Monday</td>\n",
       "      <td>-1</td>\n",
       "    </tr>\n",
       "    <tr>\n",
       "      <th>195292</th>\n",
       "      <td>40.7286</td>\n",
       "      <td>-73.9941</td>\n",
       "      <td>18</td>\n",
       "      <td>23</td>\n",
       "      <td>Monday</td>\n",
       "      <td>0</td>\n",
       "    </tr>\n",
       "  </tbody>\n",
       "</table>\n",
       "</div>"
      ],
      "text/plain": [
       "            Lat      Lon  Hour  Minutes DayOfWeek  cluster\n",
       "66945   40.7224 -73.9887     9       29    Monday        0\n",
       "268379  40.6843 -73.8211    19       37    Monday       -1\n",
       "383369  40.7648 -73.9761    20       35    Monday        0\n",
       "430220  40.6736 -73.9774    14       43    Monday       -1\n",
       "195292  40.7286 -73.9941    18       23    Monday        0"
      ]
     },
     "execution_count": 89,
     "metadata": {},
     "output_type": "execute_result"
    }
   ],
   "source": [
    "monday[\"cluster\"] = dbscan.labels_\n",
    "monday.head()"
   ]
  },
  {
   "cell_type": "markdown",
   "metadata": {},
   "source": [
    "##### A scatterplot to see how the DBSCAN algorithm has clustered the pick-up points, except outliers, in New York city on Mondays"
   ]
  },
  {
   "cell_type": "code",
   "execution_count": 90,
   "metadata": {},
   "outputs": [
    {
     "data": {
      "text/html": [
       "<iframe\n",
       "    scrolling=\"no\"\n",
       "    width=\"100%\"\n",
       "    height=\"545px\"\n",
       "    src=\"iframe_figures/figure_90.html\"\n",
       "    frameborder=\"0\"\n",
       "    allowfullscreen\n",
       "></iframe>\n"
      ]
     },
     "metadata": {},
     "output_type": "display_data"
    }
   ],
   "source": [
    "fig_monday_cluster = px.scatter_mapbox(\n",
    "        monday[monday.cluster != -1], \n",
    "        lat=\"Lat\", \n",
    "        lon=\"Lon\",\n",
    "        color=\"cluster\",\n",
    "        mapbox_style=\"carto-positron\"\n",
    ")\n",
    "\n",
    "fig_monday_cluster.show()"
   ]
  },
  {
   "cell_type": "markdown",
   "metadata": {},
   "source": [
    "### Picking Tuesday to observe how the clustering algorithm behaves"
   ]
  },
  {
   "cell_type": "code",
   "execution_count": 91,
   "metadata": {},
   "outputs": [
    {
     "data": {
      "text/plain": [
       "(16369, 8)"
      ]
     },
     "execution_count": 91,
     "metadata": {},
     "output_type": "execute_result"
    }
   ],
   "source": [
    "tuesday.shape"
   ]
  },
  {
   "cell_type": "code",
   "execution_count": 92,
   "metadata": {},
   "outputs": [
    {
     "data": {
      "text/html": [
       "<iframe\n",
       "    scrolling=\"no\"\n",
       "    width=\"100%\"\n",
       "    height=\"545px\"\n",
       "    src=\"iframe_figures/figure_92.html\"\n",
       "    frameborder=\"0\"\n",
       "    allowfullscreen\n",
       "></iframe>\n"
      ]
     },
     "metadata": {},
     "output_type": "display_data"
    }
   ],
   "source": [
    "fig_tuesday = px.scatter_mapbox(\n",
    "        tuesday, \n",
    "        lat=\"Lat\", \n",
    "        lon=\"Lon\",\n",
    "        mapbox_style=\"carto-positron\"\n",
    ")\n",
    "fig_tuesday.show()"
   ]
  },
  {
   "cell_type": "markdown",
   "metadata": {},
   "source": [
    "##### Dropping unnecessary columns of the dataset"
   ]
  },
  {
   "cell_type": "code",
   "execution_count": 93,
   "metadata": {},
   "outputs": [],
   "source": [
    "tuesday = tuesday.drop(columns=[\"Year\", \"Month\", \"Day\"])"
   ]
  },
  {
   "cell_type": "code",
   "execution_count": 94,
   "metadata": {},
   "outputs": [
    {
     "data": {
      "text/html": [
       "<div>\n",
       "<style scoped>\n",
       "    .dataframe tbody tr th:only-of-type {\n",
       "        vertical-align: middle;\n",
       "    }\n",
       "\n",
       "    .dataframe tbody tr th {\n",
       "        vertical-align: top;\n",
       "    }\n",
       "\n",
       "    .dataframe thead th {\n",
       "        text-align: right;\n",
       "    }\n",
       "</style>\n",
       "<table border=\"1\" class=\"dataframe\">\n",
       "  <thead>\n",
       "    <tr style=\"text-align: right;\">\n",
       "      <th></th>\n",
       "      <th>Lat</th>\n",
       "      <th>Lon</th>\n",
       "      <th>Hour</th>\n",
       "      <th>Minutes</th>\n",
       "      <th>DayOfWeek</th>\n",
       "    </tr>\n",
       "  </thead>\n",
       "  <tbody>\n",
       "    <tr>\n",
       "      <th>112412</th>\n",
       "      <td>40.7385</td>\n",
       "      <td>-73.9882</td>\n",
       "      <td>21</td>\n",
       "      <td>56</td>\n",
       "      <td>Tuesday</td>\n",
       "    </tr>\n",
       "    <tr>\n",
       "      <th>72159</th>\n",
       "      <td>40.6772</td>\n",
       "      <td>-73.9823</td>\n",
       "      <td>8</td>\n",
       "      <td>36</td>\n",
       "      <td>Tuesday</td>\n",
       "    </tr>\n",
       "    <tr>\n",
       "      <th>440386</th>\n",
       "      <td>40.6801</td>\n",
       "      <td>-73.9969</td>\n",
       "      <td>21</td>\n",
       "      <td>31</td>\n",
       "      <td>Tuesday</td>\n",
       "    </tr>\n",
       "    <tr>\n",
       "      <th>146187</th>\n",
       "      <td>40.7108</td>\n",
       "      <td>-74.0062</td>\n",
       "      <td>8</td>\n",
       "      <td>44</td>\n",
       "      <td>Tuesday</td>\n",
       "    </tr>\n",
       "    <tr>\n",
       "      <th>24028</th>\n",
       "      <td>40.7455</td>\n",
       "      <td>-73.9752</td>\n",
       "      <td>14</td>\n",
       "      <td>24</td>\n",
       "      <td>Tuesday</td>\n",
       "    </tr>\n",
       "  </tbody>\n",
       "</table>\n",
       "</div>"
      ],
      "text/plain": [
       "            Lat      Lon  Hour  Minutes DayOfWeek\n",
       "112412  40.7385 -73.9882    21       56   Tuesday\n",
       "72159   40.6772 -73.9823     8       36   Tuesday\n",
       "440386  40.6801 -73.9969    21       31   Tuesday\n",
       "146187  40.7108 -74.0062     8       44   Tuesday\n",
       "24028   40.7455 -73.9752    14       24   Tuesday"
      ]
     },
     "execution_count": 94,
     "metadata": {},
     "output_type": "execute_result"
    }
   ],
   "source": [
    "tuesday.head()"
   ]
  },
  {
   "cell_type": "markdown",
   "metadata": {},
   "source": [
    "##### Scaling numerical data and one-hot encoding categorical data"
   ]
  },
  {
   "cell_type": "code",
   "execution_count": 95,
   "metadata": {},
   "outputs": [
    {
     "name": "stdout",
     "output_type": "stream",
     "text": [
      "Preprocessing on dataset...\n",
      "            Lat      Lon  Hour  Minutes DayOfWeek\n",
      "112412  40.7385 -73.9882    21       56   Tuesday\n",
      "72159   40.6772 -73.9823     8       36   Tuesday\n",
      "440386  40.6801 -73.9969    21       31   Tuesday\n",
      "146187  40.7108 -74.0062     8       44   Tuesday\n",
      "24028   40.7455 -73.9752    14       24   Tuesday\n",
      "...Completed.\n",
      "[[-0.10692853 -0.21810336  1.19635069  1.53885944]\n",
      " [-1.83998451 -0.0953761  -1.19526051  0.37982477]\n",
      " [-1.75799654 -0.39907407  1.19635069  0.09006611]\n",
      " [-0.89005497 -0.59252551 -1.19526051  0.84343864]\n",
      " [ 0.09097346  0.05231264 -0.09143996 -0.31559603]]\n",
      "\n"
     ]
    }
   ],
   "source": [
    "numeric_features = [0, 1, 2, 3] # Positions of numerical variables\n",
    "numeric_transformer = StandardScaler()\n",
    "\n",
    "# Creation of the transformer for categorical values\n",
    "categorical_features = [4] # Positions of categorical variables\n",
    "categorical_transformer = OneHotEncoder(drop='first')\n",
    "\n",
    "# Combining the transformers in ColumnTransformer\n",
    "preprocessor = ColumnTransformer(\n",
    "    transformers=[\n",
    "        ('num', numeric_transformer, numeric_features),\n",
    "        ('cat', categorical_transformer, categorical_features)\n",
    "    ])\n",
    "\n",
    "print(\"Preprocessing on dataset...\")\n",
    "print(tuesday.head())\n",
    "scaled_X_tuesday = preprocessor.fit_transform(tuesday)\n",
    "print('...Completed.')\n",
    "print(scaled_X_tuesday[0:5, :])\n",
    "print()"
   ]
  },
  {
   "cell_type": "markdown",
   "metadata": {},
   "source": [
    "#####  Use DBSCAN and a for loop to create a variety of models testing different epsilon values"
   ]
  },
  {
   "cell_type": "code",
   "execution_count": 96,
   "metadata": {},
   "outputs": [],
   "source": [
    "from sklearn.cluster import DBSCAN\n",
    "\n",
    "outlier_percent = []\n",
    "\n",
    "for eps in np.linspace(0.1, 2, 10):\n",
    "    \n",
    "    # Create Model\n",
    "    dbscan = DBSCAN(eps=eps,min_samples=2*scaled_X_tuesday.shape[1], metric=\"manhattan\", algorithm=\"brute\")\n",
    "    dbscan.fit(scaled_X_tuesday)\n",
    "   \n",
    "     \n",
    "    # Log percentage of points that are outliers\n",
    "    perc_outliers = 100 * np.sum(dbscan.labels_ == -1) / len(dbscan.labels_)\n",
    "    \n",
    "    outlier_percent.append(perc_outliers)"
   ]
  },
  {
   "cell_type": "markdown",
   "metadata": {},
   "source": [
    "##### Creating a line plot of the percentage of outlier points versus the epsilon value choice"
   ]
  },
  {
   "cell_type": "code",
   "execution_count": 97,
   "metadata": {},
   "outputs": [
    {
     "data": {
      "text/plain": [
       "Text(0.5, 0, 'Epsilon value')"
      ]
     },
     "execution_count": 97,
     "metadata": {},
     "output_type": "execute_result"
    },
    {
     "data": {
      "image/png": "[encoded data removed]",
      "text/plain": [
       "<Figure size 432x288 with 1 Axes>"
      ]
     },
     "metadata": {
      "needs_background": "light"
     },
     "output_type": "display_data"
    }
   ],
   "source": [
    "import seaborn as sns\n",
    "import matplotlib.pyplot as plt\n",
    "sns.lineplot(x=np.linspace(0.1, 2, 10), y=outlier_percent)\n",
    "plt.ylabel(\"Percentage of points classified as outliers\")\n",
    "plt.xlabel(\"Epsilon value\")"
   ]
  },
  {
   "cell_type": "markdown",
   "metadata": {},
   "source": [
    "##### Retraining a DBSCAN model with epsilon value = 0.5, based on the plot created above, and min_samples = 8"
   ]
  },
  {
   "cell_type": "code",
   "execution_count": 98,
   "metadata": {},
   "outputs": [
    {
     "data": {
      "text/plain": [
       "DBSCAN(algorithm='brute', metric='manhattan', min_samples=8)"
      ]
     },
     "execution_count": 98,
     "metadata": {},
     "output_type": "execute_result"
    }
   ],
   "source": [
    "eps = 0.5\n",
    "dbscan = DBSCAN(eps=eps, min_samples=min_samples, metric=\"manhattan\", algorithm=\"brute\")\n",
    "dbscan.fit(scaled_X_tuesday)"
   ]
  },
  {
   "cell_type": "code",
   "execution_count": 99,
   "metadata": {},
   "outputs": [
    {
     "data": {
      "text/plain": [
       "(array([-1,  0,  1,  2,  3,  4,  5,  6,  7,  8,  9, 10, 11, 12, 13, 14, 15,\n",
       "        16, 17, 18, 19, 20, 21, 22, 23, 24, 25, 26, 27, 28]),\n",
       " array([ 2456, 13148,     7,   191,    23,   182,    15,    52,    44,\n",
       "           23,    19,    28,     9,     9,    11,    35,    15,    11,\n",
       "           10,    13,     8,     4,     7,     7,     8,     2,     9,\n",
       "            9,     6,     8]))"
      ]
     },
     "execution_count": 99,
     "metadata": {},
     "output_type": "execute_result"
    }
   ],
   "source": [
    "np.unique(dbscan.labels_, return_counts=True)"
   ]
  },
  {
   "cell_type": "code",
   "execution_count": 100,
   "metadata": {},
   "outputs": [
    {
     "data": {
      "text/html": [
       "<div>\n",
       "<style scoped>\n",
       "    .dataframe tbody tr th:only-of-type {\n",
       "        vertical-align: middle;\n",
       "    }\n",
       "\n",
       "    .dataframe tbody tr th {\n",
       "        vertical-align: top;\n",
       "    }\n",
       "\n",
       "    .dataframe thead th {\n",
       "        text-align: right;\n",
       "    }\n",
       "</style>\n",
       "<table border=\"1\" class=\"dataframe\">\n",
       "  <thead>\n",
       "    <tr style=\"text-align: right;\">\n",
       "      <th></th>\n",
       "      <th>Lat</th>\n",
       "      <th>Lon</th>\n",
       "      <th>Hour</th>\n",
       "      <th>Minutes</th>\n",
       "      <th>DayOfWeek</th>\n",
       "      <th>cluster</th>\n",
       "    </tr>\n",
       "  </thead>\n",
       "  <tbody>\n",
       "    <tr>\n",
       "      <th>112412</th>\n",
       "      <td>40.7385</td>\n",
       "      <td>-73.9882</td>\n",
       "      <td>21</td>\n",
       "      <td>56</td>\n",
       "      <td>Tuesday</td>\n",
       "      <td>0</td>\n",
       "    </tr>\n",
       "    <tr>\n",
       "      <th>72159</th>\n",
       "      <td>40.6772</td>\n",
       "      <td>-73.9823</td>\n",
       "      <td>8</td>\n",
       "      <td>36</td>\n",
       "      <td>Tuesday</td>\n",
       "      <td>-1</td>\n",
       "    </tr>\n",
       "    <tr>\n",
       "      <th>440386</th>\n",
       "      <td>40.6801</td>\n",
       "      <td>-73.9969</td>\n",
       "      <td>21</td>\n",
       "      <td>31</td>\n",
       "      <td>Tuesday</td>\n",
       "      <td>-1</td>\n",
       "    </tr>\n",
       "    <tr>\n",
       "      <th>146187</th>\n",
       "      <td>40.7108</td>\n",
       "      <td>-74.0062</td>\n",
       "      <td>8</td>\n",
       "      <td>44</td>\n",
       "      <td>Tuesday</td>\n",
       "      <td>0</td>\n",
       "    </tr>\n",
       "    <tr>\n",
       "      <th>24028</th>\n",
       "      <td>40.7455</td>\n",
       "      <td>-73.9752</td>\n",
       "      <td>14</td>\n",
       "      <td>24</td>\n",
       "      <td>Tuesday</td>\n",
       "      <td>0</td>\n",
       "    </tr>\n",
       "  </tbody>\n",
       "</table>\n",
       "</div>"
      ],
      "text/plain": [
       "            Lat      Lon  Hour  Minutes DayOfWeek  cluster\n",
       "112412  40.7385 -73.9882    21       56   Tuesday        0\n",
       "72159   40.6772 -73.9823     8       36   Tuesday       -1\n",
       "440386  40.6801 -73.9969    21       31   Tuesday       -1\n",
       "146187  40.7108 -74.0062     8       44   Tuesday        0\n",
       "24028   40.7455 -73.9752    14       24   Tuesday        0"
      ]
     },
     "execution_count": 100,
     "metadata": {},
     "output_type": "execute_result"
    }
   ],
   "source": [
    "tuesday[\"cluster\"] = dbscan.labels_\n",
    "tuesday.head()"
   ]
  },
  {
   "cell_type": "markdown",
   "metadata": {},
   "source": [
    "##### A scatterplot to see how the DBSCAN algorithm has clustered the pick-up points, except outliers, in New York city on Tuesdays"
   ]
  },
  {
   "cell_type": "code",
   "execution_count": 101,
   "metadata": {},
   "outputs": [
    {
     "data": {
      "text/html": [
       "<iframe\n",
       "    scrolling=\"no\"\n",
       "    width=\"100%\"\n",
       "    height=\"545px\"\n",
       "    src=\"iframe_figures/figure_101.html\"\n",
       "    frameborder=\"0\"\n",
       "    allowfullscreen\n",
       "></iframe>\n"
      ]
     },
     "metadata": {},
     "output_type": "display_data"
    }
   ],
   "source": [
    "fig_tuesday_cluster = px.scatter_mapbox(\n",
    "        tuesday[tuesday.cluster != -1], \n",
    "        lat=\"Lat\", \n",
    "        lon=\"Lon\",\n",
    "        color=\"cluster\",\n",
    "        mapbox_style=\"carto-positron\"\n",
    ")\n",
    "\n",
    "fig_tuesday_cluster.show()"
   ]
  },
  {
   "cell_type": "markdown",
   "metadata": {},
   "source": [
    "### Picking Wednesday to observe how the clustering algorithm behaves"
   ]
  },
  {
   "cell_type": "code",
   "execution_count": 102,
   "metadata": {},
   "outputs": [
    {
     "data": {
      "text/plain": [
       "(19166, 8)"
      ]
     },
     "execution_count": 102,
     "metadata": {},
     "output_type": "execute_result"
    }
   ],
   "source": [
    "wednesday.shape"
   ]
  },
  {
   "cell_type": "code",
   "execution_count": 103,
   "metadata": {},
   "outputs": [
    {
     "data": {
      "text/html": [
       "<iframe\n",
       "    scrolling=\"no\"\n",
       "    width=\"100%\"\n",
       "    height=\"545px\"\n",
       "    src=\"iframe_figures/figure_103.html\"\n",
       "    frameborder=\"0\"\n",
       "    allowfullscreen\n",
       "></iframe>\n"
      ]
     },
     "metadata": {},
     "output_type": "display_data"
    }
   ],
   "source": [
    "fig_wednesday = px.scatter_mapbox(\n",
    "        wednesday, \n",
    "        lat=\"Lat\", \n",
    "        lon=\"Lon\",\n",
    "        mapbox_style=\"carto-positron\"\n",
    ")\n",
    "\n",
    "fig_wednesday.show()"
   ]
  },
  {
   "cell_type": "markdown",
   "metadata": {},
   "source": [
    "##### Dropping unnecessary columns of the dataset"
   ]
  },
  {
   "cell_type": "code",
   "execution_count": 104,
   "metadata": {},
   "outputs": [],
   "source": [
    "wednesday = wednesday.drop(columns=[\"Year\", \"Month\", \"Day\"])"
   ]
  },
  {
   "cell_type": "code",
   "execution_count": 105,
   "metadata": {},
   "outputs": [
    {
     "data": {
      "text/html": [
       "<div>\n",
       "<style scoped>\n",
       "    .dataframe tbody tr th:only-of-type {\n",
       "        vertical-align: middle;\n",
       "    }\n",
       "\n",
       "    .dataframe tbody tr th {\n",
       "        vertical-align: top;\n",
       "    }\n",
       "\n",
       "    .dataframe thead th {\n",
       "        text-align: right;\n",
       "    }\n",
       "</style>\n",
       "<table border=\"1\" class=\"dataframe\">\n",
       "  <thead>\n",
       "    <tr style=\"text-align: right;\">\n",
       "      <th></th>\n",
       "      <th>Lat</th>\n",
       "      <th>Lon</th>\n",
       "      <th>Hour</th>\n",
       "      <th>Minutes</th>\n",
       "      <th>DayOfWeek</th>\n",
       "    </tr>\n",
       "  </thead>\n",
       "  <tbody>\n",
       "    <tr>\n",
       "      <th>324948</th>\n",
       "      <td>40.7332</td>\n",
       "      <td>-73.9985</td>\n",
       "      <td>19</td>\n",
       "      <td>5</td>\n",
       "      <td>Wednesday</td>\n",
       "    </tr>\n",
       "    <tr>\n",
       "      <th>340411</th>\n",
       "      <td>40.7640</td>\n",
       "      <td>-73.9775</td>\n",
       "      <td>23</td>\n",
       "      <td>1</td>\n",
       "      <td>Wednesday</td>\n",
       "    </tr>\n",
       "    <tr>\n",
       "      <th>25706</th>\n",
       "      <td>40.7585</td>\n",
       "      <td>-73.9689</td>\n",
       "      <td>21</td>\n",
       "      <td>24</td>\n",
       "      <td>Wednesday</td>\n",
       "    </tr>\n",
       "    <tr>\n",
       "      <th>273905</th>\n",
       "      <td>40.7418</td>\n",
       "      <td>-74.0043</td>\n",
       "      <td>11</td>\n",
       "      <td>14</td>\n",
       "      <td>Wednesday</td>\n",
       "    </tr>\n",
       "    <tr>\n",
       "      <th>78387</th>\n",
       "      <td>40.7611</td>\n",
       "      <td>-73.9798</td>\n",
       "      <td>16</td>\n",
       "      <td>4</td>\n",
       "      <td>Wednesday</td>\n",
       "    </tr>\n",
       "  </tbody>\n",
       "</table>\n",
       "</div>"
      ],
      "text/plain": [
       "            Lat      Lon  Hour  Minutes  DayOfWeek\n",
       "324948  40.7332 -73.9985    19        5  Wednesday\n",
       "340411  40.7640 -73.9775    23        1  Wednesday\n",
       "25706   40.7585 -73.9689    21       24  Wednesday\n",
       "273905  40.7418 -74.0043    11       14  Wednesday\n",
       "78387   40.7611 -73.9798    16        4  Wednesday"
      ]
     },
     "execution_count": 105,
     "metadata": {},
     "output_type": "execute_result"
    }
   ],
   "source": [
    "wednesday.head()"
   ]
  },
  {
   "cell_type": "markdown",
   "metadata": {},
   "source": [
    "##### Scaling numerical data and one-hot encoding categorical data"
   ]
  },
  {
   "cell_type": "code",
   "execution_count": 106,
   "metadata": {},
   "outputs": [
    {
     "name": "stdout",
     "output_type": "stream",
     "text": [
      "Preprocessing on dataset...\n",
      "            Lat      Lon  Hour  Minutes  DayOfWeek\n",
      "324948  40.7332 -73.9985    19        5  Wednesday\n",
      "340411  40.7640 -73.9775    23        1  Wednesday\n",
      "25706   40.7585 -73.9689    21       24  Wednesday\n",
      "273905  40.7418 -74.0043    11       14  Wednesday\n",
      "78387   40.7611 -73.9798    16        4  Wednesday\n",
      "...Completed.\n",
      "[[-0.28621353 -0.44760182  0.82508329 -1.40020057]\n",
      " [ 0.6199843  -0.00302028  1.56812251 -1.63077131]\n",
      " [ 0.45816326  0.17904645  1.1966029  -0.30498954]\n",
      " [-0.03318427 -0.57039101 -0.66099514 -0.8814164 ]\n",
      " [ 0.53466048 -0.05171254  0.26780388 -1.45784326]]\n",
      "\n"
     ]
    }
   ],
   "source": [
    "numeric_features = [0, 1, 2, 3] # Positions of numerical variables\n",
    "numeric_transformer = StandardScaler()\n",
    "\n",
    "# Creation of the transformer for categorical values\n",
    "categorical_features = [4] # Positions of categorical variables\n",
    "categorical_transformer = OneHotEncoder(drop='first')\n",
    "\n",
    "# Combining the transformers in ColumnTransformer\n",
    "preprocessor = ColumnTransformer(\n",
    "    transformers=[\n",
    "        ('num', numeric_transformer, numeric_features),\n",
    "        ('cat', categorical_transformer, categorical_features)\n",
    "    ])\n",
    "\n",
    "print(\"Preprocessing on dataset...\")\n",
    "print(wednesday.head())\n",
    "scaled_X_wednesday = preprocessor.fit_transform(wednesday)\n",
    "print('...Completed.')\n",
    "print(scaled_X_wednesday[0:5, :])\n",
    "print()"
   ]
  },
  {
   "cell_type": "markdown",
   "metadata": {},
   "source": [
    "#####  Use DBSCAN and a for loop to create a variety of models testing different epsilon values"
   ]
  },
  {
   "cell_type": "code",
   "execution_count": 107,
   "metadata": {},
   "outputs": [],
   "source": [
    "from sklearn.cluster import DBSCAN\n",
    "\n",
    "outlier_percent = []\n",
    "\n",
    "for eps in np.linspace(0.1, 2, 10):\n",
    "    \n",
    "    # Create Model\n",
    "    dbscan = DBSCAN(eps=eps,min_samples=2*scaled_X_wednesday.shape[1], metric=\"manhattan\", algorithm=\"brute\")\n",
    "    dbscan.fit(scaled_X_wednesday)\n",
    "   \n",
    "     \n",
    "    # Log percentage of points that are outliers\n",
    "    perc_outliers = 100 * np.sum(dbscan.labels_ == -1) / len(dbscan.labels_)\n",
    "    \n",
    "    outlier_percent.append(perc_outliers)"
   ]
  },
  {
   "cell_type": "markdown",
   "metadata": {},
   "source": [
    "##### Creating a line plot of the percentage of outlier points versus the epsilon value choice"
   ]
  },
  {
   "cell_type": "code",
   "execution_count": 108,
   "metadata": {},
   "outputs": [
    {
     "data": {
      "text/plain": [
       "Text(0.5, 0, 'Epsilon value')"
      ]
     },
     "execution_count": 108,
     "metadata": {},
     "output_type": "execute_result"
    },
    {
     "data": {
      "image/png": "[encoded data removed]",
      "text/plain": [
       "<Figure size 432x288 with 1 Axes>"
      ]
     },
     "metadata": {
      "needs_background": "light"
     },
     "output_type": "display_data"
    }
   ],
   "source": [
    "import seaborn as sns\n",
    "import matplotlib.pyplot as plt\n",
    "sns.lineplot(x=np.linspace(0.1, 2, 10), y=outlier_percent)\n",
    "plt.ylabel(\"Percentage of points classified as outliers\")\n",
    "plt.xlabel(\"Epsilon value\")"
   ]
  },
  {
   "cell_type": "markdown",
   "metadata": {},
   "source": [
    "##### Retraining a DBSCAN model with epsilon value = 0.5, based on the plot created above, and min_samples = 8"
   ]
  },
  {
   "cell_type": "code",
   "execution_count": 109,
   "metadata": {},
   "outputs": [
    {
     "data": {
      "text/plain": [
       "DBSCAN(algorithm='brute', metric='manhattan', min_samples=8)"
      ]
     },
     "execution_count": 109,
     "metadata": {},
     "output_type": "execute_result"
    }
   ],
   "source": [
    "eps = 0.5\n",
    "min_samples = 8\n",
    "dbscan = DBSCAN(eps=eps, min_samples=min_samples, metric=\"manhattan\", algorithm=\"brute\")\n",
    "dbscan.fit(scaled_X_wednesday)"
   ]
  },
  {
   "cell_type": "code",
   "execution_count": 110,
   "metadata": {},
   "outputs": [
    {
     "data": {
      "text/plain": [
       "(array([-1,  0,  1,  2,  3,  4,  5,  6,  7,  8,  9, 10, 11, 12, 13, 14, 15,\n",
       "        16, 17, 18, 19, 20, 21]),\n",
       " array([ 2546, 15766,   258,   295,    12,    26,    17,    34,    22,\n",
       "           22,    20,    18,    54,    11,     6,    10,     7,     9,\n",
       "            8,     7,     8,     5,     5]))"
      ]
     },
     "execution_count": 110,
     "metadata": {},
     "output_type": "execute_result"
    }
   ],
   "source": [
    "np.unique(dbscan.labels_, return_counts=True)"
   ]
  },
  {
   "cell_type": "code",
   "execution_count": 111,
   "metadata": {},
   "outputs": [
    {
     "data": {
      "text/html": [
       "<div>\n",
       "<style scoped>\n",
       "    .dataframe tbody tr th:only-of-type {\n",
       "        vertical-align: middle;\n",
       "    }\n",
       "\n",
       "    .dataframe tbody tr th {\n",
       "        vertical-align: top;\n",
       "    }\n",
       "\n",
       "    .dataframe thead th {\n",
       "        text-align: right;\n",
       "    }\n",
       "</style>\n",
       "<table border=\"1\" class=\"dataframe\">\n",
       "  <thead>\n",
       "    <tr style=\"text-align: right;\">\n",
       "      <th></th>\n",
       "      <th>Lat</th>\n",
       "      <th>Lon</th>\n",
       "      <th>Hour</th>\n",
       "      <th>Minutes</th>\n",
       "      <th>DayOfWeek</th>\n",
       "      <th>cluster</th>\n",
       "    </tr>\n",
       "  </thead>\n",
       "  <tbody>\n",
       "    <tr>\n",
       "      <th>324948</th>\n",
       "      <td>40.7332</td>\n",
       "      <td>-73.9985</td>\n",
       "      <td>19</td>\n",
       "      <td>5</td>\n",
       "      <td>Wednesday</td>\n",
       "      <td>0</td>\n",
       "    </tr>\n",
       "    <tr>\n",
       "      <th>340411</th>\n",
       "      <td>40.7640</td>\n",
       "      <td>-73.9775</td>\n",
       "      <td>23</td>\n",
       "      <td>1</td>\n",
       "      <td>Wednesday</td>\n",
       "      <td>0</td>\n",
       "    </tr>\n",
       "    <tr>\n",
       "      <th>25706</th>\n",
       "      <td>40.7585</td>\n",
       "      <td>-73.9689</td>\n",
       "      <td>21</td>\n",
       "      <td>24</td>\n",
       "      <td>Wednesday</td>\n",
       "      <td>0</td>\n",
       "    </tr>\n",
       "    <tr>\n",
       "      <th>273905</th>\n",
       "      <td>40.7418</td>\n",
       "      <td>-74.0043</td>\n",
       "      <td>11</td>\n",
       "      <td>14</td>\n",
       "      <td>Wednesday</td>\n",
       "      <td>0</td>\n",
       "    </tr>\n",
       "    <tr>\n",
       "      <th>78387</th>\n",
       "      <td>40.7611</td>\n",
       "      <td>-73.9798</td>\n",
       "      <td>16</td>\n",
       "      <td>4</td>\n",
       "      <td>Wednesday</td>\n",
       "      <td>0</td>\n",
       "    </tr>\n",
       "  </tbody>\n",
       "</table>\n",
       "</div>"
      ],
      "text/plain": [
       "            Lat      Lon  Hour  Minutes  DayOfWeek  cluster\n",
       "324948  40.7332 -73.9985    19        5  Wednesday        0\n",
       "340411  40.7640 -73.9775    23        1  Wednesday        0\n",
       "25706   40.7585 -73.9689    21       24  Wednesday        0\n",
       "273905  40.7418 -74.0043    11       14  Wednesday        0\n",
       "78387   40.7611 -73.9798    16        4  Wednesday        0"
      ]
     },
     "execution_count": 111,
     "metadata": {},
     "output_type": "execute_result"
    }
   ],
   "source": [
    "wednesday[\"cluster\"] = dbscan.labels_\n",
    "wednesday.head()"
   ]
  },
  {
   "cell_type": "markdown",
   "metadata": {},
   "source": [
    "##### A scatterplot to see how the DBSCAN algorithm has clustered the pick-up points, except outliers, in New York city on Wednesdays"
   ]
  },
  {
   "cell_type": "code",
   "execution_count": 112,
   "metadata": {},
   "outputs": [
    {
     "data": {
      "text/html": [
       "<iframe\n",
       "    scrolling=\"no\"\n",
       "    width=\"100%\"\n",
       "    height=\"545px\"\n",
       "    src=\"iframe_figures/figure_112.html\"\n",
       "    frameborder=\"0\"\n",
       "    allowfullscreen\n",
       "></iframe>\n"
      ]
     },
     "metadata": {},
     "output_type": "display_data"
    }
   ],
   "source": [
    "fig_wednesday_cluster = px.scatter_mapbox(\n",
    "        wednesday[wednesday.cluster != -1], \n",
    "        lat=\"Lat\", \n",
    "        lon=\"Lon\",\n",
    "        color=\"cluster\",\n",
    "        mapbox_style=\"carto-positron\"\n",
    ")\n",
    "\n",
    "fig_wednesday_cluster.show()"
   ]
  },
  {
   "cell_type": "markdown",
   "metadata": {},
   "source": [
    "### Picking Thursday to observe how the clustering algorithm behaves"
   ]
  },
  {
   "cell_type": "code",
   "execution_count": 113,
   "metadata": {},
   "outputs": [
    {
     "data": {
      "text/plain": [
       "(15118, 8)"
      ]
     },
     "execution_count": 113,
     "metadata": {},
     "output_type": "execute_result"
    }
   ],
   "source": [
    "thursday.shape"
   ]
  },
  {
   "cell_type": "code",
   "execution_count": 114,
   "metadata": {},
   "outputs": [
    {
     "data": {
      "text/html": [
       "<iframe\n",
       "    scrolling=\"no\"\n",
       "    width=\"100%\"\n",
       "    height=\"545px\"\n",
       "    src=\"iframe_figures/figure_114.html\"\n",
       "    frameborder=\"0\"\n",
       "    allowfullscreen\n",
       "></iframe>\n"
      ]
     },
     "metadata": {},
     "output_type": "display_data"
    }
   ],
   "source": [
    "fig_thursday = px.scatter_mapbox(\n",
    "        thursday, \n",
    "        lat=\"Lat\", \n",
    "        lon=\"Lon\",\n",
    "        mapbox_style=\"carto-positron\"\n",
    ")\n",
    "\n",
    "fig_thursday.show()"
   ]
  },
  {
   "cell_type": "markdown",
   "metadata": {},
   "source": [
    "##### Dropping unnecessary columns of the dataset"
   ]
  },
  {
   "cell_type": "code",
   "execution_count": 115,
   "metadata": {},
   "outputs": [],
   "source": [
    "thursday = thursday.drop(columns=[\"Year\", \"Month\", \"Day\"])"
   ]
  },
  {
   "cell_type": "code",
   "execution_count": 116,
   "metadata": {},
   "outputs": [
    {
     "data": {
      "text/html": [
       "<div>\n",
       "<style scoped>\n",
       "    .dataframe tbody tr th:only-of-type {\n",
       "        vertical-align: middle;\n",
       "    }\n",
       "\n",
       "    .dataframe tbody tr th {\n",
       "        vertical-align: top;\n",
       "    }\n",
       "\n",
       "    .dataframe thead th {\n",
       "        text-align: right;\n",
       "    }\n",
       "</style>\n",
       "<table border=\"1\" class=\"dataframe\">\n",
       "  <thead>\n",
       "    <tr style=\"text-align: right;\">\n",
       "      <th></th>\n",
       "      <th>Lat</th>\n",
       "      <th>Lon</th>\n",
       "      <th>Hour</th>\n",
       "      <th>Minutes</th>\n",
       "      <th>DayOfWeek</th>\n",
       "    </tr>\n",
       "  </thead>\n",
       "  <tbody>\n",
       "    <tr>\n",
       "      <th>83621</th>\n",
       "      <td>40.7741</td>\n",
       "      <td>-73.8724</td>\n",
       "      <td>16</td>\n",
       "      <td>7</td>\n",
       "      <td>Thursday</td>\n",
       "    </tr>\n",
       "    <tr>\n",
       "      <th>402381</th>\n",
       "      <td>40.7515</td>\n",
       "      <td>-73.9760</td>\n",
       "      <td>16</td>\n",
       "      <td>14</td>\n",
       "      <td>Thursday</td>\n",
       "    </tr>\n",
       "    <tr>\n",
       "      <th>164529</th>\n",
       "      <td>40.6417</td>\n",
       "      <td>-73.7890</td>\n",
       "      <td>20</td>\n",
       "      <td>6</td>\n",
       "      <td>Thursday</td>\n",
       "    </tr>\n",
       "    <tr>\n",
       "      <th>229997</th>\n",
       "      <td>40.6534</td>\n",
       "      <td>-73.7869</td>\n",
       "      <td>23</td>\n",
       "      <td>43</td>\n",
       "      <td>Thursday</td>\n",
       "    </tr>\n",
       "    <tr>\n",
       "      <th>453963</th>\n",
       "      <td>40.7631</td>\n",
       "      <td>-73.9685</td>\n",
       "      <td>18</td>\n",
       "      <td>34</td>\n",
       "      <td>Thursday</td>\n",
       "    </tr>\n",
       "  </tbody>\n",
       "</table>\n",
       "</div>"
      ],
      "text/plain": [
       "            Lat      Lon  Hour  Minutes DayOfWeek\n",
       "83621   40.7741 -73.8724    16        7  Thursday\n",
       "402381  40.7515 -73.9760    16       14  Thursday\n",
       "164529  40.6417 -73.7890    20        6  Thursday\n",
       "229997  40.6534 -73.7869    23       43  Thursday\n",
       "453963  40.7631 -73.9685    18       34  Thursday"
      ]
     },
     "execution_count": 116,
     "metadata": {},
     "output_type": "execute_result"
    }
   ],
   "source": [
    "thursday.head()"
   ]
  },
  {
   "cell_type": "markdown",
   "metadata": {},
   "source": [
    "##### Scaling numerical data and one-hot encoding categorical data"
   ]
  },
  {
   "cell_type": "code",
   "execution_count": 117,
   "metadata": {},
   "outputs": [
    {
     "name": "stdout",
     "output_type": "stream",
     "text": [
      "Preprocessing on dataset...\n",
      "            Lat      Lon  Hour  Minutes DayOfWeek\n",
      "83621   40.7741 -73.8724    16        7  Thursday\n",
      "402381  40.7515 -73.9760    16       14  Thursday\n",
      "164529  40.6417 -73.7890    20        6  Thursday\n",
      "229997  40.6534 -73.7869    23       43  Thursday\n",
      "453963  40.7631 -73.9685    18       34  Thursday\n",
      "...Completed.\n",
      "[[ 0.95868646  2.15352707  0.18570808 -1.30209651]\n",
      " [ 0.29421433  0.02927106  0.18570808 -0.89709983]\n",
      " [-2.93406174  3.86359417  0.90214436 -1.35995318]\n",
      " [-2.59006511  3.90665342  1.43947158  0.78074355]\n",
      " [ 0.63527082  0.18305407  0.54392622  0.26003354]]\n",
      "\n"
     ]
    }
   ],
   "source": [
    "numeric_features = [0, 1, 2, 3] # Positions of numerical variables\n",
    "numeric_transformer = StandardScaler()\n",
    "\n",
    "# Creation of the transformer for categorical values\n",
    "categorical_features = [4] # Positions of categorical variables\n",
    "categorical_transformer = OneHotEncoder(drop='first')\n",
    "\n",
    "# Combining the transformers in ColumnTransformer\n",
    "preprocessor = ColumnTransformer(\n",
    "    transformers=[\n",
    "        ('num', numeric_transformer, numeric_features),\n",
    "        ('cat', categorical_transformer, categorical_features)\n",
    "    ])\n",
    "\n",
    "print(\"Preprocessing on dataset...\")\n",
    "print(thursday.head())\n",
    "scaled_X_thursday = preprocessor.fit_transform(thursday)\n",
    "print('...Completed.')\n",
    "print(scaled_X_thursday[0:5, :])\n",
    "print()"
   ]
  },
  {
   "cell_type": "markdown",
   "metadata": {},
   "source": [
    "#####  Use DBSCAN and a for loop to create a variety of models testing different epsilon values"
   ]
  },
  {
   "cell_type": "code",
   "execution_count": 118,
   "metadata": {},
   "outputs": [],
   "source": [
    "from sklearn.cluster import DBSCAN\n",
    "\n",
    "outlier_percent = []\n",
    "\n",
    "for eps in np.linspace(0.1, 2, 10):\n",
    "    \n",
    "    # Create Model\n",
    "    dbscan = DBSCAN(eps=eps,min_samples=2*scaled_X_thursday.shape[1], metric=\"manhattan\", algorithm=\"brute\")\n",
    "    dbscan.fit(scaled_X_thursday)\n",
    "   \n",
    "     \n",
    "    # Log percentage of points that are outliers\n",
    "    perc_outliers = 100 * np.sum(dbscan.labels_ == -1) / len(dbscan.labels_)\n",
    "    \n",
    "    outlier_percent.append(perc_outliers)"
   ]
  },
  {
   "cell_type": "markdown",
   "metadata": {},
   "source": [
    "##### Creating a line plot of the percentage of outlier points versus the epsilon value choice"
   ]
  },
  {
   "cell_type": "code",
   "execution_count": 119,
   "metadata": {},
   "outputs": [
    {
     "data": {
      "text/plain": [
       "Text(0.5, 0, 'Epsilon value')"
      ]
     },
     "execution_count": 119,
     "metadata": {},
     "output_type": "execute_result"
    },
    {
     "data": {
      "image/png": "[encoded data removed]",
      "text/plain": [
       "<Figure size 432x288 with 1 Axes>"
      ]
     },
     "metadata": {
      "needs_background": "light"
     },
     "output_type": "display_data"
    }
   ],
   "source": [
    "import seaborn as sns\n",
    "import matplotlib.pyplot as plt\n",
    "sns.lineplot(x=np.linspace(0.1, 2, 10), y=outlier_percent)\n",
    "plt.ylabel(\"Percentage of points classified as outliers\")\n",
    "plt.xlabel(\"Epsilon value\")"
   ]
  },
  {
   "cell_type": "markdown",
   "metadata": {},
   "source": [
    "##### Retraining a DBSCAN model with epsilon value = 0.5, based on the plot created above, and min_samples = 8"
   ]
  },
  {
   "cell_type": "code",
   "execution_count": 120,
   "metadata": {},
   "outputs": [
    {
     "data": {
      "text/plain": [
       "DBSCAN(algorithm='brute', metric='manhattan', min_samples=8)"
      ]
     },
     "execution_count": 120,
     "metadata": {},
     "output_type": "execute_result"
    }
   ],
   "source": [
    "eps = 0.5\n",
    "dbscan = DBSCAN(eps=eps, min_samples=min_samples, metric=\"manhattan\", algorithm=\"brute\")\n",
    "dbscan.fit(scaled_X_thursday)"
   ]
  },
  {
   "cell_type": "code",
   "execution_count": 121,
   "metadata": {},
   "outputs": [
    {
     "data": {
      "text/plain": [
       "(array([-1,  0,  1,  2,  3,  4,  5,  6,  7,  8,  9, 10, 11, 12, 13, 14, 15,\n",
       "        16, 17, 18, 19, 20, 21, 22]),\n",
       " array([ 2355,   286, 11989,    27,   193,    14,    10,    40,    12,\n",
       "            8,    15,    26,    12,    21,     8,    18,    11,    21,\n",
       "           18,     5,     5,    10,     6,     8]))"
      ]
     },
     "execution_count": 121,
     "metadata": {},
     "output_type": "execute_result"
    }
   ],
   "source": [
    "np.unique(dbscan.labels_, return_counts=True)"
   ]
  },
  {
   "cell_type": "code",
   "execution_count": 122,
   "metadata": {},
   "outputs": [
    {
     "data": {
      "text/html": [
       "<div>\n",
       "<style scoped>\n",
       "    .dataframe tbody tr th:only-of-type {\n",
       "        vertical-align: middle;\n",
       "    }\n",
       "\n",
       "    .dataframe tbody tr th {\n",
       "        vertical-align: top;\n",
       "    }\n",
       "\n",
       "    .dataframe thead th {\n",
       "        text-align: right;\n",
       "    }\n",
       "</style>\n",
       "<table border=\"1\" class=\"dataframe\">\n",
       "  <thead>\n",
       "    <tr style=\"text-align: right;\">\n",
       "      <th></th>\n",
       "      <th>Lat</th>\n",
       "      <th>Lon</th>\n",
       "      <th>Hour</th>\n",
       "      <th>Minutes</th>\n",
       "      <th>DayOfWeek</th>\n",
       "      <th>cluster</th>\n",
       "    </tr>\n",
       "  </thead>\n",
       "  <tbody>\n",
       "    <tr>\n",
       "      <th>83621</th>\n",
       "      <td>40.7741</td>\n",
       "      <td>-73.8724</td>\n",
       "      <td>16</td>\n",
       "      <td>7</td>\n",
       "      <td>Thursday</td>\n",
       "      <td>0</td>\n",
       "    </tr>\n",
       "    <tr>\n",
       "      <th>402381</th>\n",
       "      <td>40.7515</td>\n",
       "      <td>-73.9760</td>\n",
       "      <td>16</td>\n",
       "      <td>14</td>\n",
       "      <td>Thursday</td>\n",
       "      <td>1</td>\n",
       "    </tr>\n",
       "    <tr>\n",
       "      <th>164529</th>\n",
       "      <td>40.6417</td>\n",
       "      <td>-73.7890</td>\n",
       "      <td>20</td>\n",
       "      <td>6</td>\n",
       "      <td>Thursday</td>\n",
       "      <td>3</td>\n",
       "    </tr>\n",
       "    <tr>\n",
       "      <th>229997</th>\n",
       "      <td>40.6534</td>\n",
       "      <td>-73.7869</td>\n",
       "      <td>23</td>\n",
       "      <td>43</td>\n",
       "      <td>Thursday</td>\n",
       "      <td>-1</td>\n",
       "    </tr>\n",
       "    <tr>\n",
       "      <th>453963</th>\n",
       "      <td>40.7631</td>\n",
       "      <td>-73.9685</td>\n",
       "      <td>18</td>\n",
       "      <td>34</td>\n",
       "      <td>Thursday</td>\n",
       "      <td>1</td>\n",
       "    </tr>\n",
       "  </tbody>\n",
       "</table>\n",
       "</div>"
      ],
      "text/plain": [
       "            Lat      Lon  Hour  Minutes DayOfWeek  cluster\n",
       "83621   40.7741 -73.8724    16        7  Thursday        0\n",
       "402381  40.7515 -73.9760    16       14  Thursday        1\n",
       "164529  40.6417 -73.7890    20        6  Thursday        3\n",
       "229997  40.6534 -73.7869    23       43  Thursday       -1\n",
       "453963  40.7631 -73.9685    18       34  Thursday        1"
      ]
     },
     "execution_count": 122,
     "metadata": {},
     "output_type": "execute_result"
    }
   ],
   "source": [
    "thursday[\"cluster\"] = dbscan.labels_\n",
    "thursday.head()"
   ]
  },
  {
   "cell_type": "markdown",
   "metadata": {},
   "source": [
    "##### A scatterplot to see how the DBSCAN algorithm has clustered the pick-up points, except outliers, in New York city on Thursdays"
   ]
  },
  {
   "cell_type": "code",
   "execution_count": 123,
   "metadata": {},
   "outputs": [
    {
     "data": {
      "text/html": [
       "<iframe\n",
       "    scrolling=\"no\"\n",
       "    width=\"100%\"\n",
       "    height=\"545px\"\n",
       "    src=\"iframe_figures/figure_123.html\"\n",
       "    frameborder=\"0\"\n",
       "    allowfullscreen\n",
       "></iframe>\n"
      ]
     },
     "metadata": {},
     "output_type": "display_data"
    }
   ],
   "source": [
    "fig_thursday_cluster = px.scatter_mapbox(\n",
    "        thursday[thursday.cluster != -1], \n",
    "        lat=\"Lat\", \n",
    "        lon=\"Lon\",\n",
    "        color=\"cluster\",\n",
    "        mapbox_style=\"carto-positron\"\n",
    ")\n",
    "\n",
    "fig_thursday_cluster.show()"
   ]
  },
  {
   "cell_type": "markdown",
   "metadata": {},
   "source": [
    "### Picking Friday to observe how the clustering algorithm behaves"
   ]
  },
  {
   "cell_type": "code",
   "execution_count": 124,
   "metadata": {},
   "outputs": [
    {
     "data": {
      "text/plain": [
       "(16040, 8)"
      ]
     },
     "execution_count": 124,
     "metadata": {},
     "output_type": "execute_result"
    }
   ],
   "source": [
    "friday.shape"
   ]
  },
  {
   "cell_type": "code",
   "execution_count": 125,
   "metadata": {},
   "outputs": [
    {
     "data": {
      "text/html": [
       "<iframe\n",
       "    scrolling=\"no\"\n",
       "    width=\"100%\"\n",
       "    height=\"545px\"\n",
       "    src=\"iframe_figures/figure_125.html\"\n",
       "    frameborder=\"0\"\n",
       "    allowfullscreen\n",
       "></iframe>\n"
      ]
     },
     "metadata": {},
     "output_type": "display_data"
    }
   ],
   "source": [
    "fig_friday = px.scatter_mapbox(\n",
    "        friday, \n",
    "        lat=\"Lat\", \n",
    "        lon=\"Lon\",\n",
    "        mapbox_style=\"carto-positron\"\n",
    ")\n",
    "\n",
    "fig_friday.show()"
   ]
  },
  {
   "cell_type": "markdown",
   "metadata": {},
   "source": [
    "##### Dropping unnecessary columns of the dataset"
   ]
  },
  {
   "cell_type": "code",
   "execution_count": 126,
   "metadata": {},
   "outputs": [],
   "source": [
    "friday = friday.drop(columns=[\"Year\", \"Month\", \"Day\"])"
   ]
  },
  {
   "cell_type": "code",
   "execution_count": 127,
   "metadata": {},
   "outputs": [
    {
     "data": {
      "text/html": [
       "<div>\n",
       "<style scoped>\n",
       "    .dataframe tbody tr th:only-of-type {\n",
       "        vertical-align: middle;\n",
       "    }\n",
       "\n",
       "    .dataframe tbody tr th {\n",
       "        vertical-align: top;\n",
       "    }\n",
       "\n",
       "    .dataframe thead th {\n",
       "        text-align: right;\n",
       "    }\n",
       "</style>\n",
       "<table border=\"1\" class=\"dataframe\">\n",
       "  <thead>\n",
       "    <tr style=\"text-align: right;\">\n",
       "      <th></th>\n",
       "      <th>Lat</th>\n",
       "      <th>Lon</th>\n",
       "      <th>Hour</th>\n",
       "      <th>Minutes</th>\n",
       "      <th>DayOfWeek</th>\n",
       "    </tr>\n",
       "  </thead>\n",
       "  <tbody>\n",
       "    <tr>\n",
       "      <th>506608</th>\n",
       "      <td>40.7294</td>\n",
       "      <td>-73.9933</td>\n",
       "      <td>15</td>\n",
       "      <td>28</td>\n",
       "      <td>Friday</td>\n",
       "    </tr>\n",
       "    <tr>\n",
       "      <th>20838</th>\n",
       "      <td>40.7543</td>\n",
       "      <td>-73.9873</td>\n",
       "      <td>13</td>\n",
       "      <td>16</td>\n",
       "      <td>Friday</td>\n",
       "    </tr>\n",
       "    <tr>\n",
       "      <th>5313</th>\n",
       "      <td>40.7668</td>\n",
       "      <td>-73.9675</td>\n",
       "      <td>20</td>\n",
       "      <td>38</td>\n",
       "      <td>Friday</td>\n",
       "    </tr>\n",
       "    <tr>\n",
       "      <th>462655</th>\n",
       "      <td>40.7253</td>\n",
       "      <td>-73.9998</td>\n",
       "      <td>20</td>\n",
       "      <td>48</td>\n",
       "      <td>Friday</td>\n",
       "    </tr>\n",
       "    <tr>\n",
       "      <th>50485</th>\n",
       "      <td>40.7388</td>\n",
       "      <td>-74.0089</td>\n",
       "      <td>9</td>\n",
       "      <td>18</td>\n",
       "      <td>Friday</td>\n",
       "    </tr>\n",
       "  </tbody>\n",
       "</table>\n",
       "</div>"
      ],
      "text/plain": [
       "            Lat      Lon  Hour  Minutes DayOfWeek\n",
       "506608  40.7294 -73.9933    15       28    Friday\n",
       "20838   40.7543 -73.9873    13       16    Friday\n",
       "5313    40.7668 -73.9675    20       38    Friday\n",
       "462655  40.7253 -73.9998    20       48    Friday\n",
       "50485   40.7388 -74.0089     9       18    Friday"
      ]
     },
     "execution_count": 127,
     "metadata": {},
     "output_type": "execute_result"
    }
   ],
   "source": [
    "friday.head()"
   ]
  },
  {
   "cell_type": "markdown",
   "metadata": {},
   "source": [
    "##### Scaling numerical data and one-hot encoding categorical data"
   ]
  },
  {
   "cell_type": "code",
   "execution_count": 128,
   "metadata": {},
   "outputs": [
    {
     "name": "stdout",
     "output_type": "stream",
     "text": [
      "Preprocessing on dataset...\n",
      "            Lat      Lon  Hour  Minutes DayOfWeek\n",
      "506608  40.7294 -73.9933    15       28    Friday\n",
      "20838   40.7543 -73.9873    13       16    Friday\n",
      "5313    40.7668 -73.9675    20       38    Friday\n",
      "462655  40.7253 -73.9998    20       48    Friday\n",
      "50485   40.7388 -74.0089     9       18    Friday\n",
      "...Completed.\n",
      "[[-0.32695001 -0.31868323  0.00164975 -0.09574532]\n",
      " [ 0.41053813 -0.18739404 -0.33979465 -0.78830673]\n",
      " [ 0.78076309  0.24586029  0.85526074  0.48138919]\n",
      " [-0.4483838  -0.46091319  0.85526074  1.0585237 ]\n",
      " [-0.04854083 -0.66003514 -1.02268345 -0.67287983]]\n",
      "\n"
     ]
    }
   ],
   "source": [
    "numeric_features = [0, 1, 2, 3] # Positions of numerical variables\n",
    "numeric_transformer = StandardScaler()\n",
    "\n",
    "# Creation of the transformer for categorical values\n",
    "categorical_features = [4] # Positions of categorical variables\n",
    "categorical_transformer = OneHotEncoder(drop='first')\n",
    "\n",
    "# Combining the transformers in ColumnTransformer\n",
    "preprocessor = ColumnTransformer(\n",
    "    transformers=[\n",
    "        ('num', numeric_transformer, numeric_features),\n",
    "        ('cat', categorical_transformer, categorical_features)\n",
    "    ])\n",
    "\n",
    "print(\"Preprocessing on dataset...\")\n",
    "print(friday.head())\n",
    "scaled_X_friday = preprocessor.fit_transform(friday)\n",
    "print('...Completed.')\n",
    "print(scaled_X_friday[0:5, :])\n",
    "print()"
   ]
  },
  {
   "cell_type": "markdown",
   "metadata": {},
   "source": [
    "#####  Use DBSCAN and a for loop to create a variety of models testing different epsilon values"
   ]
  },
  {
   "cell_type": "code",
   "execution_count": 129,
   "metadata": {},
   "outputs": [],
   "source": [
    "from sklearn.cluster import DBSCAN\n",
    "\n",
    "outlier_percent = []\n",
    "\n",
    "for eps in np.linspace(0.1, 2, 10):\n",
    "    \n",
    "    # Create Model\n",
    "    dbscan = DBSCAN(eps=eps,min_samples=2*scaled_X_friday.shape[1], metric=\"manhattan\", algorithm=\"brute\")\n",
    "    dbscan.fit(scaled_X_friday)\n",
    "   \n",
    "     \n",
    "    # Log percentage of points that are outliers\n",
    "    perc_outliers = 100 * np.sum(dbscan.labels_ == -1) / len(dbscan.labels_)\n",
    "    \n",
    "    outlier_percent.append(perc_outliers)"
   ]
  },
  {
   "cell_type": "markdown",
   "metadata": {},
   "source": [
    "##### Creating a line plot of the percentage of outlier points versus the epsilon value choice"
   ]
  },
  {
   "cell_type": "code",
   "execution_count": 130,
   "metadata": {},
   "outputs": [
    {
     "data": {
      "text/plain": [
       "Text(0.5, 0, 'Epsilon value')"
      ]
     },
     "execution_count": 130,
     "metadata": {},
     "output_type": "execute_result"
    },
    {
     "data": {
      "image/png": "[encoded data removed]",
      "text/plain": [
       "<Figure size 432x288 with 1 Axes>"
      ]
     },
     "metadata": {
      "needs_background": "light"
     },
     "output_type": "display_data"
    }
   ],
   "source": [
    "import seaborn as sns\n",
    "import matplotlib.pyplot as plt\n",
    "sns.lineplot(x=np.linspace(0.1, 2, 10), y=outlier_percent)\n",
    "plt.ylabel(\"Percentage of points classified as outliers\")\n",
    "plt.xlabel(\"Epsilon value\")"
   ]
  },
  {
   "cell_type": "markdown",
   "metadata": {},
   "source": [
    "##### Retraining a DBSCAN model with epsilon value = 0.5, based on the plot created above, and min_samples = 8"
   ]
  },
  {
   "cell_type": "code",
   "execution_count": 131,
   "metadata": {},
   "outputs": [
    {
     "data": {
      "text/plain": [
       "DBSCAN(algorithm='brute', metric='manhattan', min_samples=8)"
      ]
     },
     "execution_count": 131,
     "metadata": {},
     "output_type": "execute_result"
    }
   ],
   "source": [
    "eps = 0.5\n",
    "dbscan = DBSCAN(eps=eps, min_samples=min_samples, metric=\"manhattan\", algorithm=\"brute\")\n",
    "dbscan.fit(scaled_X_friday)"
   ]
  },
  {
   "cell_type": "code",
   "execution_count": 132,
   "metadata": {},
   "outputs": [
    {
     "data": {
      "text/plain": [
       "(array([-1,  0,  1,  2,  3,  4,  5,  6,  7,  8,  9, 10, 11, 12, 13, 14, 15,\n",
       "        16, 17, 18, 19, 20, 21, 22, 23, 24, 25, 26, 27]),\n",
       " array([ 2540, 12882,    40,    96,    51,    15,    35,    16,    28,\n",
       "          104,    18,    15,    12,     8,     5,    22,    15,    12,\n",
       "           30,    23,    12,     6,     8,     8,     8,     8,    10,\n",
       "            7,     6]))"
      ]
     },
     "execution_count": 132,
     "metadata": {},
     "output_type": "execute_result"
    }
   ],
   "source": [
    "np.unique(dbscan.labels_, return_counts=True)"
   ]
  },
  {
   "cell_type": "code",
   "execution_count": 133,
   "metadata": {},
   "outputs": [
    {
     "data": {
      "text/html": [
       "<div>\n",
       "<style scoped>\n",
       "    .dataframe tbody tr th:only-of-type {\n",
       "        vertical-align: middle;\n",
       "    }\n",
       "\n",
       "    .dataframe tbody tr th {\n",
       "        vertical-align: top;\n",
       "    }\n",
       "\n",
       "    .dataframe thead th {\n",
       "        text-align: right;\n",
       "    }\n",
       "</style>\n",
       "<table border=\"1\" class=\"dataframe\">\n",
       "  <thead>\n",
       "    <tr style=\"text-align: right;\">\n",
       "      <th></th>\n",
       "      <th>Lat</th>\n",
       "      <th>Lon</th>\n",
       "      <th>Hour</th>\n",
       "      <th>Minutes</th>\n",
       "      <th>DayOfWeek</th>\n",
       "      <th>cluster</th>\n",
       "    </tr>\n",
       "  </thead>\n",
       "  <tbody>\n",
       "    <tr>\n",
       "      <th>506608</th>\n",
       "      <td>40.7294</td>\n",
       "      <td>-73.9933</td>\n",
       "      <td>15</td>\n",
       "      <td>28</td>\n",
       "      <td>Friday</td>\n",
       "      <td>0</td>\n",
       "    </tr>\n",
       "    <tr>\n",
       "      <th>20838</th>\n",
       "      <td>40.7543</td>\n",
       "      <td>-73.9873</td>\n",
       "      <td>13</td>\n",
       "      <td>16</td>\n",
       "      <td>Friday</td>\n",
       "      <td>0</td>\n",
       "    </tr>\n",
       "    <tr>\n",
       "      <th>5313</th>\n",
       "      <td>40.7668</td>\n",
       "      <td>-73.9675</td>\n",
       "      <td>20</td>\n",
       "      <td>38</td>\n",
       "      <td>Friday</td>\n",
       "      <td>0</td>\n",
       "    </tr>\n",
       "    <tr>\n",
       "      <th>462655</th>\n",
       "      <td>40.7253</td>\n",
       "      <td>-73.9998</td>\n",
       "      <td>20</td>\n",
       "      <td>48</td>\n",
       "      <td>Friday</td>\n",
       "      <td>0</td>\n",
       "    </tr>\n",
       "    <tr>\n",
       "      <th>50485</th>\n",
       "      <td>40.7388</td>\n",
       "      <td>-74.0089</td>\n",
       "      <td>9</td>\n",
       "      <td>18</td>\n",
       "      <td>Friday</td>\n",
       "      <td>0</td>\n",
       "    </tr>\n",
       "  </tbody>\n",
       "</table>\n",
       "</div>"
      ],
      "text/plain": [
       "            Lat      Lon  Hour  Minutes DayOfWeek  cluster\n",
       "506608  40.7294 -73.9933    15       28    Friday        0\n",
       "20838   40.7543 -73.9873    13       16    Friday        0\n",
       "5313    40.7668 -73.9675    20       38    Friday        0\n",
       "462655  40.7253 -73.9998    20       48    Friday        0\n",
       "50485   40.7388 -74.0089     9       18    Friday        0"
      ]
     },
     "execution_count": 133,
     "metadata": {},
     "output_type": "execute_result"
    }
   ],
   "source": [
    "friday[\"cluster\"] = dbscan.labels_\n",
    "friday.head()"
   ]
  },
  {
   "cell_type": "markdown",
   "metadata": {},
   "source": [
    "##### A scatterplot to see how the DBSCAN algorithm has clustered the pick-up points, except outliers, in New York city on Fridays"
   ]
  },
  {
   "cell_type": "code",
   "execution_count": 134,
   "metadata": {},
   "outputs": [
    {
     "data": {
      "text/html": [
       "<iframe\n",
       "    scrolling=\"no\"\n",
       "    width=\"100%\"\n",
       "    height=\"545px\"\n",
       "    src=\"iframe_figures/figure_134.html\"\n",
       "    frameborder=\"0\"\n",
       "    allowfullscreen\n",
       "></iframe>\n"
      ]
     },
     "metadata": {},
     "output_type": "display_data"
    }
   ],
   "source": [
    "fig_friday_cluster = px.scatter_mapbox(\n",
    "        friday[friday.cluster != -1], \n",
    "        lat=\"Lat\", \n",
    "        lon=\"Lon\",\n",
    "        color=\"cluster\",\n",
    "        mapbox_style=\"carto-positron\"\n",
    ")\n",
    "\n",
    "fig_friday_cluster.show()"
   ]
  },
  {
   "cell_type": "markdown",
   "metadata": {},
   "source": [
    "### Picking Saturday to observe how the clustering algorithm behaves"
   ]
  },
  {
   "cell_type": "code",
   "execution_count": 135,
   "metadata": {},
   "outputs": [
    {
     "data": {
      "text/plain": [
       "(13563, 8)"
      ]
     },
     "execution_count": 135,
     "metadata": {},
     "output_type": "execute_result"
    }
   ],
   "source": [
    "saturday.shape"
   ]
  },
  {
   "cell_type": "code",
   "execution_count": 136,
   "metadata": {},
   "outputs": [
    {
     "data": {
      "text/html": [
       "<iframe\n",
       "    scrolling=\"no\"\n",
       "    width=\"100%\"\n",
       "    height=\"545px\"\n",
       "    src=\"iframe_figures/figure_136.html\"\n",
       "    frameborder=\"0\"\n",
       "    allowfullscreen\n",
       "></iframe>\n"
      ]
     },
     "metadata": {},
     "output_type": "display_data"
    }
   ],
   "source": [
    "fig_saturday = px.scatter_mapbox(\n",
    "        saturday, \n",
    "        lat=\"Lat\", \n",
    "        lon=\"Lon\",\n",
    "        mapbox_style=\"carto-positron\"\n",
    ")\n",
    "\n",
    "fig_saturday.show()"
   ]
  },
  {
   "cell_type": "markdown",
   "metadata": {},
   "source": [
    "##### Dropping unnecessary columns of the dataset"
   ]
  },
  {
   "cell_type": "code",
   "execution_count": 137,
   "metadata": {},
   "outputs": [],
   "source": [
    "saturday = saturday.drop(columns=[\"Year\", \"Month\", \"Day\"])"
   ]
  },
  {
   "cell_type": "code",
   "execution_count": 138,
   "metadata": {},
   "outputs": [
    {
     "data": {
      "text/html": [
       "<div>\n",
       "<style scoped>\n",
       "    .dataframe tbody tr th:only-of-type {\n",
       "        vertical-align: middle;\n",
       "    }\n",
       "\n",
       "    .dataframe tbody tr th {\n",
       "        vertical-align: top;\n",
       "    }\n",
       "\n",
       "    .dataframe thead th {\n",
       "        text-align: right;\n",
       "    }\n",
       "</style>\n",
       "<table border=\"1\" class=\"dataframe\">\n",
       "  <thead>\n",
       "    <tr style=\"text-align: right;\">\n",
       "      <th></th>\n",
       "      <th>Lat</th>\n",
       "      <th>Lon</th>\n",
       "      <th>Hour</th>\n",
       "      <th>Minutes</th>\n",
       "      <th>DayOfWeek</th>\n",
       "    </tr>\n",
       "  </thead>\n",
       "  <tbody>\n",
       "    <tr>\n",
       "      <th>59958</th>\n",
       "      <td>40.7145</td>\n",
       "      <td>-73.9845</td>\n",
       "      <td>19</td>\n",
       "      <td>40</td>\n",
       "      <td>Saturday</td>\n",
       "    </tr>\n",
       "    <tr>\n",
       "      <th>420950</th>\n",
       "      <td>40.7211</td>\n",
       "      <td>-73.9942</td>\n",
       "      <td>21</td>\n",
       "      <td>12</td>\n",
       "      <td>Saturday</td>\n",
       "    </tr>\n",
       "    <tr>\n",
       "      <th>58678</th>\n",
       "      <td>40.7629</td>\n",
       "      <td>-73.9716</td>\n",
       "      <td>16</td>\n",
       "      <td>36</td>\n",
       "      <td>Saturday</td>\n",
       "    </tr>\n",
       "    <tr>\n",
       "      <th>518449</th>\n",
       "      <td>40.7769</td>\n",
       "      <td>-73.9866</td>\n",
       "      <td>18</td>\n",
       "      <td>51</td>\n",
       "      <td>Saturday</td>\n",
       "    </tr>\n",
       "    <tr>\n",
       "      <th>21731</th>\n",
       "      <td>40.6448</td>\n",
       "      <td>-73.7823</td>\n",
       "      <td>13</td>\n",
       "      <td>57</td>\n",
       "      <td>Saturday</td>\n",
       "    </tr>\n",
       "  </tbody>\n",
       "</table>\n",
       "</div>"
      ],
      "text/plain": [
       "            Lat      Lon  Hour  Minutes DayOfWeek\n",
       "59958   40.7145 -73.9845    19       40  Saturday\n",
       "420950  40.7211 -73.9942    21       12  Saturday\n",
       "58678   40.7629 -73.9716    16       36  Saturday\n",
       "518449  40.7769 -73.9866    18       51  Saturday\n",
       "21731   40.6448 -73.7823    13       57  Saturday"
      ]
     },
     "execution_count": 138,
     "metadata": {},
     "output_type": "execute_result"
    }
   ],
   "source": [
    "saturday.head()"
   ]
  },
  {
   "cell_type": "markdown",
   "metadata": {},
   "source": [
    "##### Scaling numerical data and one-hot encoding categorical data"
   ]
  },
  {
   "cell_type": "code",
   "execution_count": 139,
   "metadata": {},
   "outputs": [
    {
     "name": "stdout",
     "output_type": "stream",
     "text": [
      "Preprocessing on dataset...\n",
      "            Lat      Lon  Hour  Minutes DayOfWeek\n",
      "59958   40.7145 -73.9845    19       40  Saturday\n",
      "420950  40.7211 -73.9942    21       12  Saturday\n",
      "58678   40.7629 -73.9716    16       36  Saturday\n",
      "518449  40.7769 -73.9866    18       51  Saturday\n",
      "21731   40.6448 -73.7823    13       57  Saturday\n",
      "...Completed.\n",
      "[[-0.59918153 -0.12862546  0.60009097  0.6012842 ]\n",
      " [-0.42182377 -0.34536715  0.90665169 -1.03050528]\n",
      " [ 0.70144203  0.15961864  0.14024989  0.36817142]\n",
      " [ 1.07765546 -0.17554892  0.44681061  1.24234435]\n",
      " [-2.47218696  4.38943323 -0.31959119  1.59201353]]\n",
      "\n"
     ]
    }
   ],
   "source": [
    "numeric_features = [0, 1, 2, 3] # Positions of numerical variables\n",
    "numeric_transformer = StandardScaler()\n",
    "\n",
    "# Creation of the transformer for categorical values\n",
    "categorical_features = [4] # Positions of categorical variables\n",
    "categorical_transformer = OneHotEncoder(drop='first')\n",
    "\n",
    "# Combining the transformers in ColumnTransformer\n",
    "preprocessor = ColumnTransformer(\n",
    "    transformers=[\n",
    "        ('num', numeric_transformer, numeric_features),\n",
    "        ('cat', categorical_transformer, categorical_features)\n",
    "    ])\n",
    "\n",
    "print(\"Preprocessing on dataset...\")\n",
    "print(saturday.head())\n",
    "scaled_X_saturday = preprocessor.fit_transform(saturday)\n",
    "print('...Completed.')\n",
    "print(scaled_X_saturday[0:5, :])\n",
    "print()"
   ]
  },
  {
   "cell_type": "markdown",
   "metadata": {},
   "source": [
    "#####  Use DBSCAN and a for loop to create a variety of models testing different epsilon values"
   ]
  },
  {
   "cell_type": "code",
   "execution_count": 140,
   "metadata": {},
   "outputs": [],
   "source": [
    "from sklearn.cluster import DBSCAN\n",
    "\n",
    "outlier_percent = []\n",
    "\n",
    "for eps in np.linspace(0.1, 2, 10):\n",
    "    \n",
    "    # Create Model\n",
    "    dbscan = DBSCAN(eps=eps,min_samples=2*scaled_X_saturday.shape[1], metric=\"manhattan\", algorithm=\"brute\")\n",
    "    dbscan.fit(scaled_X_saturday)\n",
    "   \n",
    "     \n",
    "    # Log percentage of points that are outliers\n",
    "    perc_outliers = 100 * np.sum(dbscan.labels_ == -1) / len(dbscan.labels_)\n",
    "    \n",
    "    outlier_percent.append(perc_outliers)"
   ]
  },
  {
   "cell_type": "markdown",
   "metadata": {},
   "source": [
    "##### Creating a line plot of the percentage of outlier points versus the epsilon value choice"
   ]
  },
  {
   "cell_type": "code",
   "execution_count": 141,
   "metadata": {},
   "outputs": [
    {
     "data": {
      "text/plain": [
       "Text(0.5, 0, 'Epsilon value')"
      ]
     },
     "execution_count": 141,
     "metadata": {},
     "output_type": "execute_result"
    },
    {
     "data": {
      "image/png": "[encoded data removed]",
      "text/plain": [
       "<Figure size 432x288 with 1 Axes>"
      ]
     },
     "metadata": {
      "needs_background": "light"
     },
     "output_type": "display_data"
    }
   ],
   "source": [
    "import seaborn as sns\n",
    "import matplotlib.pyplot as plt\n",
    "sns.lineplot(x=np.linspace(0.1, 2, 10), y=outlier_percent)\n",
    "plt.ylabel(\"Percentage of points classified as outliers\")\n",
    "plt.xlabel(\"Epsilon value\")"
   ]
  },
  {
   "cell_type": "markdown",
   "metadata": {},
   "source": [
    "##### Retraining a DBSCAN model with epsilon value = 0.6, based on the plot created above, and min_samples = 8"
   ]
  },
  {
   "cell_type": "code",
   "execution_count": 142,
   "metadata": {},
   "outputs": [
    {
     "data": {
      "text/plain": [
       "DBSCAN(algorithm='brute', eps=0.6, metric='manhattan', min_samples=8)"
      ]
     },
     "execution_count": 142,
     "metadata": {},
     "output_type": "execute_result"
    }
   ],
   "source": [
    "eps = 0.6\n",
    "dbscan = DBSCAN(eps=eps, min_samples=min_samples, metric=\"manhattan\", algorithm=\"brute\")\n",
    "dbscan.fit(scaled_X_saturday)"
   ]
  },
  {
   "cell_type": "code",
   "execution_count": 143,
   "metadata": {},
   "outputs": [
    {
     "data": {
      "text/plain": [
       "(array([-1,  0,  1,  2,  3,  4,  5,  6,  7,  8,  9, 10, 11, 12, 13, 14, 15,\n",
       "        16, 17]),\n",
       " array([ 1692, 11628,    81,     7,    16,     8,     8,     8,    20,\n",
       "            8,    25,     6,     8,     8,     7,     5,     9,     7,\n",
       "           12]))"
      ]
     },
     "execution_count": 143,
     "metadata": {},
     "output_type": "execute_result"
    }
   ],
   "source": [
    "np.unique(dbscan.labels_, return_counts=True)"
   ]
  },
  {
   "cell_type": "code",
   "execution_count": 144,
   "metadata": {},
   "outputs": [
    {
     "data": {
      "text/html": [
       "<div>\n",
       "<style scoped>\n",
       "    .dataframe tbody tr th:only-of-type {\n",
       "        vertical-align: middle;\n",
       "    }\n",
       "\n",
       "    .dataframe tbody tr th {\n",
       "        vertical-align: top;\n",
       "    }\n",
       "\n",
       "    .dataframe thead th {\n",
       "        text-align: right;\n",
       "    }\n",
       "</style>\n",
       "<table border=\"1\" class=\"dataframe\">\n",
       "  <thead>\n",
       "    <tr style=\"text-align: right;\">\n",
       "      <th></th>\n",
       "      <th>Lat</th>\n",
       "      <th>Lon</th>\n",
       "      <th>Hour</th>\n",
       "      <th>Minutes</th>\n",
       "      <th>DayOfWeek</th>\n",
       "      <th>cluster</th>\n",
       "    </tr>\n",
       "  </thead>\n",
       "  <tbody>\n",
       "    <tr>\n",
       "      <th>59958</th>\n",
       "      <td>40.7145</td>\n",
       "      <td>-73.9845</td>\n",
       "      <td>19</td>\n",
       "      <td>40</td>\n",
       "      <td>Saturday</td>\n",
       "      <td>0</td>\n",
       "    </tr>\n",
       "    <tr>\n",
       "      <th>420950</th>\n",
       "      <td>40.7211</td>\n",
       "      <td>-73.9942</td>\n",
       "      <td>21</td>\n",
       "      <td>12</td>\n",
       "      <td>Saturday</td>\n",
       "      <td>0</td>\n",
       "    </tr>\n",
       "    <tr>\n",
       "      <th>58678</th>\n",
       "      <td>40.7629</td>\n",
       "      <td>-73.9716</td>\n",
       "      <td>16</td>\n",
       "      <td>36</td>\n",
       "      <td>Saturday</td>\n",
       "      <td>0</td>\n",
       "    </tr>\n",
       "    <tr>\n",
       "      <th>518449</th>\n",
       "      <td>40.7769</td>\n",
       "      <td>-73.9866</td>\n",
       "      <td>18</td>\n",
       "      <td>51</td>\n",
       "      <td>Saturday</td>\n",
       "      <td>0</td>\n",
       "    </tr>\n",
       "    <tr>\n",
       "      <th>21731</th>\n",
       "      <td>40.6448</td>\n",
       "      <td>-73.7823</td>\n",
       "      <td>13</td>\n",
       "      <td>57</td>\n",
       "      <td>Saturday</td>\n",
       "      <td>1</td>\n",
       "    </tr>\n",
       "  </tbody>\n",
       "</table>\n",
       "</div>"
      ],
      "text/plain": [
       "            Lat      Lon  Hour  Minutes DayOfWeek  cluster\n",
       "59958   40.7145 -73.9845    19       40  Saturday        0\n",
       "420950  40.7211 -73.9942    21       12  Saturday        0\n",
       "58678   40.7629 -73.9716    16       36  Saturday        0\n",
       "518449  40.7769 -73.9866    18       51  Saturday        0\n",
       "21731   40.6448 -73.7823    13       57  Saturday        1"
      ]
     },
     "execution_count": 144,
     "metadata": {},
     "output_type": "execute_result"
    }
   ],
   "source": [
    "saturday[\"cluster\"] = dbscan.labels_\n",
    "saturday.head()"
   ]
  },
  {
   "cell_type": "markdown",
   "metadata": {},
   "source": [
    "##### A scatterplot to see how the DBSCAN algorithm has clustered the pick-up points, except outliers, in New York city on Saturdays"
   ]
  },
  {
   "cell_type": "code",
   "execution_count": 145,
   "metadata": {},
   "outputs": [
    {
     "data": {
      "text/html": [
       "<iframe\n",
       "    scrolling=\"no\"\n",
       "    width=\"100%\"\n",
       "    height=\"545px\"\n",
       "    src=\"iframe_figures/figure_145.html\"\n",
       "    frameborder=\"0\"\n",
       "    allowfullscreen\n",
       "></iframe>\n"
      ]
     },
     "metadata": {},
     "output_type": "display_data"
    }
   ],
   "source": [
    "fig_saturday_cluster = px.scatter_mapbox(\n",
    "        saturday[saturday.cluster != -1], \n",
    "        lat=\"Lat\", \n",
    "        lon=\"Lon\",\n",
    "        color=\"cluster\",\n",
    "        mapbox_style=\"carto-positron\"\n",
    ")\n",
    "\n",
    "fig_saturday_cluster.show()"
   ]
  },
  {
   "cell_type": "markdown",
   "metadata": {},
   "source": [
    "## Hot zones per day of week in New York City with DBSCAN"
   ]
  },
  {
   "cell_type": "markdown",
   "metadata": {},
   "source": [
    "## Showing clusters per hour for Sunday"
   ]
  },
  {
   "cell_type": "code",
   "execution_count": 146,
   "metadata": {},
   "outputs": [],
   "source": [
    "sunday_sort = sunday.sort_values(by=[\"Hour\"])"
   ]
  },
  {
   "cell_type": "code",
   "execution_count": 147,
   "metadata": {},
   "outputs": [
    {
     "data": {
      "text/html": [
       "<iframe\n",
       "    scrolling=\"no\"\n",
       "    width=\"620px\"\n",
       "    height=\"620\"\n",
       "    src=\"iframe_figures/figure_147.html\"\n",
       "    frameborder=\"0\"\n",
       "    allowfullscreen\n",
       "></iframe>\n"
      ]
     },
     "metadata": {},
     "output_type": "display_data"
    }
   ],
   "source": [
    "fig_sunday_cluster = px.scatter_mapbox(\n",
    "    sunday_sort[sunday_sort.cluster != -1],\n",
    "    lat=\"Lat\",\n",
    "    lon=\"Lon\",\n",
    "    color=\"cluster\",\n",
    "    mapbox_style=\"carto-positron\",\n",
    "    color_continuous_scale=None,\n",
    "    zoom=10,\n",
    "    animation_frame=\"Hour\",\n",
    ")\n",
    "\n",
    "\n",
    "fig_sunday_cluster.update_layout(\n",
    "    autosize=False,\n",
    "    width=600,\n",
    "    height=600,\n",
    "    showlegend=False,\n",
    "    title= \"Traffic by hour on Sunday\"\n",
    "      )\n",
    "img_name = \"Traffic by hour on Sunday\"\n",
    "fig_sunday_cluster.write_html(img_name)\n",
    "fig_sunday_cluster.show()"
   ]
  },
  {
   "cell_type": "markdown",
   "metadata": {},
   "source": [
    "### Showing clusters per hour for Monday"
   ]
  },
  {
   "cell_type": "code",
   "execution_count": 148,
   "metadata": {},
   "outputs": [
    {
     "data": {
      "text/html": [
       "<iframe\n",
       "    scrolling=\"no\"\n",
       "    width=\"620px\"\n",
       "    height=\"620\"\n",
       "    src=\"iframe_figures/figure_148.html\"\n",
       "    frameborder=\"0\"\n",
       "    allowfullscreen\n",
       "></iframe>\n"
      ]
     },
     "metadata": {},
     "output_type": "display_data"
    }
   ],
   "source": [
    "monday_sort = monday.sort_values(by=[\"Hour\"])\n",
    "fig_monday_cluster = px.scatter_mapbox(\n",
    "    monday_sort[monday_sort.cluster != -1],\n",
    "    lat=\"Lat\",\n",
    "    lon=\"Lon\",\n",
    "    color=\"cluster\",\n",
    "    mapbox_style=\"carto-positron\",\n",
    "    color_continuous_scale=None,\n",
    "    zoom=10,\n",
    "    animation_frame=\"Hour\",\n",
    ")\n",
    "\n",
    "\n",
    "fig_monday_cluster.update_layout(\n",
    "    autosize=False,\n",
    "    width=600,\n",
    "    height=600,\n",
    "    showlegend=False,\n",
    "    title= \"Traffic by hour on Monday\"\n",
    "      )\n",
    "img_name = \"Traffic by hour on Monday\"\n",
    "fig_monday_cluster.write_html(img_name)\n",
    "fig_monday_cluster.show()"
   ]
  },
  {
   "cell_type": "markdown",
   "metadata": {},
   "source": [
    "### Showing clusters per hour for Tuesday"
   ]
  },
  {
   "cell_type": "code",
   "execution_count": 149,
   "metadata": {},
   "outputs": [
    {
     "data": {
      "text/html": [
       "<iframe\n",
       "    scrolling=\"no\"\n",
       "    width=\"620px\"\n",
       "    height=\"620\"\n",
       "    src=\"iframe_figures/figure_149.html\"\n",
       "    frameborder=\"0\"\n",
       "    allowfullscreen\n",
       "></iframe>\n"
      ]
     },
     "metadata": {},
     "output_type": "display_data"
    }
   ],
   "source": [
    "tuesday_sort = tuesday.sort_values(by=[\"Hour\"])\n",
    "fig_tuesday_cluster = px.scatter_mapbox(\n",
    "    tuesday_sort[tuesday_sort.cluster != -1],\n",
    "    lat=\"Lat\",\n",
    "    lon=\"Lon\",\n",
    "    color=\"cluster\",\n",
    "    mapbox_style=\"carto-positron\",\n",
    "    color_continuous_scale=None,\n",
    "    zoom=10,\n",
    "    animation_frame=\"Hour\",\n",
    ")\n",
    "\n",
    "\n",
    "fig_tuesday_cluster.update_layout(\n",
    "    autosize=False,\n",
    "    width=600,\n",
    "    height=600,\n",
    "    showlegend=False,\n",
    "    title= \"Traffic by hour on Tuesday\"\n",
    "      )\n",
    "img_name = \"Traffic by hour on Tuesday\"\n",
    "fig_tuesday_cluster.write_html(img_name)\n",
    "fig_tuesday_cluster.show()"
   ]
  },
  {
   "cell_type": "markdown",
   "metadata": {},
   "source": [
    "### Showing clusters per hour for Wednesday"
   ]
  },
  {
   "cell_type": "code",
   "execution_count": 150,
   "metadata": {},
   "outputs": [
    {
     "data": {
      "text/html": [
       "<iframe\n",
       "    scrolling=\"no\"\n",
       "    width=\"620px\"\n",
       "    height=\"620\"\n",
       "    src=\"iframe_figures/figure_150.html\"\n",
       "    frameborder=\"0\"\n",
       "    allowfullscreen\n",
       "></iframe>\n"
      ]
     },
     "metadata": {},
     "output_type": "display_data"
    }
   ],
   "source": [
    "wednesday_sort = wednesday.sort_values(by=[\"Hour\"])\n",
    "fig_wednesday_cluster = px.scatter_mapbox(\n",
    "    wednesday_sort[wednesday_sort.cluster != -1],\n",
    "    lat=\"Lat\",\n",
    "    lon=\"Lon\",\n",
    "    color=\"cluster\",\n",
    "    mapbox_style=\"carto-positron\",\n",
    "    color_continuous_scale=None,\n",
    "    zoom=10,\n",
    "    animation_frame=\"Hour\",\n",
    ")\n",
    "\n",
    "\n",
    "fig_wednesday_cluster.update_layout(\n",
    "    autosize=False,\n",
    "    width=600,\n",
    "    height=600,\n",
    "    showlegend=False,\n",
    "    title= \"Traffic by hour on Wednesday\"\n",
    "      )\n",
    "img_name = \"Traffic by hour on Wednesday\"\n",
    "fig_wednesday_cluster.write_html(img_name)\n",
    "fig_wednesday_cluster.show()"
   ]
  },
  {
   "cell_type": "markdown",
   "metadata": {},
   "source": [
    "### Showing clusters per hour for Thursday"
   ]
  },
  {
   "cell_type": "code",
   "execution_count": 151,
   "metadata": {},
   "outputs": [
    {
     "data": {
      "text/html": [
       "<iframe\n",
       "    scrolling=\"no\"\n",
       "    width=\"620px\"\n",
       "    height=\"620\"\n",
       "    src=\"iframe_figures/figure_151.html\"\n",
       "    frameborder=\"0\"\n",
       "    allowfullscreen\n",
       "></iframe>\n"
      ]
     },
     "metadata": {},
     "output_type": "display_data"
    }
   ],
   "source": [
    "thursday_sort = thursday.sort_values(by=[\"Hour\"])\n",
    "fig_thursday_cluster = px.scatter_mapbox(\n",
    "    thursday_sort[thursday_sort.cluster != -1],\n",
    "    lat=\"Lat\",\n",
    "    lon=\"Lon\",\n",
    "    color=\"cluster\",\n",
    "    mapbox_style=\"carto-positron\",\n",
    "    color_continuous_scale=None,\n",
    "    zoom=10,\n",
    "    animation_frame=\"Hour\",\n",
    ")\n",
    "\n",
    "\n",
    "fig_thursday_cluster.update_layout(\n",
    "    autosize=False,\n",
    "    width=600,\n",
    "    height=600,\n",
    "    showlegend=False,\n",
    "    title= \"Traffic by hour on Thursday\"\n",
    "      )\n",
    "img_name = \"Traffic by hour on Thursday\"\n",
    "fig_thursday_cluster.write_html(img_name)\n",
    "fig_thursday_cluster.show()"
   ]
  },
  {
   "cell_type": "markdown",
   "metadata": {},
   "source": [
    "### Showing clusters per hour for Friday"
   ]
  },
  {
   "cell_type": "code",
   "execution_count": 152,
   "metadata": {},
   "outputs": [
    {
     "data": {
      "text/html": [
       "<iframe\n",
       "    scrolling=\"no\"\n",
       "    width=\"620px\"\n",
       "    height=\"620\"\n",
       "    src=\"iframe_figures/figure_152.html\"\n",
       "    frameborder=\"0\"\n",
       "    allowfullscreen\n",
       "></iframe>\n"
      ]
     },
     "metadata": {},
     "output_type": "display_data"
    }
   ],
   "source": [
    "friday_sort = friday.sort_values(by=[\"Hour\"])\n",
    "fig_friday_cluster = px.scatter_mapbox(\n",
    "    friday_sort[friday_sort.cluster != -1],\n",
    "    lat=\"Lat\",\n",
    "    lon=\"Lon\",\n",
    "    color=\"cluster\",\n",
    "    mapbox_style=\"carto-positron\",\n",
    "    color_continuous_scale=None,\n",
    "    zoom=10,\n",
    "    animation_frame=\"Hour\",\n",
    ")\n",
    "\n",
    "\n",
    "fig_friday_cluster.update_layout(\n",
    "    autosize=False,\n",
    "    width=600,\n",
    "    height=600,\n",
    "    showlegend=False,\n",
    "    title= \"Traffic by hour on Friday\"\n",
    "      )\n",
    "img_name = \"Traffic by hour on Friday\"\n",
    "fig_friday_cluster.write_html(img_name)\n",
    "fig_friday_cluster.show()"
   ]
  },
  {
   "cell_type": "markdown",
   "metadata": {},
   "source": [
    "### Showing clusters per hour for Saturday"
   ]
  },
  {
   "cell_type": "code",
   "execution_count": 153,
   "metadata": {},
   "outputs": [
    {
     "data": {
      "text/html": [
       "<iframe\n",
       "    scrolling=\"no\"\n",
       "    width=\"620px\"\n",
       "    height=\"620\"\n",
       "    src=\"iframe_figures/figure_153.html\"\n",
       "    frameborder=\"0\"\n",
       "    allowfullscreen\n",
       "></iframe>\n"
      ]
     },
     "metadata": {},
     "output_type": "display_data"
    }
   ],
   "source": [
    "saturday_sort = saturday.sort_values(by=[\"Hour\"])\n",
    "fig_saturday_cluster = px.scatter_mapbox(\n",
    "    saturday_sort[saturday_sort.cluster != -1],\n",
    "    lat=\"Lat\",\n",
    "    lon=\"Lon\",\n",
    "    color=\"cluster\",\n",
    "    mapbox_style=\"carto-positron\",\n",
    "    color_continuous_scale=None,\n",
    "    zoom=10,\n",
    "    animation_frame=\"Hour\",\n",
    ")\n",
    "\n",
    "\n",
    "fig_saturday_cluster.update_layout(\n",
    "    autosize=False,\n",
    "    width=600,\n",
    "    height=600,\n",
    "    showlegend=False,\n",
    "    title= \"Traffic by hour on Saturday\"\n",
    "      )\n",
    "img_name = \"Traffic by hour on Saturday\"\n",
    "fig_saturday_cluster.write_html(img_name)\n",
    "fig_saturday_cluster.show()"
   ]
  },
  {
   "cell_type": "markdown",
   "metadata": {},
   "source": [
    "### Picking Sunday to observe how the K-means clustering algorithm behaves"
   ]
  },
  {
   "cell_type": "code",
   "execution_count": 154,
   "metadata": {},
   "outputs": [
    {
     "data": {
      "text/html": [
       "<div>\n",
       "<style scoped>\n",
       "    .dataframe tbody tr th:only-of-type {\n",
       "        vertical-align: middle;\n",
       "    }\n",
       "\n",
       "    .dataframe tbody tr th {\n",
       "        vertical-align: top;\n",
       "    }\n",
       "\n",
       "    .dataframe thead th {\n",
       "        text-align: right;\n",
       "    }\n",
       "</style>\n",
       "<table border=\"1\" class=\"dataframe\">\n",
       "  <thead>\n",
       "    <tr style=\"text-align: right;\">\n",
       "      <th></th>\n",
       "      <th>Lat</th>\n",
       "      <th>Lon</th>\n",
       "      <th>Hour</th>\n",
       "      <th>Minutes</th>\n",
       "      <th>DayOfWeek</th>\n",
       "      <th>cluster</th>\n",
       "    </tr>\n",
       "  </thead>\n",
       "  <tbody>\n",
       "    <tr>\n",
       "      <th>15367</th>\n",
       "      <td>40.7630</td>\n",
       "      <td>-73.9715</td>\n",
       "      <td>11</td>\n",
       "      <td>56</td>\n",
       "      <td>Sunday</td>\n",
       "      <td>0</td>\n",
       "    </tr>\n",
       "    <tr>\n",
       "      <th>375728</th>\n",
       "      <td>40.7183</td>\n",
       "      <td>-74.0070</td>\n",
       "      <td>22</td>\n",
       "      <td>15</td>\n",
       "      <td>Sunday</td>\n",
       "      <td>0</td>\n",
       "    </tr>\n",
       "    <tr>\n",
       "      <th>189865</th>\n",
       "      <td>40.7199</td>\n",
       "      <td>-74.0003</td>\n",
       "      <td>18</td>\n",
       "      <td>22</td>\n",
       "      <td>Sunday</td>\n",
       "      <td>0</td>\n",
       "    </tr>\n",
       "    <tr>\n",
       "      <th>522402</th>\n",
       "      <td>40.7196</td>\n",
       "      <td>-73.9980</td>\n",
       "      <td>1</td>\n",
       "      <td>14</td>\n",
       "      <td>Sunday</td>\n",
       "      <td>0</td>\n",
       "    </tr>\n",
       "    <tr>\n",
       "      <th>372604</th>\n",
       "      <td>40.7076</td>\n",
       "      <td>-74.0030</td>\n",
       "      <td>11</td>\n",
       "      <td>20</td>\n",
       "      <td>Sunday</td>\n",
       "      <td>0</td>\n",
       "    </tr>\n",
       "  </tbody>\n",
       "</table>\n",
       "</div>"
      ],
      "text/plain": [
       "            Lat      Lon  Hour  Minutes DayOfWeek  cluster\n",
       "15367   40.7630 -73.9715    11       56    Sunday        0\n",
       "375728  40.7183 -74.0070    22       15    Sunday        0\n",
       "189865  40.7199 -74.0003    18       22    Sunday        0\n",
       "522402  40.7196 -73.9980     1       14    Sunday        0\n",
       "372604  40.7076 -74.0030    11       20    Sunday        0"
      ]
     },
     "execution_count": 154,
     "metadata": {},
     "output_type": "execute_result"
    }
   ],
   "source": [
    "sunday.head()"
   ]
  },
  {
   "cell_type": "code",
   "execution_count": 155,
   "metadata": {},
   "outputs": [],
   "source": [
    "sunday = sunday.drop(\"DayOfWeek\", axis = 1)\n",
    "sunday = sunday.drop(\"cluster\",  axis = 1)"
   ]
  },
  {
   "cell_type": "markdown",
   "metadata": {},
   "source": [
    "##### Scaling numerical data and one-hot encoding categorical data"
   ]
  },
  {
   "cell_type": "code",
   "execution_count": 156,
   "metadata": {},
   "outputs": [
    {
     "data": {
      "text/plain": [
       "array([[ 0.67794454, -0.01855794, -0.14193475,  1.56507666],\n",
       "       [-0.3480714 , -0.56800173,  1.43975876, -0.79483578],\n",
       "       [-0.31134599, -0.46430389,  0.86459748, -0.3919239 ],\n",
       "       [-0.31823201, -0.42870612, -1.57983795, -0.85239462],\n",
       "       [-0.59367253, -0.50609257, -0.14193475, -0.50704158]])"
      ]
     },
     "execution_count": 156,
     "metadata": {},
     "output_type": "execute_result"
    }
   ],
   "source": [
    "# Import Standard Scaler\n",
    "from sklearn.preprocessing import StandardScaler\n",
    "\n",
    "# Initialize StandardScaler\n",
    "# StandardScaler will substract mean and divide by standard deviation to each observation\n",
    "sc = StandardScaler()\n",
    "\n",
    "# Apply StandardScaler to X\n",
    "X = sc.fit_transform(sunday)\n",
    "\n",
    "# Visualize first five rows \n",
    "# Standard scaler transform X as numpy array. Therefore you can't use .head()\n",
    "X[:5]"
   ]
  },
  {
   "cell_type": "markdown",
   "metadata": {},
   "source": [
    "##### Determining how many clusters we should have using the Elbow method"
   ]
  },
  {
   "cell_type": "code",
   "execution_count": 157,
   "metadata": {},
   "outputs": [
    {
     "name": "stdout",
     "output_type": "stream",
     "text": [
      "WCSS for K=1 --> 35956.00000000013\n",
      "WCSS for K=2 --> 29067.185984802603\n",
      "WCSS for K=3 --> 23946.920230913238\n",
      "WCSS for K=4 --> 19237.742654593774\n",
      "WCSS for K=5 --> 17260.693751052426\n",
      "WCSS for K=6 --> 15565.182441921506\n",
      "WCSS for K=7 --> 13815.078393153308\n",
      "WCSS for K=8 --> 12622.59163808608\n",
      "WCSS for K=9 --> 11501.9834723667\n",
      "WCSS for K=10 --> 10788.52101680992\n"
     ]
    }
   ],
   "source": [
    "from sklearn.cluster import KMeans\n",
    "# Creating a loop that will collect the Within-sum-of-square (wcss) for each value of K \n",
    "# Use .inertia_ parameter to get the within sum of square value for each value of K \n",
    "wcss =  []\n",
    "k = []\n",
    "for i in range (1,11): \n",
    "    kmeans = KMeans(n_clusters= i, random_state = 0)\n",
    "    kmeans.fit(X)\n",
    "    wcss.append(kmeans.inertia_)\n",
    "    k.append(i)\n",
    "    print(\"WCSS for K={} --> {}\".format(i, wcss[-1]))"
   ]
  },
  {
   "cell_type": "markdown",
   "metadata": {},
   "source": [
    "##### Visualizing inertia as a function of K using plotly"
   ]
  },
  {
   "cell_type": "code",
   "execution_count": 158,
   "metadata": {},
   "outputs": [
    {
     "data": {
      "text/html": [
       "<iframe\n",
       "    scrolling=\"no\"\n",
       "    width=\"100%\"\n",
       "    height=\"545px\"\n",
       "    src=\"iframe_figures/figure_158.html\"\n",
       "    frameborder=\"0\"\n",
       "    allowfullscreen\n",
       "></iframe>\n"
      ]
     },
     "metadata": {},
     "output_type": "display_data"
    }
   ],
   "source": [
    "import plotly.express as px\n",
    "\n",
    "# Create DataFrame\n",
    "wcss_frame = pd.DataFrame(wcss)\n",
    "k_frame = pd.Series(k)\n",
    "\n",
    "# Create figure\n",
    "fig= px.line(\n",
    "    wcss_frame,\n",
    "    x=k_frame,\n",
    "    y=wcss_frame.iloc[:,-1]\n",
    ")\n",
    "\n",
    "# Create title and axis labels\n",
    "fig.update_layout(\n",
    "    yaxis_title=\"Inertia\",\n",
    "    xaxis_title=\"# Clusters\",\n",
    "    title=\"Inertia per cluster\"\n",
    ")\n",
    "\n",
    "# Render\n",
    "#fig.show(renderer=\"notebook\")\n",
    "fig.show(renderer=\"iframe\")"
   ]
  },
  {
   "cell_type": "markdown",
   "metadata": {},
   "source": [
    "##### It can be seen above that after K=4, inertia is not decreasing a lot."
   ]
  },
  {
   "cell_type": "markdown",
   "metadata": {},
   "source": [
    "##### Double-checking with the Silhouette method"
   ]
  },
  {
   "cell_type": "code",
   "execution_count": 159,
   "metadata": {},
   "outputs": [
    {
     "name": "stdout",
     "output_type": "stream",
     "text": [
      "Silhouette score for K=2 is 0.23264712086265713\n",
      "Silhouette score for K=3 is 0.2751484789518204\n",
      "Silhouette score for K=4 is 0.29199660188904253\n",
      "Silhouette score for K=5 is 0.27615916339880625\n",
      "Silhouette score for K=6 is 0.27642667893701917\n",
      "Silhouette score for K=7 is 0.2730793022436179\n",
      "Silhouette score for K=8 is 0.28412448790400574\n",
      "Silhouette score for K=9 is 0.2927388296041298\n",
      "Silhouette score for K=10 is 0.2706210541073749\n"
     ]
    }
   ],
   "source": [
    "# Import silhouette score\n",
    "from sklearn.metrics import silhouette_score\n",
    "\n",
    "# Computer mean silhouette score\n",
    "sil = []\n",
    "k = []\n",
    "\n",
    "## Careful, you need to start at i=2 as silhouette score cannot accept less than 2 labels \n",
    "for i in range (2,11): \n",
    "    kmeans = KMeans(n_clusters= i, init = \"k-means++\", random_state = 0)\n",
    "    kmeans.fit(X)\n",
    "    sil.append(silhouette_score(X, kmeans.predict(X)))\n",
    "    k.append(i)\n",
    "    print(\"Silhouette score for K={} is {}\".format(i, sil[-1]))"
   ]
  },
  {
   "cell_type": "markdown",
   "metadata": {},
   "source": [
    "##### Visualizing inertia as a function of K using plotly"
   ]
  },
  {
   "cell_type": "code",
   "execution_count": 160,
   "metadata": {},
   "outputs": [
    {
     "data": {
      "text/html": [
       "<iframe\n",
       "    scrolling=\"no\"\n",
       "    width=\"100%\"\n",
       "    height=\"545px\"\n",
       "    src=\"iframe_figures/figure_160.html\"\n",
       "    frameborder=\"0\"\n",
       "    allowfullscreen\n",
       "></iframe>\n"
      ]
     },
     "metadata": {},
     "output_type": "display_data"
    }
   ],
   "source": [
    "# Create a data frame \n",
    "cluster_scores=pd.DataFrame(sil)\n",
    "k_frame = pd.Series(k)\n",
    "\n",
    "# Create figure\n",
    "fig = px.bar(data_frame=cluster_scores,  \n",
    "             x=k, \n",
    "             y=cluster_scores.iloc[:, -1]\n",
    "            )\n",
    "\n",
    "# Add title and axis labels\n",
    "fig.update_layout(\n",
    "    yaxis_title=\"Silhouette Score\",\n",
    "    xaxis_title=\"# Clusters\",\n",
    "    title=\"Silhouette Score per cluster\"\n",
    ")\n",
    "\n",
    "# Render\n",
    "#fig.show(renderer=\"notebook\")\n",
    "fig.show(renderer=\"iframe\") # if using workspace"
   ]
  },
  {
   "cell_type": "markdown",
   "metadata": {},
   "source": [
    "##### The Silhouette method also suggests that K=4 is appropriate"
   ]
  },
  {
   "cell_type": "code",
   "execution_count": 161,
   "metadata": {},
   "outputs": [
    {
     "data": {
      "text/plain": [
       "KMeans(n_clusters=4, random_state=0)"
      ]
     },
     "execution_count": 161,
     "metadata": {},
     "output_type": "execute_result"
    }
   ],
   "source": [
    "# Import K-Means \n",
    "from sklearn.cluster import KMeans\n",
    "\n",
    "# Instanciate KMeans with k=4 and initialisation with k-means++\n",
    "# You should always use k-means++ as it alleviate the problem of local minimum convergence \n",
    "kmeans = KMeans(n_clusters=4, init = \"k-means++\", random_state=0)\n",
    "\n",
    "# Fit kmeans to our dataset\n",
    "kmeans.fit(X)"
   ]
  },
  {
   "cell_type": "code",
   "execution_count": 162,
   "metadata": {},
   "outputs": [
    {
     "data": {
      "text/html": [
       "<div>\n",
       "<style scoped>\n",
       "    .dataframe tbody tr th:only-of-type {\n",
       "        vertical-align: middle;\n",
       "    }\n",
       "\n",
       "    .dataframe tbody tr th {\n",
       "        vertical-align: top;\n",
       "    }\n",
       "\n",
       "    .dataframe thead th {\n",
       "        text-align: right;\n",
       "    }\n",
       "</style>\n",
       "<table border=\"1\" class=\"dataframe\">\n",
       "  <thead>\n",
       "    <tr style=\"text-align: right;\">\n",
       "      <th></th>\n",
       "      <th>Lat</th>\n",
       "      <th>Lon</th>\n",
       "      <th>Hour</th>\n",
       "      <th>Minutes</th>\n",
       "    </tr>\n",
       "  </thead>\n",
       "  <tbody>\n",
       "    <tr>\n",
       "      <th>15367</th>\n",
       "      <td>40.7630</td>\n",
       "      <td>-73.9715</td>\n",
       "      <td>11</td>\n",
       "      <td>56</td>\n",
       "    </tr>\n",
       "    <tr>\n",
       "      <th>375728</th>\n",
       "      <td>40.7183</td>\n",
       "      <td>-74.0070</td>\n",
       "      <td>22</td>\n",
       "      <td>15</td>\n",
       "    </tr>\n",
       "    <tr>\n",
       "      <th>189865</th>\n",
       "      <td>40.7199</td>\n",
       "      <td>-74.0003</td>\n",
       "      <td>18</td>\n",
       "      <td>22</td>\n",
       "    </tr>\n",
       "    <tr>\n",
       "      <th>522402</th>\n",
       "      <td>40.7196</td>\n",
       "      <td>-73.9980</td>\n",
       "      <td>1</td>\n",
       "      <td>14</td>\n",
       "    </tr>\n",
       "    <tr>\n",
       "      <th>372604</th>\n",
       "      <td>40.7076</td>\n",
       "      <td>-74.0030</td>\n",
       "      <td>11</td>\n",
       "      <td>20</td>\n",
       "    </tr>\n",
       "  </tbody>\n",
       "</table>\n",
       "</div>"
      ],
      "text/plain": [
       "            Lat      Lon  Hour  Minutes\n",
       "15367   40.7630 -73.9715    11       56\n",
       "375728  40.7183 -74.0070    22       15\n",
       "189865  40.7199 -74.0003    18       22\n",
       "522402  40.7196 -73.9980     1       14\n",
       "372604  40.7076 -74.0030    11       20"
      ]
     },
     "execution_count": 162,
     "metadata": {},
     "output_type": "execute_result"
    }
   ],
   "source": [
    "sunday.head()"
   ]
  },
  {
   "cell_type": "code",
   "execution_count": 163,
   "metadata": {},
   "outputs": [],
   "source": [
    "sunday.loc[:,\"Kmeans_Clusters\"] = kmeans.predict(X)"
   ]
  },
  {
   "cell_type": "code",
   "execution_count": 164,
   "metadata": {},
   "outputs": [
    {
     "data": {
      "text/html": [
       "<div>\n",
       "<style scoped>\n",
       "    .dataframe tbody tr th:only-of-type {\n",
       "        vertical-align: middle;\n",
       "    }\n",
       "\n",
       "    .dataframe tbody tr th {\n",
       "        vertical-align: top;\n",
       "    }\n",
       "\n",
       "    .dataframe thead th {\n",
       "        text-align: right;\n",
       "    }\n",
       "</style>\n",
       "<table border=\"1\" class=\"dataframe\">\n",
       "  <thead>\n",
       "    <tr style=\"text-align: right;\">\n",
       "      <th></th>\n",
       "      <th>Lat</th>\n",
       "      <th>Lon</th>\n",
       "      <th>Hour</th>\n",
       "      <th>Minutes</th>\n",
       "      <th>Kmeans_Clusters</th>\n",
       "    </tr>\n",
       "  </thead>\n",
       "  <tbody>\n",
       "    <tr>\n",
       "      <th>15367</th>\n",
       "      <td>40.7630</td>\n",
       "      <td>-73.9715</td>\n",
       "      <td>11</td>\n",
       "      <td>56</td>\n",
       "      <td>2</td>\n",
       "    </tr>\n",
       "    <tr>\n",
       "      <th>375728</th>\n",
       "      <td>40.7183</td>\n",
       "      <td>-74.0070</td>\n",
       "      <td>22</td>\n",
       "      <td>15</td>\n",
       "      <td>1</td>\n",
       "    </tr>\n",
       "    <tr>\n",
       "      <th>189865</th>\n",
       "      <td>40.7199</td>\n",
       "      <td>-74.0003</td>\n",
       "      <td>18</td>\n",
       "      <td>22</td>\n",
       "      <td>1</td>\n",
       "    </tr>\n",
       "    <tr>\n",
       "      <th>522402</th>\n",
       "      <td>40.7196</td>\n",
       "      <td>-73.9980</td>\n",
       "      <td>1</td>\n",
       "      <td>14</td>\n",
       "      <td>3</td>\n",
       "    </tr>\n",
       "    <tr>\n",
       "      <th>372604</th>\n",
       "      <td>40.7076</td>\n",
       "      <td>-74.0030</td>\n",
       "      <td>11</td>\n",
       "      <td>20</td>\n",
       "      <td>1</td>\n",
       "    </tr>\n",
       "  </tbody>\n",
       "</table>\n",
       "</div>"
      ],
      "text/plain": [
       "            Lat      Lon  Hour  Minutes  Kmeans_Clusters\n",
       "15367   40.7630 -73.9715    11       56                2\n",
       "375728  40.7183 -74.0070    22       15                1\n",
       "189865  40.7199 -74.0003    18       22                1\n",
       "522402  40.7196 -73.9980     1       14                3\n",
       "372604  40.7076 -74.0030    11       20                1"
      ]
     },
     "execution_count": 164,
     "metadata": {},
     "output_type": "execute_result"
    }
   ],
   "source": [
    "sunday.head()"
   ]
  },
  {
   "cell_type": "markdown",
   "metadata": {},
   "source": [
    "##### A scatterplot to see how the Kmeans algorithm has clustered the pick-up points in New York city on Sundays"
   ]
  },
  {
   "cell_type": "code",
   "execution_count": 165,
   "metadata": {},
   "outputs": [
    {
     "data": {
      "text/html": [
       "<iframe\n",
       "    scrolling=\"no\"\n",
       "    width=\"100%\"\n",
       "    height=\"545px\"\n",
       "    src=\"iframe_figures/figure_165.html\"\n",
       "    frameborder=\"0\"\n",
       "    allowfullscreen\n",
       "></iframe>\n"
      ]
     },
     "metadata": {},
     "output_type": "display_data"
    }
   ],
   "source": [
    "fig = px.scatter_mapbox(sunday,\n",
    "                        lat=\"Lat\",\n",
    "                        lon=\"Lon\",\n",
    "                        color=\"Kmeans_Clusters\",hover_name=\"Kmeans_Clusters\",\n",
    "                        mapbox_style=\"carto-positron\", zoom = 10)\n",
    "fig.show()"
   ]
  },
  {
   "cell_type": "markdown",
   "metadata": {},
   "source": [
    "### Picking Monday to observe how the K-means clustering algorithm behaves"
   ]
  },
  {
   "cell_type": "code",
   "execution_count": 166,
   "metadata": {},
   "outputs": [
    {
     "data": {
      "text/html": [
       "<div>\n",
       "<style scoped>\n",
       "    .dataframe tbody tr th:only-of-type {\n",
       "        vertical-align: middle;\n",
       "    }\n",
       "\n",
       "    .dataframe tbody tr th {\n",
       "        vertical-align: top;\n",
       "    }\n",
       "\n",
       "    .dataframe thead th {\n",
       "        text-align: right;\n",
       "    }\n",
       "</style>\n",
       "<table border=\"1\" class=\"dataframe\">\n",
       "  <thead>\n",
       "    <tr style=\"text-align: right;\">\n",
       "      <th></th>\n",
       "      <th>Lat</th>\n",
       "      <th>Lon</th>\n",
       "      <th>Hour</th>\n",
       "      <th>Minutes</th>\n",
       "      <th>DayOfWeek</th>\n",
       "      <th>cluster</th>\n",
       "    </tr>\n",
       "  </thead>\n",
       "  <tbody>\n",
       "    <tr>\n",
       "      <th>66945</th>\n",
       "      <td>40.7224</td>\n",
       "      <td>-73.9887</td>\n",
       "      <td>9</td>\n",
       "      <td>29</td>\n",
       "      <td>Monday</td>\n",
       "      <td>0</td>\n",
       "    </tr>\n",
       "    <tr>\n",
       "      <th>268379</th>\n",
       "      <td>40.6843</td>\n",
       "      <td>-73.8211</td>\n",
       "      <td>19</td>\n",
       "      <td>37</td>\n",
       "      <td>Monday</td>\n",
       "      <td>-1</td>\n",
       "    </tr>\n",
       "    <tr>\n",
       "      <th>383369</th>\n",
       "      <td>40.7648</td>\n",
       "      <td>-73.9761</td>\n",
       "      <td>20</td>\n",
       "      <td>35</td>\n",
       "      <td>Monday</td>\n",
       "      <td>0</td>\n",
       "    </tr>\n",
       "    <tr>\n",
       "      <th>430220</th>\n",
       "      <td>40.6736</td>\n",
       "      <td>-73.9774</td>\n",
       "      <td>14</td>\n",
       "      <td>43</td>\n",
       "      <td>Monday</td>\n",
       "      <td>-1</td>\n",
       "    </tr>\n",
       "    <tr>\n",
       "      <th>195292</th>\n",
       "      <td>40.7286</td>\n",
       "      <td>-73.9941</td>\n",
       "      <td>18</td>\n",
       "      <td>23</td>\n",
       "      <td>Monday</td>\n",
       "      <td>0</td>\n",
       "    </tr>\n",
       "  </tbody>\n",
       "</table>\n",
       "</div>"
      ],
      "text/plain": [
       "            Lat      Lon  Hour  Minutes DayOfWeek  cluster\n",
       "66945   40.7224 -73.9887     9       29    Monday        0\n",
       "268379  40.6843 -73.8211    19       37    Monday       -1\n",
       "383369  40.7648 -73.9761    20       35    Monday        0\n",
       "430220  40.6736 -73.9774    14       43    Monday       -1\n",
       "195292  40.7286 -73.9941    18       23    Monday        0"
      ]
     },
     "execution_count": 166,
     "metadata": {},
     "output_type": "execute_result"
    }
   ],
   "source": [
    "monday.head()"
   ]
  },
  {
   "cell_type": "code",
   "execution_count": 167,
   "metadata": {},
   "outputs": [],
   "source": [
    "monday = monday.drop(\"DayOfWeek\", axis = 1)\n",
    "monday = monday.drop(\"cluster\",  axis = 1)"
   ]
  },
  {
   "cell_type": "code",
   "execution_count": 168,
   "metadata": {},
   "outputs": [
    {
     "data": {
      "text/html": [
       "<div>\n",
       "<style scoped>\n",
       "    .dataframe tbody tr th:only-of-type {\n",
       "        vertical-align: middle;\n",
       "    }\n",
       "\n",
       "    .dataframe tbody tr th {\n",
       "        vertical-align: top;\n",
       "    }\n",
       "\n",
       "    .dataframe thead th {\n",
       "        text-align: right;\n",
       "    }\n",
       "</style>\n",
       "<table border=\"1\" class=\"dataframe\">\n",
       "  <thead>\n",
       "    <tr style=\"text-align: right;\">\n",
       "      <th></th>\n",
       "      <th>Lat</th>\n",
       "      <th>Lon</th>\n",
       "      <th>Hour</th>\n",
       "      <th>Minutes</th>\n",
       "    </tr>\n",
       "  </thead>\n",
       "  <tbody>\n",
       "    <tr>\n",
       "      <th>66945</th>\n",
       "      <td>40.7224</td>\n",
       "      <td>-73.9887</td>\n",
       "      <td>9</td>\n",
       "      <td>29</td>\n",
       "    </tr>\n",
       "    <tr>\n",
       "      <th>268379</th>\n",
       "      <td>40.6843</td>\n",
       "      <td>-73.8211</td>\n",
       "      <td>19</td>\n",
       "      <td>37</td>\n",
       "    </tr>\n",
       "    <tr>\n",
       "      <th>383369</th>\n",
       "      <td>40.7648</td>\n",
       "      <td>-73.9761</td>\n",
       "      <td>20</td>\n",
       "      <td>35</td>\n",
       "    </tr>\n",
       "    <tr>\n",
       "      <th>430220</th>\n",
       "      <td>40.6736</td>\n",
       "      <td>-73.9774</td>\n",
       "      <td>14</td>\n",
       "      <td>43</td>\n",
       "    </tr>\n",
       "    <tr>\n",
       "      <th>195292</th>\n",
       "      <td>40.7286</td>\n",
       "      <td>-73.9941</td>\n",
       "      <td>18</td>\n",
       "      <td>23</td>\n",
       "    </tr>\n",
       "  </tbody>\n",
       "</table>\n",
       "</div>"
      ],
      "text/plain": [
       "            Lat      Lon  Hour  Minutes\n",
       "66945   40.7224 -73.9887     9       29\n",
       "268379  40.6843 -73.8211    19       37\n",
       "383369  40.7648 -73.9761    20       35\n",
       "430220  40.6736 -73.9774    14       43\n",
       "195292  40.7286 -73.9941    18       23"
      ]
     },
     "execution_count": 168,
     "metadata": {},
     "output_type": "execute_result"
    }
   ],
   "source": [
    "monday.head()"
   ]
  },
  {
   "cell_type": "markdown",
   "metadata": {},
   "source": [
    "##### Scaling numerical data and one-hot encoding categorical data"
   ]
  },
  {
   "cell_type": "code",
   "execution_count": 169,
   "metadata": {},
   "outputs": [
    {
     "data": {
      "text/plain": [
       "array([[-0.46897436, -0.27068791, -0.89700539, -0.01688367],\n",
       "       [-1.45353508,  2.68993553,  0.92754174,  0.44737678],\n",
       "       [ 0.62670476, -0.04811121,  1.10999645,  0.33131167],\n",
       "       [-1.73003901, -0.07107547,  0.01526818,  0.79557212],\n",
       "       [-0.30875713, -0.36607793,  0.74508703, -0.36507901]])"
      ]
     },
     "execution_count": 169,
     "metadata": {},
     "output_type": "execute_result"
    }
   ],
   "source": [
    "# Import Standard Scaler\n",
    "from sklearn.preprocessing import StandardScaler\n",
    "\n",
    "# Initialize StandardScaler\n",
    "# StandardScaler will substract mean and divide by standard deviation to each observation\n",
    "sc = StandardScaler()\n",
    "\n",
    "# Apply StandardScaler to X\n",
    "X = sc.fit_transform(monday)\n",
    "\n",
    "# Visualize first five rows \n",
    "# Standard scaler transform X as numpy array. Therefore you can't use .head()\n",
    "X[:5]"
   ]
  },
  {
   "cell_type": "markdown",
   "metadata": {},
   "source": [
    "##### Determining how many clusters we should have using the Elbow method"
   ]
  },
  {
   "cell_type": "code",
   "execution_count": 170,
   "metadata": {},
   "outputs": [
    {
     "name": "stdout",
     "output_type": "stream",
     "text": [
      "WCSS for K=1 --> 43020.000000000095\n",
      "WCSS for K=2 --> 34732.61245955672\n",
      "WCSS for K=3 --> 28410.992958525305\n",
      "WCSS for K=4 --> 23066.642155409292\n",
      "WCSS for K=5 --> 20384.101253519406\n",
      "WCSS for K=6 --> 18073.03030461943\n",
      "WCSS for K=7 --> 16740.84801715085\n",
      "WCSS for K=8 --> 15195.929996059105\n",
      "WCSS for K=9 --> 13961.903395891519\n",
      "WCSS for K=10 --> 13082.91919540376\n"
     ]
    }
   ],
   "source": [
    "from sklearn.cluster import KMeans\n",
    "# Creating a loop that will collect the Within-sum-of-square (wcss) for each value of K \n",
    "# Use .inertia_ parameter to get the within sum of square value for each value of K \n",
    "wcss =  []\n",
    "k = []\n",
    "for i in range (1,11): \n",
    "    kmeans = KMeans(n_clusters= i, random_state = 0)\n",
    "    kmeans.fit(X)\n",
    "    wcss.append(kmeans.inertia_)\n",
    "    k.append(i)\n",
    "    print(\"WCSS for K={} --> {}\".format(i, wcss[-1]))"
   ]
  },
  {
   "cell_type": "markdown",
   "metadata": {},
   "source": [
    "##### Visualizing inertia as a function of K using plotly"
   ]
  },
  {
   "cell_type": "code",
   "execution_count": 171,
   "metadata": {},
   "outputs": [
    {
     "data": {
      "text/html": [
       "<iframe\n",
       "    scrolling=\"no\"\n",
       "    width=\"100%\"\n",
       "    height=\"545px\"\n",
       "    src=\"iframe_figures/figure_171.html\"\n",
       "    frameborder=\"0\"\n",
       "    allowfullscreen\n",
       "></iframe>\n"
      ]
     },
     "metadata": {},
     "output_type": "display_data"
    }
   ],
   "source": [
    "import plotly.express as px\n",
    "\n",
    "# Create DataFrame\n",
    "wcss_frame = pd.DataFrame(wcss)\n",
    "k_frame = pd.Series(k)\n",
    "\n",
    "# Create figure\n",
    "fig= px.line(\n",
    "    wcss_frame,\n",
    "    x=k_frame,\n",
    "    y=wcss_frame.iloc[:,-1]\n",
    ")\n",
    "\n",
    "# Create title and axis labels\n",
    "fig.update_layout(\n",
    "    yaxis_title=\"Inertia\",\n",
    "    xaxis_title=\"# Clusters\",\n",
    "    title=\"Inertia per cluster\"\n",
    ")\n",
    "\n",
    "# Render\n",
    "#fig.show(renderer=\"notebook\")\n",
    "fig.show(renderer=\"iframe\")"
   ]
  },
  {
   "cell_type": "markdown",
   "metadata": {},
   "source": [
    "##### It can be seen above that after K=5, inertia is not decreasing a lot."
   ]
  },
  {
   "cell_type": "markdown",
   "metadata": {},
   "source": [
    "##### Double-checking with the Silhouette method"
   ]
  },
  {
   "cell_type": "code",
   "execution_count": 172,
   "metadata": {},
   "outputs": [
    {
     "name": "stdout",
     "output_type": "stream",
     "text": [
      "Silhouette score for K=2 is 0.2558004439465293\n",
      "Silhouette score for K=3 is 0.2769945035515342\n",
      "Silhouette score for K=4 is 0.27808003746439586\n",
      "Silhouette score for K=5 is 0.2890643473247574\n",
      "Silhouette score for K=6 is 0.2828707105840708\n",
      "Silhouette score for K=7 is 0.285759416047126\n",
      "Silhouette score for K=8 is 0.2686645270707951\n",
      "Silhouette score for K=9 is 0.29931753684039725\n",
      "Silhouette score for K=10 is 0.26830779678823213\n"
     ]
    }
   ],
   "source": [
    "# Import silhouette score\n",
    "from sklearn.metrics import silhouette_score\n",
    "\n",
    "# Computer mean silhouette score\n",
    "sil = []\n",
    "k = []\n",
    "\n",
    "## Careful, you need to start at i=2 as silhouette score cannot accept less than 2 labels \n",
    "for i in range (2,11): \n",
    "    kmeans = KMeans(n_clusters= i, init = \"k-means++\", random_state = 0)\n",
    "    kmeans.fit(X)\n",
    "    sil.append(silhouette_score(X, kmeans.predict(X)))\n",
    "    k.append(i)\n",
    "    print(\"Silhouette score for K={} is {}\".format(i, sil[-1]))"
   ]
  },
  {
   "cell_type": "markdown",
   "metadata": {},
   "source": [
    "##### Visualizing inertia as a function of K using plotly"
   ]
  },
  {
   "cell_type": "code",
   "execution_count": 173,
   "metadata": {},
   "outputs": [
    {
     "data": {
      "text/html": [
       "<iframe\n",
       "    scrolling=\"no\"\n",
       "    width=\"100%\"\n",
       "    height=\"545px\"\n",
       "    src=\"iframe_figures/figure_173.html\"\n",
       "    frameborder=\"0\"\n",
       "    allowfullscreen\n",
       "></iframe>\n"
      ]
     },
     "metadata": {},
     "output_type": "display_data"
    }
   ],
   "source": [
    "# Create a data frame \n",
    "cluster_scores=pd.DataFrame(sil)\n",
    "k_frame = pd.Series(k)\n",
    "\n",
    "# Create figure\n",
    "fig = px.bar(data_frame=cluster_scores,  \n",
    "             x=k, \n",
    "             y=cluster_scores.iloc[:, -1]\n",
    "            )\n",
    "\n",
    "# Add title and axis labels\n",
    "fig.update_layout(\n",
    "    yaxis_title=\"Silhouette Score\",\n",
    "    xaxis_title=\"# Clusters\",\n",
    "    title=\"Silhouette Score per cluster\"\n",
    ")\n",
    "\n",
    "# Render\n",
    "#fig.show(renderer=\"notebook\")\n",
    "fig.show(renderer=\"iframe\") # if using workspace"
   ]
  },
  {
   "cell_type": "markdown",
   "metadata": {},
   "source": [
    "##### The Silhouette method is suggesting that K=5 is appropriate"
   ]
  },
  {
   "cell_type": "code",
   "execution_count": 174,
   "metadata": {},
   "outputs": [
    {
     "data": {
      "text/plain": [
       "KMeans(n_clusters=5, random_state=0)"
      ]
     },
     "execution_count": 174,
     "metadata": {},
     "output_type": "execute_result"
    }
   ],
   "source": [
    "# Import K-Means \n",
    "from sklearn.cluster import KMeans\n",
    "\n",
    "# Instanciate KMeans with k=5 and initialisation with k-means++\n",
    "# You should always use k-means++ as it alleviate the problem of local minimum convergence \n",
    "kmeans = KMeans(n_clusters=5, init = \"k-means++\", random_state=0)\n",
    "\n",
    "# Fit kmeans to our dataset\n",
    "kmeans.fit(X)"
   ]
  },
  {
   "cell_type": "code",
   "execution_count": 175,
   "metadata": {},
   "outputs": [
    {
     "data": {
      "text/html": [
       "<div>\n",
       "<style scoped>\n",
       "    .dataframe tbody tr th:only-of-type {\n",
       "        vertical-align: middle;\n",
       "    }\n",
       "\n",
       "    .dataframe tbody tr th {\n",
       "        vertical-align: top;\n",
       "    }\n",
       "\n",
       "    .dataframe thead th {\n",
       "        text-align: right;\n",
       "    }\n",
       "</style>\n",
       "<table border=\"1\" class=\"dataframe\">\n",
       "  <thead>\n",
       "    <tr style=\"text-align: right;\">\n",
       "      <th></th>\n",
       "      <th>Lat</th>\n",
       "      <th>Lon</th>\n",
       "      <th>Hour</th>\n",
       "      <th>Minutes</th>\n",
       "    </tr>\n",
       "  </thead>\n",
       "  <tbody>\n",
       "    <tr>\n",
       "      <th>66945</th>\n",
       "      <td>40.7224</td>\n",
       "      <td>-73.9887</td>\n",
       "      <td>9</td>\n",
       "      <td>29</td>\n",
       "    </tr>\n",
       "    <tr>\n",
       "      <th>268379</th>\n",
       "      <td>40.6843</td>\n",
       "      <td>-73.8211</td>\n",
       "      <td>19</td>\n",
       "      <td>37</td>\n",
       "    </tr>\n",
       "    <tr>\n",
       "      <th>383369</th>\n",
       "      <td>40.7648</td>\n",
       "      <td>-73.9761</td>\n",
       "      <td>20</td>\n",
       "      <td>35</td>\n",
       "    </tr>\n",
       "    <tr>\n",
       "      <th>430220</th>\n",
       "      <td>40.6736</td>\n",
       "      <td>-73.9774</td>\n",
       "      <td>14</td>\n",
       "      <td>43</td>\n",
       "    </tr>\n",
       "    <tr>\n",
       "      <th>195292</th>\n",
       "      <td>40.7286</td>\n",
       "      <td>-73.9941</td>\n",
       "      <td>18</td>\n",
       "      <td>23</td>\n",
       "    </tr>\n",
       "  </tbody>\n",
       "</table>\n",
       "</div>"
      ],
      "text/plain": [
       "            Lat      Lon  Hour  Minutes\n",
       "66945   40.7224 -73.9887     9       29\n",
       "268379  40.6843 -73.8211    19       37\n",
       "383369  40.7648 -73.9761    20       35\n",
       "430220  40.6736 -73.9774    14       43\n",
       "195292  40.7286 -73.9941    18       23"
      ]
     },
     "execution_count": 175,
     "metadata": {},
     "output_type": "execute_result"
    }
   ],
   "source": [
    "monday.head()"
   ]
  },
  {
   "cell_type": "code",
   "execution_count": 176,
   "metadata": {},
   "outputs": [],
   "source": [
    "monday.loc[:,\"Kmeans_Clusters\"] = kmeans.predict(X)"
   ]
  },
  {
   "cell_type": "code",
   "execution_count": 177,
   "metadata": {},
   "outputs": [
    {
     "data": {
      "text/html": [
       "<div>\n",
       "<style scoped>\n",
       "    .dataframe tbody tr th:only-of-type {\n",
       "        vertical-align: middle;\n",
       "    }\n",
       "\n",
       "    .dataframe tbody tr th {\n",
       "        vertical-align: top;\n",
       "    }\n",
       "\n",
       "    .dataframe thead th {\n",
       "        text-align: right;\n",
       "    }\n",
       "</style>\n",
       "<table border=\"1\" class=\"dataframe\">\n",
       "  <thead>\n",
       "    <tr style=\"text-align: right;\">\n",
       "      <th></th>\n",
       "      <th>Lat</th>\n",
       "      <th>Lon</th>\n",
       "      <th>Hour</th>\n",
       "      <th>Minutes</th>\n",
       "      <th>Kmeans_Clusters</th>\n",
       "    </tr>\n",
       "  </thead>\n",
       "  <tbody>\n",
       "    <tr>\n",
       "      <th>66945</th>\n",
       "      <td>40.7224</td>\n",
       "      <td>-73.9887</td>\n",
       "      <td>9</td>\n",
       "      <td>29</td>\n",
       "      <td>2</td>\n",
       "    </tr>\n",
       "    <tr>\n",
       "      <th>268379</th>\n",
       "      <td>40.6843</td>\n",
       "      <td>-73.8211</td>\n",
       "      <td>19</td>\n",
       "      <td>37</td>\n",
       "      <td>3</td>\n",
       "    </tr>\n",
       "    <tr>\n",
       "      <th>383369</th>\n",
       "      <td>40.7648</td>\n",
       "      <td>-73.9761</td>\n",
       "      <td>20</td>\n",
       "      <td>35</td>\n",
       "      <td>1</td>\n",
       "    </tr>\n",
       "    <tr>\n",
       "      <th>430220</th>\n",
       "      <td>40.6736</td>\n",
       "      <td>-73.9774</td>\n",
       "      <td>14</td>\n",
       "      <td>43</td>\n",
       "      <td>1</td>\n",
       "    </tr>\n",
       "    <tr>\n",
       "      <th>195292</th>\n",
       "      <td>40.7286</td>\n",
       "      <td>-73.9941</td>\n",
       "      <td>18</td>\n",
       "      <td>23</td>\n",
       "      <td>0</td>\n",
       "    </tr>\n",
       "  </tbody>\n",
       "</table>\n",
       "</div>"
      ],
      "text/plain": [
       "            Lat      Lon  Hour  Minutes  Kmeans_Clusters\n",
       "66945   40.7224 -73.9887     9       29                2\n",
       "268379  40.6843 -73.8211    19       37                3\n",
       "383369  40.7648 -73.9761    20       35                1\n",
       "430220  40.6736 -73.9774    14       43                1\n",
       "195292  40.7286 -73.9941    18       23                0"
      ]
     },
     "execution_count": 177,
     "metadata": {},
     "output_type": "execute_result"
    }
   ],
   "source": [
    "monday.head()"
   ]
  },
  {
   "cell_type": "markdown",
   "metadata": {},
   "source": [
    "##### A scatterplot to see how the Kmeans algorithm has clustered the pick-up points in New York city on Mondays"
   ]
  },
  {
   "cell_type": "code",
   "execution_count": 178,
   "metadata": {},
   "outputs": [
    {
     "data": {
      "text/html": [
       "<iframe\n",
       "    scrolling=\"no\"\n",
       "    width=\"100%\"\n",
       "    height=\"545px\"\n",
       "    src=\"iframe_figures/figure_178.html\"\n",
       "    frameborder=\"0\"\n",
       "    allowfullscreen\n",
       "></iframe>\n"
      ]
     },
     "metadata": {},
     "output_type": "display_data"
    }
   ],
   "source": [
    "fig = px.scatter_mapbox(monday,\n",
    "                        lat=\"Lat\",\n",
    "                        lon=\"Lon\",\n",
    "                        color=\"Kmeans_Clusters\",hover_name=\"Kmeans_Clusters\",\n",
    "                        mapbox_style=\"carto-positron\", zoom = 10)\n",
    "fig.show()"
   ]
  },
  {
   "cell_type": "markdown",
   "metadata": {},
   "source": [
    "### Picking Tuesday to observe how the K-means clustering algorithm behaves"
   ]
  },
  {
   "cell_type": "code",
   "execution_count": 179,
   "metadata": {},
   "outputs": [
    {
     "data": {
      "text/html": [
       "<div>\n",
       "<style scoped>\n",
       "    .dataframe tbody tr th:only-of-type {\n",
       "        vertical-align: middle;\n",
       "    }\n",
       "\n",
       "    .dataframe tbody tr th {\n",
       "        vertical-align: top;\n",
       "    }\n",
       "\n",
       "    .dataframe thead th {\n",
       "        text-align: right;\n",
       "    }\n",
       "</style>\n",
       "<table border=\"1\" class=\"dataframe\">\n",
       "  <thead>\n",
       "    <tr style=\"text-align: right;\">\n",
       "      <th></th>\n",
       "      <th>Lat</th>\n",
       "      <th>Lon</th>\n",
       "      <th>Hour</th>\n",
       "      <th>Minutes</th>\n",
       "      <th>DayOfWeek</th>\n",
       "      <th>cluster</th>\n",
       "    </tr>\n",
       "  </thead>\n",
       "  <tbody>\n",
       "    <tr>\n",
       "      <th>112412</th>\n",
       "      <td>40.7385</td>\n",
       "      <td>-73.9882</td>\n",
       "      <td>21</td>\n",
       "      <td>56</td>\n",
       "      <td>Tuesday</td>\n",
       "      <td>0</td>\n",
       "    </tr>\n",
       "    <tr>\n",
       "      <th>72159</th>\n",
       "      <td>40.6772</td>\n",
       "      <td>-73.9823</td>\n",
       "      <td>8</td>\n",
       "      <td>36</td>\n",
       "      <td>Tuesday</td>\n",
       "      <td>-1</td>\n",
       "    </tr>\n",
       "    <tr>\n",
       "      <th>440386</th>\n",
       "      <td>40.6801</td>\n",
       "      <td>-73.9969</td>\n",
       "      <td>21</td>\n",
       "      <td>31</td>\n",
       "      <td>Tuesday</td>\n",
       "      <td>-1</td>\n",
       "    </tr>\n",
       "    <tr>\n",
       "      <th>146187</th>\n",
       "      <td>40.7108</td>\n",
       "      <td>-74.0062</td>\n",
       "      <td>8</td>\n",
       "      <td>44</td>\n",
       "      <td>Tuesday</td>\n",
       "      <td>0</td>\n",
       "    </tr>\n",
       "    <tr>\n",
       "      <th>24028</th>\n",
       "      <td>40.7455</td>\n",
       "      <td>-73.9752</td>\n",
       "      <td>14</td>\n",
       "      <td>24</td>\n",
       "      <td>Tuesday</td>\n",
       "      <td>0</td>\n",
       "    </tr>\n",
       "  </tbody>\n",
       "</table>\n",
       "</div>"
      ],
      "text/plain": [
       "            Lat      Lon  Hour  Minutes DayOfWeek  cluster\n",
       "112412  40.7385 -73.9882    21       56   Tuesday        0\n",
       "72159   40.6772 -73.9823     8       36   Tuesday       -1\n",
       "440386  40.6801 -73.9969    21       31   Tuesday       -1\n",
       "146187  40.7108 -74.0062     8       44   Tuesday        0\n",
       "24028   40.7455 -73.9752    14       24   Tuesday        0"
      ]
     },
     "execution_count": 179,
     "metadata": {},
     "output_type": "execute_result"
    }
   ],
   "source": [
    "tuesday.head()"
   ]
  },
  {
   "cell_type": "code",
   "execution_count": 180,
   "metadata": {},
   "outputs": [],
   "source": [
    "tuesday = tuesday.drop(\"DayOfWeek\", axis = 1)\n",
    "tuesday = tuesday.drop(\"cluster\",  axis = 1)"
   ]
  },
  {
   "cell_type": "code",
   "execution_count": 181,
   "metadata": {},
   "outputs": [
    {
     "data": {
      "text/html": [
       "<div>\n",
       "<style scoped>\n",
       "    .dataframe tbody tr th:only-of-type {\n",
       "        vertical-align: middle;\n",
       "    }\n",
       "\n",
       "    .dataframe tbody tr th {\n",
       "        vertical-align: top;\n",
       "    }\n",
       "\n",
       "    .dataframe thead th {\n",
       "        text-align: right;\n",
       "    }\n",
       "</style>\n",
       "<table border=\"1\" class=\"dataframe\">\n",
       "  <thead>\n",
       "    <tr style=\"text-align: right;\">\n",
       "      <th></th>\n",
       "      <th>Lat</th>\n",
       "      <th>Lon</th>\n",
       "      <th>Hour</th>\n",
       "      <th>Minutes</th>\n",
       "    </tr>\n",
       "  </thead>\n",
       "  <tbody>\n",
       "    <tr>\n",
       "      <th>112412</th>\n",
       "      <td>40.7385</td>\n",
       "      <td>-73.9882</td>\n",
       "      <td>21</td>\n",
       "      <td>56</td>\n",
       "    </tr>\n",
       "    <tr>\n",
       "      <th>72159</th>\n",
       "      <td>40.6772</td>\n",
       "      <td>-73.9823</td>\n",
       "      <td>8</td>\n",
       "      <td>36</td>\n",
       "    </tr>\n",
       "    <tr>\n",
       "      <th>440386</th>\n",
       "      <td>40.6801</td>\n",
       "      <td>-73.9969</td>\n",
       "      <td>21</td>\n",
       "      <td>31</td>\n",
       "    </tr>\n",
       "    <tr>\n",
       "      <th>146187</th>\n",
       "      <td>40.7108</td>\n",
       "      <td>-74.0062</td>\n",
       "      <td>8</td>\n",
       "      <td>44</td>\n",
       "    </tr>\n",
       "    <tr>\n",
       "      <th>24028</th>\n",
       "      <td>40.7455</td>\n",
       "      <td>-73.9752</td>\n",
       "      <td>14</td>\n",
       "      <td>24</td>\n",
       "    </tr>\n",
       "  </tbody>\n",
       "</table>\n",
       "</div>"
      ],
      "text/plain": [
       "            Lat      Lon  Hour  Minutes\n",
       "112412  40.7385 -73.9882    21       56\n",
       "72159   40.6772 -73.9823     8       36\n",
       "440386  40.6801 -73.9969    21       31\n",
       "146187  40.7108 -74.0062     8       44\n",
       "24028   40.7455 -73.9752    14       24"
      ]
     },
     "execution_count": 181,
     "metadata": {},
     "output_type": "execute_result"
    }
   ],
   "source": [
    "tuesday.head()"
   ]
  },
  {
   "cell_type": "markdown",
   "metadata": {},
   "source": [
    "##### Scaling numerical data and one-hot encoding categorical data"
   ]
  },
  {
   "cell_type": "code",
   "execution_count": 182,
   "metadata": {},
   "outputs": [
    {
     "data": {
      "text/plain": [
       "array([[-0.10692853, -0.21810336,  1.19635069,  1.53885944],\n",
       "       [-1.83998451, -0.0953761 , -1.19526051,  0.37982477],\n",
       "       [-1.75799654, -0.39907407,  1.19635069,  0.09006611],\n",
       "       [-0.89005497, -0.59252551, -1.19526051,  0.84343864],\n",
       "       [ 0.09097346,  0.05231264, -0.09143996, -0.31559603]])"
      ]
     },
     "execution_count": 182,
     "metadata": {},
     "output_type": "execute_result"
    }
   ],
   "source": [
    "# Import Standard Scaler\n",
    "from sklearn.preprocessing import StandardScaler\n",
    "\n",
    "# Initialize StandardScaler\n",
    "# StandardScaler will substract mean and divide by standard deviation to each observation\n",
    "sc = StandardScaler()\n",
    "\n",
    "# Apply StandardScaler to X\n",
    "X = sc.fit_transform(tuesday)\n",
    "\n",
    "# Visualize first five rows \n",
    "# Standard scaler transform X as numpy array. Therefore you can't use .head()\n",
    "X[:5]"
   ]
  },
  {
   "cell_type": "markdown",
   "metadata": {},
   "source": [
    "##### Determining how many clusters we should have using the Elbow method"
   ]
  },
  {
   "cell_type": "code",
   "execution_count": 183,
   "metadata": {},
   "outputs": [
    {
     "name": "stdout",
     "output_type": "stream",
     "text": [
      "WCSS for K=1 --> 65475.99999999986\n",
      "WCSS for K=2 --> 53102.62327466715\n",
      "WCSS for K=3 --> 44350.403089444\n",
      "WCSS for K=4 --> 35870.4389056162\n",
      "WCSS for K=5 --> 31548.850550499348\n",
      "WCSS for K=6 --> 28808.705676160636\n",
      "WCSS for K=7 --> 26181.68868475675\n",
      "WCSS for K=8 --> 23694.548484770938\n",
      "WCSS for K=9 --> 22221.958738993773\n",
      "WCSS for K=10 --> 20648.69631085349\n"
     ]
    }
   ],
   "source": [
    "from sklearn.cluster import KMeans\n",
    "# Creating a loop that will collect the Within-sum-of-square (wcss) for each value of K \n",
    "# Use .inertia_ parameter to get the within sum of square value for each value of K \n",
    "wcss =  []\n",
    "k = []\n",
    "for i in range (1,11): \n",
    "    kmeans = KMeans(n_clusters= i, random_state = 0)\n",
    "    kmeans.fit(X)\n",
    "    wcss.append(kmeans.inertia_)\n",
    "    k.append(i)\n",
    "    print(\"WCSS for K={} --> {}\".format(i, wcss[-1]))"
   ]
  },
  {
   "cell_type": "markdown",
   "metadata": {},
   "source": [
    "##### Visualizing inertia as a function of K using plotly"
   ]
  },
  {
   "cell_type": "code",
   "execution_count": 184,
   "metadata": {},
   "outputs": [
    {
     "data": {
      "text/html": [
       "<iframe\n",
       "    scrolling=\"no\"\n",
       "    width=\"100%\"\n",
       "    height=\"545px\"\n",
       "    src=\"iframe_figures/figure_184.html\"\n",
       "    frameborder=\"0\"\n",
       "    allowfullscreen\n",
       "></iframe>\n"
      ]
     },
     "metadata": {},
     "output_type": "display_data"
    }
   ],
   "source": [
    "import plotly.express as px\n",
    "\n",
    "# Create DataFrame\n",
    "wcss_frame = pd.DataFrame(wcss)\n",
    "k_frame = pd.Series(k)\n",
    "\n",
    "# Create figure\n",
    "fig= px.line(\n",
    "    wcss_frame,\n",
    "    x=k_frame,\n",
    "    y=wcss_frame.iloc[:,-1]\n",
    ")\n",
    "\n",
    "# Create title and axis labels\n",
    "fig.update_layout(\n",
    "    yaxis_title=\"Inertia\",\n",
    "    xaxis_title=\"# Clusters\",\n",
    "    title=\"Inertia per cluster\"\n",
    ")\n",
    "\n",
    "# Render\n",
    "#fig.show(renderer=\"notebook\")\n",
    "fig.show(renderer=\"iframe\")"
   ]
  },
  {
   "cell_type": "markdown",
   "metadata": {},
   "source": [
    "##### It can be seen above that after K=4, inertia is not decreasing a lot."
   ]
  },
  {
   "cell_type": "markdown",
   "metadata": {},
   "source": [
    "##### Double-checking with the Silhouette method"
   ]
  },
  {
   "cell_type": "code",
   "execution_count": 185,
   "metadata": {},
   "outputs": [
    {
     "name": "stdout",
     "output_type": "stream",
     "text": [
      "Silhouette score for K=2 is 0.257832792911505\n",
      "Silhouette score for K=3 is 0.2523118586212884\n",
      "Silhouette score for K=4 is 0.2723116475116672\n",
      "Silhouette score for K=5 is 0.276874185795927\n",
      "Silhouette score for K=6 is 0.2700164358422732\n",
      "Silhouette score for K=7 is 0.27484796378510795\n",
      "Silhouette score for K=8 is 0.2779900964353857\n",
      "Silhouette score for K=9 is 0.23654515826784178\n",
      "Silhouette score for K=10 is 0.26774819163982605\n"
     ]
    }
   ],
   "source": [
    "# Import silhouette score\n",
    "from sklearn.metrics import silhouette_score\n",
    "\n",
    "# Computer mean silhouette score\n",
    "sil = []\n",
    "k = []\n",
    "\n",
    "## Careful, you need to start at i=2 as silhouette score cannot accept less than 2 labels \n",
    "for i in range (2,11): \n",
    "    kmeans = KMeans(n_clusters= i, init = \"k-means++\", random_state = 0)\n",
    "    kmeans.fit(X)\n",
    "    sil.append(silhouette_score(X, kmeans.predict(X)))\n",
    "    k.append(i)\n",
    "    print(\"Silhouette score for K={} is {}\".format(i, sil[-1]))"
   ]
  },
  {
   "cell_type": "markdown",
   "metadata": {},
   "source": [
    "##### Visualizing inertia as a function of K using plotly"
   ]
  },
  {
   "cell_type": "code",
   "execution_count": 186,
   "metadata": {},
   "outputs": [
    {
     "data": {
      "text/html": [
       "<iframe\n",
       "    scrolling=\"no\"\n",
       "    width=\"100%\"\n",
       "    height=\"545px\"\n",
       "    src=\"iframe_figures/figure_186.html\"\n",
       "    frameborder=\"0\"\n",
       "    allowfullscreen\n",
       "></iframe>\n"
      ]
     },
     "metadata": {},
     "output_type": "display_data"
    }
   ],
   "source": [
    "# Create a data frame \n",
    "cluster_scores=pd.DataFrame(sil)\n",
    "k_frame = pd.Series(k)\n",
    "\n",
    "# Create figure\n",
    "fig = px.bar(data_frame=cluster_scores,  \n",
    "             x=k, \n",
    "             y=cluster_scores.iloc[:, -1]\n",
    "            )\n",
    "\n",
    "# Add title and axis labels\n",
    "fig.update_layout(\n",
    "    yaxis_title=\"Silhouette Score\",\n",
    "    xaxis_title=\"# Clusters\",\n",
    "    title=\"Silhouette Score per cluster\"\n",
    ")\n",
    "\n",
    "# Render\n",
    "#fig.show(renderer=\"notebook\")\n",
    "fig.show(renderer=\"iframe\") # if using workspace"
   ]
  },
  {
   "cell_type": "markdown",
   "metadata": {},
   "source": [
    "##### The Silhouette method is suggesting that K=5 is appropriate"
   ]
  },
  {
   "cell_type": "code",
   "execution_count": 187,
   "metadata": {},
   "outputs": [
    {
     "data": {
      "text/plain": [
       "KMeans(n_clusters=4, random_state=0)"
      ]
     },
     "execution_count": 187,
     "metadata": {},
     "output_type": "execute_result"
    }
   ],
   "source": [
    "# Import K-Means \n",
    "from sklearn.cluster import KMeans\n",
    "\n",
    "# Instanciate KMeans with k=4 and initialisation with k-means++\n",
    "# You should always use k-means++ as it alleviate the problem of local minimum convergence \n",
    "kmeans = KMeans(n_clusters=4, init = \"k-means++\", random_state=0)\n",
    "\n",
    "# Fit kmeans to our dataset\n",
    "kmeans.fit(X)"
   ]
  },
  {
   "cell_type": "code",
   "execution_count": 188,
   "metadata": {},
   "outputs": [
    {
     "data": {
      "text/html": [
       "<div>\n",
       "<style scoped>\n",
       "    .dataframe tbody tr th:only-of-type {\n",
       "        vertical-align: middle;\n",
       "    }\n",
       "\n",
       "    .dataframe tbody tr th {\n",
       "        vertical-align: top;\n",
       "    }\n",
       "\n",
       "    .dataframe thead th {\n",
       "        text-align: right;\n",
       "    }\n",
       "</style>\n",
       "<table border=\"1\" class=\"dataframe\">\n",
       "  <thead>\n",
       "    <tr style=\"text-align: right;\">\n",
       "      <th></th>\n",
       "      <th>Lat</th>\n",
       "      <th>Lon</th>\n",
       "      <th>Hour</th>\n",
       "      <th>Minutes</th>\n",
       "    </tr>\n",
       "  </thead>\n",
       "  <tbody>\n",
       "    <tr>\n",
       "      <th>112412</th>\n",
       "      <td>40.7385</td>\n",
       "      <td>-73.9882</td>\n",
       "      <td>21</td>\n",
       "      <td>56</td>\n",
       "    </tr>\n",
       "    <tr>\n",
       "      <th>72159</th>\n",
       "      <td>40.6772</td>\n",
       "      <td>-73.9823</td>\n",
       "      <td>8</td>\n",
       "      <td>36</td>\n",
       "    </tr>\n",
       "    <tr>\n",
       "      <th>440386</th>\n",
       "      <td>40.6801</td>\n",
       "      <td>-73.9969</td>\n",
       "      <td>21</td>\n",
       "      <td>31</td>\n",
       "    </tr>\n",
       "    <tr>\n",
       "      <th>146187</th>\n",
       "      <td>40.7108</td>\n",
       "      <td>-74.0062</td>\n",
       "      <td>8</td>\n",
       "      <td>44</td>\n",
       "    </tr>\n",
       "    <tr>\n",
       "      <th>24028</th>\n",
       "      <td>40.7455</td>\n",
       "      <td>-73.9752</td>\n",
       "      <td>14</td>\n",
       "      <td>24</td>\n",
       "    </tr>\n",
       "  </tbody>\n",
       "</table>\n",
       "</div>"
      ],
      "text/plain": [
       "            Lat      Lon  Hour  Minutes\n",
       "112412  40.7385 -73.9882    21       56\n",
       "72159   40.6772 -73.9823     8       36\n",
       "440386  40.6801 -73.9969    21       31\n",
       "146187  40.7108 -74.0062     8       44\n",
       "24028   40.7455 -73.9752    14       24"
      ]
     },
     "execution_count": 188,
     "metadata": {},
     "output_type": "execute_result"
    }
   ],
   "source": [
    "tuesday.head()"
   ]
  },
  {
   "cell_type": "code",
   "execution_count": 189,
   "metadata": {},
   "outputs": [],
   "source": [
    "tuesday.loc[:,\"Kmeans_Clusters\"] = kmeans.predict(X)"
   ]
  },
  {
   "cell_type": "code",
   "execution_count": 190,
   "metadata": {},
   "outputs": [
    {
     "data": {
      "text/html": [
       "<div>\n",
       "<style scoped>\n",
       "    .dataframe tbody tr th:only-of-type {\n",
       "        vertical-align: middle;\n",
       "    }\n",
       "\n",
       "    .dataframe tbody tr th {\n",
       "        vertical-align: top;\n",
       "    }\n",
       "\n",
       "    .dataframe thead th {\n",
       "        text-align: right;\n",
       "    }\n",
       "</style>\n",
       "<table border=\"1\" class=\"dataframe\">\n",
       "  <thead>\n",
       "    <tr style=\"text-align: right;\">\n",
       "      <th></th>\n",
       "      <th>Lat</th>\n",
       "      <th>Lon</th>\n",
       "      <th>Hour</th>\n",
       "      <th>Minutes</th>\n",
       "      <th>Kmeans_Clusters</th>\n",
       "    </tr>\n",
       "  </thead>\n",
       "  <tbody>\n",
       "    <tr>\n",
       "      <th>112412</th>\n",
       "      <td>40.7385</td>\n",
       "      <td>-73.9882</td>\n",
       "      <td>21</td>\n",
       "      <td>56</td>\n",
       "      <td>1</td>\n",
       "    </tr>\n",
       "    <tr>\n",
       "      <th>72159</th>\n",
       "      <td>40.6772</td>\n",
       "      <td>-73.9823</td>\n",
       "      <td>8</td>\n",
       "      <td>36</td>\n",
       "      <td>2</td>\n",
       "    </tr>\n",
       "    <tr>\n",
       "      <th>440386</th>\n",
       "      <td>40.6801</td>\n",
       "      <td>-73.9969</td>\n",
       "      <td>21</td>\n",
       "      <td>31</td>\n",
       "      <td>1</td>\n",
       "    </tr>\n",
       "    <tr>\n",
       "      <th>146187</th>\n",
       "      <td>40.7108</td>\n",
       "      <td>-74.0062</td>\n",
       "      <td>8</td>\n",
       "      <td>44</td>\n",
       "      <td>2</td>\n",
       "    </tr>\n",
       "    <tr>\n",
       "      <th>24028</th>\n",
       "      <td>40.7455</td>\n",
       "      <td>-73.9752</td>\n",
       "      <td>14</td>\n",
       "      <td>24</td>\n",
       "      <td>3</td>\n",
       "    </tr>\n",
       "  </tbody>\n",
       "</table>\n",
       "</div>"
      ],
      "text/plain": [
       "            Lat      Lon  Hour  Minutes  Kmeans_Clusters\n",
       "112412  40.7385 -73.9882    21       56                1\n",
       "72159   40.6772 -73.9823     8       36                2\n",
       "440386  40.6801 -73.9969    21       31                1\n",
       "146187  40.7108 -74.0062     8       44                2\n",
       "24028   40.7455 -73.9752    14       24                3"
      ]
     },
     "execution_count": 190,
     "metadata": {},
     "output_type": "execute_result"
    }
   ],
   "source": [
    "tuesday.head()"
   ]
  },
  {
   "cell_type": "markdown",
   "metadata": {},
   "source": [
    "##### A scatterplot to see how the Kmeans algorithm has clustered the pick-up points in New York city on Tuesdays"
   ]
  },
  {
   "cell_type": "code",
   "execution_count": 191,
   "metadata": {},
   "outputs": [
    {
     "data": {
      "text/html": [
       "<iframe\n",
       "    scrolling=\"no\"\n",
       "    width=\"100%\"\n",
       "    height=\"545px\"\n",
       "    src=\"iframe_figures/figure_191.html\"\n",
       "    frameborder=\"0\"\n",
       "    allowfullscreen\n",
       "></iframe>\n"
      ]
     },
     "metadata": {},
     "output_type": "display_data"
    }
   ],
   "source": [
    "fig = px.scatter_mapbox(tuesday,\n",
    "                        lat=\"Lat\",\n",
    "                        lon=\"Lon\",\n",
    "                        color=\"Kmeans_Clusters\",hover_name=\"Kmeans_Clusters\",\n",
    "                        mapbox_style=\"carto-positron\", zoom = 10)\n",
    "fig.show()"
   ]
  },
  {
   "cell_type": "markdown",
   "metadata": {},
   "source": [
    "### Picking Wednesday to observe how the K-means clustering algorithm behaves"
   ]
  },
  {
   "cell_type": "code",
   "execution_count": 192,
   "metadata": {},
   "outputs": [
    {
     "data": {
      "text/html": [
       "<div>\n",
       "<style scoped>\n",
       "    .dataframe tbody tr th:only-of-type {\n",
       "        vertical-align: middle;\n",
       "    }\n",
       "\n",
       "    .dataframe tbody tr th {\n",
       "        vertical-align: top;\n",
       "    }\n",
       "\n",
       "    .dataframe thead th {\n",
       "        text-align: right;\n",
       "    }\n",
       "</style>\n",
       "<table border=\"1\" class=\"dataframe\">\n",
       "  <thead>\n",
       "    <tr style=\"text-align: right;\">\n",
       "      <th></th>\n",
       "      <th>Lat</th>\n",
       "      <th>Lon</th>\n",
       "      <th>Hour</th>\n",
       "      <th>Minutes</th>\n",
       "      <th>DayOfWeek</th>\n",
       "      <th>cluster</th>\n",
       "    </tr>\n",
       "  </thead>\n",
       "  <tbody>\n",
       "    <tr>\n",
       "      <th>324948</th>\n",
       "      <td>40.7332</td>\n",
       "      <td>-73.9985</td>\n",
       "      <td>19</td>\n",
       "      <td>5</td>\n",
       "      <td>Wednesday</td>\n",
       "      <td>0</td>\n",
       "    </tr>\n",
       "    <tr>\n",
       "      <th>340411</th>\n",
       "      <td>40.7640</td>\n",
       "      <td>-73.9775</td>\n",
       "      <td>23</td>\n",
       "      <td>1</td>\n",
       "      <td>Wednesday</td>\n",
       "      <td>0</td>\n",
       "    </tr>\n",
       "    <tr>\n",
       "      <th>25706</th>\n",
       "      <td>40.7585</td>\n",
       "      <td>-73.9689</td>\n",
       "      <td>21</td>\n",
       "      <td>24</td>\n",
       "      <td>Wednesday</td>\n",
       "      <td>0</td>\n",
       "    </tr>\n",
       "    <tr>\n",
       "      <th>273905</th>\n",
       "      <td>40.7418</td>\n",
       "      <td>-74.0043</td>\n",
       "      <td>11</td>\n",
       "      <td>14</td>\n",
       "      <td>Wednesday</td>\n",
       "      <td>0</td>\n",
       "    </tr>\n",
       "    <tr>\n",
       "      <th>78387</th>\n",
       "      <td>40.7611</td>\n",
       "      <td>-73.9798</td>\n",
       "      <td>16</td>\n",
       "      <td>4</td>\n",
       "      <td>Wednesday</td>\n",
       "      <td>0</td>\n",
       "    </tr>\n",
       "  </tbody>\n",
       "</table>\n",
       "</div>"
      ],
      "text/plain": [
       "            Lat      Lon  Hour  Minutes  DayOfWeek  cluster\n",
       "324948  40.7332 -73.9985    19        5  Wednesday        0\n",
       "340411  40.7640 -73.9775    23        1  Wednesday        0\n",
       "25706   40.7585 -73.9689    21       24  Wednesday        0\n",
       "273905  40.7418 -74.0043    11       14  Wednesday        0\n",
       "78387   40.7611 -73.9798    16        4  Wednesday        0"
      ]
     },
     "execution_count": 192,
     "metadata": {},
     "output_type": "execute_result"
    }
   ],
   "source": [
    "wednesday.head()"
   ]
  },
  {
   "cell_type": "code",
   "execution_count": 193,
   "metadata": {},
   "outputs": [],
   "source": [
    "wednesday = wednesday.drop(\"DayOfWeek\", axis = 1)\n",
    "wednesday = wednesday.drop(\"cluster\",  axis = 1)"
   ]
  },
  {
   "cell_type": "code",
   "execution_count": 194,
   "metadata": {},
   "outputs": [
    {
     "data": {
      "text/html": [
       "<div>\n",
       "<style scoped>\n",
       "    .dataframe tbody tr th:only-of-type {\n",
       "        vertical-align: middle;\n",
       "    }\n",
       "\n",
       "    .dataframe tbody tr th {\n",
       "        vertical-align: top;\n",
       "    }\n",
       "\n",
       "    .dataframe thead th {\n",
       "        text-align: right;\n",
       "    }\n",
       "</style>\n",
       "<table border=\"1\" class=\"dataframe\">\n",
       "  <thead>\n",
       "    <tr style=\"text-align: right;\">\n",
       "      <th></th>\n",
       "      <th>Lat</th>\n",
       "      <th>Lon</th>\n",
       "      <th>Hour</th>\n",
       "      <th>Minutes</th>\n",
       "    </tr>\n",
       "  </thead>\n",
       "  <tbody>\n",
       "    <tr>\n",
       "      <th>324948</th>\n",
       "      <td>40.7332</td>\n",
       "      <td>-73.9985</td>\n",
       "      <td>19</td>\n",
       "      <td>5</td>\n",
       "    </tr>\n",
       "    <tr>\n",
       "      <th>340411</th>\n",
       "      <td>40.7640</td>\n",
       "      <td>-73.9775</td>\n",
       "      <td>23</td>\n",
       "      <td>1</td>\n",
       "    </tr>\n",
       "    <tr>\n",
       "      <th>25706</th>\n",
       "      <td>40.7585</td>\n",
       "      <td>-73.9689</td>\n",
       "      <td>21</td>\n",
       "      <td>24</td>\n",
       "    </tr>\n",
       "    <tr>\n",
       "      <th>273905</th>\n",
       "      <td>40.7418</td>\n",
       "      <td>-74.0043</td>\n",
       "      <td>11</td>\n",
       "      <td>14</td>\n",
       "    </tr>\n",
       "    <tr>\n",
       "      <th>78387</th>\n",
       "      <td>40.7611</td>\n",
       "      <td>-73.9798</td>\n",
       "      <td>16</td>\n",
       "      <td>4</td>\n",
       "    </tr>\n",
       "  </tbody>\n",
       "</table>\n",
       "</div>"
      ],
      "text/plain": [
       "            Lat      Lon  Hour  Minutes\n",
       "324948  40.7332 -73.9985    19        5\n",
       "340411  40.7640 -73.9775    23        1\n",
       "25706   40.7585 -73.9689    21       24\n",
       "273905  40.7418 -74.0043    11       14\n",
       "78387   40.7611 -73.9798    16        4"
      ]
     },
     "execution_count": 194,
     "metadata": {},
     "output_type": "execute_result"
    }
   ],
   "source": [
    "wednesday.head()"
   ]
  },
  {
   "cell_type": "markdown",
   "metadata": {},
   "source": [
    "##### Scaling numerical data and one-hot encoding categorical data"
   ]
  },
  {
   "cell_type": "code",
   "execution_count": 195,
   "metadata": {},
   "outputs": [
    {
     "data": {
      "text/plain": [
       "array([[-0.28621353, -0.44760182,  0.82508329, -1.40020057],\n",
       "       [ 0.6199843 , -0.00302028,  1.56812251, -1.63077131],\n",
       "       [ 0.45816326,  0.17904645,  1.1966029 , -0.30498954],\n",
       "       [-0.03318427, -0.57039101, -0.66099514, -0.8814164 ],\n",
       "       [ 0.53466048, -0.05171254,  0.26780388, -1.45784326]])"
      ]
     },
     "execution_count": 195,
     "metadata": {},
     "output_type": "execute_result"
    }
   ],
   "source": [
    "# Import Standard Scaler\n",
    "from sklearn.preprocessing import StandardScaler\n",
    "\n",
    "# Initialize StandardScaler\n",
    "# StandardScaler will substract mean and divide by standard deviation to each observation\n",
    "sc = StandardScaler()\n",
    "\n",
    "# Apply StandardScaler to X\n",
    "X = sc.fit_transform(wednesday)\n",
    "\n",
    "# Visualize first five rows \n",
    "# Standard scaler transform X as numpy array. Therefore you can't use .head()\n",
    "X[:5]"
   ]
  },
  {
   "cell_type": "markdown",
   "metadata": {},
   "source": [
    "##### Determining how many clusters we should have using the Elbow method"
   ]
  },
  {
   "cell_type": "code",
   "execution_count": 196,
   "metadata": {},
   "outputs": [
    {
     "name": "stdout",
     "output_type": "stream",
     "text": [
      "WCSS for K=1 --> 76663.99999999984\n",
      "WCSS for K=2 --> 62178.490136535045\n",
      "WCSS for K=3 --> 51282.134090642285\n",
      "WCSS for K=4 --> 41644.01152044906\n",
      "WCSS for K=5 --> 36708.73511118269\n",
      "WCSS for K=6 --> 32859.34184986428\n",
      "WCSS for K=7 --> 30095.3473977195\n",
      "WCSS for K=8 --> 28031.977433574437\n",
      "WCSS for K=9 --> 25812.55719823674\n",
      "WCSS for K=10 --> 23859.8567371395\n"
     ]
    }
   ],
   "source": [
    "from sklearn.cluster import KMeans\n",
    "# Creating a loop that will collect the Within-sum-of-square (wcss) for each value of K \n",
    "# Use .inertia_ parameter to get the within sum of square value for each value of K \n",
    "wcss =  []\n",
    "k = []\n",
    "for i in range (1,11): \n",
    "    kmeans = KMeans(n_clusters= i, random_state = 0)\n",
    "    kmeans.fit(X)\n",
    "    wcss.append(kmeans.inertia_)\n",
    "    k.append(i)\n",
    "    print(\"WCSS for K={} --> {}\".format(i, wcss[-1]))"
   ]
  },
  {
   "cell_type": "markdown",
   "metadata": {},
   "source": [
    "##### Visualizing inertia as a function of K using plotly"
   ]
  },
  {
   "cell_type": "code",
   "execution_count": 197,
   "metadata": {},
   "outputs": [
    {
     "data": {
      "text/html": [
       "<iframe\n",
       "    scrolling=\"no\"\n",
       "    width=\"100%\"\n",
       "    height=\"545px\"\n",
       "    src=\"iframe_figures/figure_197.html\"\n",
       "    frameborder=\"0\"\n",
       "    allowfullscreen\n",
       "></iframe>\n"
      ]
     },
     "metadata": {},
     "output_type": "display_data"
    }
   ],
   "source": [
    "import plotly.express as px\n",
    "\n",
    "# Create DataFrame\n",
    "wcss_frame = pd.DataFrame(wcss)\n",
    "k_frame = pd.Series(k)\n",
    "\n",
    "# Create figure\n",
    "fig= px.line(\n",
    "    wcss_frame,\n",
    "    x=k_frame,\n",
    "    y=wcss_frame.iloc[:,-1]\n",
    ")\n",
    "\n",
    "# Create title and axis labels\n",
    "fig.update_layout(\n",
    "    yaxis_title=\"Inertia\",\n",
    "    xaxis_title=\"# Clusters\",\n",
    "    title=\"Inertia per cluster\"\n",
    ")\n",
    "\n",
    "# Render\n",
    "#fig.show(renderer=\"notebook\")\n",
    "fig.show(renderer=\"iframe\")"
   ]
  },
  {
   "cell_type": "markdown",
   "metadata": {},
   "source": [
    "##### It can be seen above that after K=5, inertia is not decreasing a lot."
   ]
  },
  {
   "cell_type": "markdown",
   "metadata": {},
   "source": [
    "##### Double-checking with the Silhouette method"
   ]
  },
  {
   "cell_type": "code",
   "execution_count": 198,
   "metadata": {},
   "outputs": [
    {
     "name": "stdout",
     "output_type": "stream",
     "text": [
      "Silhouette score for K=2 is 0.23560894709800767\n",
      "Silhouette score for K=3 is 0.2565812060156639\n",
      "Silhouette score for K=4 is 0.27276762090492535\n",
      "Silhouette score for K=5 is 0.27531420550272306\n",
      "Silhouette score for K=6 is 0.2700429379096965\n",
      "Silhouette score for K=7 is 0.2681617895886853\n",
      "Silhouette score for K=8 is 0.25391567173302526\n",
      "Silhouette score for K=9 is 0.25301604494802576\n",
      "Silhouette score for K=10 is 0.25678043016019175\n"
     ]
    }
   ],
   "source": [
    "# Import silhouette score\n",
    "from sklearn.metrics import silhouette_score\n",
    "\n",
    "# Computer mean silhouette score\n",
    "sil = []\n",
    "k = []\n",
    "\n",
    "## Careful, you need to start at i=2 as silhouette score cannot accept less than 2 labels \n",
    "for i in range (2,11): \n",
    "    kmeans = KMeans(n_clusters= i, init = \"k-means++\", random_state = 0)\n",
    "    kmeans.fit(X)\n",
    "    sil.append(silhouette_score(X, kmeans.predict(X)))\n",
    "    k.append(i)\n",
    "    print(\"Silhouette score for K={} is {}\".format(i, sil[-1]))"
   ]
  },
  {
   "cell_type": "markdown",
   "metadata": {},
   "source": [
    "##### Visualizing inertia as a function of K using plotly"
   ]
  },
  {
   "cell_type": "code",
   "execution_count": 199,
   "metadata": {},
   "outputs": [
    {
     "data": {
      "text/html": [
       "<iframe\n",
       "    scrolling=\"no\"\n",
       "    width=\"100%\"\n",
       "    height=\"545px\"\n",
       "    src=\"iframe_figures/figure_199.html\"\n",
       "    frameborder=\"0\"\n",
       "    allowfullscreen\n",
       "></iframe>\n"
      ]
     },
     "metadata": {},
     "output_type": "display_data"
    }
   ],
   "source": [
    "# Create a data frame \n",
    "cluster_scores=pd.DataFrame(sil)\n",
    "k_frame = pd.Series(k)\n",
    "\n",
    "# Create figure\n",
    "fig = px.bar(data_frame=cluster_scores,  \n",
    "             x=k, \n",
    "             y=cluster_scores.iloc[:, -1]\n",
    "            )\n",
    "\n",
    "# Add title and axis labels\n",
    "fig.update_layout(\n",
    "    yaxis_title=\"Silhouette Score\",\n",
    "    xaxis_title=\"# Clusters\",\n",
    "    title=\"Silhouette Score per cluster\"\n",
    ")\n",
    "\n",
    "# Render\n",
    "#fig.show(renderer=\"notebook\")\n",
    "fig.show(renderer=\"iframe\") # if using workspace"
   ]
  },
  {
   "cell_type": "markdown",
   "metadata": {},
   "source": [
    "##### The Silhouette method also suggests that K=5 is appropriate"
   ]
  },
  {
   "cell_type": "code",
   "execution_count": 200,
   "metadata": {},
   "outputs": [
    {
     "data": {
      "text/plain": [
       "KMeans(n_clusters=5, random_state=0)"
      ]
     },
     "execution_count": 200,
     "metadata": {},
     "output_type": "execute_result"
    }
   ],
   "source": [
    "# Import K-Means \n",
    "from sklearn.cluster import KMeans\n",
    "\n",
    "# Instanciate KMeans with k=5 and initialisation with k-means++\n",
    "# You should always use k-means++ as it alleviate the problem of local minimum convergence \n",
    "kmeans = KMeans(n_clusters=5, init = \"k-means++\", random_state=0)\n",
    "\n",
    "# Fit kmeans to our dataset\n",
    "kmeans.fit(X)"
   ]
  },
  {
   "cell_type": "code",
   "execution_count": 201,
   "metadata": {},
   "outputs": [
    {
     "data": {
      "text/html": [
       "<div>\n",
       "<style scoped>\n",
       "    .dataframe tbody tr th:only-of-type {\n",
       "        vertical-align: middle;\n",
       "    }\n",
       "\n",
       "    .dataframe tbody tr th {\n",
       "        vertical-align: top;\n",
       "    }\n",
       "\n",
       "    .dataframe thead th {\n",
       "        text-align: right;\n",
       "    }\n",
       "</style>\n",
       "<table border=\"1\" class=\"dataframe\">\n",
       "  <thead>\n",
       "    <tr style=\"text-align: right;\">\n",
       "      <th></th>\n",
       "      <th>Lat</th>\n",
       "      <th>Lon</th>\n",
       "      <th>Hour</th>\n",
       "      <th>Minutes</th>\n",
       "    </tr>\n",
       "  </thead>\n",
       "  <tbody>\n",
       "    <tr>\n",
       "      <th>324948</th>\n",
       "      <td>40.7332</td>\n",
       "      <td>-73.9985</td>\n",
       "      <td>19</td>\n",
       "      <td>5</td>\n",
       "    </tr>\n",
       "    <tr>\n",
       "      <th>340411</th>\n",
       "      <td>40.7640</td>\n",
       "      <td>-73.9775</td>\n",
       "      <td>23</td>\n",
       "      <td>1</td>\n",
       "    </tr>\n",
       "    <tr>\n",
       "      <th>25706</th>\n",
       "      <td>40.7585</td>\n",
       "      <td>-73.9689</td>\n",
       "      <td>21</td>\n",
       "      <td>24</td>\n",
       "    </tr>\n",
       "    <tr>\n",
       "      <th>273905</th>\n",
       "      <td>40.7418</td>\n",
       "      <td>-74.0043</td>\n",
       "      <td>11</td>\n",
       "      <td>14</td>\n",
       "    </tr>\n",
       "    <tr>\n",
       "      <th>78387</th>\n",
       "      <td>40.7611</td>\n",
       "      <td>-73.9798</td>\n",
       "      <td>16</td>\n",
       "      <td>4</td>\n",
       "    </tr>\n",
       "  </tbody>\n",
       "</table>\n",
       "</div>"
      ],
      "text/plain": [
       "            Lat      Lon  Hour  Minutes\n",
       "324948  40.7332 -73.9985    19        5\n",
       "340411  40.7640 -73.9775    23        1\n",
       "25706   40.7585 -73.9689    21       24\n",
       "273905  40.7418 -74.0043    11       14\n",
       "78387   40.7611 -73.9798    16        4"
      ]
     },
     "execution_count": 201,
     "metadata": {},
     "output_type": "execute_result"
    }
   ],
   "source": [
    "wednesday.head()"
   ]
  },
  {
   "cell_type": "code",
   "execution_count": 202,
   "metadata": {},
   "outputs": [],
   "source": [
    "wednesday.loc[:,\"Kmeans_Clusters\"] = kmeans.predict(X)"
   ]
  },
  {
   "cell_type": "code",
   "execution_count": 203,
   "metadata": {},
   "outputs": [
    {
     "data": {
      "text/html": [
       "<div>\n",
       "<style scoped>\n",
       "    .dataframe tbody tr th:only-of-type {\n",
       "        vertical-align: middle;\n",
       "    }\n",
       "\n",
       "    .dataframe tbody tr th {\n",
       "        vertical-align: top;\n",
       "    }\n",
       "\n",
       "    .dataframe thead th {\n",
       "        text-align: right;\n",
       "    }\n",
       "</style>\n",
       "<table border=\"1\" class=\"dataframe\">\n",
       "  <thead>\n",
       "    <tr style=\"text-align: right;\">\n",
       "      <th></th>\n",
       "      <th>Lat</th>\n",
       "      <th>Lon</th>\n",
       "      <th>Hour</th>\n",
       "      <th>Minutes</th>\n",
       "      <th>Kmeans_Clusters</th>\n",
       "    </tr>\n",
       "  </thead>\n",
       "  <tbody>\n",
       "    <tr>\n",
       "      <th>324948</th>\n",
       "      <td>40.7332</td>\n",
       "      <td>-73.9985</td>\n",
       "      <td>19</td>\n",
       "      <td>5</td>\n",
       "      <td>0</td>\n",
       "    </tr>\n",
       "    <tr>\n",
       "      <th>340411</th>\n",
       "      <td>40.7640</td>\n",
       "      <td>-73.9775</td>\n",
       "      <td>23</td>\n",
       "      <td>1</td>\n",
       "      <td>0</td>\n",
       "    </tr>\n",
       "    <tr>\n",
       "      <th>25706</th>\n",
       "      <td>40.7585</td>\n",
       "      <td>-73.9689</td>\n",
       "      <td>21</td>\n",
       "      <td>24</td>\n",
       "      <td>0</td>\n",
       "    </tr>\n",
       "    <tr>\n",
       "      <th>273905</th>\n",
       "      <td>40.7418</td>\n",
       "      <td>-74.0043</td>\n",
       "      <td>11</td>\n",
       "      <td>14</td>\n",
       "      <td>4</td>\n",
       "    </tr>\n",
       "    <tr>\n",
       "      <th>78387</th>\n",
       "      <td>40.7611</td>\n",
       "      <td>-73.9798</td>\n",
       "      <td>16</td>\n",
       "      <td>4</td>\n",
       "      <td>0</td>\n",
       "    </tr>\n",
       "  </tbody>\n",
       "</table>\n",
       "</div>"
      ],
      "text/plain": [
       "            Lat      Lon  Hour  Minutes  Kmeans_Clusters\n",
       "324948  40.7332 -73.9985    19        5                0\n",
       "340411  40.7640 -73.9775    23        1                0\n",
       "25706   40.7585 -73.9689    21       24                0\n",
       "273905  40.7418 -74.0043    11       14                4\n",
       "78387   40.7611 -73.9798    16        4                0"
      ]
     },
     "execution_count": 203,
     "metadata": {},
     "output_type": "execute_result"
    }
   ],
   "source": [
    "wednesday.head()"
   ]
  },
  {
   "cell_type": "markdown",
   "metadata": {},
   "source": [
    "##### A scatterplot to see how the Kmeans algorithm has clustered the pick-up points in New York city on Wednesdays"
   ]
  },
  {
   "cell_type": "code",
   "execution_count": 204,
   "metadata": {},
   "outputs": [
    {
     "data": {
      "text/html": [
       "<iframe\n",
       "    scrolling=\"no\"\n",
       "    width=\"100%\"\n",
       "    height=\"545px\"\n",
       "    src=\"iframe_figures/figure_204.html\"\n",
       "    frameborder=\"0\"\n",
       "    allowfullscreen\n",
       "></iframe>\n"
      ]
     },
     "metadata": {},
     "output_type": "display_data"
    }
   ],
   "source": [
    "fig = px.scatter_mapbox(wednesday,\n",
    "                        lat=\"Lat\",\n",
    "                        lon=\"Lon\",\n",
    "                        color=\"Kmeans_Clusters\",hover_name=\"Kmeans_Clusters\",\n",
    "                        mapbox_style=\"carto-positron\", zoom = 10)\n",
    "fig.show()"
   ]
  },
  {
   "cell_type": "markdown",
   "metadata": {},
   "source": [
    "### Picking Thursday to observe how the K-means clustering algorithm behaves"
   ]
  },
  {
   "cell_type": "code",
   "execution_count": 205,
   "metadata": {},
   "outputs": [
    {
     "data": {
      "text/html": [
       "<div>\n",
       "<style scoped>\n",
       "    .dataframe tbody tr th:only-of-type {\n",
       "        vertical-align: middle;\n",
       "    }\n",
       "\n",
       "    .dataframe tbody tr th {\n",
       "        vertical-align: top;\n",
       "    }\n",
       "\n",
       "    .dataframe thead th {\n",
       "        text-align: right;\n",
       "    }\n",
       "</style>\n",
       "<table border=\"1\" class=\"dataframe\">\n",
       "  <thead>\n",
       "    <tr style=\"text-align: right;\">\n",
       "      <th></th>\n",
       "      <th>Lat</th>\n",
       "      <th>Lon</th>\n",
       "      <th>Hour</th>\n",
       "      <th>Minutes</th>\n",
       "      <th>DayOfWeek</th>\n",
       "      <th>cluster</th>\n",
       "    </tr>\n",
       "  </thead>\n",
       "  <tbody>\n",
       "    <tr>\n",
       "      <th>83621</th>\n",
       "      <td>40.7741</td>\n",
       "      <td>-73.8724</td>\n",
       "      <td>16</td>\n",
       "      <td>7</td>\n",
       "      <td>Thursday</td>\n",
       "      <td>0</td>\n",
       "    </tr>\n",
       "    <tr>\n",
       "      <th>402381</th>\n",
       "      <td>40.7515</td>\n",
       "      <td>-73.9760</td>\n",
       "      <td>16</td>\n",
       "      <td>14</td>\n",
       "      <td>Thursday</td>\n",
       "      <td>1</td>\n",
       "    </tr>\n",
       "    <tr>\n",
       "      <th>164529</th>\n",
       "      <td>40.6417</td>\n",
       "      <td>-73.7890</td>\n",
       "      <td>20</td>\n",
       "      <td>6</td>\n",
       "      <td>Thursday</td>\n",
       "      <td>3</td>\n",
       "    </tr>\n",
       "    <tr>\n",
       "      <th>229997</th>\n",
       "      <td>40.6534</td>\n",
       "      <td>-73.7869</td>\n",
       "      <td>23</td>\n",
       "      <td>43</td>\n",
       "      <td>Thursday</td>\n",
       "      <td>-1</td>\n",
       "    </tr>\n",
       "    <tr>\n",
       "      <th>453963</th>\n",
       "      <td>40.7631</td>\n",
       "      <td>-73.9685</td>\n",
       "      <td>18</td>\n",
       "      <td>34</td>\n",
       "      <td>Thursday</td>\n",
       "      <td>1</td>\n",
       "    </tr>\n",
       "  </tbody>\n",
       "</table>\n",
       "</div>"
      ],
      "text/plain": [
       "            Lat      Lon  Hour  Minutes DayOfWeek  cluster\n",
       "83621   40.7741 -73.8724    16        7  Thursday        0\n",
       "402381  40.7515 -73.9760    16       14  Thursday        1\n",
       "164529  40.6417 -73.7890    20        6  Thursday        3\n",
       "229997  40.6534 -73.7869    23       43  Thursday       -1\n",
       "453963  40.7631 -73.9685    18       34  Thursday        1"
      ]
     },
     "execution_count": 205,
     "metadata": {},
     "output_type": "execute_result"
    }
   ],
   "source": [
    "thursday.head()"
   ]
  },
  {
   "cell_type": "code",
   "execution_count": 206,
   "metadata": {},
   "outputs": [],
   "source": [
    "thursday = thursday.drop(\"DayOfWeek\", axis = 1)\n",
    "thursday = thursday.drop(\"cluster\",  axis = 1)"
   ]
  },
  {
   "cell_type": "code",
   "execution_count": 207,
   "metadata": {},
   "outputs": [
    {
     "data": {
      "text/html": [
       "<div>\n",
       "<style scoped>\n",
       "    .dataframe tbody tr th:only-of-type {\n",
       "        vertical-align: middle;\n",
       "    }\n",
       "\n",
       "    .dataframe tbody tr th {\n",
       "        vertical-align: top;\n",
       "    }\n",
       "\n",
       "    .dataframe thead th {\n",
       "        text-align: right;\n",
       "    }\n",
       "</style>\n",
       "<table border=\"1\" class=\"dataframe\">\n",
       "  <thead>\n",
       "    <tr style=\"text-align: right;\">\n",
       "      <th></th>\n",
       "      <th>Lat</th>\n",
       "      <th>Lon</th>\n",
       "      <th>Hour</th>\n",
       "      <th>Minutes</th>\n",
       "    </tr>\n",
       "  </thead>\n",
       "  <tbody>\n",
       "    <tr>\n",
       "      <th>83621</th>\n",
       "      <td>40.7741</td>\n",
       "      <td>-73.8724</td>\n",
       "      <td>16</td>\n",
       "      <td>7</td>\n",
       "    </tr>\n",
       "    <tr>\n",
       "      <th>402381</th>\n",
       "      <td>40.7515</td>\n",
       "      <td>-73.9760</td>\n",
       "      <td>16</td>\n",
       "      <td>14</td>\n",
       "    </tr>\n",
       "    <tr>\n",
       "      <th>164529</th>\n",
       "      <td>40.6417</td>\n",
       "      <td>-73.7890</td>\n",
       "      <td>20</td>\n",
       "      <td>6</td>\n",
       "    </tr>\n",
       "    <tr>\n",
       "      <th>229997</th>\n",
       "      <td>40.6534</td>\n",
       "      <td>-73.7869</td>\n",
       "      <td>23</td>\n",
       "      <td>43</td>\n",
       "    </tr>\n",
       "    <tr>\n",
       "      <th>453963</th>\n",
       "      <td>40.7631</td>\n",
       "      <td>-73.9685</td>\n",
       "      <td>18</td>\n",
       "      <td>34</td>\n",
       "    </tr>\n",
       "  </tbody>\n",
       "</table>\n",
       "</div>"
      ],
      "text/plain": [
       "            Lat      Lon  Hour  Minutes\n",
       "83621   40.7741 -73.8724    16        7\n",
       "402381  40.7515 -73.9760    16       14\n",
       "164529  40.6417 -73.7890    20        6\n",
       "229997  40.6534 -73.7869    23       43\n",
       "453963  40.7631 -73.9685    18       34"
      ]
     },
     "execution_count": 207,
     "metadata": {},
     "output_type": "execute_result"
    }
   ],
   "source": [
    "thursday.head()"
   ]
  },
  {
   "cell_type": "markdown",
   "metadata": {},
   "source": [
    "##### Scaling numerical data and one-hot encoding categorical data"
   ]
  },
  {
   "cell_type": "code",
   "execution_count": 208,
   "metadata": {},
   "outputs": [
    {
     "data": {
      "text/plain": [
       "array([[ 0.95868646,  2.15352707,  0.18570808, -1.30209651],\n",
       "       [ 0.29421433,  0.02927106,  0.18570808, -0.89709983],\n",
       "       [-2.93406174,  3.86359417,  0.90214436, -1.35995318],\n",
       "       [-2.59006511,  3.90665342,  1.43947158,  0.78074355],\n",
       "       [ 0.63527082,  0.18305407,  0.54392622,  0.26003354]])"
      ]
     },
     "execution_count": 208,
     "metadata": {},
     "output_type": "execute_result"
    }
   ],
   "source": [
    "# Import Standard Scaler\n",
    "from sklearn.preprocessing import StandardScaler\n",
    "\n",
    "# Initialize StandardScaler\n",
    "# StandardScaler will substract mean and divide by standard deviation to each observation\n",
    "sc = StandardScaler()\n",
    "\n",
    "# Apply StandardScaler to X\n",
    "X = sc.fit_transform(thursday)\n",
    "\n",
    "# Visualize first five rows \n",
    "# Standard scaler transform X as numpy array. Therefore you can't use .head()\n",
    "X[:5]"
   ]
  },
  {
   "cell_type": "markdown",
   "metadata": {},
   "source": [
    "##### Determining how many clusters we should have using the Elbow method"
   ]
  },
  {
   "cell_type": "code",
   "execution_count": 209,
   "metadata": {},
   "outputs": [
    {
     "name": "stdout",
     "output_type": "stream",
     "text": [
      "WCSS for K=1 --> 60471.999999999985\n",
      "WCSS for K=2 --> 49086.94897501823\n",
      "WCSS for K=3 --> 40804.20592643226\n",
      "WCSS for K=4 --> 32673.114135347423\n",
      "WCSS for K=5 --> 28601.46863640907\n",
      "WCSS for K=6 --> 25818.320578734907\n",
      "WCSS for K=7 --> 23505.419114005934\n",
      "WCSS for K=8 --> 21459.97220590715\n",
      "WCSS for K=9 --> 20010.168700478112\n",
      "WCSS for K=10 --> 18737.52013055446\n"
     ]
    }
   ],
   "source": [
    "from sklearn.cluster import KMeans\n",
    "# Creating a loop that will collect the Within-sum-of-square (wcss) for each value of K \n",
    "# Use .inertia_ parameter to get the within sum of square value for each value of K \n",
    "wcss =  []\n",
    "k = []\n",
    "for i in range (1,11): \n",
    "    kmeans = KMeans(n_clusters= i, random_state = 0)\n",
    "    kmeans.fit(X)\n",
    "    wcss.append(kmeans.inertia_)\n",
    "    k.append(i)\n",
    "    print(\"WCSS for K={} --> {}\".format(i, wcss[-1]))"
   ]
  },
  {
   "cell_type": "markdown",
   "metadata": {},
   "source": [
    "##### Visualizing inertia as a function of K using plotly"
   ]
  },
  {
   "cell_type": "code",
   "execution_count": 210,
   "metadata": {},
   "outputs": [
    {
     "data": {
      "text/html": [
       "<iframe\n",
       "    scrolling=\"no\"\n",
       "    width=\"100%\"\n",
       "    height=\"545px\"\n",
       "    src=\"iframe_figures/figure_210.html\"\n",
       "    frameborder=\"0\"\n",
       "    allowfullscreen\n",
       "></iframe>\n"
      ]
     },
     "metadata": {},
     "output_type": "display_data"
    }
   ],
   "source": [
    "import plotly.express as px\n",
    "\n",
    "# Create DataFrame\n",
    "wcss_frame = pd.DataFrame(wcss)\n",
    "k_frame = pd.Series(k)\n",
    "\n",
    "# Create figure\n",
    "fig= px.line(\n",
    "    wcss_frame,\n",
    "    x=k_frame,\n",
    "    y=wcss_frame.iloc[:,-1]\n",
    ")\n",
    "\n",
    "# Create title and axis labels\n",
    "fig.update_layout(\n",
    "    yaxis_title=\"Inertia\",\n",
    "    xaxis_title=\"# Clusters\",\n",
    "    title=\"Inertia per cluster\"\n",
    ")\n",
    "\n",
    "# Render\n",
    "#fig.show(renderer=\"notebook\")\n",
    "fig.show(renderer=\"iframe\")"
   ]
  },
  {
   "cell_type": "markdown",
   "metadata": {},
   "source": [
    "##### It can be seen above that after K=5, inertia is not decreasing a lot."
   ]
  },
  {
   "cell_type": "markdown",
   "metadata": {},
   "source": [
    "##### Double-checking with the Silhouette method"
   ]
  },
  {
   "cell_type": "code",
   "execution_count": 211,
   "metadata": {},
   "outputs": [
    {
     "name": "stdout",
     "output_type": "stream",
     "text": [
      "Silhouette score for K=2 is 0.232989168547608\n",
      "Silhouette score for K=3 is 0.27238056494637125\n",
      "Silhouette score for K=4 is 0.2792470817952722\n",
      "Silhouette score for K=5 is 0.2928581217374506\n",
      "Silhouette score for K=6 is 0.27625638189030427\n",
      "Silhouette score for K=7 is 0.27992165118359036\n",
      "Silhouette score for K=8 is 0.2888050125342308\n",
      "Silhouette score for K=9 is 0.25775918218658267\n",
      "Silhouette score for K=10 is 0.2639959006465946\n"
     ]
    }
   ],
   "source": [
    "# Import silhouette score\n",
    "from sklearn.metrics import silhouette_score\n",
    "\n",
    "# Computer mean silhouette score\n",
    "sil = []\n",
    "k = []\n",
    "\n",
    "## Careful, you need to start at i=2 as silhouette score cannot accept less than 2 labels \n",
    "for i in range (2,11): \n",
    "    kmeans = KMeans(n_clusters= i, init = \"k-means++\", random_state = 0)\n",
    "    kmeans.fit(X)\n",
    "    sil.append(silhouette_score(X, kmeans.predict(X)))\n",
    "    k.append(i)\n",
    "    print(\"Silhouette score for K={} is {}\".format(i, sil[-1]))"
   ]
  },
  {
   "cell_type": "markdown",
   "metadata": {},
   "source": [
    "##### Visualizing inertia as a function of K using plotly"
   ]
  },
  {
   "cell_type": "code",
   "execution_count": 212,
   "metadata": {},
   "outputs": [
    {
     "data": {
      "text/html": [
       "<iframe\n",
       "    scrolling=\"no\"\n",
       "    width=\"100%\"\n",
       "    height=\"545px\"\n",
       "    src=\"iframe_figures/figure_212.html\"\n",
       "    frameborder=\"0\"\n",
       "    allowfullscreen\n",
       "></iframe>\n"
      ]
     },
     "metadata": {},
     "output_type": "display_data"
    }
   ],
   "source": [
    "# Create a data frame \n",
    "cluster_scores=pd.DataFrame(sil)\n",
    "k_frame = pd.Series(k)\n",
    "\n",
    "# Create figure\n",
    "fig = px.bar(data_frame=cluster_scores,  \n",
    "             x=k, \n",
    "             y=cluster_scores.iloc[:, -1]\n",
    "            )\n",
    "\n",
    "# Add title and axis labels\n",
    "fig.update_layout(\n",
    "    yaxis_title=\"Silhouette Score\",\n",
    "    xaxis_title=\"# Clusters\",\n",
    "    title=\"Silhouette Score per cluster\"\n",
    ")\n",
    "\n",
    "# Render\n",
    "#fig.show(renderer=\"notebook\")\n",
    "fig.show(renderer=\"iframe\") # if using workspace"
   ]
  },
  {
   "cell_type": "markdown",
   "metadata": {},
   "source": [
    "##### The Silhouette method also suggests that K=5 is appropriate"
   ]
  },
  {
   "cell_type": "code",
   "execution_count": 213,
   "metadata": {},
   "outputs": [
    {
     "data": {
      "text/plain": [
       "KMeans(n_clusters=5, random_state=0)"
      ]
     },
     "execution_count": 213,
     "metadata": {},
     "output_type": "execute_result"
    }
   ],
   "source": [
    "# Import K-Means \n",
    "from sklearn.cluster import KMeans\n",
    "\n",
    "# Instanciate KMeans with k=4 and initialisation with k-means++\n",
    "# You should always use k-means++ as it alleviate the problem of local minimum convergence \n",
    "kmeans = KMeans(n_clusters=5, init = \"k-means++\", random_state=0)\n",
    "\n",
    "# Fit kmeans to our dataset\n",
    "kmeans.fit(X)"
   ]
  },
  {
   "cell_type": "code",
   "execution_count": 214,
   "metadata": {},
   "outputs": [
    {
     "data": {
      "text/html": [
       "<div>\n",
       "<style scoped>\n",
       "    .dataframe tbody tr th:only-of-type {\n",
       "        vertical-align: middle;\n",
       "    }\n",
       "\n",
       "    .dataframe tbody tr th {\n",
       "        vertical-align: top;\n",
       "    }\n",
       "\n",
       "    .dataframe thead th {\n",
       "        text-align: right;\n",
       "    }\n",
       "</style>\n",
       "<table border=\"1\" class=\"dataframe\">\n",
       "  <thead>\n",
       "    <tr style=\"text-align: right;\">\n",
       "      <th></th>\n",
       "      <th>Lat</th>\n",
       "      <th>Lon</th>\n",
       "      <th>Hour</th>\n",
       "      <th>Minutes</th>\n",
       "    </tr>\n",
       "  </thead>\n",
       "  <tbody>\n",
       "    <tr>\n",
       "      <th>83621</th>\n",
       "      <td>40.7741</td>\n",
       "      <td>-73.8724</td>\n",
       "      <td>16</td>\n",
       "      <td>7</td>\n",
       "    </tr>\n",
       "    <tr>\n",
       "      <th>402381</th>\n",
       "      <td>40.7515</td>\n",
       "      <td>-73.9760</td>\n",
       "      <td>16</td>\n",
       "      <td>14</td>\n",
       "    </tr>\n",
       "    <tr>\n",
       "      <th>164529</th>\n",
       "      <td>40.6417</td>\n",
       "      <td>-73.7890</td>\n",
       "      <td>20</td>\n",
       "      <td>6</td>\n",
       "    </tr>\n",
       "    <tr>\n",
       "      <th>229997</th>\n",
       "      <td>40.6534</td>\n",
       "      <td>-73.7869</td>\n",
       "      <td>23</td>\n",
       "      <td>43</td>\n",
       "    </tr>\n",
       "    <tr>\n",
       "      <th>453963</th>\n",
       "      <td>40.7631</td>\n",
       "      <td>-73.9685</td>\n",
       "      <td>18</td>\n",
       "      <td>34</td>\n",
       "    </tr>\n",
       "  </tbody>\n",
       "</table>\n",
       "</div>"
      ],
      "text/plain": [
       "            Lat      Lon  Hour  Minutes\n",
       "83621   40.7741 -73.8724    16        7\n",
       "402381  40.7515 -73.9760    16       14\n",
       "164529  40.6417 -73.7890    20        6\n",
       "229997  40.6534 -73.7869    23       43\n",
       "453963  40.7631 -73.9685    18       34"
      ]
     },
     "execution_count": 214,
     "metadata": {},
     "output_type": "execute_result"
    }
   ],
   "source": [
    "thursday.head()"
   ]
  },
  {
   "cell_type": "code",
   "execution_count": 215,
   "metadata": {},
   "outputs": [],
   "source": [
    "thursday.loc[:,\"Kmeans_Clusters\"] = kmeans.predict(X)"
   ]
  },
  {
   "cell_type": "code",
   "execution_count": 216,
   "metadata": {},
   "outputs": [
    {
     "data": {
      "text/html": [
       "<div>\n",
       "<style scoped>\n",
       "    .dataframe tbody tr th:only-of-type {\n",
       "        vertical-align: middle;\n",
       "    }\n",
       "\n",
       "    .dataframe tbody tr th {\n",
       "        vertical-align: top;\n",
       "    }\n",
       "\n",
       "    .dataframe thead th {\n",
       "        text-align: right;\n",
       "    }\n",
       "</style>\n",
       "<table border=\"1\" class=\"dataframe\">\n",
       "  <thead>\n",
       "    <tr style=\"text-align: right;\">\n",
       "      <th></th>\n",
       "      <th>Lat</th>\n",
       "      <th>Lon</th>\n",
       "      <th>Hour</th>\n",
       "      <th>Minutes</th>\n",
       "      <th>Kmeans_Clusters</th>\n",
       "    </tr>\n",
       "  </thead>\n",
       "  <tbody>\n",
       "    <tr>\n",
       "      <th>83621</th>\n",
       "      <td>40.7741</td>\n",
       "      <td>-73.8724</td>\n",
       "      <td>16</td>\n",
       "      <td>7</td>\n",
       "      <td>4</td>\n",
       "    </tr>\n",
       "    <tr>\n",
       "      <th>402381</th>\n",
       "      <td>40.7515</td>\n",
       "      <td>-73.9760</td>\n",
       "      <td>16</td>\n",
       "      <td>14</td>\n",
       "      <td>2</td>\n",
       "    </tr>\n",
       "    <tr>\n",
       "      <th>164529</th>\n",
       "      <td>40.6417</td>\n",
       "      <td>-73.7890</td>\n",
       "      <td>20</td>\n",
       "      <td>6</td>\n",
       "      <td>3</td>\n",
       "    </tr>\n",
       "    <tr>\n",
       "      <th>229997</th>\n",
       "      <td>40.6534</td>\n",
       "      <td>-73.7869</td>\n",
       "      <td>23</td>\n",
       "      <td>43</td>\n",
       "      <td>3</td>\n",
       "    </tr>\n",
       "    <tr>\n",
       "      <th>453963</th>\n",
       "      <td>40.7631</td>\n",
       "      <td>-73.9685</td>\n",
       "      <td>18</td>\n",
       "      <td>34</td>\n",
       "      <td>1</td>\n",
       "    </tr>\n",
       "  </tbody>\n",
       "</table>\n",
       "</div>"
      ],
      "text/plain": [
       "            Lat      Lon  Hour  Minutes  Kmeans_Clusters\n",
       "83621   40.7741 -73.8724    16        7                4\n",
       "402381  40.7515 -73.9760    16       14                2\n",
       "164529  40.6417 -73.7890    20        6                3\n",
       "229997  40.6534 -73.7869    23       43                3\n",
       "453963  40.7631 -73.9685    18       34                1"
      ]
     },
     "execution_count": 216,
     "metadata": {},
     "output_type": "execute_result"
    }
   ],
   "source": [
    "thursday.head()"
   ]
  },
  {
   "cell_type": "markdown",
   "metadata": {},
   "source": [
    "##### A scatterplot to see how the Kmeans algorithm has clustered the pick-up points in New York city on Thursdays"
   ]
  },
  {
   "cell_type": "code",
   "execution_count": 217,
   "metadata": {},
   "outputs": [
    {
     "data": {
      "text/html": [
       "<iframe\n",
       "    scrolling=\"no\"\n",
       "    width=\"100%\"\n",
       "    height=\"545px\"\n",
       "    src=\"iframe_figures/figure_217.html\"\n",
       "    frameborder=\"0\"\n",
       "    allowfullscreen\n",
       "></iframe>\n"
      ]
     },
     "metadata": {},
     "output_type": "display_data"
    }
   ],
   "source": [
    "fig = px.scatter_mapbox(thursday,\n",
    "                        lat=\"Lat\",\n",
    "                        lon=\"Lon\",\n",
    "                        color=\"Kmeans_Clusters\",hover_name=\"Kmeans_Clusters\",\n",
    "                        mapbox_style=\"carto-positron\", zoom = 10)\n",
    "fig.show()"
   ]
  },
  {
   "cell_type": "markdown",
   "metadata": {},
   "source": [
    "### Picking Friday to observe how the K-means clustering algorithm behaves"
   ]
  },
  {
   "cell_type": "code",
   "execution_count": 218,
   "metadata": {},
   "outputs": [
    {
     "data": {
      "text/html": [
       "<div>\n",
       "<style scoped>\n",
       "    .dataframe tbody tr th:only-of-type {\n",
       "        vertical-align: middle;\n",
       "    }\n",
       "\n",
       "    .dataframe tbody tr th {\n",
       "        vertical-align: top;\n",
       "    }\n",
       "\n",
       "    .dataframe thead th {\n",
       "        text-align: right;\n",
       "    }\n",
       "</style>\n",
       "<table border=\"1\" class=\"dataframe\">\n",
       "  <thead>\n",
       "    <tr style=\"text-align: right;\">\n",
       "      <th></th>\n",
       "      <th>Lat</th>\n",
       "      <th>Lon</th>\n",
       "      <th>Hour</th>\n",
       "      <th>Minutes</th>\n",
       "      <th>DayOfWeek</th>\n",
       "      <th>cluster</th>\n",
       "    </tr>\n",
       "  </thead>\n",
       "  <tbody>\n",
       "    <tr>\n",
       "      <th>506608</th>\n",
       "      <td>40.7294</td>\n",
       "      <td>-73.9933</td>\n",
       "      <td>15</td>\n",
       "      <td>28</td>\n",
       "      <td>Friday</td>\n",
       "      <td>0</td>\n",
       "    </tr>\n",
       "    <tr>\n",
       "      <th>20838</th>\n",
       "      <td>40.7543</td>\n",
       "      <td>-73.9873</td>\n",
       "      <td>13</td>\n",
       "      <td>16</td>\n",
       "      <td>Friday</td>\n",
       "      <td>0</td>\n",
       "    </tr>\n",
       "    <tr>\n",
       "      <th>5313</th>\n",
       "      <td>40.7668</td>\n",
       "      <td>-73.9675</td>\n",
       "      <td>20</td>\n",
       "      <td>38</td>\n",
       "      <td>Friday</td>\n",
       "      <td>0</td>\n",
       "    </tr>\n",
       "    <tr>\n",
       "      <th>462655</th>\n",
       "      <td>40.7253</td>\n",
       "      <td>-73.9998</td>\n",
       "      <td>20</td>\n",
       "      <td>48</td>\n",
       "      <td>Friday</td>\n",
       "      <td>0</td>\n",
       "    </tr>\n",
       "    <tr>\n",
       "      <th>50485</th>\n",
       "      <td>40.7388</td>\n",
       "      <td>-74.0089</td>\n",
       "      <td>9</td>\n",
       "      <td>18</td>\n",
       "      <td>Friday</td>\n",
       "      <td>0</td>\n",
       "    </tr>\n",
       "  </tbody>\n",
       "</table>\n",
       "</div>"
      ],
      "text/plain": [
       "            Lat      Lon  Hour  Minutes DayOfWeek  cluster\n",
       "506608  40.7294 -73.9933    15       28    Friday        0\n",
       "20838   40.7543 -73.9873    13       16    Friday        0\n",
       "5313    40.7668 -73.9675    20       38    Friday        0\n",
       "462655  40.7253 -73.9998    20       48    Friday        0\n",
       "50485   40.7388 -74.0089     9       18    Friday        0"
      ]
     },
     "execution_count": 218,
     "metadata": {},
     "output_type": "execute_result"
    }
   ],
   "source": [
    "friday.head()"
   ]
  },
  {
   "cell_type": "code",
   "execution_count": 219,
   "metadata": {},
   "outputs": [],
   "source": [
    "friday = friday.drop(\"DayOfWeek\", axis = 1)\n",
    "friday = friday.drop(\"cluster\",  axis = 1)"
   ]
  },
  {
   "cell_type": "code",
   "execution_count": 220,
   "metadata": {},
   "outputs": [
    {
     "data": {
      "text/html": [
       "<div>\n",
       "<style scoped>\n",
       "    .dataframe tbody tr th:only-of-type {\n",
       "        vertical-align: middle;\n",
       "    }\n",
       "\n",
       "    .dataframe tbody tr th {\n",
       "        vertical-align: top;\n",
       "    }\n",
       "\n",
       "    .dataframe thead th {\n",
       "        text-align: right;\n",
       "    }\n",
       "</style>\n",
       "<table border=\"1\" class=\"dataframe\">\n",
       "  <thead>\n",
       "    <tr style=\"text-align: right;\">\n",
       "      <th></th>\n",
       "      <th>Lat</th>\n",
       "      <th>Lon</th>\n",
       "      <th>Hour</th>\n",
       "      <th>Minutes</th>\n",
       "    </tr>\n",
       "  </thead>\n",
       "  <tbody>\n",
       "    <tr>\n",
       "      <th>506608</th>\n",
       "      <td>40.7294</td>\n",
       "      <td>-73.9933</td>\n",
       "      <td>15</td>\n",
       "      <td>28</td>\n",
       "    </tr>\n",
       "    <tr>\n",
       "      <th>20838</th>\n",
       "      <td>40.7543</td>\n",
       "      <td>-73.9873</td>\n",
       "      <td>13</td>\n",
       "      <td>16</td>\n",
       "    </tr>\n",
       "    <tr>\n",
       "      <th>5313</th>\n",
       "      <td>40.7668</td>\n",
       "      <td>-73.9675</td>\n",
       "      <td>20</td>\n",
       "      <td>38</td>\n",
       "    </tr>\n",
       "    <tr>\n",
       "      <th>462655</th>\n",
       "      <td>40.7253</td>\n",
       "      <td>-73.9998</td>\n",
       "      <td>20</td>\n",
       "      <td>48</td>\n",
       "    </tr>\n",
       "    <tr>\n",
       "      <th>50485</th>\n",
       "      <td>40.7388</td>\n",
       "      <td>-74.0089</td>\n",
       "      <td>9</td>\n",
       "      <td>18</td>\n",
       "    </tr>\n",
       "  </tbody>\n",
       "</table>\n",
       "</div>"
      ],
      "text/plain": [
       "            Lat      Lon  Hour  Minutes\n",
       "506608  40.7294 -73.9933    15       28\n",
       "20838   40.7543 -73.9873    13       16\n",
       "5313    40.7668 -73.9675    20       38\n",
       "462655  40.7253 -73.9998    20       48\n",
       "50485   40.7388 -74.0089     9       18"
      ]
     },
     "execution_count": 220,
     "metadata": {},
     "output_type": "execute_result"
    }
   ],
   "source": [
    "friday.head()"
   ]
  },
  {
   "cell_type": "markdown",
   "metadata": {},
   "source": [
    "##### Scaling numerical data and one-hot encoding categorical data"
   ]
  },
  {
   "cell_type": "code",
   "execution_count": 221,
   "metadata": {},
   "outputs": [
    {
     "data": {
      "text/plain": [
       "array([[-0.32695001, -0.31868323,  0.00164975, -0.09574532],\n",
       "       [ 0.41053813, -0.18739404, -0.33979465, -0.78830673],\n",
       "       [ 0.78076309,  0.24586029,  0.85526074,  0.48138919],\n",
       "       [-0.4483838 , -0.46091319,  0.85526074,  1.0585237 ],\n",
       "       [-0.04854083, -0.66003514, -1.02268345, -0.67287983]])"
      ]
     },
     "execution_count": 221,
     "metadata": {},
     "output_type": "execute_result"
    }
   ],
   "source": [
    "# Import Standard Scaler\n",
    "from sklearn.preprocessing import StandardScaler\n",
    "\n",
    "# Initialize StandardScaler\n",
    "# StandardScaler will substract mean and divide by standard deviation to each observation\n",
    "sc = StandardScaler()\n",
    "\n",
    "# Apply StandardScaler to X\n",
    "X = sc.fit_transform(friday)\n",
    "\n",
    "# Visualize first five rows \n",
    "# Standard scaler transform X as numpy array. Therefore you can't use .head()\n",
    "X[:5]"
   ]
  },
  {
   "cell_type": "markdown",
   "metadata": {},
   "source": [
    "##### Determining how many clusters we should have using the Elbow method"
   ]
  },
  {
   "cell_type": "code",
   "execution_count": 222,
   "metadata": {},
   "outputs": [
    {
     "name": "stdout",
     "output_type": "stream",
     "text": [
      "WCSS for K=1 --> 64159.99999999988\n",
      "WCSS for K=2 --> 52098.27675697313\n",
      "WCSS for K=3 --> 43585.63632167005\n",
      "WCSS for K=4 --> 35189.802886933714\n",
      "WCSS for K=5 --> 30904.946225716954\n",
      "WCSS for K=6 --> 28241.741380411186\n",
      "WCSS for K=7 --> 25852.133572345225\n",
      "WCSS for K=8 --> 24136.660145391586\n",
      "WCSS for K=9 --> 21766.23826500042\n",
      "WCSS for K=10 --> 20284.5560190545\n"
     ]
    }
   ],
   "source": [
    "from sklearn.cluster import KMeans\n",
    "# Creating a loop that will collect the Within-sum-of-square (wcss) for each value of K \n",
    "# Use .inertia_ parameter to get the within sum of square value for each value of K \n",
    "wcss =  []\n",
    "k = []\n",
    "for i in range (1,11): \n",
    "    kmeans = KMeans(n_clusters= i, random_state = 0)\n",
    "    kmeans.fit(X)\n",
    "    wcss.append(kmeans.inertia_)\n",
    "    k.append(i)\n",
    "    print(\"WCSS for K={} --> {}\".format(i, wcss[-1]))"
   ]
  },
  {
   "cell_type": "markdown",
   "metadata": {},
   "source": [
    "##### Visualizing inertia as a function of K using plotly"
   ]
  },
  {
   "cell_type": "code",
   "execution_count": 223,
   "metadata": {},
   "outputs": [
    {
     "data": {
      "text/html": [
       "<iframe\n",
       "    scrolling=\"no\"\n",
       "    width=\"100%\"\n",
       "    height=\"545px\"\n",
       "    src=\"iframe_figures/figure_223.html\"\n",
       "    frameborder=\"0\"\n",
       "    allowfullscreen\n",
       "></iframe>\n"
      ]
     },
     "metadata": {},
     "output_type": "display_data"
    }
   ],
   "source": [
    "import plotly.express as px\n",
    "\n",
    "# Create DataFrame\n",
    "wcss_frame = pd.DataFrame(wcss)\n",
    "k_frame = pd.Series(k)\n",
    "\n",
    "# Create figure\n",
    "fig= px.line(\n",
    "    wcss_frame,\n",
    "    x=k_frame,\n",
    "    y=wcss_frame.iloc[:,-1]\n",
    ")\n",
    "\n",
    "# Create title and axis labels\n",
    "fig.update_layout(\n",
    "    yaxis_title=\"Inertia\",\n",
    "    xaxis_title=\"# Clusters\",\n",
    "    title=\"Inertia per cluster\"\n",
    ")\n",
    "\n",
    "# Render\n",
    "#fig.show(renderer=\"notebook\")\n",
    "fig.show(renderer=\"iframe\")"
   ]
  },
  {
   "cell_type": "markdown",
   "metadata": {},
   "source": [
    "##### It can be seen above that after K=4, inertia is not decreasing a lot."
   ]
  },
  {
   "cell_type": "markdown",
   "metadata": {},
   "source": [
    "##### Double-checking with the Silhouette method"
   ]
  },
  {
   "cell_type": "code",
   "execution_count": 224,
   "metadata": {},
   "outputs": [
    {
     "name": "stdout",
     "output_type": "stream",
     "text": [
      "Silhouette score for K=2 is 0.2305609162078008\n",
      "Silhouette score for K=3 is 0.24637377884061584\n",
      "Silhouette score for K=4 is 0.26730039369982406\n",
      "Silhouette score for K=5 is 0.26719138160638595\n",
      "Silhouette score for K=6 is 0.2525762012589088\n",
      "Silhouette score for K=7 is 0.2616166015621106\n",
      "Silhouette score for K=8 is 0.24453546550183505\n",
      "Silhouette score for K=9 is 0.25059071767297986\n",
      "Silhouette score for K=10 is 0.23264762471094497\n"
     ]
    }
   ],
   "source": [
    "# Import silhouette score\n",
    "from sklearn.metrics import silhouette_score\n",
    "\n",
    "# Computer mean silhouette score\n",
    "sil = []\n",
    "k = []\n",
    "\n",
    "## Careful, you need to start at i=2 as silhouette score cannot accept less than 2 labels \n",
    "for i in range (2,11): \n",
    "    kmeans = KMeans(n_clusters= i, init = \"k-means++\", random_state = 0)\n",
    "    kmeans.fit(X)\n",
    "    sil.append(silhouette_score(X, kmeans.predict(X)))\n",
    "    k.append(i)\n",
    "    print(\"Silhouette score for K={} is {}\".format(i, sil[-1]))"
   ]
  },
  {
   "cell_type": "markdown",
   "metadata": {},
   "source": [
    "##### Visualizing inertia as a function of K using plotly"
   ]
  },
  {
   "cell_type": "code",
   "execution_count": 225,
   "metadata": {},
   "outputs": [
    {
     "data": {
      "text/html": [
       "<iframe\n",
       "    scrolling=\"no\"\n",
       "    width=\"100%\"\n",
       "    height=\"545px\"\n",
       "    src=\"iframe_figures/figure_225.html\"\n",
       "    frameborder=\"0\"\n",
       "    allowfullscreen\n",
       "></iframe>\n"
      ]
     },
     "metadata": {},
     "output_type": "display_data"
    }
   ],
   "source": [
    "# Create a data frame \n",
    "cluster_scores=pd.DataFrame(sil)\n",
    "k_frame = pd.Series(k)\n",
    "\n",
    "# Create figure\n",
    "fig = px.bar(data_frame=cluster_scores,  \n",
    "             x=k, \n",
    "             y=cluster_scores.iloc[:, -1]\n",
    "            )\n",
    "\n",
    "# Add title and axis labels\n",
    "fig.update_layout(\n",
    "    yaxis_title=\"Silhouette Score\",\n",
    "    xaxis_title=\"# Clusters\",\n",
    "    title=\"Silhouette Score per cluster\"\n",
    ")\n",
    "\n",
    "# Render\n",
    "#fig.show(renderer=\"notebook\")\n",
    "fig.show(renderer=\"iframe\") # if using workspace"
   ]
  },
  {
   "cell_type": "markdown",
   "metadata": {},
   "source": [
    "##### The Silhouette method also suggests that K=4 is appropriate"
   ]
  },
  {
   "cell_type": "code",
   "execution_count": 226,
   "metadata": {},
   "outputs": [
    {
     "data": {
      "text/plain": [
       "KMeans(n_clusters=4, random_state=0)"
      ]
     },
     "execution_count": 226,
     "metadata": {},
     "output_type": "execute_result"
    }
   ],
   "source": [
    "# Import K-Means \n",
    "from sklearn.cluster import KMeans\n",
    "\n",
    "# Instanciate KMeans with k=4 and initialisation with k-means++\n",
    "# You should always use k-means++ as it alleviate the problem of local minimum convergence \n",
    "kmeans = KMeans(n_clusters=4, init = \"k-means++\", random_state=0)\n",
    "\n",
    "# Fit kmeans to our dataset\n",
    "kmeans.fit(X)"
   ]
  },
  {
   "cell_type": "code",
   "execution_count": 227,
   "metadata": {},
   "outputs": [
    {
     "data": {
      "text/html": [
       "<div>\n",
       "<style scoped>\n",
       "    .dataframe tbody tr th:only-of-type {\n",
       "        vertical-align: middle;\n",
       "    }\n",
       "\n",
       "    .dataframe tbody tr th {\n",
       "        vertical-align: top;\n",
       "    }\n",
       "\n",
       "    .dataframe thead th {\n",
       "        text-align: right;\n",
       "    }\n",
       "</style>\n",
       "<table border=\"1\" class=\"dataframe\">\n",
       "  <thead>\n",
       "    <tr style=\"text-align: right;\">\n",
       "      <th></th>\n",
       "      <th>Lat</th>\n",
       "      <th>Lon</th>\n",
       "      <th>Hour</th>\n",
       "      <th>Minutes</th>\n",
       "    </tr>\n",
       "  </thead>\n",
       "  <tbody>\n",
       "    <tr>\n",
       "      <th>506608</th>\n",
       "      <td>40.7294</td>\n",
       "      <td>-73.9933</td>\n",
       "      <td>15</td>\n",
       "      <td>28</td>\n",
       "    </tr>\n",
       "    <tr>\n",
       "      <th>20838</th>\n",
       "      <td>40.7543</td>\n",
       "      <td>-73.9873</td>\n",
       "      <td>13</td>\n",
       "      <td>16</td>\n",
       "    </tr>\n",
       "    <tr>\n",
       "      <th>5313</th>\n",
       "      <td>40.7668</td>\n",
       "      <td>-73.9675</td>\n",
       "      <td>20</td>\n",
       "      <td>38</td>\n",
       "    </tr>\n",
       "    <tr>\n",
       "      <th>462655</th>\n",
       "      <td>40.7253</td>\n",
       "      <td>-73.9998</td>\n",
       "      <td>20</td>\n",
       "      <td>48</td>\n",
       "    </tr>\n",
       "    <tr>\n",
       "      <th>50485</th>\n",
       "      <td>40.7388</td>\n",
       "      <td>-74.0089</td>\n",
       "      <td>9</td>\n",
       "      <td>18</td>\n",
       "    </tr>\n",
       "  </tbody>\n",
       "</table>\n",
       "</div>"
      ],
      "text/plain": [
       "            Lat      Lon  Hour  Minutes\n",
       "506608  40.7294 -73.9933    15       28\n",
       "20838   40.7543 -73.9873    13       16\n",
       "5313    40.7668 -73.9675    20       38\n",
       "462655  40.7253 -73.9998    20       48\n",
       "50485   40.7388 -74.0089     9       18"
      ]
     },
     "execution_count": 227,
     "metadata": {},
     "output_type": "execute_result"
    }
   ],
   "source": [
    "friday.head()"
   ]
  },
  {
   "cell_type": "code",
   "execution_count": 228,
   "metadata": {},
   "outputs": [],
   "source": [
    "friday.loc[:,\"Kmeans_Clusters\"] = kmeans.predict(X)"
   ]
  },
  {
   "cell_type": "code",
   "execution_count": 229,
   "metadata": {},
   "outputs": [
    {
     "data": {
      "text/html": [
       "<div>\n",
       "<style scoped>\n",
       "    .dataframe tbody tr th:only-of-type {\n",
       "        vertical-align: middle;\n",
       "    }\n",
       "\n",
       "    .dataframe tbody tr th {\n",
       "        vertical-align: top;\n",
       "    }\n",
       "\n",
       "    .dataframe thead th {\n",
       "        text-align: right;\n",
       "    }\n",
       "</style>\n",
       "<table border=\"1\" class=\"dataframe\">\n",
       "  <thead>\n",
       "    <tr style=\"text-align: right;\">\n",
       "      <th></th>\n",
       "      <th>Lat</th>\n",
       "      <th>Lon</th>\n",
       "      <th>Hour</th>\n",
       "      <th>Minutes</th>\n",
       "      <th>Kmeans_Clusters</th>\n",
       "    </tr>\n",
       "  </thead>\n",
       "  <tbody>\n",
       "    <tr>\n",
       "      <th>506608</th>\n",
       "      <td>40.7294</td>\n",
       "      <td>-73.9933</td>\n",
       "      <td>15</td>\n",
       "      <td>28</td>\n",
       "      <td>0</td>\n",
       "    </tr>\n",
       "    <tr>\n",
       "      <th>20838</th>\n",
       "      <td>40.7543</td>\n",
       "      <td>-73.9873</td>\n",
       "      <td>13</td>\n",
       "      <td>16</td>\n",
       "      <td>0</td>\n",
       "    </tr>\n",
       "    <tr>\n",
       "      <th>5313</th>\n",
       "      <td>40.7668</td>\n",
       "      <td>-73.9675</td>\n",
       "      <td>20</td>\n",
       "      <td>38</td>\n",
       "      <td>2</td>\n",
       "    </tr>\n",
       "    <tr>\n",
       "      <th>462655</th>\n",
       "      <td>40.7253</td>\n",
       "      <td>-73.9998</td>\n",
       "      <td>20</td>\n",
       "      <td>48</td>\n",
       "      <td>2</td>\n",
       "    </tr>\n",
       "    <tr>\n",
       "      <th>50485</th>\n",
       "      <td>40.7388</td>\n",
       "      <td>-74.0089</td>\n",
       "      <td>9</td>\n",
       "      <td>18</td>\n",
       "      <td>1</td>\n",
       "    </tr>\n",
       "  </tbody>\n",
       "</table>\n",
       "</div>"
      ],
      "text/plain": [
       "            Lat      Lon  Hour  Minutes  Kmeans_Clusters\n",
       "506608  40.7294 -73.9933    15       28                0\n",
       "20838   40.7543 -73.9873    13       16                0\n",
       "5313    40.7668 -73.9675    20       38                2\n",
       "462655  40.7253 -73.9998    20       48                2\n",
       "50485   40.7388 -74.0089     9       18                1"
      ]
     },
     "execution_count": 229,
     "metadata": {},
     "output_type": "execute_result"
    }
   ],
   "source": [
    "friday.head()"
   ]
  },
  {
   "cell_type": "markdown",
   "metadata": {},
   "source": [
    "##### A scatterplot to see how the Kmeans algorithm has clustered the pick-up points in New York city on Fridays"
   ]
  },
  {
   "cell_type": "code",
   "execution_count": 230,
   "metadata": {},
   "outputs": [
    {
     "data": {
      "text/html": [
       "<iframe\n",
       "    scrolling=\"no\"\n",
       "    width=\"100%\"\n",
       "    height=\"545px\"\n",
       "    src=\"iframe_figures/figure_230.html\"\n",
       "    frameborder=\"0\"\n",
       "    allowfullscreen\n",
       "></iframe>\n"
      ]
     },
     "metadata": {},
     "output_type": "display_data"
    }
   ],
   "source": [
    "fig = px.scatter_mapbox(friday,\n",
    "                        lat=\"Lat\",\n",
    "                        lon=\"Lon\",\n",
    "                        color=\"Kmeans_Clusters\",hover_name=\"Kmeans_Clusters\",\n",
    "                        mapbox_style=\"carto-positron\", zoom = 10)\n",
    "fig.show()"
   ]
  },
  {
   "cell_type": "markdown",
   "metadata": {},
   "source": [
    "### Picking Saturday to observe how the K-means clustering algorithm behaves"
   ]
  },
  {
   "cell_type": "code",
   "execution_count": 231,
   "metadata": {},
   "outputs": [
    {
     "data": {
      "text/html": [
       "<div>\n",
       "<style scoped>\n",
       "    .dataframe tbody tr th:only-of-type {\n",
       "        vertical-align: middle;\n",
       "    }\n",
       "\n",
       "    .dataframe tbody tr th {\n",
       "        vertical-align: top;\n",
       "    }\n",
       "\n",
       "    .dataframe thead th {\n",
       "        text-align: right;\n",
       "    }\n",
       "</style>\n",
       "<table border=\"1\" class=\"dataframe\">\n",
       "  <thead>\n",
       "    <tr style=\"text-align: right;\">\n",
       "      <th></th>\n",
       "      <th>Lat</th>\n",
       "      <th>Lon</th>\n",
       "      <th>Hour</th>\n",
       "      <th>Minutes</th>\n",
       "      <th>DayOfWeek</th>\n",
       "      <th>cluster</th>\n",
       "    </tr>\n",
       "  </thead>\n",
       "  <tbody>\n",
       "    <tr>\n",
       "      <th>59958</th>\n",
       "      <td>40.7145</td>\n",
       "      <td>-73.9845</td>\n",
       "      <td>19</td>\n",
       "      <td>40</td>\n",
       "      <td>Saturday</td>\n",
       "      <td>0</td>\n",
       "    </tr>\n",
       "    <tr>\n",
       "      <th>420950</th>\n",
       "      <td>40.7211</td>\n",
       "      <td>-73.9942</td>\n",
       "      <td>21</td>\n",
       "      <td>12</td>\n",
       "      <td>Saturday</td>\n",
       "      <td>0</td>\n",
       "    </tr>\n",
       "    <tr>\n",
       "      <th>58678</th>\n",
       "      <td>40.7629</td>\n",
       "      <td>-73.9716</td>\n",
       "      <td>16</td>\n",
       "      <td>36</td>\n",
       "      <td>Saturday</td>\n",
       "      <td>0</td>\n",
       "    </tr>\n",
       "    <tr>\n",
       "      <th>518449</th>\n",
       "      <td>40.7769</td>\n",
       "      <td>-73.9866</td>\n",
       "      <td>18</td>\n",
       "      <td>51</td>\n",
       "      <td>Saturday</td>\n",
       "      <td>0</td>\n",
       "    </tr>\n",
       "    <tr>\n",
       "      <th>21731</th>\n",
       "      <td>40.6448</td>\n",
       "      <td>-73.7823</td>\n",
       "      <td>13</td>\n",
       "      <td>57</td>\n",
       "      <td>Saturday</td>\n",
       "      <td>1</td>\n",
       "    </tr>\n",
       "  </tbody>\n",
       "</table>\n",
       "</div>"
      ],
      "text/plain": [
       "            Lat      Lon  Hour  Minutes DayOfWeek  cluster\n",
       "59958   40.7145 -73.9845    19       40  Saturday        0\n",
       "420950  40.7211 -73.9942    21       12  Saturday        0\n",
       "58678   40.7629 -73.9716    16       36  Saturday        0\n",
       "518449  40.7769 -73.9866    18       51  Saturday        0\n",
       "21731   40.6448 -73.7823    13       57  Saturday        1"
      ]
     },
     "execution_count": 231,
     "metadata": {},
     "output_type": "execute_result"
    }
   ],
   "source": [
    "saturday.head()"
   ]
  },
  {
   "cell_type": "code",
   "execution_count": 232,
   "metadata": {},
   "outputs": [],
   "source": [
    "saturday = saturday.drop(\"DayOfWeek\", axis = 1)\n",
    "saturday = saturday.drop(\"cluster\",  axis = 1)"
   ]
  },
  {
   "cell_type": "code",
   "execution_count": 233,
   "metadata": {},
   "outputs": [
    {
     "data": {
      "text/html": [
       "<div>\n",
       "<style scoped>\n",
       "    .dataframe tbody tr th:only-of-type {\n",
       "        vertical-align: middle;\n",
       "    }\n",
       "\n",
       "    .dataframe tbody tr th {\n",
       "        vertical-align: top;\n",
       "    }\n",
       "\n",
       "    .dataframe thead th {\n",
       "        text-align: right;\n",
       "    }\n",
       "</style>\n",
       "<table border=\"1\" class=\"dataframe\">\n",
       "  <thead>\n",
       "    <tr style=\"text-align: right;\">\n",
       "      <th></th>\n",
       "      <th>Lat</th>\n",
       "      <th>Lon</th>\n",
       "      <th>Hour</th>\n",
       "      <th>Minutes</th>\n",
       "    </tr>\n",
       "  </thead>\n",
       "  <tbody>\n",
       "    <tr>\n",
       "      <th>59958</th>\n",
       "      <td>40.7145</td>\n",
       "      <td>-73.9845</td>\n",
       "      <td>19</td>\n",
       "      <td>40</td>\n",
       "    </tr>\n",
       "    <tr>\n",
       "      <th>420950</th>\n",
       "      <td>40.7211</td>\n",
       "      <td>-73.9942</td>\n",
       "      <td>21</td>\n",
       "      <td>12</td>\n",
       "    </tr>\n",
       "    <tr>\n",
       "      <th>58678</th>\n",
       "      <td>40.7629</td>\n",
       "      <td>-73.9716</td>\n",
       "      <td>16</td>\n",
       "      <td>36</td>\n",
       "    </tr>\n",
       "    <tr>\n",
       "      <th>518449</th>\n",
       "      <td>40.7769</td>\n",
       "      <td>-73.9866</td>\n",
       "      <td>18</td>\n",
       "      <td>51</td>\n",
       "    </tr>\n",
       "    <tr>\n",
       "      <th>21731</th>\n",
       "      <td>40.6448</td>\n",
       "      <td>-73.7823</td>\n",
       "      <td>13</td>\n",
       "      <td>57</td>\n",
       "    </tr>\n",
       "  </tbody>\n",
       "</table>\n",
       "</div>"
      ],
      "text/plain": [
       "            Lat      Lon  Hour  Minutes\n",
       "59958   40.7145 -73.9845    19       40\n",
       "420950  40.7211 -73.9942    21       12\n",
       "58678   40.7629 -73.9716    16       36\n",
       "518449  40.7769 -73.9866    18       51\n",
       "21731   40.6448 -73.7823    13       57"
      ]
     },
     "execution_count": 233,
     "metadata": {},
     "output_type": "execute_result"
    }
   ],
   "source": [
    "saturday.head()"
   ]
  },
  {
   "cell_type": "markdown",
   "metadata": {},
   "source": [
    "##### Scaling numerical data and one-hot encoding categorical data"
   ]
  },
  {
   "cell_type": "code",
   "execution_count": 234,
   "metadata": {},
   "outputs": [
    {
     "data": {
      "text/plain": [
       "array([[-0.59918153, -0.12862546,  0.60009097,  0.6012842 ],\n",
       "       [-0.42182377, -0.34536715,  0.90665169, -1.03050528],\n",
       "       [ 0.70144203,  0.15961864,  0.14024989,  0.36817142],\n",
       "       [ 1.07765546, -0.17554892,  0.44681061,  1.24234435],\n",
       "       [-2.47218696,  4.38943323, -0.31959119,  1.59201353]])"
      ]
     },
     "execution_count": 234,
     "metadata": {},
     "output_type": "execute_result"
    }
   ],
   "source": [
    "# Import Standard Scaler\n",
    "from sklearn.preprocessing import StandardScaler\n",
    "\n",
    "# Initialize StandardScaler\n",
    "# StandardScaler will substract mean and divide by standard deviation to each observation\n",
    "sc = StandardScaler()\n",
    "\n",
    "# Apply StandardScaler to X\n",
    "X = sc.fit_transform(saturday)\n",
    "\n",
    "# Visualize first five rows \n",
    "# Standard scaler transform X as numpy array. Therefore you can't use .head()\n",
    "X[:5]"
   ]
  },
  {
   "cell_type": "markdown",
   "metadata": {},
   "source": [
    "##### Determining how many clusters we should have using the Elbow method"
   ]
  },
  {
   "cell_type": "code",
   "execution_count": 235,
   "metadata": {},
   "outputs": [
    {
     "name": "stdout",
     "output_type": "stream",
     "text": [
      "WCSS for K=1 --> 54252.000000000065\n",
      "WCSS for K=2 --> 44048.97932404156\n",
      "WCSS for K=3 --> 36304.06529773674\n",
      "WCSS for K=4 --> 29866.07925577068\n",
      "WCSS for K=5 --> 26065.48099853677\n",
      "WCSS for K=6 --> 23718.798797511266\n",
      "WCSS for K=7 --> 21921.780478011762\n",
      "WCSS for K=8 --> 20183.885375196318\n",
      "WCSS for K=9 --> 18798.468280318946\n",
      "WCSS for K=10 --> 17883.406388640327\n"
     ]
    }
   ],
   "source": [
    "from sklearn.cluster import KMeans\n",
    "# Creating a loop that will collect the Within-sum-of-square (wcss) for each value of K \n",
    "# Use .inertia_ parameter to get the within sum of square value for each value of K \n",
    "wcss =  []\n",
    "k = []\n",
    "for i in range (1,11): \n",
    "    kmeans = KMeans(n_clusters= i, random_state = 0)\n",
    "    kmeans.fit(X)\n",
    "    wcss.append(kmeans.inertia_)\n",
    "    k.append(i)\n",
    "    print(\"WCSS for K={} --> {}\".format(i, wcss[-1]))"
   ]
  },
  {
   "cell_type": "markdown",
   "metadata": {},
   "source": [
    "##### Visualizing inertia as a function of K using plotly"
   ]
  },
  {
   "cell_type": "code",
   "execution_count": 236,
   "metadata": {},
   "outputs": [
    {
     "data": {
      "text/html": [
       "<iframe\n",
       "    scrolling=\"no\"\n",
       "    width=\"100%\"\n",
       "    height=\"545px\"\n",
       "    src=\"iframe_figures/figure_236.html\"\n",
       "    frameborder=\"0\"\n",
       "    allowfullscreen\n",
       "></iframe>\n"
      ]
     },
     "metadata": {},
     "output_type": "display_data"
    }
   ],
   "source": [
    "import plotly.express as px\n",
    "\n",
    "# Create DataFrame\n",
    "wcss_frame = pd.DataFrame(wcss)\n",
    "k_frame = pd.Series(k)\n",
    "\n",
    "# Create figure\n",
    "fig= px.line(\n",
    "    wcss_frame,\n",
    "    x=k_frame,\n",
    "    y=wcss_frame.iloc[:,-1]\n",
    ")\n",
    "\n",
    "# Create title and axis labels\n",
    "fig.update_layout(\n",
    "    yaxis_title=\"Inertia\",\n",
    "    xaxis_title=\"# Clusters\",\n",
    "    title=\"Inertia per cluster\"\n",
    ")\n",
    "\n",
    "# Render\n",
    "#fig.show(renderer=\"notebook\")\n",
    "fig.show(renderer=\"iframe\")"
   ]
  },
  {
   "cell_type": "markdown",
   "metadata": {},
   "source": [
    "##### It can be seen above that after K=4, inertia is not decreasing a lot."
   ]
  },
  {
   "cell_type": "markdown",
   "metadata": {},
   "source": [
    "##### Double-checking with the Silhouette method"
   ]
  },
  {
   "cell_type": "code",
   "execution_count": 237,
   "metadata": {},
   "outputs": [
    {
     "name": "stdout",
     "output_type": "stream",
     "text": [
      "Silhouette score for K=2 is 0.23142510467268715\n",
      "Silhouette score for K=3 is 0.2619211679315283\n",
      "Silhouette score for K=4 is 0.27916284524724305\n",
      "Silhouette score for K=5 is 0.271726241021253\n",
      "Silhouette score for K=6 is 0.2801093005766434\n",
      "Silhouette score for K=7 is 0.2700268499663966\n",
      "Silhouette score for K=8 is 0.2586406181239999\n",
      "Silhouette score for K=9 is 0.23546360026667784\n",
      "Silhouette score for K=10 is 0.23408523732083614\n"
     ]
    }
   ],
   "source": [
    "# Import silhouette score\n",
    "from sklearn.metrics import silhouette_score\n",
    "\n",
    "# Computer mean silhouette score\n",
    "sil = []\n",
    "k = []\n",
    "\n",
    "## Careful, you need to start at i=2 as silhouette score cannot accept less than 2 labels \n",
    "for i in range (2,11): \n",
    "    kmeans = KMeans(n_clusters= i, init = \"k-means++\", random_state = 0)\n",
    "    kmeans.fit(X)\n",
    "    sil.append(silhouette_score(X, kmeans.predict(X)))\n",
    "    k.append(i)\n",
    "    print(\"Silhouette score for K={} is {}\".format(i, sil[-1]))"
   ]
  },
  {
   "cell_type": "markdown",
   "metadata": {},
   "source": [
    "##### Visualizing inertia as a function of K using plotly"
   ]
  },
  {
   "cell_type": "code",
   "execution_count": 238,
   "metadata": {},
   "outputs": [
    {
     "data": {
      "text/html": [
       "<iframe\n",
       "    scrolling=\"no\"\n",
       "    width=\"100%\"\n",
       "    height=\"545px\"\n",
       "    src=\"iframe_figures/figure_238.html\"\n",
       "    frameborder=\"0\"\n",
       "    allowfullscreen\n",
       "></iframe>\n"
      ]
     },
     "metadata": {},
     "output_type": "display_data"
    }
   ],
   "source": [
    "# Create a data frame \n",
    "cluster_scores=pd.DataFrame(sil)\n",
    "k_frame = pd.Series(k)\n",
    "\n",
    "# Create figure\n",
    "fig = px.bar(data_frame=cluster_scores,  \n",
    "             x=k, \n",
    "             y=cluster_scores.iloc[:, -1]\n",
    "            )\n",
    "\n",
    "# Add title and axis labels\n",
    "fig.update_layout(\n",
    "    yaxis_title=\"Silhouette Score\",\n",
    "    xaxis_title=\"# Clusters\",\n",
    "    title=\"Silhouette Score per cluster\"\n",
    ")\n",
    "\n",
    "# Render\n",
    "#fig.show(renderer=\"notebook\")\n",
    "fig.show(renderer=\"iframe\") # if using workspace"
   ]
  },
  {
   "cell_type": "markdown",
   "metadata": {},
   "source": [
    "##### The Silhouette method also suggests that K=4 is appropriate"
   ]
  },
  {
   "cell_type": "code",
   "execution_count": 239,
   "metadata": {},
   "outputs": [
    {
     "data": {
      "text/plain": [
       "KMeans(n_clusters=4, random_state=0)"
      ]
     },
     "execution_count": 239,
     "metadata": {},
     "output_type": "execute_result"
    }
   ],
   "source": [
    "# Import K-Means\n",
    "from sklearn.cluster import KMeans\n",
    "\n",
    "# Instanciate KMeans with k=4 and initialisation with k-means++\n",
    "# You should always use k-means++ as it alleviate the problem of local minimum convergence \n",
    "kmeans = KMeans(n_clusters=4, init = \"k-means++\", random_state=0)\n",
    "\n",
    "# Fit kmeans to our dataset\n",
    "kmeans.fit(X)"
   ]
  },
  {
   "cell_type": "code",
   "execution_count": 240,
   "metadata": {},
   "outputs": [
    {
     "data": {
      "text/html": [
       "<div>\n",
       "<style scoped>\n",
       "    .dataframe tbody tr th:only-of-type {\n",
       "        vertical-align: middle;\n",
       "    }\n",
       "\n",
       "    .dataframe tbody tr th {\n",
       "        vertical-align: top;\n",
       "    }\n",
       "\n",
       "    .dataframe thead th {\n",
       "        text-align: right;\n",
       "    }\n",
       "</style>\n",
       "<table border=\"1\" class=\"dataframe\">\n",
       "  <thead>\n",
       "    <tr style=\"text-align: right;\">\n",
       "      <th></th>\n",
       "      <th>Lat</th>\n",
       "      <th>Lon</th>\n",
       "      <th>Hour</th>\n",
       "      <th>Minutes</th>\n",
       "    </tr>\n",
       "  </thead>\n",
       "  <tbody>\n",
       "    <tr>\n",
       "      <th>59958</th>\n",
       "      <td>40.7145</td>\n",
       "      <td>-73.9845</td>\n",
       "      <td>19</td>\n",
       "      <td>40</td>\n",
       "    </tr>\n",
       "    <tr>\n",
       "      <th>420950</th>\n",
       "      <td>40.7211</td>\n",
       "      <td>-73.9942</td>\n",
       "      <td>21</td>\n",
       "      <td>12</td>\n",
       "    </tr>\n",
       "    <tr>\n",
       "      <th>58678</th>\n",
       "      <td>40.7629</td>\n",
       "      <td>-73.9716</td>\n",
       "      <td>16</td>\n",
       "      <td>36</td>\n",
       "    </tr>\n",
       "    <tr>\n",
       "      <th>518449</th>\n",
       "      <td>40.7769</td>\n",
       "      <td>-73.9866</td>\n",
       "      <td>18</td>\n",
       "      <td>51</td>\n",
       "    </tr>\n",
       "    <tr>\n",
       "      <th>21731</th>\n",
       "      <td>40.6448</td>\n",
       "      <td>-73.7823</td>\n",
       "      <td>13</td>\n",
       "      <td>57</td>\n",
       "    </tr>\n",
       "  </tbody>\n",
       "</table>\n",
       "</div>"
      ],
      "text/plain": [
       "            Lat      Lon  Hour  Minutes\n",
       "59958   40.7145 -73.9845    19       40\n",
       "420950  40.7211 -73.9942    21       12\n",
       "58678   40.7629 -73.9716    16       36\n",
       "518449  40.7769 -73.9866    18       51\n",
       "21731   40.6448 -73.7823    13       57"
      ]
     },
     "execution_count": 240,
     "metadata": {},
     "output_type": "execute_result"
    }
   ],
   "source": [
    "saturday.head()"
   ]
  },
  {
   "cell_type": "code",
   "execution_count": 241,
   "metadata": {},
   "outputs": [],
   "source": [
    "saturday.loc[:,\"Kmeans_Clusters\"] = kmeans.predict(X)"
   ]
  },
  {
   "cell_type": "code",
   "execution_count": 242,
   "metadata": {},
   "outputs": [
    {
     "data": {
      "text/html": [
       "<div>\n",
       "<style scoped>\n",
       "    .dataframe tbody tr th:only-of-type {\n",
       "        vertical-align: middle;\n",
       "    }\n",
       "\n",
       "    .dataframe tbody tr th {\n",
       "        vertical-align: top;\n",
       "    }\n",
       "\n",
       "    .dataframe thead th {\n",
       "        text-align: right;\n",
       "    }\n",
       "</style>\n",
       "<table border=\"1\" class=\"dataframe\">\n",
       "  <thead>\n",
       "    <tr style=\"text-align: right;\">\n",
       "      <th></th>\n",
       "      <th>Lat</th>\n",
       "      <th>Lon</th>\n",
       "      <th>Hour</th>\n",
       "      <th>Minutes</th>\n",
       "      <th>Kmeans_Clusters</th>\n",
       "    </tr>\n",
       "  </thead>\n",
       "  <tbody>\n",
       "    <tr>\n",
       "      <th>59958</th>\n",
       "      <td>40.7145</td>\n",
       "      <td>-73.9845</td>\n",
       "      <td>19</td>\n",
       "      <td>40</td>\n",
       "      <td>2</td>\n",
       "    </tr>\n",
       "    <tr>\n",
       "      <th>420950</th>\n",
       "      <td>40.7211</td>\n",
       "      <td>-73.9942</td>\n",
       "      <td>21</td>\n",
       "      <td>12</td>\n",
       "      <td>0</td>\n",
       "    </tr>\n",
       "    <tr>\n",
       "      <th>58678</th>\n",
       "      <td>40.7629</td>\n",
       "      <td>-73.9716</td>\n",
       "      <td>16</td>\n",
       "      <td>36</td>\n",
       "      <td>2</td>\n",
       "    </tr>\n",
       "    <tr>\n",
       "      <th>518449</th>\n",
       "      <td>40.7769</td>\n",
       "      <td>-73.9866</td>\n",
       "      <td>18</td>\n",
       "      <td>51</td>\n",
       "      <td>2</td>\n",
       "    </tr>\n",
       "    <tr>\n",
       "      <th>21731</th>\n",
       "      <td>40.6448</td>\n",
       "      <td>-73.7823</td>\n",
       "      <td>13</td>\n",
       "      <td>57</td>\n",
       "      <td>3</td>\n",
       "    </tr>\n",
       "  </tbody>\n",
       "</table>\n",
       "</div>"
      ],
      "text/plain": [
       "            Lat      Lon  Hour  Minutes  Kmeans_Clusters\n",
       "59958   40.7145 -73.9845    19       40                2\n",
       "420950  40.7211 -73.9942    21       12                0\n",
       "58678   40.7629 -73.9716    16       36                2\n",
       "518449  40.7769 -73.9866    18       51                2\n",
       "21731   40.6448 -73.7823    13       57                3"
      ]
     },
     "execution_count": 242,
     "metadata": {},
     "output_type": "execute_result"
    }
   ],
   "source": [
    "saturday.head()"
   ]
  },
  {
   "cell_type": "markdown",
   "metadata": {},
   "source": [
    "##### A scatterplot to see how the Kmeans algorithm has clustered the pick-up points in New York city on Saturdays"
   ]
  },
  {
   "cell_type": "code",
   "execution_count": 243,
   "metadata": {},
   "outputs": [
    {
     "data": {
      "text/html": [
       "<iframe\n",
       "    scrolling=\"no\"\n",
       "    width=\"100%\"\n",
       "    height=\"545px\"\n",
       "    src=\"iframe_figures/figure_243.html\"\n",
       "    frameborder=\"0\"\n",
       "    allowfullscreen\n",
       "></iframe>\n"
      ]
     },
     "metadata": {},
     "output_type": "display_data"
    }
   ],
   "source": [
    "fig = px.scatter_mapbox(saturday,\n",
    "                        lat=\"Lat\",\n",
    "                        lon=\"Lon\",\n",
    "                        color=\"Kmeans_Clusters\",hover_name=\"Kmeans_Clusters\",\n",
    "                        mapbox_style=\"carto-positron\", zoom = 10)\n",
    "fig.show()"
   ]
  },
  {
   "cell_type": "markdown",
   "metadata": {},
   "source": [
    "## Showing clusters per hour for Sunday with Kmeans"
   ]
  },
  {
   "cell_type": "code",
   "execution_count": 244,
   "metadata": {},
   "outputs": [
    {
     "data": {
      "text/html": [
       "<div>\n",
       "<style scoped>\n",
       "    .dataframe tbody tr th:only-of-type {\n",
       "        vertical-align: middle;\n",
       "    }\n",
       "\n",
       "    .dataframe tbody tr th {\n",
       "        vertical-align: top;\n",
       "    }\n",
       "\n",
       "    .dataframe thead th {\n",
       "        text-align: right;\n",
       "    }\n",
       "</style>\n",
       "<table border=\"1\" class=\"dataframe\">\n",
       "  <thead>\n",
       "    <tr style=\"text-align: right;\">\n",
       "      <th></th>\n",
       "      <th>Lat</th>\n",
       "      <th>Lon</th>\n",
       "      <th>Hour</th>\n",
       "      <th>Minutes</th>\n",
       "      <th>Kmeans_Clusters</th>\n",
       "    </tr>\n",
       "  </thead>\n",
       "  <tbody>\n",
       "    <tr>\n",
       "      <th>522042</th>\n",
       "      <td>40.7327</td>\n",
       "      <td>-73.9937</td>\n",
       "      <td>0</td>\n",
       "      <td>26</td>\n",
       "      <td>3</td>\n",
       "    </tr>\n",
       "    <tr>\n",
       "      <th>310805</th>\n",
       "      <td>40.6872</td>\n",
       "      <td>-73.9223</td>\n",
       "      <td>0</td>\n",
       "      <td>30</td>\n",
       "      <td>3</td>\n",
       "    </tr>\n",
       "    <tr>\n",
       "      <th>522209</th>\n",
       "      <td>40.7201</td>\n",
       "      <td>-73.9874</td>\n",
       "      <td>0</td>\n",
       "      <td>45</td>\n",
       "      <td>3</td>\n",
       "    </tr>\n",
       "    <tr>\n",
       "      <th>185626</th>\n",
       "      <td>40.7073</td>\n",
       "      <td>-74.0095</td>\n",
       "      <td>0</td>\n",
       "      <td>17</td>\n",
       "      <td>3</td>\n",
       "    </tr>\n",
       "    <tr>\n",
       "      <th>62346</th>\n",
       "      <td>40.7181</td>\n",
       "      <td>-73.9903</td>\n",
       "      <td>0</td>\n",
       "      <td>50</td>\n",
       "      <td>3</td>\n",
       "    </tr>\n",
       "    <tr>\n",
       "      <th>...</th>\n",
       "      <td>...</td>\n",
       "      <td>...</td>\n",
       "      <td>...</td>\n",
       "      <td>...</td>\n",
       "      <td>...</td>\n",
       "    </tr>\n",
       "    <tr>\n",
       "      <th>288336</th>\n",
       "      <td>40.7309</td>\n",
       "      <td>-73.9548</td>\n",
       "      <td>23</td>\n",
       "      <td>3</td>\n",
       "      <td>1</td>\n",
       "    </tr>\n",
       "    <tr>\n",
       "      <th>190999</th>\n",
       "      <td>40.6878</td>\n",
       "      <td>-74.1815</td>\n",
       "      <td>23</td>\n",
       "      <td>26</td>\n",
       "      <td>1</td>\n",
       "    </tr>\n",
       "    <tr>\n",
       "      <th>65774</th>\n",
       "      <td>40.7450</td>\n",
       "      <td>-73.9785</td>\n",
       "      <td>23</td>\n",
       "      <td>45</td>\n",
       "      <td>2</td>\n",
       "    </tr>\n",
       "    <tr>\n",
       "      <th>191004</th>\n",
       "      <td>40.7710</td>\n",
       "      <td>-73.8659</td>\n",
       "      <td>23</td>\n",
       "      <td>30</td>\n",
       "      <td>1</td>\n",
       "    </tr>\n",
       "    <tr>\n",
       "      <th>140453</th>\n",
       "      <td>40.6365</td>\n",
       "      <td>-74.0081</td>\n",
       "      <td>23</td>\n",
       "      <td>17</td>\n",
       "      <td>1</td>\n",
       "    </tr>\n",
       "  </tbody>\n",
       "</table>\n",
       "<p>8989 rows × 5 columns</p>\n",
       "</div>"
      ],
      "text/plain": [
       "            Lat      Lon  Hour  Minutes  Kmeans_Clusters\n",
       "522042  40.7327 -73.9937     0       26                3\n",
       "310805  40.6872 -73.9223     0       30                3\n",
       "522209  40.7201 -73.9874     0       45                3\n",
       "185626  40.7073 -74.0095     0       17                3\n",
       "62346   40.7181 -73.9903     0       50                3\n",
       "...         ...      ...   ...      ...              ...\n",
       "288336  40.7309 -73.9548    23        3                1\n",
       "190999  40.6878 -74.1815    23       26                1\n",
       "65774   40.7450 -73.9785    23       45                2\n",
       "191004  40.7710 -73.8659    23       30                1\n",
       "140453  40.6365 -74.0081    23       17                1\n",
       "\n",
       "[8989 rows x 5 columns]"
      ]
     },
     "execution_count": 244,
     "metadata": {},
     "output_type": "execute_result"
    }
   ],
   "source": [
    "sunday_sort = sunday.sort_values(by=[\"Hour\"])\n",
    "sunday_sort"
   ]
  },
  {
   "cell_type": "code",
   "execution_count": 245,
   "metadata": {},
   "outputs": [
    {
     "data": {
      "text/html": [
       "<iframe\n",
       "    scrolling=\"no\"\n",
       "    width=\"620px\"\n",
       "    height=\"620\"\n",
       "    src=\"iframe_figures/figure_245.html\"\n",
       "    frameborder=\"0\"\n",
       "    allowfullscreen\n",
       "></iframe>\n"
      ]
     },
     "metadata": {},
     "output_type": "display_data"
    }
   ],
   "source": [
    "fig_sunday_Kmeans_cluster = px.scatter_mapbox(\n",
    "    sunday_sort,\n",
    "    lat=\"Lat\",\n",
    "    lon=\"Lon\",\n",
    "    color=\"Kmeans_Clusters\",\n",
    "    mapbox_style=\"carto-positron\",\n",
    "    color_continuous_scale=None,\n",
    "    zoom=10,\n",
    "    animation_frame=\"Hour\",\n",
    ")\n",
    "\n",
    "\n",
    "fig_sunday_cluster.update_layout(\n",
    "    autosize=False,\n",
    "    width=600,\n",
    "    height=600,\n",
    "    showlegend=False,\n",
    "    title= \"Traffic by hour on Sunday\"\n",
    "      )\n",
    "img_name = \"Traffic by hour on Sunday\"\n",
    "fig_sunday_cluster.write_html(img_name)\n",
    "fig_sunday_cluster.show()"
   ]
  },
  {
   "cell_type": "markdown",
   "metadata": {},
   "source": [
    "## Showing clusters per hour for Monday with Kmeans"
   ]
  },
  {
   "cell_type": "code",
   "execution_count": 246,
   "metadata": {},
   "outputs": [
    {
     "data": {
      "text/html": [
       "<div>\n",
       "<style scoped>\n",
       "    .dataframe tbody tr th:only-of-type {\n",
       "        vertical-align: middle;\n",
       "    }\n",
       "\n",
       "    .dataframe tbody tr th {\n",
       "        vertical-align: top;\n",
       "    }\n",
       "\n",
       "    .dataframe thead th {\n",
       "        text-align: right;\n",
       "    }\n",
       "</style>\n",
       "<table border=\"1\" class=\"dataframe\">\n",
       "  <thead>\n",
       "    <tr style=\"text-align: right;\">\n",
       "      <th></th>\n",
       "      <th>Lat</th>\n",
       "      <th>Lon</th>\n",
       "      <th>Hour</th>\n",
       "      <th>Minutes</th>\n",
       "      <th>Kmeans_Clusters</th>\n",
       "    </tr>\n",
       "  </thead>\n",
       "  <tbody>\n",
       "    <tr>\n",
       "      <th>527170</th>\n",
       "      <td>40.6317</td>\n",
       "      <td>-73.9360</td>\n",
       "      <td>0</td>\n",
       "      <td>18</td>\n",
       "      <td>2</td>\n",
       "    </tr>\n",
       "    <tr>\n",
       "      <th>560980</th>\n",
       "      <td>40.6946</td>\n",
       "      <td>-74.1778</td>\n",
       "      <td>0</td>\n",
       "      <td>29</td>\n",
       "      <td>2</td>\n",
       "    </tr>\n",
       "    <tr>\n",
       "      <th>102704</th>\n",
       "      <td>40.7589</td>\n",
       "      <td>-73.9613</td>\n",
       "      <td>0</td>\n",
       "      <td>6</td>\n",
       "      <td>2</td>\n",
       "    </tr>\n",
       "    <tr>\n",
       "      <th>30902</th>\n",
       "      <td>40.7250</td>\n",
       "      <td>-73.9772</td>\n",
       "      <td>0</td>\n",
       "      <td>57</td>\n",
       "      <td>2</td>\n",
       "    </tr>\n",
       "    <tr>\n",
       "      <th>313344</th>\n",
       "      <td>40.6894</td>\n",
       "      <td>-74.1842</td>\n",
       "      <td>0</td>\n",
       "      <td>7</td>\n",
       "      <td>2</td>\n",
       "    </tr>\n",
       "    <tr>\n",
       "      <th>...</th>\n",
       "      <td>...</td>\n",
       "      <td>...</td>\n",
       "      <td>...</td>\n",
       "      <td>...</td>\n",
       "      <td>...</td>\n",
       "    </tr>\n",
       "    <tr>\n",
       "      <th>432886</th>\n",
       "      <td>40.7084</td>\n",
       "      <td>-73.9986</td>\n",
       "      <td>23</td>\n",
       "      <td>39</td>\n",
       "      <td>1</td>\n",
       "    </tr>\n",
       "    <tr>\n",
       "      <th>145068</th>\n",
       "      <td>40.7640</td>\n",
       "      <td>-73.9744</td>\n",
       "      <td>23</td>\n",
       "      <td>33</td>\n",
       "      <td>1</td>\n",
       "    </tr>\n",
       "    <tr>\n",
       "      <th>479612</th>\n",
       "      <td>40.7496</td>\n",
       "      <td>-73.9794</td>\n",
       "      <td>23</td>\n",
       "      <td>41</td>\n",
       "      <td>1</td>\n",
       "    </tr>\n",
       "    <tr>\n",
       "      <th>479603</th>\n",
       "      <td>40.6951</td>\n",
       "      <td>-74.1781</td>\n",
       "      <td>23</td>\n",
       "      <td>36</td>\n",
       "      <td>1</td>\n",
       "    </tr>\n",
       "    <tr>\n",
       "      <th>384452</th>\n",
       "      <td>40.7284</td>\n",
       "      <td>-74.0000</td>\n",
       "      <td>23</td>\n",
       "      <td>16</td>\n",
       "      <td>0</td>\n",
       "    </tr>\n",
       "  </tbody>\n",
       "</table>\n",
       "<p>10755 rows × 5 columns</p>\n",
       "</div>"
      ],
      "text/plain": [
       "            Lat      Lon  Hour  Minutes  Kmeans_Clusters\n",
       "527170  40.6317 -73.9360     0       18                2\n",
       "560980  40.6946 -74.1778     0       29                2\n",
       "102704  40.7589 -73.9613     0        6                2\n",
       "30902   40.7250 -73.9772     0       57                2\n",
       "313344  40.6894 -74.1842     0        7                2\n",
       "...         ...      ...   ...      ...              ...\n",
       "432886  40.7084 -73.9986    23       39                1\n",
       "145068  40.7640 -73.9744    23       33                1\n",
       "479612  40.7496 -73.9794    23       41                1\n",
       "479603  40.6951 -74.1781    23       36                1\n",
       "384452  40.7284 -74.0000    23       16                0\n",
       "\n",
       "[10755 rows x 5 columns]"
      ]
     },
     "execution_count": 246,
     "metadata": {},
     "output_type": "execute_result"
    }
   ],
   "source": [
    "monday_sort = monday.sort_values(by=[\"Hour\"])\n",
    "monday_sort"
   ]
  },
  {
   "cell_type": "code",
   "execution_count": 247,
   "metadata": {},
   "outputs": [
    {
     "data": {
      "text/html": [
       "<iframe\n",
       "    scrolling=\"no\"\n",
       "    width=\"620px\"\n",
       "    height=\"620\"\n",
       "    src=\"iframe_figures/figure_247.html\"\n",
       "    frameborder=\"0\"\n",
       "    allowfullscreen\n",
       "></iframe>\n"
      ]
     },
     "metadata": {},
     "output_type": "display_data"
    }
   ],
   "source": [
    "fig_monday_Kmeans_cluster = px.scatter_mapbox(\n",
    "    monday_sort,\n",
    "    lat=\"Lat\",\n",
    "    lon=\"Lon\",\n",
    "    color=\"Kmeans_Clusters\",\n",
    "    mapbox_style=\"carto-positron\",\n",
    "    color_continuous_scale=None,\n",
    "    zoom=10,\n",
    "    animation_frame=\"Hour\",\n",
    ")\n",
    "\n",
    "\n",
    "fig_monday_Kmeans_cluster.update_layout(\n",
    "    autosize=False,\n",
    "    width=600,\n",
    "    height=600,\n",
    "    showlegend=False,\n",
    "    title= \"Traffic by hour on Monday\"\n",
    "      )\n",
    "img_name = \"Traffic by hour on Monday\"\n",
    "fig_monday_Kmeans_cluster.write_html(img_name)\n",
    "fig_monday_Kmeans_cluster.show()"
   ]
  },
  {
   "cell_type": "markdown",
   "metadata": {},
   "source": [
    "## Showing clusters per hour for Tuesday with Kmeans"
   ]
  },
  {
   "cell_type": "code",
   "execution_count": 248,
   "metadata": {},
   "outputs": [
    {
     "data": {
      "text/html": [
       "<div>\n",
       "<style scoped>\n",
       "    .dataframe tbody tr th:only-of-type {\n",
       "        vertical-align: middle;\n",
       "    }\n",
       "\n",
       "    .dataframe tbody tr th {\n",
       "        vertical-align: top;\n",
       "    }\n",
       "\n",
       "    .dataframe thead th {\n",
       "        text-align: right;\n",
       "    }\n",
       "</style>\n",
       "<table border=\"1\" class=\"dataframe\">\n",
       "  <thead>\n",
       "    <tr style=\"text-align: right;\">\n",
       "      <th></th>\n",
       "      <th>Lat</th>\n",
       "      <th>Lon</th>\n",
       "      <th>Hour</th>\n",
       "      <th>Minutes</th>\n",
       "      <th>Kmeans_Clusters</th>\n",
       "    </tr>\n",
       "  </thead>\n",
       "  <tbody>\n",
       "    <tr>\n",
       "      <th>326822</th>\n",
       "      <td>40.7531</td>\n",
       "      <td>-73.9799</td>\n",
       "      <td>0</td>\n",
       "      <td>21</td>\n",
       "      <td>2</td>\n",
       "    </tr>\n",
       "    <tr>\n",
       "      <th>326831</th>\n",
       "      <td>40.7405</td>\n",
       "      <td>-74.0057</td>\n",
       "      <td>0</td>\n",
       "      <td>28</td>\n",
       "      <td>2</td>\n",
       "    </tr>\n",
       "    <tr>\n",
       "      <th>145114</th>\n",
       "      <td>40.7148</td>\n",
       "      <td>-74.0153</td>\n",
       "      <td>0</td>\n",
       "      <td>19</td>\n",
       "      <td>2</td>\n",
       "    </tr>\n",
       "    <tr>\n",
       "      <th>196822</th>\n",
       "      <td>40.7194</td>\n",
       "      <td>-74.0042</td>\n",
       "      <td>0</td>\n",
       "      <td>14</td>\n",
       "      <td>2</td>\n",
       "    </tr>\n",
       "    <tr>\n",
       "      <th>432960</th>\n",
       "      <td>40.7146</td>\n",
       "      <td>-73.9841</td>\n",
       "      <td>0</td>\n",
       "      <td>32</td>\n",
       "      <td>2</td>\n",
       "    </tr>\n",
       "    <tr>\n",
       "      <th>...</th>\n",
       "      <td>...</td>\n",
       "      <td>...</td>\n",
       "      <td>...</td>\n",
       "      <td>...</td>\n",
       "      <td>...</td>\n",
       "    </tr>\n",
       "    <tr>\n",
       "      <th>151102</th>\n",
       "      <td>40.6683</td>\n",
       "      <td>-73.9398</td>\n",
       "      <td>23</td>\n",
       "      <td>53</td>\n",
       "      <td>1</td>\n",
       "    </tr>\n",
       "    <tr>\n",
       "      <th>486246</th>\n",
       "      <td>40.7297</td>\n",
       "      <td>-73.9941</td>\n",
       "      <td>23</td>\n",
       "      <td>53</td>\n",
       "      <td>1</td>\n",
       "    </tr>\n",
       "    <tr>\n",
       "      <th>151054</th>\n",
       "      <td>40.7270</td>\n",
       "      <td>-73.9838</td>\n",
       "      <td>23</td>\n",
       "      <td>22</td>\n",
       "      <td>3</td>\n",
       "    </tr>\n",
       "    <tr>\n",
       "      <th>332997</th>\n",
       "      <td>40.7334</td>\n",
       "      <td>-73.9972</td>\n",
       "      <td>23</td>\n",
       "      <td>37</td>\n",
       "      <td>1</td>\n",
       "    </tr>\n",
       "    <tr>\n",
       "      <th>205312</th>\n",
       "      <td>40.7740</td>\n",
       "      <td>-73.8717</td>\n",
       "      <td>23</td>\n",
       "      <td>59</td>\n",
       "      <td>1</td>\n",
       "    </tr>\n",
       "  </tbody>\n",
       "</table>\n",
       "<p>16369 rows × 5 columns</p>\n",
       "</div>"
      ],
      "text/plain": [
       "            Lat      Lon  Hour  Minutes  Kmeans_Clusters\n",
       "326822  40.7531 -73.9799     0       21                2\n",
       "326831  40.7405 -74.0057     0       28                2\n",
       "145114  40.7148 -74.0153     0       19                2\n",
       "196822  40.7194 -74.0042     0       14                2\n",
       "432960  40.7146 -73.9841     0       32                2\n",
       "...         ...      ...   ...      ...              ...\n",
       "151102  40.6683 -73.9398    23       53                1\n",
       "486246  40.7297 -73.9941    23       53                1\n",
       "151054  40.7270 -73.9838    23       22                3\n",
       "332997  40.7334 -73.9972    23       37                1\n",
       "205312  40.7740 -73.8717    23       59                1\n",
       "\n",
       "[16369 rows x 5 columns]"
      ]
     },
     "execution_count": 248,
     "metadata": {},
     "output_type": "execute_result"
    }
   ],
   "source": [
    "tuesday_sort = tuesday.sort_values(by=[\"Hour\"])\n",
    "tuesday_sort"
   ]
  },
  {
   "cell_type": "code",
   "execution_count": 249,
   "metadata": {},
   "outputs": [
    {
     "data": {
      "text/html": [
       "<iframe\n",
       "    scrolling=\"no\"\n",
       "    width=\"620px\"\n",
       "    height=\"620\"\n",
       "    src=\"iframe_figures/figure_249.html\"\n",
       "    frameborder=\"0\"\n",
       "    allowfullscreen\n",
       "></iframe>\n"
      ]
     },
     "metadata": {},
     "output_type": "display_data"
    }
   ],
   "source": [
    "fig_tuesday_Kmeans_cluster = px.scatter_mapbox(\n",
    "    tuesday_sort,\n",
    "    lat=\"Lat\",\n",
    "    lon=\"Lon\",\n",
    "    color=\"Kmeans_Clusters\",\n",
    "    mapbox_style=\"carto-positron\",\n",
    "    color_continuous_scale=None,\n",
    "    zoom=10,\n",
    "    animation_frame=\"Hour\",\n",
    ")\n",
    "\n",
    "\n",
    "fig_tuesday_Kmeans_cluster.update_layout(\n",
    "    autosize=False,\n",
    "    width=600,\n",
    "    height=600,\n",
    "    showlegend=False,\n",
    "    title= \"Traffic by hour on Tuesday\"\n",
    "      )\n",
    "img_name = \"Traffic by hour on Tuesday\"\n",
    "fig_tuesday_Kmeans_cluster.write_html(img_name)\n",
    "fig_tuesday_Kmeans_cluster.show()"
   ]
  },
  {
   "cell_type": "markdown",
   "metadata": {},
   "source": [
    "## Showing clusters per hour for Wednesday with Kmeans"
   ]
  },
  {
   "cell_type": "code",
   "execution_count": 250,
   "metadata": {},
   "outputs": [
    {
     "data": {
      "text/html": [
       "<div>\n",
       "<style scoped>\n",
       "    .dataframe tbody tr th:only-of-type {\n",
       "        vertical-align: middle;\n",
       "    }\n",
       "\n",
       "    .dataframe tbody tr th {\n",
       "        vertical-align: top;\n",
       "    }\n",
       "\n",
       "    .dataframe thead th {\n",
       "        text-align: right;\n",
       "    }\n",
       "</style>\n",
       "<table border=\"1\" class=\"dataframe\">\n",
       "  <thead>\n",
       "    <tr style=\"text-align: right;\">\n",
       "      <th></th>\n",
       "      <th>Lat</th>\n",
       "      <th>Lon</th>\n",
       "      <th>Hour</th>\n",
       "      <th>Minutes</th>\n",
       "      <th>Kmeans_Clusters</th>\n",
       "    </tr>\n",
       "  </thead>\n",
       "  <tbody>\n",
       "    <tr>\n",
       "      <th>151114</th>\n",
       "      <td>40.7533</td>\n",
       "      <td>-73.9784</td>\n",
       "      <td>0</td>\n",
       "      <td>5</td>\n",
       "      <td>4</td>\n",
       "    </tr>\n",
       "    <tr>\n",
       "      <th>151139</th>\n",
       "      <td>40.7606</td>\n",
       "      <td>-73.9786</td>\n",
       "      <td>0</td>\n",
       "      <td>41</td>\n",
       "      <td>4</td>\n",
       "    </tr>\n",
       "    <tr>\n",
       "      <th>112926</th>\n",
       "      <td>40.7235</td>\n",
       "      <td>-73.9396</td>\n",
       "      <td>0</td>\n",
       "      <td>5</td>\n",
       "      <td>4</td>\n",
       "    </tr>\n",
       "    <tr>\n",
       "      <th>205396</th>\n",
       "      <td>40.7280</td>\n",
       "      <td>-73.9958</td>\n",
       "      <td>0</td>\n",
       "      <td>52</td>\n",
       "      <td>4</td>\n",
       "    </tr>\n",
       "    <tr>\n",
       "      <th>391291</th>\n",
       "      <td>40.7258</td>\n",
       "      <td>-73.9832</td>\n",
       "      <td>0</td>\n",
       "      <td>8</td>\n",
       "      <td>4</td>\n",
       "    </tr>\n",
       "    <tr>\n",
       "      <th>...</th>\n",
       "      <td>...</td>\n",
       "      <td>...</td>\n",
       "      <td>...</td>\n",
       "      <td>...</td>\n",
       "      <td>...</td>\n",
       "    </tr>\n",
       "    <tr>\n",
       "      <th>80704</th>\n",
       "      <td>40.6466</td>\n",
       "      <td>-73.7898</td>\n",
       "      <td>23</td>\n",
       "      <td>52</td>\n",
       "      <td>2</td>\n",
       "    </tr>\n",
       "    <tr>\n",
       "      <th>297537</th>\n",
       "      <td>40.6892</td>\n",
       "      <td>-73.9908</td>\n",
       "      <td>23</td>\n",
       "      <td>6</td>\n",
       "      <td>0</td>\n",
       "    </tr>\n",
       "    <tr>\n",
       "      <th>118517</th>\n",
       "      <td>40.8056</td>\n",
       "      <td>-73.9559</td>\n",
       "      <td>23</td>\n",
       "      <td>7</td>\n",
       "      <td>0</td>\n",
       "    </tr>\n",
       "    <tr>\n",
       "      <th>493935</th>\n",
       "      <td>40.7113</td>\n",
       "      <td>-74.0054</td>\n",
       "      <td>23</td>\n",
       "      <td>35</td>\n",
       "      <td>1</td>\n",
       "    </tr>\n",
       "    <tr>\n",
       "      <th>218745</th>\n",
       "      <td>40.7559</td>\n",
       "      <td>-73.9707</td>\n",
       "      <td>23</td>\n",
       "      <td>47</td>\n",
       "      <td>1</td>\n",
       "    </tr>\n",
       "  </tbody>\n",
       "</table>\n",
       "<p>19166 rows × 5 columns</p>\n",
       "</div>"
      ],
      "text/plain": [
       "            Lat      Lon  Hour  Minutes  Kmeans_Clusters\n",
       "151114  40.7533 -73.9784     0        5                4\n",
       "151139  40.7606 -73.9786     0       41                4\n",
       "112926  40.7235 -73.9396     0        5                4\n",
       "205396  40.7280 -73.9958     0       52                4\n",
       "391291  40.7258 -73.9832     0        8                4\n",
       "...         ...      ...   ...      ...              ...\n",
       "80704   40.6466 -73.7898    23       52                2\n",
       "297537  40.6892 -73.9908    23        6                0\n",
       "118517  40.8056 -73.9559    23        7                0\n",
       "493935  40.7113 -74.0054    23       35                1\n",
       "218745  40.7559 -73.9707    23       47                1\n",
       "\n",
       "[19166 rows x 5 columns]"
      ]
     },
     "execution_count": 250,
     "metadata": {},
     "output_type": "execute_result"
    }
   ],
   "source": [
    "wednesday_sort = wednesday.sort_values(by=[\"Hour\"])\n",
    "wednesday_sort"
   ]
  },
  {
   "cell_type": "code",
   "execution_count": 251,
   "metadata": {},
   "outputs": [
    {
     "data": {
      "text/html": [
       "<iframe\n",
       "    scrolling=\"no\"\n",
       "    width=\"620px\"\n",
       "    height=\"620\"\n",
       "    src=\"iframe_figures/figure_251.html\"\n",
       "    frameborder=\"0\"\n",
       "    allowfullscreen\n",
       "></iframe>\n"
      ]
     },
     "metadata": {},
     "output_type": "display_data"
    }
   ],
   "source": [
    "fig_wednesday_Kmeans_cluster = px.scatter_mapbox(\n",
    "    wednesday_sort,\n",
    "    lat=\"Lat\",\n",
    "    lon=\"Lon\",\n",
    "    color=\"Kmeans_Clusters\",\n",
    "    mapbox_style=\"carto-positron\",\n",
    "    color_continuous_scale=None,\n",
    "    zoom=10,\n",
    "    animation_frame=\"Hour\",\n",
    ")\n",
    "\n",
    "\n",
    "fig_wednesday_Kmeans_cluster.update_layout(\n",
    "    autosize=False,\n",
    "    width=600,\n",
    "    height=600,\n",
    "    showlegend=False,\n",
    "    title= \"Traffic by hour on Wednesday\"\n",
    "      )\n",
    "img_name = \"Traffic by hour on Wednesday\"\n",
    "fig_wednesday_Kmeans_cluster.write_html(img_name)\n",
    "fig_wednesday_Kmeans_cluster.show()"
   ]
  },
  {
   "cell_type": "markdown",
   "metadata": {},
   "source": [
    "## Showing clusters per hour for Thursday with Kmeans"
   ]
  },
  {
   "cell_type": "code",
   "execution_count": 252,
   "metadata": {},
   "outputs": [
    {
     "data": {
      "text/html": [
       "<div>\n",
       "<style scoped>\n",
       "    .dataframe tbody tr th:only-of-type {\n",
       "        vertical-align: middle;\n",
       "    }\n",
       "\n",
       "    .dataframe tbody tr th {\n",
       "        vertical-align: top;\n",
       "    }\n",
       "\n",
       "    .dataframe thead th {\n",
       "        text-align: right;\n",
       "    }\n",
       "</style>\n",
       "<table border=\"1\" class=\"dataframe\">\n",
       "  <thead>\n",
       "    <tr style=\"text-align: right;\">\n",
       "      <th></th>\n",
       "      <th>Lat</th>\n",
       "      <th>Lon</th>\n",
       "      <th>Hour</th>\n",
       "      <th>Minutes</th>\n",
       "      <th>Kmeans_Clusters</th>\n",
       "    </tr>\n",
       "  </thead>\n",
       "  <tbody>\n",
       "    <tr>\n",
       "      <th>225797</th>\n",
       "      <td>40.7160</td>\n",
       "      <td>-74.0089</td>\n",
       "      <td>0</td>\n",
       "      <td>44</td>\n",
       "      <td>0</td>\n",
       "    </tr>\n",
       "    <tr>\n",
       "      <th>448592</th>\n",
       "      <td>40.7542</td>\n",
       "      <td>-73.9883</td>\n",
       "      <td>0</td>\n",
       "      <td>39</td>\n",
       "      <td>0</td>\n",
       "    </tr>\n",
       "    <tr>\n",
       "      <th>276409</th>\n",
       "      <td>40.7356</td>\n",
       "      <td>-74.0068</td>\n",
       "      <td>0</td>\n",
       "      <td>7</td>\n",
       "      <td>0</td>\n",
       "    </tr>\n",
       "    <tr>\n",
       "      <th>340648</th>\n",
       "      <td>40.7357</td>\n",
       "      <td>-74.0068</td>\n",
       "      <td>0</td>\n",
       "      <td>50</td>\n",
       "      <td>0</td>\n",
       "    </tr>\n",
       "    <tr>\n",
       "      <th>43811</th>\n",
       "      <td>40.7656</td>\n",
       "      <td>-73.9874</td>\n",
       "      <td>0</td>\n",
       "      <td>9</td>\n",
       "      <td>0</td>\n",
       "    </tr>\n",
       "    <tr>\n",
       "      <th>...</th>\n",
       "      <td>...</td>\n",
       "      <td>...</td>\n",
       "      <td>...</td>\n",
       "      <td>...</td>\n",
       "      <td>...</td>\n",
       "    </tr>\n",
       "    <tr>\n",
       "      <th>166496</th>\n",
       "      <td>40.7400</td>\n",
       "      <td>-74.0061</td>\n",
       "      <td>23</td>\n",
       "      <td>27</td>\n",
       "      <td>2</td>\n",
       "    </tr>\n",
       "    <tr>\n",
       "      <th>125589</th>\n",
       "      <td>40.7438</td>\n",
       "      <td>-73.9890</td>\n",
       "      <td>23</td>\n",
       "      <td>59</td>\n",
       "      <td>1</td>\n",
       "    </tr>\n",
       "    <tr>\n",
       "      <th>349496</th>\n",
       "      <td>40.5578</td>\n",
       "      <td>-74.2779</td>\n",
       "      <td>23</td>\n",
       "      <td>30</td>\n",
       "      <td>2</td>\n",
       "    </tr>\n",
       "    <tr>\n",
       "      <th>49262</th>\n",
       "      <td>40.6719</td>\n",
       "      <td>-73.9575</td>\n",
       "      <td>23</td>\n",
       "      <td>43</td>\n",
       "      <td>1</td>\n",
       "    </tr>\n",
       "    <tr>\n",
       "      <th>86649</th>\n",
       "      <td>40.7287</td>\n",
       "      <td>-74.0003</td>\n",
       "      <td>23</td>\n",
       "      <td>10</td>\n",
       "      <td>2</td>\n",
       "    </tr>\n",
       "  </tbody>\n",
       "</table>\n",
       "<p>15118 rows × 5 columns</p>\n",
       "</div>"
      ],
      "text/plain": [
       "            Lat      Lon  Hour  Minutes  Kmeans_Clusters\n",
       "225797  40.7160 -74.0089     0       44                0\n",
       "448592  40.7542 -73.9883     0       39                0\n",
       "276409  40.7356 -74.0068     0        7                0\n",
       "340648  40.7357 -74.0068     0       50                0\n",
       "43811   40.7656 -73.9874     0        9                0\n",
       "...         ...      ...   ...      ...              ...\n",
       "166496  40.7400 -74.0061    23       27                2\n",
       "125589  40.7438 -73.9890    23       59                1\n",
       "349496  40.5578 -74.2779    23       30                2\n",
       "49262   40.6719 -73.9575    23       43                1\n",
       "86649   40.7287 -74.0003    23       10                2\n",
       "\n",
       "[15118 rows x 5 columns]"
      ]
     },
     "execution_count": 252,
     "metadata": {},
     "output_type": "execute_result"
    }
   ],
   "source": [
    "thursday_sort = thursday.sort_values(by=[\"Hour\"])\n",
    "thursday_sort"
   ]
  },
  {
   "cell_type": "code",
   "execution_count": 253,
   "metadata": {},
   "outputs": [
    {
     "data": {
      "text/html": [
       "<iframe\n",
       "    scrolling=\"no\"\n",
       "    width=\"620px\"\n",
       "    height=\"620\"\n",
       "    src=\"iframe_figures/figure_253.html\"\n",
       "    frameborder=\"0\"\n",
       "    allowfullscreen\n",
       "></iframe>\n"
      ]
     },
     "metadata": {},
     "output_type": "display_data"
    }
   ],
   "source": [
    "fig_thursday_Kmeans_cluster = px.scatter_mapbox(\n",
    "    thursday_sort,\n",
    "    lat=\"Lat\",\n",
    "    lon=\"Lon\",\n",
    "    color=\"Kmeans_Clusters\",\n",
    "    mapbox_style=\"carto-positron\",\n",
    "    color_continuous_scale=None,\n",
    "    zoom=10,\n",
    "    animation_frame=\"Hour\",\n",
    ")\n",
    "\n",
    "\n",
    "fig_thursday_Kmeans_cluster.update_layout(\n",
    "    autosize=False,\n",
    "    width=600,\n",
    "    height=600,\n",
    "    showlegend=False,\n",
    "    title= \"Traffic by hour on Thursday\"\n",
    "      )\n",
    "img_name = \"Traffic by hour on Thursday\"\n",
    "fig_thursday_Kmeans_cluster.write_html(img_name)\n",
    "fig_thursday_Kmeans_cluster.show()"
   ]
  },
  {
   "cell_type": "markdown",
   "metadata": {},
   "source": [
    "## Showing clusters per hour for Friday with Kmeans"
   ]
  },
  {
   "cell_type": "code",
   "execution_count": 254,
   "metadata": {},
   "outputs": [
    {
     "data": {
      "text/html": [
       "<div>\n",
       "<style scoped>\n",
       "    .dataframe tbody tr th:only-of-type {\n",
       "        vertical-align: middle;\n",
       "    }\n",
       "\n",
       "    .dataframe tbody tr th {\n",
       "        vertical-align: top;\n",
       "    }\n",
       "\n",
       "    .dataframe thead th {\n",
       "        text-align: right;\n",
       "    }\n",
       "</style>\n",
       "<table border=\"1\" class=\"dataframe\">\n",
       "  <thead>\n",
       "    <tr style=\"text-align: right;\">\n",
       "      <th></th>\n",
       "      <th>Lat</th>\n",
       "      <th>Lon</th>\n",
       "      <th>Hour</th>\n",
       "      <th>Minutes</th>\n",
       "      <th>Kmeans_Clusters</th>\n",
       "    </tr>\n",
       "  </thead>\n",
       "  <tbody>\n",
       "    <tr>\n",
       "      <th>27227</th>\n",
       "      <td>40.7369</td>\n",
       "      <td>-73.9898</td>\n",
       "      <td>0</td>\n",
       "      <td>23</td>\n",
       "      <td>1</td>\n",
       "    </tr>\n",
       "    <tr>\n",
       "      <th>230078</th>\n",
       "      <td>40.7221</td>\n",
       "      <td>-74.0010</td>\n",
       "      <td>0</td>\n",
       "      <td>54</td>\n",
       "      <td>1</td>\n",
       "    </tr>\n",
       "    <tr>\n",
       "      <th>166723</th>\n",
       "      <td>40.7432</td>\n",
       "      <td>-73.9203</td>\n",
       "      <td>0</td>\n",
       "      <td>41</td>\n",
       "      <td>1</td>\n",
       "    </tr>\n",
       "    <tr>\n",
       "      <th>125610</th>\n",
       "      <td>40.7769</td>\n",
       "      <td>-73.9769</td>\n",
       "      <td>0</td>\n",
       "      <td>3</td>\n",
       "      <td>1</td>\n",
       "    </tr>\n",
       "    <tr>\n",
       "      <th>560137</th>\n",
       "      <td>40.7219</td>\n",
       "      <td>-74.0042</td>\n",
       "      <td>0</td>\n",
       "      <td>23</td>\n",
       "      <td>1</td>\n",
       "    </tr>\n",
       "    <tr>\n",
       "      <th>...</th>\n",
       "      <td>...</td>\n",
       "      <td>...</td>\n",
       "      <td>...</td>\n",
       "      <td>...</td>\n",
       "      <td>...</td>\n",
       "    </tr>\n",
       "    <tr>\n",
       "      <th>260681</th>\n",
       "      <td>40.7396</td>\n",
       "      <td>-74.0071</td>\n",
       "      <td>23</td>\n",
       "      <td>56</td>\n",
       "      <td>2</td>\n",
       "    </tr>\n",
       "    <tr>\n",
       "      <th>361343</th>\n",
       "      <td>40.7226</td>\n",
       "      <td>-73.9806</td>\n",
       "      <td>23</td>\n",
       "      <td>41</td>\n",
       "      <td>2</td>\n",
       "    </tr>\n",
       "    <tr>\n",
       "      <th>92667</th>\n",
       "      <td>40.7416</td>\n",
       "      <td>-73.9811</td>\n",
       "      <td>23</td>\n",
       "      <td>7</td>\n",
       "      <td>0</td>\n",
       "    </tr>\n",
       "    <tr>\n",
       "      <th>306328</th>\n",
       "      <td>40.7328</td>\n",
       "      <td>-74.0021</td>\n",
       "      <td>23</td>\n",
       "      <td>29</td>\n",
       "      <td>0</td>\n",
       "    </tr>\n",
       "    <tr>\n",
       "      <th>464042</th>\n",
       "      <td>40.7205</td>\n",
       "      <td>-73.9872</td>\n",
       "      <td>23</td>\n",
       "      <td>45</td>\n",
       "      <td>2</td>\n",
       "    </tr>\n",
       "  </tbody>\n",
       "</table>\n",
       "<p>16040 rows × 5 columns</p>\n",
       "</div>"
      ],
      "text/plain": [
       "            Lat      Lon  Hour  Minutes  Kmeans_Clusters\n",
       "27227   40.7369 -73.9898     0       23                1\n",
       "230078  40.7221 -74.0010     0       54                1\n",
       "166723  40.7432 -73.9203     0       41                1\n",
       "125610  40.7769 -73.9769     0        3                1\n",
       "560137  40.7219 -74.0042     0       23                1\n",
       "...         ...      ...   ...      ...              ...\n",
       "260681  40.7396 -74.0071    23       56                2\n",
       "361343  40.7226 -73.9806    23       41                2\n",
       "92667   40.7416 -73.9811    23        7                0\n",
       "306328  40.7328 -74.0021    23       29                0\n",
       "464042  40.7205 -73.9872    23       45                2\n",
       "\n",
       "[16040 rows x 5 columns]"
      ]
     },
     "execution_count": 254,
     "metadata": {},
     "output_type": "execute_result"
    }
   ],
   "source": [
    "friday_sort = friday.sort_values(by=[\"Hour\"])\n",
    "friday_sort"
   ]
  },
  {
   "cell_type": "code",
   "execution_count": 255,
   "metadata": {},
   "outputs": [
    {
     "data": {
      "text/html": [
       "<iframe\n",
       "    scrolling=\"no\"\n",
       "    width=\"620px\"\n",
       "    height=\"620\"\n",
       "    src=\"iframe_figures/figure_255.html\"\n",
       "    frameborder=\"0\"\n",
       "    allowfullscreen\n",
       "></iframe>\n"
      ]
     },
     "metadata": {},
     "output_type": "display_data"
    }
   ],
   "source": [
    "fig_friday_Kmeans_cluster = px.scatter_mapbox(\n",
    "    friday_sort,\n",
    "    lat=\"Lat\",\n",
    "    lon=\"Lon\",\n",
    "    color=\"Kmeans_Clusters\",\n",
    "    mapbox_style=\"carto-positron\",\n",
    "    color_continuous_scale=None,\n",
    "    zoom=10,\n",
    "    animation_frame=\"Hour\",\n",
    ")\n",
    "\n",
    "\n",
    "fig_friday_Kmeans_cluster.update_layout(\n",
    "    autosize=False,\n",
    "    width=600,\n",
    "    height=600,\n",
    "    showlegend=False,\n",
    "    title= \"Traffic by hour on Friday\"\n",
    "      )\n",
    "img_name = \"Traffic by hour on Friday\"\n",
    "fig_friday_Kmeans_cluster.write_html(img_name)\n",
    "fig_friday_Kmeans_cluster.show()"
   ]
  },
  {
   "cell_type": "markdown",
   "metadata": {},
   "source": [
    "## Showing clusters per hour for Saturday with Kmeans"
   ]
  },
  {
   "cell_type": "code",
   "execution_count": 256,
   "metadata": {},
   "outputs": [
    {
     "data": {
      "text/html": [
       "<div>\n",
       "<style scoped>\n",
       "    .dataframe tbody tr th:only-of-type {\n",
       "        vertical-align: middle;\n",
       "    }\n",
       "\n",
       "    .dataframe tbody tr th {\n",
       "        vertical-align: top;\n",
       "    }\n",
       "\n",
       "    .dataframe thead th {\n",
       "        text-align: right;\n",
       "    }\n",
       "</style>\n",
       "<table border=\"1\" class=\"dataframe\">\n",
       "  <thead>\n",
       "    <tr style=\"text-align: right;\">\n",
       "      <th></th>\n",
       "      <th>Lat</th>\n",
       "      <th>Lon</th>\n",
       "      <th>Hour</th>\n",
       "      <th>Minutes</th>\n",
       "      <th>Kmeans_Clusters</th>\n",
       "    </tr>\n",
       "  </thead>\n",
       "  <tbody>\n",
       "    <tr>\n",
       "      <th>415254</th>\n",
       "      <td>40.7192</td>\n",
       "      <td>-74.0048</td>\n",
       "      <td>0</td>\n",
       "      <td>11</td>\n",
       "      <td>1</td>\n",
       "    </tr>\n",
       "    <tr>\n",
       "      <th>235427</th>\n",
       "      <td>40.7454</td>\n",
       "      <td>-73.9947</td>\n",
       "      <td>0</td>\n",
       "      <td>6</td>\n",
       "      <td>1</td>\n",
       "    </tr>\n",
       "    <tr>\n",
       "      <th>415471</th>\n",
       "      <td>40.7214</td>\n",
       "      <td>-73.9946</td>\n",
       "      <td>0</td>\n",
       "      <td>57</td>\n",
       "      <td>1</td>\n",
       "    </tr>\n",
       "    <tr>\n",
       "      <th>260762</th>\n",
       "      <td>40.7603</td>\n",
       "      <td>-73.9879</td>\n",
       "      <td>0</td>\n",
       "      <td>35</td>\n",
       "      <td>1</td>\n",
       "    </tr>\n",
       "    <tr>\n",
       "      <th>14003</th>\n",
       "      <td>40.6752</td>\n",
       "      <td>-73.9599</td>\n",
       "      <td>0</td>\n",
       "      <td>23</td>\n",
       "      <td>1</td>\n",
       "    </tr>\n",
       "    <tr>\n",
       "      <th>...</th>\n",
       "      <td>...</td>\n",
       "      <td>...</td>\n",
       "      <td>...</td>\n",
       "      <td>...</td>\n",
       "      <td>...</td>\n",
       "    </tr>\n",
       "    <tr>\n",
       "      <th>310423</th>\n",
       "      <td>40.7388</td>\n",
       "      <td>-73.9916</td>\n",
       "      <td>23</td>\n",
       "      <td>8</td>\n",
       "      <td>0</td>\n",
       "    </tr>\n",
       "    <tr>\n",
       "      <th>30025</th>\n",
       "      <td>40.7264</td>\n",
       "      <td>-73.9893</td>\n",
       "      <td>23</td>\n",
       "      <td>48</td>\n",
       "      <td>2</td>\n",
       "    </tr>\n",
       "    <tr>\n",
       "      <th>521352</th>\n",
       "      <td>40.7355</td>\n",
       "      <td>-74.0060</td>\n",
       "      <td>23</td>\n",
       "      <td>15</td>\n",
       "      <td>0</td>\n",
       "    </tr>\n",
       "    <tr>\n",
       "      <th>422584</th>\n",
       "      <td>40.6852</td>\n",
       "      <td>-73.8299</td>\n",
       "      <td>23</td>\n",
       "      <td>48</td>\n",
       "      <td>3</td>\n",
       "    </tr>\n",
       "    <tr>\n",
       "      <th>263767</th>\n",
       "      <td>40.7483</td>\n",
       "      <td>-73.9570</td>\n",
       "      <td>23</td>\n",
       "      <td>6</td>\n",
       "      <td>0</td>\n",
       "    </tr>\n",
       "  </tbody>\n",
       "</table>\n",
       "<p>13563 rows × 5 columns</p>\n",
       "</div>"
      ],
      "text/plain": [
       "            Lat      Lon  Hour  Minutes  Kmeans_Clusters\n",
       "415254  40.7192 -74.0048     0       11                1\n",
       "235427  40.7454 -73.9947     0        6                1\n",
       "415471  40.7214 -73.9946     0       57                1\n",
       "260762  40.7603 -73.9879     0       35                1\n",
       "14003   40.6752 -73.9599     0       23                1\n",
       "...         ...      ...   ...      ...              ...\n",
       "310423  40.7388 -73.9916    23        8                0\n",
       "30025   40.7264 -73.9893    23       48                2\n",
       "521352  40.7355 -74.0060    23       15                0\n",
       "422584  40.6852 -73.8299    23       48                3\n",
       "263767  40.7483 -73.9570    23        6                0\n",
       "\n",
       "[13563 rows x 5 columns]"
      ]
     },
     "execution_count": 256,
     "metadata": {},
     "output_type": "execute_result"
    }
   ],
   "source": [
    "saturday_sort = saturday.sort_values(by=[\"Hour\"])\n",
    "saturday_sort"
   ]
  },
  {
   "cell_type": "code",
   "execution_count": 257,
   "metadata": {},
   "outputs": [
    {
     "data": {
      "text/html": [
       "<iframe\n",
       "    scrolling=\"no\"\n",
       "    width=\"620px\"\n",
       "    height=\"620\"\n",
       "    src=\"iframe_figures/figure_257.html\"\n",
       "    frameborder=\"0\"\n",
       "    allowfullscreen\n",
       "></iframe>\n"
      ]
     },
     "metadata": {},
     "output_type": "display_data"
    }
   ],
   "source": [
    "fig_saturday_Kmeans_cluster = px.scatter_mapbox(\n",
    "    saturday_sort,\n",
    "    lat=\"Lat\",\n",
    "    lon=\"Lon\",\n",
    "    color=\"Kmeans_Clusters\",\n",
    "    mapbox_style=\"carto-positron\",\n",
    "    color_continuous_scale=None,\n",
    "    zoom=10,\n",
    "    animation_frame=\"Hour\",\n",
    ")\n",
    "\n",
    "\n",
    "fig_saturday_Kmeans_cluster.update_layout(\n",
    "    autosize=False,\n",
    "    width=600,\n",
    "    height=600,\n",
    "    showlegend=False,\n",
    "    title= \"Traffic by hour on Saturday\"\n",
    "      )\n",
    "img_name = \"Traffic by hour on Saturday\"\n",
    "fig_saturday_Kmeans_cluster.write_html(img_name)\n",
    "fig_saturday_Kmeans_cluster.show()"
   ]
  },
  {
   "cell_type": "markdown",
   "metadata": {},
   "source": [
    "#### Conclusions"
   ]
  },
  {
   "cell_type": "markdown",
   "metadata": {},
   "source": [
    "##### ---> The number of clusters has to be specified in the K-means algorithm, which proves to be quite restrictive in the use case of Uber pick-ups."
   ]
  },
  {
   "cell_type": "markdown",
   "metadata": {},
   "source": [
    "##### ---> As concerns the DBSCAN algorithm, the epsilon and the min_samples values determine the number of clusters and the outliers."
   ]
  },
  {
   "cell_type": "markdown",
   "metadata": {},
   "source": [
    "##### ---> The distance metric plays a very important role in K-means clustering whereas DBSCAN, as its name suggests, is density-based. The interesting thing about DBSCAN is that it finds the number of clusters by itself. For a huge dataset with many features, this aspect of DBSCAN is useful."
   ]
  },
  {
   "cell_type": "markdown",
   "metadata": {},
   "source": [
    "##### ---> Though imperfect, with outliers left aside and not belonging to any cluster, the DBSCAN algorithm is much more appropriate for clustering in the Uber pick-ups use case."
   ]
  }
 ],
 "metadata": {
  "kernelspec": {
   "display_name": "Python 3",
   "language": "python",
   "name": "python3"
  },
  "language_info": {
   "codemirror_mode": {
    "name": "ipython",
    "version": 3
   },
   "file_extension": ".py",
   "mimetype": "text/x-python",
   "name": "python",
   "nbconvert_exporter": "python",
   "pygments_lexer": "ipython3",
   "version": "3.8.6"
  }
 },
 "nbformat": 4,
 "nbformat_minor": 4
}
