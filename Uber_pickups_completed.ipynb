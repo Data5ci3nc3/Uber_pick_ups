{
 "cells": [
  {
   "cell_type": "markdown",
   "metadata": {},
   "source": [
    "<img src=\"https://upload.wikimedia.org/wikipedia/commons/thumb/5/58/Uber_logo_2018.svg/1024px-Uber_logo_2018.svg.png\" alt=\"UBER LOGO\" width=\"50%\" />\n",
    "\n",
    "# UBER Pickups"
   ]
  },
  {
   "cell_type": "markdown",
   "metadata": {},
   "source": [
    "## Company's Description 📇\n",
    "\n",
    "<a href=\"http://uber.com/\" target=\"_blank\">Uber</a> is one of the most famous startup in the world. It started as a ride-sharing application for people who couldn't afford a taxi. Now, Uber expanded its activities to Food Delivery with <a href=\"https://www.ubereats.com/fr-en\" target=\"_blank\">Uber Eats</a>, package delivery, freight transportation and even urban transportation with <a href=\"https://www.uber.com/fr/en/ride/uber-bike/\" target=\"_blank\"> Jump Bike</a> and <a href=\"https://www.li.me/\" target=\"_blank\"> Lime </a> that the company funded. \n",
    "\n",
    "\n",
    "The company's goal is to revolutionize transportation accross the globe. It operates now on about 70 countries and 900 cities and generates over $14 billion revenue! 😮\n"
   ]
  },
  {
   "cell_type": "markdown",
   "metadata": {},
   "source": [
    "## Project 🚧\n",
    "\n",
    "One of the main pain point that Uber's team found is that sometimes drivers are not around when users need them. For example, a user might be in San Francisco's Financial District whereas Uber drivers are looking for customers in Castro.  \n",
    "\n",
    "(If you are not familiar with the bay area, check out <a href=\"https://www.google.com/maps/place/San+Francisco,+CA,+USA/@37.7515389,-122.4567213,13.43z/data=!4m5!3m4!1s0x80859a6d00690021:0x4a501367f076adff!8m2!3d37.7749295!4d-122.4194155\" target=\"_blank\">Google Maps</a>)\n",
    "\n",
    "Eventhough both neighborhood are not that far away, users would still have to wait 10 to 15 minutes before being picked-up, which is too long. Uber's research shows that users accept to wait 5-7 minutes, otherwise they would cancel their ride. \n",
    "\n",
    "Therefore, Uber's data team would like to work on a project where **their app would recommend hot-zones in major cities to be in at any given time of day.**  "
   ]
  },
  {
   "cell_type": "markdown",
   "metadata": {},
   "source": [
    "## Goals 🎯\n",
    "\n",
    "Uber already has data about pickups in major cities. Your objective is to create algorithms that will determine where are the hot-zones that drivers should be in. Therefore you will:\n",
    "\n",
    "* Create an algorithm to find hot zones \n",
    "* Visualize results on a nice dashboard "
   ]
  },
  {
   "cell_type": "markdown",
   "metadata": {},
   "source": [
    "## Scope of this project 🖼️\n",
    "\n",
    "To start off, Uber wants to try this feature in New York city. Therefore you will only focus on this city. Data can be found here: \n",
    "\n",
    "👉👉<a href=\"https://full-stack-bigdata-datasets.s3.eu-west-3.amazonaws.com/Machine+Learning+non+Supervis%C3%A9/Projects/uber-trip-data.zip\" target=\"_blank\"> Uber Trip Data</a> 👈👈\n",
    "\n",
    "**You only need to focus on New York City for this project**"
   ]
  },
  {
   "cell_type": "markdown",
   "metadata": {},
   "source": [
    "## Helpers 🦮\n",
    "\n",
    "To help you achieve this project, here are a few tips that should help you: \n",
    "\n",
    "### Clustering is your friend \n",
    "\n",
    "Clustering technics are a perfect fit for the job. Think about it, all the pickup locations can be gathered into different clusters. You can then use **cluster coordinates to pin hot zones** 😉\n",
    "    \n",
    "\n",
    "### Create maps with `plotly` \n",
    "\n",
    "Check out <a href=\"https://plotly.com/\" target=\"_blank\">Plotly</a> documentation, you can create maps and populate them easily. Obviously, there are other libraries but this one should do the job pretty well. \n",
    "\n",
    "\n",
    "### Start small grow big \n",
    "\n",
    "Eventhough Uber wants to have hot-zones per hour and per day of week, you should first **start small**. Pick one day at a given hour and **then start to generalize** your approach. "
   ]
  },
  {
   "cell_type": "markdown",
   "metadata": {},
   "source": [
    "## Deliverable 📬\n",
    "\n",
    "To complete this project, your team should: \n",
    "\n",
    "* Have a map with hot-zones using any python library (`plotly` or anything else). \n",
    "* You should **at least** describe hot-zones per day of week. \n",
    "* Compare results with **at least** two unsupervised algorithms like KMeans and DBScan. \n",
    "\n",
    "Your maps should look something like this: \n",
    "\n",
    "<img src=\"https://full-stack-assets.s3.eu-west-3.amazonaws.com/images/Clusters_uber_pickups.png\" alt=\"Uber Cluster Map\" />"
   ]
  },
  {
   "cell_type": "markdown",
   "metadata": {},
   "source": [
    "### Working on the project with DBSCAN clustering algorithm"
   ]
  },
  {
   "cell_type": "markdown",
   "metadata": {},
   "source": [
    "##### Installing Plotly"
   ]
  },
  {
   "cell_type": "code",
   "execution_count": 1,
   "metadata": {},
   "outputs": [
    {
     "name": "stdout",
     "output_type": "stream",
     "text": [
      "Requirement already satisfied: plotly in /opt/conda/lib/python3.8/site-packages (5.5.0)\n",
      "Requirement already satisfied: tenacity>=6.2.0 in /opt/conda/lib/python3.8/site-packages (from plotly) (8.0.1)\n",
      "Requirement already satisfied: six in /opt/conda/lib/python3.8/site-packages (from plotly) (1.15.0)\n"
     ]
    }
   ],
   "source": [
    "!pip install plotly"
   ]
  },
  {
   "cell_type": "markdown",
   "metadata": {},
   "source": [
    "##### Importing adequate librairies"
   ]
  },
  {
   "cell_type": "code",
   "execution_count": 2,
   "metadata": {},
   "outputs": [],
   "source": [
    "import pandas as pd \n",
    "import numpy as np \n",
    "\n",
    "from sklearn.preprocessing import  OneHotEncoder, StandardScaler\n",
    "from sklearn.compose import ColumnTransformer\n",
    "\n",
    "import plotly.express as px\n",
    "import plotly.io as pio\n",
    "pio.renderers.default = \"iframe_connected\""
   ]
  },
  {
   "cell_type": "markdown",
   "metadata": {},
   "source": [
    "##### Loading the dataset"
   ]
  },
  {
   "cell_type": "code",
   "execution_count": 3,
   "metadata": {},
   "outputs": [],
   "source": [
    "df = pd.read_csv(\"https://raw.githubusercontent.com/fivethirtyeight/uber-tlc-foil-response/master/uber-trip-data/uber-raw-data-apr14.csv\")"
   ]
  },
  {
   "cell_type": "markdown",
   "metadata": {},
   "source": [
    "##### Understanding the overall structure of the dataset"
   ]
  },
  {
   "cell_type": "code",
   "execution_count": 4,
   "metadata": {},
   "outputs": [
    {
     "data": {
      "text/html": [
       "<div>\n",
       "<style scoped>\n",
       "    .dataframe tbody tr th:only-of-type {\n",
       "        vertical-align: middle;\n",
       "    }\n",
       "\n",
       "    .dataframe tbody tr th {\n",
       "        vertical-align: top;\n",
       "    }\n",
       "\n",
       "    .dataframe thead th {\n",
       "        text-align: right;\n",
       "    }\n",
       "</style>\n",
       "<table border=\"1\" class=\"dataframe\">\n",
       "  <thead>\n",
       "    <tr style=\"text-align: right;\">\n",
       "      <th></th>\n",
       "      <th>Date/Time</th>\n",
       "      <th>Lat</th>\n",
       "      <th>Lon</th>\n",
       "      <th>Base</th>\n",
       "    </tr>\n",
       "  </thead>\n",
       "  <tbody>\n",
       "    <tr>\n",
       "      <th>0</th>\n",
       "      <td>4/1/2014 0:11:00</td>\n",
       "      <td>40.7690</td>\n",
       "      <td>-73.9549</td>\n",
       "      <td>B02512</td>\n",
       "    </tr>\n",
       "    <tr>\n",
       "      <th>1</th>\n",
       "      <td>4/1/2014 0:17:00</td>\n",
       "      <td>40.7267</td>\n",
       "      <td>-74.0345</td>\n",
       "      <td>B02512</td>\n",
       "    </tr>\n",
       "    <tr>\n",
       "      <th>2</th>\n",
       "      <td>4/1/2014 0:21:00</td>\n",
       "      <td>40.7316</td>\n",
       "      <td>-73.9873</td>\n",
       "      <td>B02512</td>\n",
       "    </tr>\n",
       "    <tr>\n",
       "      <th>3</th>\n",
       "      <td>4/1/2014 0:28:00</td>\n",
       "      <td>40.7588</td>\n",
       "      <td>-73.9776</td>\n",
       "      <td>B02512</td>\n",
       "    </tr>\n",
       "    <tr>\n",
       "      <th>4</th>\n",
       "      <td>4/1/2014 0:33:00</td>\n",
       "      <td>40.7594</td>\n",
       "      <td>-73.9722</td>\n",
       "      <td>B02512</td>\n",
       "    </tr>\n",
       "  </tbody>\n",
       "</table>\n",
       "</div>"
      ],
      "text/plain": [
       "          Date/Time      Lat      Lon    Base\n",
       "0  4/1/2014 0:11:00  40.7690 -73.9549  B02512\n",
       "1  4/1/2014 0:17:00  40.7267 -74.0345  B02512\n",
       "2  4/1/2014 0:21:00  40.7316 -73.9873  B02512\n",
       "3  4/1/2014 0:28:00  40.7588 -73.9776  B02512\n",
       "4  4/1/2014 0:33:00  40.7594 -73.9722  B02512"
      ]
     },
     "execution_count": 4,
     "metadata": {},
     "output_type": "execute_result"
    }
   ],
   "source": [
    "df.head()"
   ]
  },
  {
   "cell_type": "code",
   "execution_count": 5,
   "metadata": {},
   "outputs": [
    {
     "name": "stdout",
     "output_type": "stream",
     "text": [
      "The dataset contains 564516 observations\n"
     ]
    }
   ],
   "source": [
    "print (\"The dataset contains {} observations\".format(df.shape[0]))"
   ]
  },
  {
   "cell_type": "code",
   "execution_count": 6,
   "metadata": {},
   "outputs": [
    {
     "name": "stdout",
     "output_type": "stream",
     "text": [
      "The dataset contains 4 columns\n"
     ]
    }
   ],
   "source": [
    "print (\"The dataset contains {} columns\".format(df.shape[1]))"
   ]
  },
  {
   "cell_type": "code",
   "execution_count": 7,
   "metadata": {},
   "outputs": [
    {
     "name": "stdout",
     "output_type": "stream",
     "text": [
      "<class 'pandas.core.frame.DataFrame'>\n",
      "RangeIndex: 564516 entries, 0 to 564515\n",
      "Data columns (total 4 columns):\n",
      " #   Column     Non-Null Count   Dtype  \n",
      "---  ------     --------------   -----  \n",
      " 0   Date/Time  564516 non-null  object \n",
      " 1   Lat        564516 non-null  float64\n",
      " 2   Lon        564516 non-null  float64\n",
      " 3   Base       564516 non-null  object \n",
      "dtypes: float64(2), object(2)\n",
      "memory usage: 17.2+ MB\n"
     ]
    }
   ],
   "source": [
    "df.info()"
   ]
  },
  {
   "cell_type": "markdown",
   "metadata": {},
   "source": [
    "##### Take a sample of 100 000 observations from the dataset"
   ]
  },
  {
   "cell_type": "code",
   "execution_count": 8,
   "metadata": {},
   "outputs": [
    {
     "data": {
      "text/html": [
       "<div>\n",
       "<style scoped>\n",
       "    .dataframe tbody tr th:only-of-type {\n",
       "        vertical-align: middle;\n",
       "    }\n",
       "\n",
       "    .dataframe tbody tr th {\n",
       "        vertical-align: top;\n",
       "    }\n",
       "\n",
       "    .dataframe thead th {\n",
       "        text-align: right;\n",
       "    }\n",
       "</style>\n",
       "<table border=\"1\" class=\"dataframe\">\n",
       "  <thead>\n",
       "    <tr style=\"text-align: right;\">\n",
       "      <th></th>\n",
       "      <th>Date/Time</th>\n",
       "      <th>Lat</th>\n",
       "      <th>Lon</th>\n",
       "      <th>Base</th>\n",
       "    </tr>\n",
       "  </thead>\n",
       "  <tbody>\n",
       "    <tr>\n",
       "      <th>320963</th>\n",
       "      <td>4/30/2014 8:07:00</td>\n",
       "      <td>40.7347</td>\n",
       "      <td>-73.9988</td>\n",
       "      <td>B02617</td>\n",
       "    </tr>\n",
       "    <tr>\n",
       "      <th>507958</th>\n",
       "      <td>4/25/2014 17:43:00</td>\n",
       "      <td>40.7451</td>\n",
       "      <td>-73.9827</td>\n",
       "      <td>B02682</td>\n",
       "    </tr>\n",
       "    <tr>\n",
       "      <th>537507</th>\n",
       "      <td>4/29/2014 16:57:00</td>\n",
       "      <td>40.7449</td>\n",
       "      <td>-73.9888</td>\n",
       "      <td>B02682</td>\n",
       "    </tr>\n",
       "    <tr>\n",
       "      <th>316544</th>\n",
       "      <td>4/29/2014 7:37:00</td>\n",
       "      <td>40.7487</td>\n",
       "      <td>-74.0035</td>\n",
       "      <td>B02617</td>\n",
       "    </tr>\n",
       "    <tr>\n",
       "      <th>429852</th>\n",
       "      <td>4/14/2014 13:11:00</td>\n",
       "      <td>40.7827</td>\n",
       "      <td>-73.9473</td>\n",
       "      <td>B02682</td>\n",
       "    </tr>\n",
       "  </tbody>\n",
       "</table>\n",
       "</div>"
      ],
      "text/plain": [
       "                 Date/Time      Lat      Lon    Base\n",
       "320963   4/30/2014 8:07:00  40.7347 -73.9988  B02617\n",
       "507958  4/25/2014 17:43:00  40.7451 -73.9827  B02682\n",
       "537507  4/29/2014 16:57:00  40.7449 -73.9888  B02682\n",
       "316544   4/29/2014 7:37:00  40.7487 -74.0035  B02617\n",
       "429852  4/14/2014 13:11:00  40.7827 -73.9473  B02682"
      ]
     },
     "execution_count": 8,
     "metadata": {},
     "output_type": "execute_result"
    }
   ],
   "source": [
    "dataset = df.sample(100000)\n",
    "dataset.head()"
   ]
  },
  {
   "cell_type": "markdown",
   "metadata": {},
   "source": [
    "##### Converting \"Date/Time\" column to datetime format"
   ]
  },
  {
   "cell_type": "code",
   "execution_count": 9,
   "metadata": {},
   "outputs": [],
   "source": [
    "dataset[\"Date/Time\"] = pd.to_datetime(dataset[\"Date/Time\"])"
   ]
  },
  {
   "cell_type": "markdown",
   "metadata": {},
   "source": [
    "##### Verifying that the dataframe does not contain any missing values"
   ]
  },
  {
   "cell_type": "code",
   "execution_count": 10,
   "metadata": {},
   "outputs": [
    {
     "data": {
      "text/plain": [
       "Date/Time    0\n",
       "Lat          0\n",
       "Lon          0\n",
       "Base         0\n",
       "dtype: int64"
      ]
     },
     "execution_count": 10,
     "metadata": {},
     "output_type": "execute_result"
    }
   ],
   "source": [
    "dataset.isnull().sum()"
   ]
  },
  {
   "cell_type": "code",
   "execution_count": 11,
   "metadata": {},
   "outputs": [
    {
     "name": "stdout",
     "output_type": "stream",
     "text": [
      "<class 'pandas.core.frame.DataFrame'>\n",
      "Int64Index: 100000 entries, 320963 to 458489\n",
      "Data columns (total 4 columns):\n",
      " #   Column     Non-Null Count   Dtype         \n",
      "---  ------     --------------   -----         \n",
      " 0   Date/Time  100000 non-null  datetime64[ns]\n",
      " 1   Lat        100000 non-null  float64       \n",
      " 2   Lon        100000 non-null  float64       \n",
      " 3   Base       100000 non-null  object        \n",
      "dtypes: datetime64[ns](1), float64(2), object(1)\n",
      "memory usage: 3.8+ MB\n"
     ]
    }
   ],
   "source": [
    "dataset.info()"
   ]
  },
  {
   "cell_type": "code",
   "execution_count": 12,
   "metadata": {},
   "outputs": [],
   "source": [
    "sample_data = dataset"
   ]
  },
  {
   "cell_type": "markdown",
   "metadata": {},
   "source": [
    "##### Basic feature engineering from after conversion of \"Date/Time\" column to datetime format"
   ]
  },
  {
   "cell_type": "code",
   "execution_count": 13,
   "metadata": {},
   "outputs": [],
   "source": [
    "sample_data[\"Year\"] = sample_data[\"Date/Time\"].dt.year\n",
    "sample_data[\"Month\"] = sample_data[\"Date/Time\"].dt.month\n",
    "sample_data[\"Day\"] = sample_data[\"Date/Time\"].dt.day\n",
    "sample_data[\"Hour\"] = sample_data[\"Date/Time\"].dt.hour\n",
    "sample_data[\"Minutes\"] = sample_data[\"Date/Time\"].dt.minute\n",
    "sample_data[\"DayOfWeek\"] = sample_data[\"Date/Time\"].dt.day_name()"
   ]
  },
  {
   "cell_type": "code",
   "execution_count": 14,
   "metadata": {},
   "outputs": [
    {
     "data": {
      "text/html": [
       "<div>\n",
       "<style scoped>\n",
       "    .dataframe tbody tr th:only-of-type {\n",
       "        vertical-align: middle;\n",
       "    }\n",
       "\n",
       "    .dataframe tbody tr th {\n",
       "        vertical-align: top;\n",
       "    }\n",
       "\n",
       "    .dataframe thead th {\n",
       "        text-align: right;\n",
       "    }\n",
       "</style>\n",
       "<table border=\"1\" class=\"dataframe\">\n",
       "  <thead>\n",
       "    <tr style=\"text-align: right;\">\n",
       "      <th></th>\n",
       "      <th>Date/Time</th>\n",
       "      <th>Lat</th>\n",
       "      <th>Lon</th>\n",
       "      <th>Base</th>\n",
       "      <th>Year</th>\n",
       "      <th>Month</th>\n",
       "      <th>Day</th>\n",
       "      <th>Hour</th>\n",
       "      <th>Minutes</th>\n",
       "      <th>DayOfWeek</th>\n",
       "    </tr>\n",
       "  </thead>\n",
       "  <tbody>\n",
       "    <tr>\n",
       "      <th>320963</th>\n",
       "      <td>2014-04-30 08:07:00</td>\n",
       "      <td>40.7347</td>\n",
       "      <td>-73.9988</td>\n",
       "      <td>B02617</td>\n",
       "      <td>2014</td>\n",
       "      <td>4</td>\n",
       "      <td>30</td>\n",
       "      <td>8</td>\n",
       "      <td>7</td>\n",
       "      <td>Wednesday</td>\n",
       "    </tr>\n",
       "    <tr>\n",
       "      <th>507958</th>\n",
       "      <td>2014-04-25 17:43:00</td>\n",
       "      <td>40.7451</td>\n",
       "      <td>-73.9827</td>\n",
       "      <td>B02682</td>\n",
       "      <td>2014</td>\n",
       "      <td>4</td>\n",
       "      <td>25</td>\n",
       "      <td>17</td>\n",
       "      <td>43</td>\n",
       "      <td>Friday</td>\n",
       "    </tr>\n",
       "    <tr>\n",
       "      <th>537507</th>\n",
       "      <td>2014-04-29 16:57:00</td>\n",
       "      <td>40.7449</td>\n",
       "      <td>-73.9888</td>\n",
       "      <td>B02682</td>\n",
       "      <td>2014</td>\n",
       "      <td>4</td>\n",
       "      <td>29</td>\n",
       "      <td>16</td>\n",
       "      <td>57</td>\n",
       "      <td>Tuesday</td>\n",
       "    </tr>\n",
       "  </tbody>\n",
       "</table>\n",
       "</div>"
      ],
      "text/plain": [
       "                 Date/Time      Lat      Lon    Base  Year  Month  Day  Hour  \\\n",
       "320963 2014-04-30 08:07:00  40.7347 -73.9988  B02617  2014      4   30     8   \n",
       "507958 2014-04-25 17:43:00  40.7451 -73.9827  B02682  2014      4   25    17   \n",
       "537507 2014-04-29 16:57:00  40.7449 -73.9888  B02682  2014      4   29    16   \n",
       "\n",
       "        Minutes  DayOfWeek  \n",
       "320963        7  Wednesday  \n",
       "507958       43     Friday  \n",
       "537507       57    Tuesday  "
      ]
     },
     "execution_count": 14,
     "metadata": {},
     "output_type": "execute_result"
    }
   ],
   "source": [
    "sample_data.head(3)"
   ]
  },
  {
   "cell_type": "markdown",
   "metadata": {},
   "source": [
    "##### Dropping \"Date/Time\" and \"Base\" column before further processing"
   ]
  },
  {
   "cell_type": "code",
   "execution_count": 15,
   "metadata": {},
   "outputs": [],
   "source": [
    "sample_data = sample_data.drop(columns=[\"Date/Time\", \"Base\"])"
   ]
  },
  {
   "cell_type": "code",
   "execution_count": 16,
   "metadata": {},
   "outputs": [
    {
     "data": {
      "text/html": [
       "<div>\n",
       "<style scoped>\n",
       "    .dataframe tbody tr th:only-of-type {\n",
       "        vertical-align: middle;\n",
       "    }\n",
       "\n",
       "    .dataframe tbody tr th {\n",
       "        vertical-align: top;\n",
       "    }\n",
       "\n",
       "    .dataframe thead th {\n",
       "        text-align: right;\n",
       "    }\n",
       "</style>\n",
       "<table border=\"1\" class=\"dataframe\">\n",
       "  <thead>\n",
       "    <tr style=\"text-align: right;\">\n",
       "      <th></th>\n",
       "      <th>Lat</th>\n",
       "      <th>Lon</th>\n",
       "      <th>Year</th>\n",
       "      <th>Month</th>\n",
       "      <th>Day</th>\n",
       "      <th>Hour</th>\n",
       "      <th>Minutes</th>\n",
       "      <th>DayOfWeek</th>\n",
       "    </tr>\n",
       "  </thead>\n",
       "  <tbody>\n",
       "    <tr>\n",
       "      <th>320963</th>\n",
       "      <td>40.7347</td>\n",
       "      <td>-73.9988</td>\n",
       "      <td>2014</td>\n",
       "      <td>4</td>\n",
       "      <td>30</td>\n",
       "      <td>8</td>\n",
       "      <td>7</td>\n",
       "      <td>Wednesday</td>\n",
       "    </tr>\n",
       "    <tr>\n",
       "      <th>507958</th>\n",
       "      <td>40.7451</td>\n",
       "      <td>-73.9827</td>\n",
       "      <td>2014</td>\n",
       "      <td>4</td>\n",
       "      <td>25</td>\n",
       "      <td>17</td>\n",
       "      <td>43</td>\n",
       "      <td>Friday</td>\n",
       "    </tr>\n",
       "    <tr>\n",
       "      <th>537507</th>\n",
       "      <td>40.7449</td>\n",
       "      <td>-73.9888</td>\n",
       "      <td>2014</td>\n",
       "      <td>4</td>\n",
       "      <td>29</td>\n",
       "      <td>16</td>\n",
       "      <td>57</td>\n",
       "      <td>Tuesday</td>\n",
       "    </tr>\n",
       "    <tr>\n",
       "      <th>316544</th>\n",
       "      <td>40.7487</td>\n",
       "      <td>-74.0035</td>\n",
       "      <td>2014</td>\n",
       "      <td>4</td>\n",
       "      <td>29</td>\n",
       "      <td>7</td>\n",
       "      <td>37</td>\n",
       "      <td>Tuesday</td>\n",
       "    </tr>\n",
       "    <tr>\n",
       "      <th>429852</th>\n",
       "      <td>40.7827</td>\n",
       "      <td>-73.9473</td>\n",
       "      <td>2014</td>\n",
       "      <td>4</td>\n",
       "      <td>14</td>\n",
       "      <td>13</td>\n",
       "      <td>11</td>\n",
       "      <td>Monday</td>\n",
       "    </tr>\n",
       "  </tbody>\n",
       "</table>\n",
       "</div>"
      ],
      "text/plain": [
       "            Lat      Lon  Year  Month  Day  Hour  Minutes  DayOfWeek\n",
       "320963  40.7347 -73.9988  2014      4   30     8        7  Wednesday\n",
       "507958  40.7451 -73.9827  2014      4   25    17       43     Friday\n",
       "537507  40.7449 -73.9888  2014      4   29    16       57    Tuesday\n",
       "316544  40.7487 -74.0035  2014      4   29     7       37    Tuesday\n",
       "429852  40.7827 -73.9473  2014      4   14    13       11     Monday"
      ]
     },
     "execution_count": 16,
     "metadata": {},
     "output_type": "execute_result"
    }
   ],
   "source": [
    "sample_data.head()"
   ]
  },
  {
   "cell_type": "code",
   "execution_count": 17,
   "metadata": {},
   "outputs": [
    {
     "data": {
      "text/plain": [
       "(100000, 8)"
      ]
     },
     "execution_count": 17,
     "metadata": {},
     "output_type": "execute_result"
    }
   ],
   "source": [
    "sample_data.shape"
   ]
  },
  {
   "cell_type": "markdown",
   "metadata": {},
   "source": [
    "##### Verifying that \"DayOfWeek\" column contains all the 7 days of the week"
   ]
  },
  {
   "cell_type": "code",
   "execution_count": 18,
   "metadata": {},
   "outputs": [
    {
     "data": {
      "text/plain": [
       "array(['Wednesday', 'Friday', 'Tuesday', 'Monday', 'Thursday', 'Sunday',\n",
       "       'Saturday'], dtype=object)"
      ]
     },
     "execution_count": 18,
     "metadata": {},
     "output_type": "execute_result"
    }
   ],
   "source": [
    "sample_data[\"DayOfWeek\"].unique()"
   ]
  },
  {
   "cell_type": "markdown",
   "metadata": {},
   "source": [
    "##### Verifying that \"Day\" column contains all the 30 days of April"
   ]
  },
  {
   "cell_type": "code",
   "execution_count": 19,
   "metadata": {},
   "outputs": [
    {
     "data": {
      "text/plain": [
       "array([30, 25, 29, 14, 11, 15, 10, 27, 24,  5,  6,  3,  1,  8, 18, 28, 20,\n",
       "        7, 21,  4, 26,  9,  2, 12, 17, 19, 16, 22, 13, 23])"
      ]
     },
     "execution_count": 19,
     "metadata": {},
     "output_type": "execute_result"
    }
   ],
   "source": [
    "sample_data[\"Day\"].unique()"
   ]
  },
  {
   "cell_type": "code",
   "execution_count": 20,
   "metadata": {},
   "outputs": [
    {
     "data": {
      "text/plain": [
       "30"
      ]
     },
     "execution_count": 20,
     "metadata": {},
     "output_type": "execute_result"
    }
   ],
   "source": [
    "len(sample_data[\"Day\"].unique())"
   ]
  },
  {
   "cell_type": "markdown",
   "metadata": {},
   "source": [
    "##### Verifying the values in the \"Hour\" column"
   ]
  },
  {
   "cell_type": "code",
   "execution_count": 21,
   "metadata": {},
   "outputs": [
    {
     "data": {
      "text/plain": [
       "array([ 8, 17, 16,  7, 13, 11, 19, 20, 10, 18,  9, 15,  2, 14,  3, 21,  5,\n",
       "       22,  4,  6, 12,  1, 23,  0])"
      ]
     },
     "execution_count": 21,
     "metadata": {},
     "output_type": "execute_result"
    }
   ],
   "source": [
    "sample_data[\"Hour\"].unique()"
   ]
  },
  {
   "cell_type": "code",
   "execution_count": 22,
   "metadata": {},
   "outputs": [
    {
     "data": {
      "text/plain": [
       "24"
      ]
     },
     "execution_count": 22,
     "metadata": {},
     "output_type": "execute_result"
    }
   ],
   "source": [
    "len(sample_data[\"Hour\"].unique())"
   ]
  },
  {
   "cell_type": "markdown",
   "metadata": {},
   "source": [
    "##### Creating dataframes for information concerning each of the seven days of the week for April"
   ]
  },
  {
   "cell_type": "code",
   "execution_count": 23,
   "metadata": {},
   "outputs": [],
   "source": [
    "monday = sample_data[sample_data.DayOfWeek == \"Monday\"]"
   ]
  },
  {
   "cell_type": "code",
   "execution_count": 24,
   "metadata": {},
   "outputs": [],
   "source": [
    "tuesday = sample_data[sample_data.DayOfWeek == \"Tuesday\"]"
   ]
  },
  {
   "cell_type": "code",
   "execution_count": 25,
   "metadata": {},
   "outputs": [],
   "source": [
    "wednesday = sample_data[sample_data.DayOfWeek == \"Wednesday\"]"
   ]
  },
  {
   "cell_type": "code",
   "execution_count": 26,
   "metadata": {},
   "outputs": [],
   "source": [
    "thursday = sample_data[sample_data.DayOfWeek == \"Thursday\"]"
   ]
  },
  {
   "cell_type": "code",
   "execution_count": 27,
   "metadata": {},
   "outputs": [],
   "source": [
    "friday = sample_data[sample_data.DayOfWeek == \"Friday\"]"
   ]
  },
  {
   "cell_type": "code",
   "execution_count": 28,
   "metadata": {},
   "outputs": [],
   "source": [
    "saturday = sample_data[sample_data.DayOfWeek == \"Saturday\"]"
   ]
  },
  {
   "cell_type": "code",
   "execution_count": 29,
   "metadata": {},
   "outputs": [],
   "source": [
    "sunday = sample_data[sample_data.DayOfWeek == \"Sunday\"]"
   ]
  },
  {
   "cell_type": "markdown",
   "metadata": {},
   "source": [
    "##### Verifying that the number of rows of each of the dataframes add up to the total number of rows of the original dataset"
   ]
  },
  {
   "cell_type": "code",
   "execution_count": 30,
   "metadata": {},
   "outputs": [
    {
     "data": {
      "text/plain": [
       "100000"
      ]
     },
     "execution_count": 30,
     "metadata": {},
     "output_type": "execute_result"
    }
   ],
   "source": [
    "monday.shape[0]+tuesday.shape[0]+wednesday.shape[0]+thursday.shape[0]+friday.shape[0]+saturday.shape[0]+sunday.shape[0]"
   ]
  },
  {
   "cell_type": "markdown",
   "metadata": {},
   "source": [
    "##### Creating dataframes for information concerning each of the 24 hours of the day"
   ]
  },
  {
   "cell_type": "code",
   "execution_count": 31,
   "metadata": {},
   "outputs": [],
   "source": [
    "midnight = sample_data[sample_data.Hour == 0]"
   ]
  },
  {
   "cell_type": "code",
   "execution_count": 32,
   "metadata": {},
   "outputs": [],
   "source": [
    "one = sample_data[sample_data.Hour == 1]"
   ]
  },
  {
   "cell_type": "code",
   "execution_count": 33,
   "metadata": {},
   "outputs": [],
   "source": [
    "two = sample_data[sample_data.Hour == 2]"
   ]
  },
  {
   "cell_type": "code",
   "execution_count": 34,
   "metadata": {},
   "outputs": [],
   "source": [
    "three = sample_data[sample_data.Hour == 3]"
   ]
  },
  {
   "cell_type": "code",
   "execution_count": 35,
   "metadata": {},
   "outputs": [],
   "source": [
    "four = sample_data[sample_data.Hour == 4]"
   ]
  },
  {
   "cell_type": "code",
   "execution_count": 36,
   "metadata": {},
   "outputs": [],
   "source": [
    "five = sample_data[sample_data.Hour == 5]"
   ]
  },
  {
   "cell_type": "code",
   "execution_count": 37,
   "metadata": {},
   "outputs": [],
   "source": [
    "six = sample_data[sample_data.Hour == 6]"
   ]
  },
  {
   "cell_type": "code",
   "execution_count": 38,
   "metadata": {},
   "outputs": [],
   "source": [
    "seven = sample_data[sample_data.Hour == 7]"
   ]
  },
  {
   "cell_type": "code",
   "execution_count": 39,
   "metadata": {},
   "outputs": [],
   "source": [
    "eight = sample_data[sample_data.Hour == 8]"
   ]
  },
  {
   "cell_type": "code",
   "execution_count": 40,
   "metadata": {},
   "outputs": [],
   "source": [
    "nine = sample_data[sample_data.Hour == 9]"
   ]
  },
  {
   "cell_type": "code",
   "execution_count": 41,
   "metadata": {},
   "outputs": [],
   "source": [
    "ten = sample_data[sample_data.Hour == 10]"
   ]
  },
  {
   "cell_type": "code",
   "execution_count": 42,
   "metadata": {},
   "outputs": [],
   "source": [
    "eleven = sample_data[sample_data.Hour == 11]"
   ]
  },
  {
   "cell_type": "code",
   "execution_count": 43,
   "metadata": {},
   "outputs": [],
   "source": [
    "twelve = sample_data[sample_data.Hour == 12]"
   ]
  },
  {
   "cell_type": "code",
   "execution_count": 44,
   "metadata": {},
   "outputs": [],
   "source": [
    "thirteen = sample_data[sample_data.Hour == 13]"
   ]
  },
  {
   "cell_type": "code",
   "execution_count": 45,
   "metadata": {},
   "outputs": [],
   "source": [
    "fourteen = sample_data[sample_data.Hour == 14]"
   ]
  },
  {
   "cell_type": "code",
   "execution_count": 46,
   "metadata": {},
   "outputs": [],
   "source": [
    "fifteen = sample_data[sample_data.Hour == 15]"
   ]
  },
  {
   "cell_type": "code",
   "execution_count": 47,
   "metadata": {},
   "outputs": [],
   "source": [
    "sixteen = sample_data[sample_data.Hour == 16]"
   ]
  },
  {
   "cell_type": "code",
   "execution_count": 48,
   "metadata": {},
   "outputs": [],
   "source": [
    "seventeen = sample_data[sample_data.Hour == 17]"
   ]
  },
  {
   "cell_type": "code",
   "execution_count": 49,
   "metadata": {},
   "outputs": [],
   "source": [
    "eighteen = sample_data[sample_data.Hour == 18]"
   ]
  },
  {
   "cell_type": "code",
   "execution_count": 50,
   "metadata": {},
   "outputs": [],
   "source": [
    "nineteen = sample_data[sample_data.Hour == 19]"
   ]
  },
  {
   "cell_type": "code",
   "execution_count": 51,
   "metadata": {},
   "outputs": [],
   "source": [
    "twenty = sample_data[sample_data.Hour == 20]"
   ]
  },
  {
   "cell_type": "code",
   "execution_count": 52,
   "metadata": {},
   "outputs": [],
   "source": [
    "twenty_one = sample_data[sample_data.Hour == 21]"
   ]
  },
  {
   "cell_type": "code",
   "execution_count": 53,
   "metadata": {},
   "outputs": [],
   "source": [
    "twenty_two = sample_data[sample_data.Hour == 22]"
   ]
  },
  {
   "cell_type": "code",
   "execution_count": 54,
   "metadata": {},
   "outputs": [],
   "source": [
    "twenty_three = sample_data[sample_data.Hour == 23]"
   ]
  },
  {
   "cell_type": "markdown",
   "metadata": {},
   "source": [
    "##### Verifying that the number of rows of each of the dataframes add up to the total number of rows of the original dataset"
   ]
  },
  {
   "cell_type": "code",
   "execution_count": 55,
   "metadata": {},
   "outputs": [
    {
     "data": {
      "text/plain": [
       "100000"
      ]
     },
     "execution_count": 55,
     "metadata": {},
     "output_type": "execute_result"
    }
   ],
   "source": [
    "one.shape[0]+two.shape[0]+three.shape[0]+four.shape[0]+five.shape[0]+six.shape[0]+seven.shape[0]+eight.shape[0]+nine.shape[0]+ten.shape[0]+eleven.shape[0]+twelve.shape[0]+thirteen.shape[0]+fourteen.shape[0]+fifteen.shape[0]+sixteen.shape[0]+seventeen.shape[0]+eighteen.shape[0]+nineteen.shape[0]+twenty.shape[0]+twenty_one.shape[0]+twenty_two.shape[0]+twenty_three.shape[0]+midnight.shape[0]"
   ]
  },
  {
   "cell_type": "markdown",
   "metadata": {},
   "source": [
    "### Picking one day at a given hour, as asked in the exercise, for a test"
   ]
  },
  {
   "cell_type": "code",
   "execution_count": 56,
   "metadata": {},
   "outputs": [
    {
     "data": {
      "text/html": [
       "<div>\n",
       "<style scoped>\n",
       "    .dataframe tbody tr th:only-of-type {\n",
       "        vertical-align: middle;\n",
       "    }\n",
       "\n",
       "    .dataframe tbody tr th {\n",
       "        vertical-align: top;\n",
       "    }\n",
       "\n",
       "    .dataframe thead th {\n",
       "        text-align: right;\n",
       "    }\n",
       "</style>\n",
       "<table border=\"1\" class=\"dataframe\">\n",
       "  <thead>\n",
       "    <tr style=\"text-align: right;\">\n",
       "      <th></th>\n",
       "      <th>Lat</th>\n",
       "      <th>Lon</th>\n",
       "      <th>Year</th>\n",
       "      <th>Month</th>\n",
       "      <th>Day</th>\n",
       "      <th>Hour</th>\n",
       "      <th>Minutes</th>\n",
       "      <th>DayOfWeek</th>\n",
       "    </tr>\n",
       "  </thead>\n",
       "  <tbody>\n",
       "    <tr>\n",
       "      <th>524162</th>\n",
       "      <td>40.7704</td>\n",
       "      <td>-73.8651</td>\n",
       "      <td>2014</td>\n",
       "      <td>4</td>\n",
       "      <td>27</td>\n",
       "      <td>12</td>\n",
       "      <td>48</td>\n",
       "      <td>Sunday</td>\n",
       "    </tr>\n",
       "    <tr>\n",
       "      <th>264956</th>\n",
       "      <td>40.7107</td>\n",
       "      <td>-74.0911</td>\n",
       "      <td>2014</td>\n",
       "      <td>4</td>\n",
       "      <td>13</td>\n",
       "      <td>12</td>\n",
       "      <td>4</td>\n",
       "      <td>Sunday</td>\n",
       "    </tr>\n",
       "    <tr>\n",
       "      <th>265050</th>\n",
       "      <td>40.7304</td>\n",
       "      <td>-73.9950</td>\n",
       "      <td>2014</td>\n",
       "      <td>4</td>\n",
       "      <td>13</td>\n",
       "      <td>12</td>\n",
       "      <td>43</td>\n",
       "      <td>Sunday</td>\n",
       "    </tr>\n",
       "    <tr>\n",
       "      <th>138151</th>\n",
       "      <td>40.7098</td>\n",
       "      <td>-74.0154</td>\n",
       "      <td>2014</td>\n",
       "      <td>4</td>\n",
       "      <td>20</td>\n",
       "      <td>12</td>\n",
       "      <td>4</td>\n",
       "      <td>Sunday</td>\n",
       "    </tr>\n",
       "    <tr>\n",
       "      <th>311767</th>\n",
       "      <td>40.7156</td>\n",
       "      <td>-74.0111</td>\n",
       "      <td>2014</td>\n",
       "      <td>4</td>\n",
       "      <td>27</td>\n",
       "      <td>12</td>\n",
       "      <td>25</td>\n",
       "      <td>Sunday</td>\n",
       "    </tr>\n",
       "  </tbody>\n",
       "</table>\n",
       "</div>"
      ],
      "text/plain": [
       "            Lat      Lon  Year  Month  Day  Hour  Minutes DayOfWeek\n",
       "524162  40.7704 -73.8651  2014      4   27    12       48    Sunday\n",
       "264956  40.7107 -74.0911  2014      4   13    12        4    Sunday\n",
       "265050  40.7304 -73.9950  2014      4   13    12       43    Sunday\n",
       "138151  40.7098 -74.0154  2014      4   20    12        4    Sunday\n",
       "311767  40.7156 -74.0111  2014      4   27    12       25    Sunday"
      ]
     },
     "execution_count": 56,
     "metadata": {},
     "output_type": "execute_result"
    }
   ],
   "source": [
    "sunday_noon = sunday[sunday.Hour == 12]\n",
    "sunday_noon.head()"
   ]
  },
  {
   "cell_type": "code",
   "execution_count": 57,
   "metadata": {},
   "outputs": [
    {
     "data": {
      "text/plain": [
       "(461, 8)"
      ]
     },
     "execution_count": 57,
     "metadata": {},
     "output_type": "execute_result"
    }
   ],
   "source": [
    "sunday_noon.shape"
   ]
  },
  {
   "cell_type": "markdown",
   "metadata": {},
   "source": [
    "##### Dropping unnecessary columns of the dataset"
   ]
  },
  {
   "cell_type": "code",
   "execution_count": 58,
   "metadata": {},
   "outputs": [],
   "source": [
    "sunday_noon = sunday_noon.drop(columns=[\"Year\", \"Month\", \"Day\"])"
   ]
  },
  {
   "cell_type": "code",
   "execution_count": 59,
   "metadata": {},
   "outputs": [
    {
     "data": {
      "text/html": [
       "<div>\n",
       "<style scoped>\n",
       "    .dataframe tbody tr th:only-of-type {\n",
       "        vertical-align: middle;\n",
       "    }\n",
       "\n",
       "    .dataframe tbody tr th {\n",
       "        vertical-align: top;\n",
       "    }\n",
       "\n",
       "    .dataframe thead th {\n",
       "        text-align: right;\n",
       "    }\n",
       "</style>\n",
       "<table border=\"1\" class=\"dataframe\">\n",
       "  <thead>\n",
       "    <tr style=\"text-align: right;\">\n",
       "      <th></th>\n",
       "      <th>Lat</th>\n",
       "      <th>Lon</th>\n",
       "      <th>Hour</th>\n",
       "      <th>Minutes</th>\n",
       "      <th>DayOfWeek</th>\n",
       "    </tr>\n",
       "  </thead>\n",
       "  <tbody>\n",
       "    <tr>\n",
       "      <th>524162</th>\n",
       "      <td>40.7704</td>\n",
       "      <td>-73.8651</td>\n",
       "      <td>12</td>\n",
       "      <td>48</td>\n",
       "      <td>Sunday</td>\n",
       "    </tr>\n",
       "    <tr>\n",
       "      <th>264956</th>\n",
       "      <td>40.7107</td>\n",
       "      <td>-74.0911</td>\n",
       "      <td>12</td>\n",
       "      <td>4</td>\n",
       "      <td>Sunday</td>\n",
       "    </tr>\n",
       "    <tr>\n",
       "      <th>265050</th>\n",
       "      <td>40.7304</td>\n",
       "      <td>-73.9950</td>\n",
       "      <td>12</td>\n",
       "      <td>43</td>\n",
       "      <td>Sunday</td>\n",
       "    </tr>\n",
       "    <tr>\n",
       "      <th>138151</th>\n",
       "      <td>40.7098</td>\n",
       "      <td>-74.0154</td>\n",
       "      <td>12</td>\n",
       "      <td>4</td>\n",
       "      <td>Sunday</td>\n",
       "    </tr>\n",
       "    <tr>\n",
       "      <th>311767</th>\n",
       "      <td>40.7156</td>\n",
       "      <td>-74.0111</td>\n",
       "      <td>12</td>\n",
       "      <td>25</td>\n",
       "      <td>Sunday</td>\n",
       "    </tr>\n",
       "  </tbody>\n",
       "</table>\n",
       "</div>"
      ],
      "text/plain": [
       "            Lat      Lon  Hour  Minutes DayOfWeek\n",
       "524162  40.7704 -73.8651    12       48    Sunday\n",
       "264956  40.7107 -74.0911    12        4    Sunday\n",
       "265050  40.7304 -73.9950    12       43    Sunday\n",
       "138151  40.7098 -74.0154    12        4    Sunday\n",
       "311767  40.7156 -74.0111    12       25    Sunday"
      ]
     },
     "execution_count": 59,
     "metadata": {},
     "output_type": "execute_result"
    }
   ],
   "source": [
    "sunday_noon.head()"
   ]
  },
  {
   "cell_type": "markdown",
   "metadata": {},
   "source": [
    "##### A scatterplot to show how the pick-up points are scattered in New York city on Sundays between noon and 12 h 59"
   ]
  },
  {
   "cell_type": "code",
   "execution_count": 60,
   "metadata": {},
   "outputs": [
    {
     "data": {
      "text/html": [
       "<iframe\n",
       "    scrolling=\"no\"\n",
       "    width=\"100%\"\n",
       "    height=\"545px\"\n",
       "    src=\"iframe_figures/figure_60.html\"\n",
       "    frameborder=\"0\"\n",
       "    allowfullscreen\n",
       "></iframe>\n"
      ]
     },
     "metadata": {},
     "output_type": "display_data"
    }
   ],
   "source": [
    "fig_sunday_noon = px.scatter_mapbox(\n",
    "        sunday_noon, \n",
    "        lat=\"Lat\", \n",
    "        lon=\"Lon\",\n",
    "        mapbox_style=\"carto-positron\"\n",
    ")\n",
    "\n",
    "fig_sunday_noon.show()"
   ]
  },
  {
   "cell_type": "markdown",
   "metadata": {},
   "source": [
    "##### Scaling numerical data and one-hot encoding categorical data"
   ]
  },
  {
   "cell_type": "code",
   "execution_count": 61,
   "metadata": {},
   "outputs": [
    {
     "name": "stdout",
     "output_type": "stream",
     "text": [
      "Preprocessing on dataset...\n",
      "            Lat      Lon  Hour  Minutes DayOfWeek\n",
      "524162  40.7704 -73.8651    12       48    Sunday\n",
      "264956  40.7107 -74.0911    12        4    Sunday\n",
      "265050  40.7304 -73.9950    12       43    Sunday\n",
      "138151  40.7098 -74.0154    12        4    Sunday\n",
      "311767  40.7156 -74.0111    12       25    Sunday\n",
      "...Completed.\n",
      "[[ 0.82692566  2.07065564  0.          1.08389796]\n",
      " [-0.67373372 -2.07917149  0.         -1.43279003]\n",
      " [-0.17854126 -0.31457686  0.          0.79791069]\n",
      " [-0.69635673 -0.68916303  0.         -1.43279003]\n",
      " [-0.55056403 -0.61020614  0.         -0.23164349]]\n",
      "\n"
     ]
    }
   ],
   "source": [
    "numeric_features = [0, 1, 2, 3] # Positions of numerical variables\n",
    "numeric_transformer = StandardScaler()\n",
    "\n",
    "# Creation of the transformer for categorical values\n",
    "categorical_features = [4] # Positions of categorical variables\n",
    "categorical_transformer = OneHotEncoder(drop='first')\n",
    "\n",
    "# Combining the transformers in ColumnTransformer\n",
    "preprocessor = ColumnTransformer(\n",
    "    transformers=[\n",
    "        ('num', numeric_transformer, numeric_features),\n",
    "        ('cat', categorical_transformer, categorical_features)\n",
    "    ])\n",
    "\n",
    "print(\"Preprocessing on dataset...\")\n",
    "print(sunday_noon.head())\n",
    "scaled_X_sunday_noon = preprocessor.fit_transform(sunday_noon)\n",
    "print('...Completed.')\n",
    "print(scaled_X_sunday_noon[0:5, :])\n",
    "print()"
   ]
  },
  {
   "cell_type": "markdown",
   "metadata": {},
   "source": [
    "#####  Use DBSCAN and a for loop to create a variety of models testing different epsilon values"
   ]
  },
  {
   "cell_type": "code",
   "execution_count": 62,
   "metadata": {},
   "outputs": [],
   "source": [
    "from sklearn.cluster import DBSCAN\n",
    "\n",
    "outlier_percent = []\n",
    "\n",
    "for eps in np.linspace(0.001, 3, 100):\n",
    "    \n",
    "    # Create Model\n",
    "    dbscan = DBSCAN(eps=eps,min_samples=2*scaled_X_sunday_noon.shape[1], metric=\"manhattan\", algorithm=\"brute\")\n",
    "    dbscan.fit(scaled_X_sunday_noon)\n",
    "   \n",
    "     \n",
    "    # Log percentage of points that are outliers\n",
    "    perc_outliers = 100 * np.sum(dbscan.labels_ == -1) / len(dbscan.labels_)\n",
    "    \n",
    "    outlier_percent.append(perc_outliers)"
   ]
  },
  {
   "cell_type": "markdown",
   "metadata": {},
   "source": [
    "##### Creating a line plot of the percentage of outlier points versus the epsilon value choice"
   ]
  },
  {
   "cell_type": "code",
   "execution_count": 63,
   "metadata": {},
   "outputs": [
    {
     "data": {
      "text/plain": [
       "Text(0.5, 0, 'Epsilon value')"
      ]
     },
     "execution_count": 63,
     "metadata": {},
     "output_type": "execute_result"
    },
    {
     "data": {
      "image/png": "[encoded data removed]",
      "text/plain": [
       "<Figure size 432x288 with 1 Axes>"
      ]
     },
     "metadata": {
      "needs_background": "light"
     },
     "output_type": "display_data"
    }
   ],
   "source": [
    "import seaborn as sns\n",
    "import matplotlib.pyplot as plt\n",
    "sns.lineplot(x=np.linspace(0.001, 3, 100),y=outlier_percent)\n",
    "plt.ylabel(\"Percentage of points classified as outliers\")\n",
    "plt.xlabel(\"Epsilon value\")"
   ]
  },
  {
   "cell_type": "markdown",
   "metadata": {},
   "source": [
    "##### Following the litterature on DBSCAN, min_samples should be two times the number of dimensions"
   ]
  },
  {
   "cell_type": "code",
   "execution_count": 64,
   "metadata": {},
   "outputs": [
    {
     "data": {
      "text/plain": [
       "10"
      ]
     },
     "execution_count": 64,
     "metadata": {},
     "output_type": "execute_result"
    }
   ],
   "source": [
    "min_samples = (2*sunday_noon.shape[1])\n",
    "min_samples"
   ]
  },
  {
   "cell_type": "markdown",
   "metadata": {},
   "source": [
    "##### Retraining a DBSCAN model with epsilon value = 0.6, based on the plot created above, and min_samples = 8"
   ]
  },
  {
   "cell_type": "code",
   "execution_count": 65,
   "metadata": {},
   "outputs": [
    {
     "data": {
      "text/plain": [
       "DBSCAN(algorithm='brute', eps=0.6, metric='manhattan', min_samples=8)"
      ]
     },
     "execution_count": 65,
     "metadata": {},
     "output_type": "execute_result"
    }
   ],
   "source": [
    "eps = 0.6\n",
    "min_samples = 8\n",
    "dbscan = DBSCAN(eps=eps, min_samples=min_samples, metric=\"manhattan\", algorithm=\"brute\")\n",
    "dbscan.fit(scaled_X_sunday_noon)"
   ]
  },
  {
   "cell_type": "code",
   "execution_count": 66,
   "metadata": {},
   "outputs": [
    {
     "data": {
      "text/plain": [
       "(array([-1,  0,  1]), array([137, 315,   9]))"
      ]
     },
     "execution_count": 66,
     "metadata": {},
     "output_type": "execute_result"
    }
   ],
   "source": [
    "np.unique(dbscan.labels_, return_counts=True)"
   ]
  },
  {
   "cell_type": "code",
   "execution_count": 67,
   "metadata": {},
   "outputs": [
    {
     "data": {
      "text/html": [
       "<div>\n",
       "<style scoped>\n",
       "    .dataframe tbody tr th:only-of-type {\n",
       "        vertical-align: middle;\n",
       "    }\n",
       "\n",
       "    .dataframe tbody tr th {\n",
       "        vertical-align: top;\n",
       "    }\n",
       "\n",
       "    .dataframe thead th {\n",
       "        text-align: right;\n",
       "    }\n",
       "</style>\n",
       "<table border=\"1\" class=\"dataframe\">\n",
       "  <thead>\n",
       "    <tr style=\"text-align: right;\">\n",
       "      <th></th>\n",
       "      <th>Lat</th>\n",
       "      <th>Lon</th>\n",
       "      <th>Hour</th>\n",
       "      <th>Minutes</th>\n",
       "      <th>DayOfWeek</th>\n",
       "      <th>cluster</th>\n",
       "    </tr>\n",
       "  </thead>\n",
       "  <tbody>\n",
       "    <tr>\n",
       "      <th>524162</th>\n",
       "      <td>40.7704</td>\n",
       "      <td>-73.8651</td>\n",
       "      <td>12</td>\n",
       "      <td>48</td>\n",
       "      <td>Sunday</td>\n",
       "      <td>-1</td>\n",
       "    </tr>\n",
       "    <tr>\n",
       "      <th>264956</th>\n",
       "      <td>40.7107</td>\n",
       "      <td>-74.0911</td>\n",
       "      <td>12</td>\n",
       "      <td>4</td>\n",
       "      <td>Sunday</td>\n",
       "      <td>-1</td>\n",
       "    </tr>\n",
       "    <tr>\n",
       "      <th>265050</th>\n",
       "      <td>40.7304</td>\n",
       "      <td>-73.9950</td>\n",
       "      <td>12</td>\n",
       "      <td>43</td>\n",
       "      <td>Sunday</td>\n",
       "      <td>0</td>\n",
       "    </tr>\n",
       "    <tr>\n",
       "      <th>138151</th>\n",
       "      <td>40.7098</td>\n",
       "      <td>-74.0154</td>\n",
       "      <td>12</td>\n",
       "      <td>4</td>\n",
       "      <td>Sunday</td>\n",
       "      <td>0</td>\n",
       "    </tr>\n",
       "    <tr>\n",
       "      <th>311767</th>\n",
       "      <td>40.7156</td>\n",
       "      <td>-74.0111</td>\n",
       "      <td>12</td>\n",
       "      <td>25</td>\n",
       "      <td>Sunday</td>\n",
       "      <td>0</td>\n",
       "    </tr>\n",
       "  </tbody>\n",
       "</table>\n",
       "</div>"
      ],
      "text/plain": [
       "            Lat      Lon  Hour  Minutes DayOfWeek  cluster\n",
       "524162  40.7704 -73.8651    12       48    Sunday       -1\n",
       "264956  40.7107 -74.0911    12        4    Sunday       -1\n",
       "265050  40.7304 -73.9950    12       43    Sunday        0\n",
       "138151  40.7098 -74.0154    12        4    Sunday        0\n",
       "311767  40.7156 -74.0111    12       25    Sunday        0"
      ]
     },
     "execution_count": 67,
     "metadata": {},
     "output_type": "execute_result"
    }
   ],
   "source": [
    "sunday_noon[\"cluster\"] = dbscan.labels_\n",
    "sunday_noon.head()"
   ]
  },
  {
   "cell_type": "markdown",
   "metadata": {},
   "source": [
    "##### A scatterplot to see how the DBSCAN algorithm has clustered the pick-up points in New York city, except outliers on Sundays from noon to 12 h 59"
   ]
  },
  {
   "cell_type": "code",
   "execution_count": 68,
   "metadata": {},
   "outputs": [
    {
     "data": {
      "text/html": [
       "<iframe\n",
       "    scrolling=\"no\"\n",
       "    width=\"100%\"\n",
       "    height=\"545px\"\n",
       "    src=\"iframe_figures/figure_68.html\"\n",
       "    frameborder=\"0\"\n",
       "    allowfullscreen\n",
       "></iframe>\n"
      ]
     },
     "metadata": {},
     "output_type": "display_data"
    }
   ],
   "source": [
    "fig_sunday_noon_cluster = px.scatter_mapbox(\n",
    "        sunday_noon[sunday_noon.cluster != -1], \n",
    "        lat=\"Lat\", \n",
    "        lon=\"Lon\",\n",
    "        color=\"cluster\",\n",
    "        mapbox_style=\"carto-positron\"\n",
    ")\n",
    "\n",
    "fig_sunday_noon_cluster.show()"
   ]
  },
  {
   "cell_type": "markdown",
   "metadata": {},
   "source": [
    "### Picking Sunday to observe how the clustering algorithm behaves"
   ]
  },
  {
   "cell_type": "code",
   "execution_count": 69,
   "metadata": {},
   "outputs": [
    {
     "data": {
      "text/plain": [
       "(8919, 8)"
      ]
     },
     "execution_count": 69,
     "metadata": {},
     "output_type": "execute_result"
    }
   ],
   "source": [
    "sunday.shape"
   ]
  },
  {
   "cell_type": "code",
   "execution_count": 70,
   "metadata": {},
   "outputs": [
    {
     "data": {
      "text/html": [
       "<iframe\n",
       "    scrolling=\"no\"\n",
       "    width=\"100%\"\n",
       "    height=\"545px\"\n",
       "    src=\"iframe_figures/figure_70.html\"\n",
       "    frameborder=\"0\"\n",
       "    allowfullscreen\n",
       "></iframe>\n"
      ]
     },
     "metadata": {},
     "output_type": "display_data"
    }
   ],
   "source": [
    "fig_sunday = px.scatter_mapbox(\n",
    "        sunday, \n",
    "        lat=\"Lat\", \n",
    "        lon=\"Lon\",\n",
    "        mapbox_style=\"carto-positron\"\n",
    ")\n",
    "\n",
    "fig_sunday.show()"
   ]
  },
  {
   "cell_type": "markdown",
   "metadata": {},
   "source": [
    "##### Dropping unnecessary columns of the dataset"
   ]
  },
  {
   "cell_type": "code",
   "execution_count": 71,
   "metadata": {},
   "outputs": [],
   "source": [
    "sunday = sunday.drop(columns=[\"Year\", \"Month\", \"Day\"])"
   ]
  },
  {
   "cell_type": "code",
   "execution_count": 72,
   "metadata": {},
   "outputs": [
    {
     "data": {
      "text/html": [
       "<div>\n",
       "<style scoped>\n",
       "    .dataframe tbody tr th:only-of-type {\n",
       "        vertical-align: middle;\n",
       "    }\n",
       "\n",
       "    .dataframe tbody tr th {\n",
       "        vertical-align: top;\n",
       "    }\n",
       "\n",
       "    .dataframe thead th {\n",
       "        text-align: right;\n",
       "    }\n",
       "</style>\n",
       "<table border=\"1\" class=\"dataframe\">\n",
       "  <thead>\n",
       "    <tr style=\"text-align: right;\">\n",
       "      <th></th>\n",
       "      <th>Lat</th>\n",
       "      <th>Lon</th>\n",
       "      <th>Hour</th>\n",
       "      <th>Minutes</th>\n",
       "      <th>DayOfWeek</th>\n",
       "    </tr>\n",
       "  </thead>\n",
       "  <tbody>\n",
       "    <tr>\n",
       "      <th>311452</th>\n",
       "      <td>40.7473</td>\n",
       "      <td>-73.9722</td>\n",
       "      <td>9</td>\n",
       "      <td>45</td>\n",
       "      <td>Sunday</td>\n",
       "    </tr>\n",
       "    <tr>\n",
       "      <th>188045</th>\n",
       "      <td>40.7396</td>\n",
       "      <td>-73.9927</td>\n",
       "      <td>13</td>\n",
       "      <td>23</td>\n",
       "      <td>Sunday</td>\n",
       "    </tr>\n",
       "    <tr>\n",
       "      <th>371454</th>\n",
       "      <td>40.7381</td>\n",
       "      <td>-74.0094</td>\n",
       "      <td>2</td>\n",
       "      <td>50</td>\n",
       "      <td>Sunday</td>\n",
       "    </tr>\n",
       "    <tr>\n",
       "      <th>287702</th>\n",
       "      <td>40.7244</td>\n",
       "      <td>-73.9998</td>\n",
       "      <td>16</td>\n",
       "      <td>56</td>\n",
       "      <td>Sunday</td>\n",
       "    </tr>\n",
       "    <tr>\n",
       "      <th>556733</th>\n",
       "      <td>40.7638</td>\n",
       "      <td>-73.9756</td>\n",
       "      <td>21</td>\n",
       "      <td>43</td>\n",
       "      <td>Sunday</td>\n",
       "    </tr>\n",
       "  </tbody>\n",
       "</table>\n",
       "</div>"
      ],
      "text/plain": [
       "            Lat      Lon  Hour  Minutes DayOfWeek\n",
       "311452  40.7473 -73.9722     9       45    Sunday\n",
       "188045  40.7396 -73.9927    13       23    Sunday\n",
       "371454  40.7381 -74.0094     2       50    Sunday\n",
       "287702  40.7244 -73.9998    16       56    Sunday\n",
       "556733  40.7638 -73.9756    21       43    Sunday"
      ]
     },
     "execution_count": 72,
     "metadata": {},
     "output_type": "execute_result"
    }
   ],
   "source": [
    "sunday.head()"
   ]
  },
  {
   "cell_type": "markdown",
   "metadata": {},
   "source": [
    "##### Scaling numerical data and one-hot encoding categorical data"
   ]
  },
  {
   "cell_type": "code",
   "execution_count": 73,
   "metadata": {},
   "outputs": [
    {
     "name": "stdout",
     "output_type": "stream",
     "text": [
      "Preprocessing on dataset...\n",
      "            Lat      Lon  Hour  Minutes DayOfWeek\n",
      "311452  40.7473 -73.9722     9       45    Sunday\n",
      "188045  40.7396 -73.9927    13       23    Sunday\n",
      "371454  40.7381 -74.0094     2       50    Sunday\n",
      "287702  40.7244 -73.9998    16       56    Sunday\n",
      "556733  40.7638 -73.9756    21       43    Sunday\n",
      "...Completed.\n",
      "[[ 0.3429522  -0.02960783 -0.43520565  0.9268784 ]\n",
      " [ 0.1552193  -0.35556205  0.142177   -0.33653042]\n",
      " [ 0.11864796 -0.62109549 -1.44562528  1.21401677]\n",
      " [-0.21537033 -0.46845351  0.57521398  1.55858281]\n",
      " [ 0.74523699 -0.08366853  1.29694229  0.81202306]]\n",
      "\n"
     ]
    }
   ],
   "source": [
    "numeric_features = [0, 1, 2, 3] # Positions of numerical variables\n",
    "numeric_transformer = StandardScaler()\n",
    "\n",
    "# Creation of the transformer for categorical values\n",
    "categorical_features = [4] # Positions of categorical variables\n",
    "categorical_transformer = OneHotEncoder(drop='first')\n",
    "\n",
    "# Combining the transformers in ColumnTransformer\n",
    "preprocessor = ColumnTransformer(\n",
    "    transformers=[\n",
    "        ('num', numeric_transformer, numeric_features),\n",
    "        ('cat', categorical_transformer, categorical_features)\n",
    "    ])\n",
    "\n",
    "print(\"Preprocessing on dataset...\")\n",
    "print(sunday.head())\n",
    "scaled_X_sunday = preprocessor.fit_transform(sunday)\n",
    "print('...Completed.')\n",
    "print(scaled_X_sunday[0:5, :])\n",
    "print()"
   ]
  },
  {
   "cell_type": "markdown",
   "metadata": {},
   "source": [
    "#####  Use DBSCAN and a for loop to create a variety of models testing different epsilon values"
   ]
  },
  {
   "cell_type": "code",
   "execution_count": 74,
   "metadata": {},
   "outputs": [],
   "source": [
    "from sklearn.cluster import DBSCAN\n",
    "\n",
    "outlier_percent = []\n",
    "\n",
    "for eps in np.linspace(0.1, 2, 10):\n",
    "    \n",
    "    # Create Model\n",
    "    dbscan = DBSCAN(eps=eps,min_samples=2*scaled_X_sunday.shape[1], metric=\"manhattan\", algorithm=\"brute\")\n",
    "    dbscan.fit(scaled_X_sunday)\n",
    "   \n",
    "     \n",
    "    # Log percentage of points that are outliers\n",
    "    perc_outliers = 100 * np.sum(dbscan.labels_ == -1) / len(dbscan.labels_)\n",
    "    \n",
    "    outlier_percent.append(perc_outliers)"
   ]
  },
  {
   "cell_type": "markdown",
   "metadata": {},
   "source": [
    "##### Creating a line plot of the percentage of outlier points versus the epsilon value choice"
   ]
  },
  {
   "cell_type": "code",
   "execution_count": 75,
   "metadata": {},
   "outputs": [
    {
     "data": {
      "text/plain": [
       "Text(0.5, 0, 'Epsilon value')"
      ]
     },
     "execution_count": 75,
     "metadata": {},
     "output_type": "execute_result"
    },
    {
     "data": {
      "image/png": "[encoded data removed]",
      "text/plain": [
       "<Figure size 432x288 with 1 Axes>"
      ]
     },
     "metadata": {
      "needs_background": "light"
     },
     "output_type": "display_data"
    }
   ],
   "source": [
    "import seaborn as sns\n",
    "import matplotlib.pyplot as plt\n",
    "sns.lineplot(x=np.linspace(0.1, 2, 10), y=outlier_percent)\n",
    "plt.ylabel(\"Percentage of points classified as outliers\")\n",
    "plt.xlabel(\"Epsilon value\")"
   ]
  },
  {
   "cell_type": "markdown",
   "metadata": {},
   "source": [
    "##### Retraining a DBSCAN model with epsilon value = 0.75, based on the plot created above, and min_samples = 6"
   ]
  },
  {
   "cell_type": "code",
   "execution_count": 76,
   "metadata": {},
   "outputs": [
    {
     "data": {
      "text/plain": [
       "DBSCAN(algorithm='brute', eps=0.75, metric='manhattan', min_samples=6)"
      ]
     },
     "execution_count": 76,
     "metadata": {},
     "output_type": "execute_result"
    }
   ],
   "source": [
    "eps = 0.75\n",
    "min_samples = 6\n",
    "\n",
    "dbscan = DBSCAN(eps=eps, min_samples=min_samples, metric=\"manhattan\", algorithm=\"brute\")\n",
    "dbscan.fit(scaled_X_sunday)"
   ]
  },
  {
   "cell_type": "code",
   "execution_count": 77,
   "metadata": {},
   "outputs": [
    {
     "data": {
      "text/plain": [
       "(array([-1,  0,  1,  2,  3,  4]), array([ 499, 7975,  349,    9,   80,    7]))"
      ]
     },
     "execution_count": 77,
     "metadata": {},
     "output_type": "execute_result"
    }
   ],
   "source": [
    "np.unique(dbscan.labels_, return_counts=True)"
   ]
  },
  {
   "cell_type": "code",
   "execution_count": 78,
   "metadata": {},
   "outputs": [
    {
     "data": {
      "text/html": [
       "<div>\n",
       "<style scoped>\n",
       "    .dataframe tbody tr th:only-of-type {\n",
       "        vertical-align: middle;\n",
       "    }\n",
       "\n",
       "    .dataframe tbody tr th {\n",
       "        vertical-align: top;\n",
       "    }\n",
       "\n",
       "    .dataframe thead th {\n",
       "        text-align: right;\n",
       "    }\n",
       "</style>\n",
       "<table border=\"1\" class=\"dataframe\">\n",
       "  <thead>\n",
       "    <tr style=\"text-align: right;\">\n",
       "      <th></th>\n",
       "      <th>Lat</th>\n",
       "      <th>Lon</th>\n",
       "      <th>Hour</th>\n",
       "      <th>Minutes</th>\n",
       "      <th>DayOfWeek</th>\n",
       "      <th>cluster</th>\n",
       "    </tr>\n",
       "  </thead>\n",
       "  <tbody>\n",
       "    <tr>\n",
       "      <th>311452</th>\n",
       "      <td>40.7473</td>\n",
       "      <td>-73.9722</td>\n",
       "      <td>9</td>\n",
       "      <td>45</td>\n",
       "      <td>Sunday</td>\n",
       "      <td>0</td>\n",
       "    </tr>\n",
       "    <tr>\n",
       "      <th>188045</th>\n",
       "      <td>40.7396</td>\n",
       "      <td>-73.9927</td>\n",
       "      <td>13</td>\n",
       "      <td>23</td>\n",
       "      <td>Sunday</td>\n",
       "      <td>0</td>\n",
       "    </tr>\n",
       "    <tr>\n",
       "      <th>371454</th>\n",
       "      <td>40.7381</td>\n",
       "      <td>-74.0094</td>\n",
       "      <td>2</td>\n",
       "      <td>50</td>\n",
       "      <td>Sunday</td>\n",
       "      <td>0</td>\n",
       "    </tr>\n",
       "    <tr>\n",
       "      <th>287702</th>\n",
       "      <td>40.7244</td>\n",
       "      <td>-73.9998</td>\n",
       "      <td>16</td>\n",
       "      <td>56</td>\n",
       "      <td>Sunday</td>\n",
       "      <td>0</td>\n",
       "    </tr>\n",
       "    <tr>\n",
       "      <th>556733</th>\n",
       "      <td>40.7638</td>\n",
       "      <td>-73.9756</td>\n",
       "      <td>21</td>\n",
       "      <td>43</td>\n",
       "      <td>Sunday</td>\n",
       "      <td>0</td>\n",
       "    </tr>\n",
       "  </tbody>\n",
       "</table>\n",
       "</div>"
      ],
      "text/plain": [
       "            Lat      Lon  Hour  Minutes DayOfWeek  cluster\n",
       "311452  40.7473 -73.9722     9       45    Sunday        0\n",
       "188045  40.7396 -73.9927    13       23    Sunday        0\n",
       "371454  40.7381 -74.0094     2       50    Sunday        0\n",
       "287702  40.7244 -73.9998    16       56    Sunday        0\n",
       "556733  40.7638 -73.9756    21       43    Sunday        0"
      ]
     },
     "execution_count": 78,
     "metadata": {},
     "output_type": "execute_result"
    }
   ],
   "source": [
    "sunday[\"cluster\"] = dbscan.labels_\n",
    "sunday.head()"
   ]
  },
  {
   "cell_type": "markdown",
   "metadata": {},
   "source": [
    "##### A scatterplot to see how the DBSCAN algorithm has clustered the pick-up points, except outliers, in New York city on Sundays"
   ]
  },
  {
   "cell_type": "code",
   "execution_count": 79,
   "metadata": {},
   "outputs": [
    {
     "data": {
      "text/html": [
       "<iframe\n",
       "    scrolling=\"no\"\n",
       "    width=\"100%\"\n",
       "    height=\"545px\"\n",
       "    src=\"iframe_figures/figure_79.html\"\n",
       "    frameborder=\"0\"\n",
       "    allowfullscreen\n",
       "></iframe>\n"
      ]
     },
     "metadata": {},
     "output_type": "display_data"
    }
   ],
   "source": [
    "fig_sunday_cluster = px.scatter_mapbox(\n",
    "        sunday[sunday.cluster != -1], \n",
    "        lat=\"Lat\", \n",
    "        lon=\"Lon\",\n",
    "        color=\"cluster\",\n",
    "        mapbox_style=\"carto-positron\"\n",
    ")\n",
    "\n",
    "fig_sunday_cluster.show()"
   ]
  },
  {
   "cell_type": "markdown",
   "metadata": {},
   "source": [
    "### Picking Monday to observe how the clustering algorithm behaves"
   ]
  },
  {
   "cell_type": "code",
   "execution_count": 80,
   "metadata": {},
   "outputs": [
    {
     "data": {
      "text/plain": [
       "(10859, 8)"
      ]
     },
     "execution_count": 80,
     "metadata": {},
     "output_type": "execute_result"
    }
   ],
   "source": [
    "monday.shape"
   ]
  },
  {
   "cell_type": "code",
   "execution_count": 81,
   "metadata": {},
   "outputs": [
    {
     "data": {
      "text/html": [
       "<iframe\n",
       "    scrolling=\"no\"\n",
       "    width=\"100%\"\n",
       "    height=\"545px\"\n",
       "    src=\"iframe_figures/figure_81.html\"\n",
       "    frameborder=\"0\"\n",
       "    allowfullscreen\n",
       "></iframe>\n"
      ]
     },
     "metadata": {},
     "output_type": "display_data"
    }
   ],
   "source": [
    "fig_monday = px.scatter_mapbox(\n",
    "        monday, \n",
    "        lat=\"Lat\", \n",
    "        lon=\"Lon\",\n",
    "        mapbox_style=\"carto-positron\"\n",
    ")\n",
    "\n",
    "fig_monday.show()"
   ]
  },
  {
   "cell_type": "markdown",
   "metadata": {},
   "source": [
    "##### Dropping unnecessary columns of the dataset"
   ]
  },
  {
   "cell_type": "code",
   "execution_count": 82,
   "metadata": {},
   "outputs": [],
   "source": [
    "monday = monday.drop(columns=[\"Year\", \"Month\", \"Day\"])"
   ]
  },
  {
   "cell_type": "code",
   "execution_count": 83,
   "metadata": {},
   "outputs": [
    {
     "data": {
      "text/html": [
       "<div>\n",
       "<style scoped>\n",
       "    .dataframe tbody tr th:only-of-type {\n",
       "        vertical-align: middle;\n",
       "    }\n",
       "\n",
       "    .dataframe tbody tr th {\n",
       "        vertical-align: top;\n",
       "    }\n",
       "\n",
       "    .dataframe thead th {\n",
       "        text-align: right;\n",
       "    }\n",
       "</style>\n",
       "<table border=\"1\" class=\"dataframe\">\n",
       "  <thead>\n",
       "    <tr style=\"text-align: right;\">\n",
       "      <th></th>\n",
       "      <th>Lat</th>\n",
       "      <th>Lon</th>\n",
       "      <th>Hour</th>\n",
       "      <th>Minutes</th>\n",
       "      <th>DayOfWeek</th>\n",
       "    </tr>\n",
       "  </thead>\n",
       "  <tbody>\n",
       "    <tr>\n",
       "      <th>429852</th>\n",
       "      <td>40.7827</td>\n",
       "      <td>-73.9473</td>\n",
       "      <td>13</td>\n",
       "      <td>11</td>\n",
       "      <td>Monday</td>\n",
       "    </tr>\n",
       "    <tr>\n",
       "      <th>195035</th>\n",
       "      <td>40.7746</td>\n",
       "      <td>-73.9622</td>\n",
       "      <td>17</td>\n",
       "      <td>46</td>\n",
       "      <td>Monday</td>\n",
       "    </tr>\n",
       "    <tr>\n",
       "      <th>69403</th>\n",
       "      <td>40.7606</td>\n",
       "      <td>-73.9757</td>\n",
       "      <td>18</td>\n",
       "      <td>28</td>\n",
       "      <td>Monday</td>\n",
       "    </tr>\n",
       "    <tr>\n",
       "      <th>474746</th>\n",
       "      <td>40.8150</td>\n",
       "      <td>-73.9601</td>\n",
       "      <td>5</td>\n",
       "      <td>25</td>\n",
       "      <td>Monday</td>\n",
       "    </tr>\n",
       "    <tr>\n",
       "      <th>268326</th>\n",
       "      <td>40.7519</td>\n",
       "      <td>-73.9781</td>\n",
       "      <td>19</td>\n",
       "      <td>8</td>\n",
       "      <td>Monday</td>\n",
       "    </tr>\n",
       "  </tbody>\n",
       "</table>\n",
       "</div>"
      ],
      "text/plain": [
       "            Lat      Lon  Hour  Minutes DayOfWeek\n",
       "429852  40.7827 -73.9473    13       11    Monday\n",
       "195035  40.7746 -73.9622    17       46    Monday\n",
       "69403   40.7606 -73.9757    18       28    Monday\n",
       "474746  40.8150 -73.9601     5       25    Monday\n",
       "268326  40.7519 -73.9781    19        8    Monday"
      ]
     },
     "execution_count": 83,
     "metadata": {},
     "output_type": "execute_result"
    }
   ],
   "source": [
    "monday.head()"
   ]
  },
  {
   "cell_type": "markdown",
   "metadata": {},
   "source": [
    "##### Scaling numerical data and one-hot encoding categorical data"
   ]
  },
  {
   "cell_type": "code",
   "execution_count": 84,
   "metadata": {},
   "outputs": [
    {
     "name": "stdout",
     "output_type": "stream",
     "text": [
      "Preprocessing on dataset...\n",
      "            Lat      Lon  Hour  Minutes DayOfWeek\n",
      "429852  40.7827 -73.9473    13       11    Monday\n",
      "195035  40.7746 -73.9622    17       46    Monday\n",
      "69403   40.7606 -73.9757    18       28    Monday\n",
      "474746  40.8150 -73.9601     5       25    Monday\n",
      "268326  40.7519 -73.9781    19        8    Monday\n",
      "...Completed.\n",
      "[[ 1.14306136  0.48528501 -0.17807456 -1.07931069]\n",
      " [ 0.92451745  0.21111823  0.55494729  0.95118181]\n",
      " [ 0.54678725 -0.03728791  0.73820275 -0.09307147]\n",
      " [ 2.0145389   0.24975919 -1.64411825 -0.26711369]\n",
      " [ 0.3120549  -0.081449    0.92145821 -1.2533529 ]]\n",
      "\n"
     ]
    }
   ],
   "source": [
    "numeric_features = [0, 1, 2, 3] # Positions of numerical variables\n",
    "numeric_transformer = StandardScaler()\n",
    "\n",
    "# Creation of the transformer for categorical values\n",
    "categorical_features = [4] # Positions of categorical variables\n",
    "categorical_transformer = OneHotEncoder(drop='first')\n",
    "\n",
    "# Combining the transformers in ColumnTransformer\n",
    "preprocessor = ColumnTransformer(\n",
    "    transformers=[\n",
    "        ('num', numeric_transformer, numeric_features),\n",
    "        ('cat', categorical_transformer, categorical_features)\n",
    "    ])\n",
    "\n",
    "print(\"Preprocessing on dataset...\")\n",
    "print(monday.head())\n",
    "scaled_X_monday = preprocessor.fit_transform(monday)\n",
    "print('...Completed.')\n",
    "print(scaled_X_monday[0:5, :])\n",
    "print()"
   ]
  },
  {
   "cell_type": "markdown",
   "metadata": {},
   "source": [
    "#####  Use DBSCAN and a for loop to create a variety of models testing different epsilon values"
   ]
  },
  {
   "cell_type": "code",
   "execution_count": 85,
   "metadata": {},
   "outputs": [],
   "source": [
    "from sklearn.cluster import DBSCAN\n",
    "\n",
    "outlier_percent = []\n",
    "\n",
    "for eps in np.linspace(0.1, 2, 10):\n",
    "    \n",
    "    # Create Model\n",
    "    dbscan = DBSCAN(eps=eps,min_samples=2*scaled_X_monday.shape[1], metric=\"manhattan\", algorithm=\"brute\")\n",
    "    dbscan.fit(scaled_X_monday)\n",
    "   \n",
    "     \n",
    "    # Log percentage of points that are outliers\n",
    "    perc_outliers = 100 * np.sum(dbscan.labels_ == -1) / len(dbscan.labels_)\n",
    "    \n",
    "    outlier_percent.append(perc_outliers)"
   ]
  },
  {
   "cell_type": "markdown",
   "metadata": {},
   "source": [
    "##### Creating a line plot of the percentage of outlier points versus the epsilon value choice"
   ]
  },
  {
   "cell_type": "code",
   "execution_count": 86,
   "metadata": {},
   "outputs": [
    {
     "data": {
      "text/plain": [
       "Text(0.5, 0, 'Epsilon value')"
      ]
     },
     "execution_count": 86,
     "metadata": {},
     "output_type": "execute_result"
    },
    {
     "data": {
      "image/png": "[encoded data removed]",
      "text/plain": [
       "<Figure size 432x288 with 1 Axes>"
      ]
     },
     "metadata": {
      "needs_background": "light"
     },
     "output_type": "display_data"
    }
   ],
   "source": [
    "import seaborn as sns\n",
    "import matplotlib.pyplot as plt\n",
    "sns.lineplot(x=np.linspace(0.1, 2, 10), y=outlier_percent)\n",
    "plt.ylabel(\"Percentage of points classified as outliers\")\n",
    "plt.xlabel(\"Epsilon value\")"
   ]
  },
  {
   "cell_type": "markdown",
   "metadata": {},
   "source": [
    "##### Retraining a DBSCAN model with epsilon value = 0.5, based on the plot created above, and min_samples = 8"
   ]
  },
  {
   "cell_type": "code",
   "execution_count": 87,
   "metadata": {},
   "outputs": [
    {
     "data": {
      "text/plain": [
       "DBSCAN(algorithm='brute', metric='manhattan', min_samples=8)"
      ]
     },
     "execution_count": 87,
     "metadata": {},
     "output_type": "execute_result"
    }
   ],
   "source": [
    "eps = 0.5\n",
    "min_samples = 8\n",
    "\n",
    "dbscan = DBSCAN(eps=eps, min_samples=min_samples, metric=\"manhattan\", algorithm=\"brute\")\n",
    "dbscan.fit(scaled_X_monday)"
   ]
  },
  {
   "cell_type": "code",
   "execution_count": 88,
   "metadata": {},
   "outputs": [
    {
     "data": {
      "text/plain": [
       "(array([-1,  0,  1,  2,  3,  4,  5,  6,  7,  8,  9, 10, 11, 12, 13, 14, 15]),\n",
       " array([2066, 8213,   47,  203,  195,   31,    9,    8,   24,    8,    9,\n",
       "           8,    2,   10,    8,   10,    8]))"
      ]
     },
     "execution_count": 88,
     "metadata": {},
     "output_type": "execute_result"
    }
   ],
   "source": [
    "np.unique(dbscan.labels_, return_counts=True)"
   ]
  },
  {
   "cell_type": "code",
   "execution_count": 89,
   "metadata": {},
   "outputs": [
    {
     "data": {
      "text/html": [
       "<div>\n",
       "<style scoped>\n",
       "    .dataframe tbody tr th:only-of-type {\n",
       "        vertical-align: middle;\n",
       "    }\n",
       "\n",
       "    .dataframe tbody tr th {\n",
       "        vertical-align: top;\n",
       "    }\n",
       "\n",
       "    .dataframe thead th {\n",
       "        text-align: right;\n",
       "    }\n",
       "</style>\n",
       "<table border=\"1\" class=\"dataframe\">\n",
       "  <thead>\n",
       "    <tr style=\"text-align: right;\">\n",
       "      <th></th>\n",
       "      <th>Lat</th>\n",
       "      <th>Lon</th>\n",
       "      <th>Hour</th>\n",
       "      <th>Minutes</th>\n",
       "      <th>DayOfWeek</th>\n",
       "      <th>cluster</th>\n",
       "    </tr>\n",
       "  </thead>\n",
       "  <tbody>\n",
       "    <tr>\n",
       "      <th>429852</th>\n",
       "      <td>40.7827</td>\n",
       "      <td>-73.9473</td>\n",
       "      <td>13</td>\n",
       "      <td>11</td>\n",
       "      <td>Monday</td>\n",
       "      <td>0</td>\n",
       "    </tr>\n",
       "    <tr>\n",
       "      <th>195035</th>\n",
       "      <td>40.7746</td>\n",
       "      <td>-73.9622</td>\n",
       "      <td>17</td>\n",
       "      <td>46</td>\n",
       "      <td>Monday</td>\n",
       "      <td>0</td>\n",
       "    </tr>\n",
       "    <tr>\n",
       "      <th>69403</th>\n",
       "      <td>40.7606</td>\n",
       "      <td>-73.9757</td>\n",
       "      <td>18</td>\n",
       "      <td>28</td>\n",
       "      <td>Monday</td>\n",
       "      <td>0</td>\n",
       "    </tr>\n",
       "    <tr>\n",
       "      <th>474746</th>\n",
       "      <td>40.8150</td>\n",
       "      <td>-73.9601</td>\n",
       "      <td>5</td>\n",
       "      <td>25</td>\n",
       "      <td>Monday</td>\n",
       "      <td>-1</td>\n",
       "    </tr>\n",
       "    <tr>\n",
       "      <th>268326</th>\n",
       "      <td>40.7519</td>\n",
       "      <td>-73.9781</td>\n",
       "      <td>19</td>\n",
       "      <td>8</td>\n",
       "      <td>Monday</td>\n",
       "      <td>0</td>\n",
       "    </tr>\n",
       "  </tbody>\n",
       "</table>\n",
       "</div>"
      ],
      "text/plain": [
       "            Lat      Lon  Hour  Minutes DayOfWeek  cluster\n",
       "429852  40.7827 -73.9473    13       11    Monday        0\n",
       "195035  40.7746 -73.9622    17       46    Monday        0\n",
       "69403   40.7606 -73.9757    18       28    Monday        0\n",
       "474746  40.8150 -73.9601     5       25    Monday       -1\n",
       "268326  40.7519 -73.9781    19        8    Monday        0"
      ]
     },
     "execution_count": 89,
     "metadata": {},
     "output_type": "execute_result"
    }
   ],
   "source": [
    "monday[\"cluster\"] = dbscan.labels_\n",
    "monday.head()"
   ]
  },
  {
   "cell_type": "markdown",
   "metadata": {},
   "source": [
    "##### A scatterplot to see how the DBSCAN algorithm has clustered the pick-up points, except outliers, in New York city on Mondays"
   ]
  },
  {
   "cell_type": "code",
   "execution_count": 90,
   "metadata": {},
   "outputs": [
    {
     "data": {
      "text/html": [
       "<iframe\n",
       "    scrolling=\"no\"\n",
       "    width=\"100%\"\n",
       "    height=\"545px\"\n",
       "    src=\"iframe_figures/figure_90.html\"\n",
       "    frameborder=\"0\"\n",
       "    allowfullscreen\n",
       "></iframe>\n"
      ]
     },
     "metadata": {},
     "output_type": "display_data"
    }
   ],
   "source": [
    "fig_monday_cluster = px.scatter_mapbox(\n",
    "        monday[monday.cluster != -1], \n",
    "        lat=\"Lat\", \n",
    "        lon=\"Lon\",\n",
    "        color=\"cluster\",\n",
    "        mapbox_style=\"carto-positron\"\n",
    ")\n",
    "\n",
    "fig_monday_cluster.show()"
   ]
  },
  {
   "cell_type": "markdown",
   "metadata": {},
   "source": [
    "### Picking Tuesday to observe how the clustering algorithm behaves"
   ]
  },
  {
   "cell_type": "code",
   "execution_count": 91,
   "metadata": {},
   "outputs": [
    {
     "data": {
      "text/plain": [
       "(16268, 8)"
      ]
     },
     "execution_count": 91,
     "metadata": {},
     "output_type": "execute_result"
    }
   ],
   "source": [
    "tuesday.shape"
   ]
  },
  {
   "cell_type": "code",
   "execution_count": 92,
   "metadata": {},
   "outputs": [
    {
     "data": {
      "text/html": [
       "<iframe\n",
       "    scrolling=\"no\"\n",
       "    width=\"100%\"\n",
       "    height=\"545px\"\n",
       "    src=\"iframe_figures/figure_92.html\"\n",
       "    frameborder=\"0\"\n",
       "    allowfullscreen\n",
       "></iframe>\n"
      ]
     },
     "metadata": {},
     "output_type": "display_data"
    }
   ],
   "source": [
    "fig_tuesday = px.scatter_mapbox(\n",
    "        tuesday, \n",
    "        lat=\"Lat\", \n",
    "        lon=\"Lon\",\n",
    "        mapbox_style=\"carto-positron\"\n",
    ")\n",
    "fig_tuesday.show()"
   ]
  },
  {
   "cell_type": "markdown",
   "metadata": {},
   "source": [
    "##### Dropping unnecessary columns of the dataset"
   ]
  },
  {
   "cell_type": "code",
   "execution_count": 93,
   "metadata": {},
   "outputs": [],
   "source": [
    "tuesday = tuesday.drop(columns=[\"Year\", \"Month\", \"Day\"])"
   ]
  },
  {
   "cell_type": "code",
   "execution_count": 94,
   "metadata": {},
   "outputs": [
    {
     "data": {
      "text/html": [
       "<div>\n",
       "<style scoped>\n",
       "    .dataframe tbody tr th:only-of-type {\n",
       "        vertical-align: middle;\n",
       "    }\n",
       "\n",
       "    .dataframe tbody tr th {\n",
       "        vertical-align: top;\n",
       "    }\n",
       "\n",
       "    .dataframe thead th {\n",
       "        text-align: right;\n",
       "    }\n",
       "</style>\n",
       "<table border=\"1\" class=\"dataframe\">\n",
       "  <thead>\n",
       "    <tr style=\"text-align: right;\">\n",
       "      <th></th>\n",
       "      <th>Lat</th>\n",
       "      <th>Lon</th>\n",
       "      <th>Hour</th>\n",
       "      <th>Minutes</th>\n",
       "      <th>DayOfWeek</th>\n",
       "    </tr>\n",
       "  </thead>\n",
       "  <tbody>\n",
       "    <tr>\n",
       "      <th>537507</th>\n",
       "      <td>40.7449</td>\n",
       "      <td>-73.9888</td>\n",
       "      <td>16</td>\n",
       "      <td>57</td>\n",
       "      <td>Tuesday</td>\n",
       "    </tr>\n",
       "    <tr>\n",
       "      <th>316544</th>\n",
       "      <td>40.7487</td>\n",
       "      <td>-74.0035</td>\n",
       "      <td>7</td>\n",
       "      <td>37</td>\n",
       "      <td>Tuesday</td>\n",
       "    </tr>\n",
       "    <tr>\n",
       "      <th>438761</th>\n",
       "      <td>40.7210</td>\n",
       "      <td>-74.0006</td>\n",
       "      <td>19</td>\n",
       "      <td>15</td>\n",
       "      <td>Tuesday</td>\n",
       "    </tr>\n",
       "    <tr>\n",
       "      <th>220659</th>\n",
       "      <td>40.7461</td>\n",
       "      <td>-73.9819</td>\n",
       "      <td>16</td>\n",
       "      <td>29</td>\n",
       "      <td>Tuesday</td>\n",
       "    </tr>\n",
       "    <tr>\n",
       "      <th>72250</th>\n",
       "      <td>40.7513</td>\n",
       "      <td>-73.9904</td>\n",
       "      <td>8</td>\n",
       "      <td>53</td>\n",
       "      <td>Tuesday</td>\n",
       "    </tr>\n",
       "  </tbody>\n",
       "</table>\n",
       "</div>"
      ],
      "text/plain": [
       "            Lat      Lon  Hour  Minutes DayOfWeek\n",
       "537507  40.7449 -73.9888    16       57   Tuesday\n",
       "316544  40.7487 -74.0035     7       37   Tuesday\n",
       "438761  40.7210 -74.0006    19       15   Tuesday\n",
       "220659  40.7461 -73.9819    16       29   Tuesday\n",
       "72250   40.7513 -73.9904     8       53   Tuesday"
      ]
     },
     "execution_count": 94,
     "metadata": {},
     "output_type": "execute_result"
    }
   ],
   "source": [
    "tuesday.head()"
   ]
  },
  {
   "cell_type": "markdown",
   "metadata": {},
   "source": [
    "##### Scaling numerical data and one-hot encoding categorical data"
   ]
  },
  {
   "cell_type": "code",
   "execution_count": 95,
   "metadata": {},
   "outputs": [
    {
     "name": "stdout",
     "output_type": "stream",
     "text": [
      "Preprocessing on dataset...\n",
      "            Lat      Lon  Hour  Minutes DayOfWeek\n",
      "537507  40.7449 -73.9888    16       57   Tuesday\n",
      "316544  40.7487 -74.0035     7       37   Tuesday\n",
      "438761  40.7210 -74.0006    19       15   Tuesday\n",
      "220659  40.7461 -73.9819    16       29   Tuesday\n",
      "72250   40.7513 -73.9904     8       53   Tuesday\n",
      "...Completed.\n",
      "[[ 0.087247   -0.24332542  0.27214892  1.60654569]\n",
      " [ 0.19801611 -0.55653674 -1.40338482  0.44933628]\n",
      " [-0.6094324  -0.49474675  0.83066017 -0.82359408]\n",
      " [ 0.12222672 -0.09630786  0.27214892 -0.01354749]\n",
      " [ 0.2738055  -0.27741645 -1.21721441  1.37510381]]\n",
      "\n"
     ]
    }
   ],
   "source": [
    "numeric_features = [0, 1, 2, 3] # Positions of numerical variables\n",
    "numeric_transformer = StandardScaler()\n",
    "\n",
    "# Creation of the transformer for categorical values\n",
    "categorical_features = [4] # Positions of categorical variables\n",
    "categorical_transformer = OneHotEncoder(drop='first')\n",
    "\n",
    "# Combining the transformers in ColumnTransformer\n",
    "preprocessor = ColumnTransformer(\n",
    "    transformers=[\n",
    "        ('num', numeric_transformer, numeric_features),\n",
    "        ('cat', categorical_transformer, categorical_features)\n",
    "    ])\n",
    "\n",
    "print(\"Preprocessing on dataset...\")\n",
    "print(tuesday.head())\n",
    "scaled_X_tuesday = preprocessor.fit_transform(tuesday)\n",
    "print('...Completed.')\n",
    "print(scaled_X_tuesday[0:5, :])\n",
    "print()"
   ]
  },
  {
   "cell_type": "markdown",
   "metadata": {},
   "source": [
    "#####  Use DBSCAN and a for loop to create a variety of models testing different epsilon values"
   ]
  },
  {
   "cell_type": "code",
   "execution_count": 96,
   "metadata": {},
   "outputs": [],
   "source": [
    "from sklearn.cluster import DBSCAN\n",
    "\n",
    "outlier_percent = []\n",
    "\n",
    "for eps in np.linspace(0.1, 2, 10):\n",
    "    \n",
    "    # Create Model\n",
    "    dbscan = DBSCAN(eps=eps,min_samples=2*scaled_X_tuesday.shape[1], metric=\"manhattan\", algorithm=\"brute\")\n",
    "    dbscan.fit(scaled_X_tuesday)\n",
    "   \n",
    "     \n",
    "    # Log percentage of points that are outliers\n",
    "    perc_outliers = 100 * np.sum(dbscan.labels_ == -1) / len(dbscan.labels_)\n",
    "    \n",
    "    outlier_percent.append(perc_outliers)"
   ]
  },
  {
   "cell_type": "markdown",
   "metadata": {},
   "source": [
    "##### Creating a line plot of the percentage of outlier points versus the epsilon value choice"
   ]
  },
  {
   "cell_type": "code",
   "execution_count": 97,
   "metadata": {},
   "outputs": [
    {
     "data": {
      "text/plain": [
       "Text(0.5, 0, 'Epsilon value')"
      ]
     },
     "execution_count": 97,
     "metadata": {},
     "output_type": "execute_result"
    },
    {
     "data": {
      "image/png": "[encoded data removed]",
      "text/plain": [
       "<Figure size 432x288 with 1 Axes>"
      ]
     },
     "metadata": {
      "needs_background": "light"
     },
     "output_type": "display_data"
    }
   ],
   "source": [
    "import seaborn as sns\n",
    "import matplotlib.pyplot as plt\n",
    "sns.lineplot(x=np.linspace(0.1, 2, 10), y=outlier_percent)\n",
    "plt.ylabel(\"Percentage of points classified as outliers\")\n",
    "plt.xlabel(\"Epsilon value\")"
   ]
  },
  {
   "cell_type": "markdown",
   "metadata": {},
   "source": [
    "##### Retraining a DBSCAN model with epsilon value = 0.5, based on the plot created above, and min_samples = 8"
   ]
  },
  {
   "cell_type": "code",
   "execution_count": 98,
   "metadata": {},
   "outputs": [
    {
     "data": {
      "text/plain": [
       "DBSCAN(algorithm='brute', metric='manhattan', min_samples=8)"
      ]
     },
     "execution_count": 98,
     "metadata": {},
     "output_type": "execute_result"
    }
   ],
   "source": [
    "eps = 0.5\n",
    "dbscan = DBSCAN(eps=eps, min_samples=min_samples, metric=\"manhattan\", algorithm=\"brute\")\n",
    "dbscan.fit(scaled_X_tuesday)"
   ]
  },
  {
   "cell_type": "code",
   "execution_count": 99,
   "metadata": {},
   "outputs": [
    {
     "data": {
      "text/plain": [
       "(array([-1,  0,  1,  2,  3,  4,  5,  6,  7,  8,  9, 10, 11, 12, 13, 14, 15,\n",
       "        16, 17, 18, 19, 20, 21, 22, 23, 24, 25, 26, 27, 28, 29, 30, 31, 32]),\n",
       " array([ 2453, 13055,   206,     8,   177,     9,    21,    30,    17,\n",
       "            8,    21,     6,    16,    14,    10,    13,    16,    17,\n",
       "           15,    10,    15,     9,     8,    21,    13,    10,     8,\n",
       "           10,     6,    13,     9,     8,     8,     8]))"
      ]
     },
     "execution_count": 99,
     "metadata": {},
     "output_type": "execute_result"
    }
   ],
   "source": [
    "np.unique(dbscan.labels_, return_counts=True)"
   ]
  },
  {
   "cell_type": "code",
   "execution_count": 100,
   "metadata": {},
   "outputs": [
    {
     "data": {
      "text/html": [
       "<div>\n",
       "<style scoped>\n",
       "    .dataframe tbody tr th:only-of-type {\n",
       "        vertical-align: middle;\n",
       "    }\n",
       "\n",
       "    .dataframe tbody tr th {\n",
       "        vertical-align: top;\n",
       "    }\n",
       "\n",
       "    .dataframe thead th {\n",
       "        text-align: right;\n",
       "    }\n",
       "</style>\n",
       "<table border=\"1\" class=\"dataframe\">\n",
       "  <thead>\n",
       "    <tr style=\"text-align: right;\">\n",
       "      <th></th>\n",
       "      <th>Lat</th>\n",
       "      <th>Lon</th>\n",
       "      <th>Hour</th>\n",
       "      <th>Minutes</th>\n",
       "      <th>DayOfWeek</th>\n",
       "      <th>cluster</th>\n",
       "    </tr>\n",
       "  </thead>\n",
       "  <tbody>\n",
       "    <tr>\n",
       "      <th>537507</th>\n",
       "      <td>40.7449</td>\n",
       "      <td>-73.9888</td>\n",
       "      <td>16</td>\n",
       "      <td>57</td>\n",
       "      <td>Tuesday</td>\n",
       "      <td>0</td>\n",
       "    </tr>\n",
       "    <tr>\n",
       "      <th>316544</th>\n",
       "      <td>40.7487</td>\n",
       "      <td>-74.0035</td>\n",
       "      <td>7</td>\n",
       "      <td>37</td>\n",
       "      <td>Tuesday</td>\n",
       "      <td>0</td>\n",
       "    </tr>\n",
       "    <tr>\n",
       "      <th>438761</th>\n",
       "      <td>40.7210</td>\n",
       "      <td>-74.0006</td>\n",
       "      <td>19</td>\n",
       "      <td>15</td>\n",
       "      <td>Tuesday</td>\n",
       "      <td>0</td>\n",
       "    </tr>\n",
       "    <tr>\n",
       "      <th>220659</th>\n",
       "      <td>40.7461</td>\n",
       "      <td>-73.9819</td>\n",
       "      <td>16</td>\n",
       "      <td>29</td>\n",
       "      <td>Tuesday</td>\n",
       "      <td>0</td>\n",
       "    </tr>\n",
       "    <tr>\n",
       "      <th>72250</th>\n",
       "      <td>40.7513</td>\n",
       "      <td>-73.9904</td>\n",
       "      <td>8</td>\n",
       "      <td>53</td>\n",
       "      <td>Tuesday</td>\n",
       "      <td>0</td>\n",
       "    </tr>\n",
       "  </tbody>\n",
       "</table>\n",
       "</div>"
      ],
      "text/plain": [
       "            Lat      Lon  Hour  Minutes DayOfWeek  cluster\n",
       "537507  40.7449 -73.9888    16       57   Tuesday        0\n",
       "316544  40.7487 -74.0035     7       37   Tuesday        0\n",
       "438761  40.7210 -74.0006    19       15   Tuesday        0\n",
       "220659  40.7461 -73.9819    16       29   Tuesday        0\n",
       "72250   40.7513 -73.9904     8       53   Tuesday        0"
      ]
     },
     "execution_count": 100,
     "metadata": {},
     "output_type": "execute_result"
    }
   ],
   "source": [
    "tuesday[\"cluster\"] = dbscan.labels_\n",
    "tuesday.head()"
   ]
  },
  {
   "cell_type": "markdown",
   "metadata": {},
   "source": [
    "##### A scatterplot to see how the DBSCAN algorithm has clustered the pick-up points, except outliers, in New York city on Tuesdays"
   ]
  },
  {
   "cell_type": "code",
   "execution_count": 101,
   "metadata": {},
   "outputs": [
    {
     "data": {
      "text/html": [
       "<iframe\n",
       "    scrolling=\"no\"\n",
       "    width=\"100%\"\n",
       "    height=\"545px\"\n",
       "    src=\"iframe_figures/figure_101.html\"\n",
       "    frameborder=\"0\"\n",
       "    allowfullscreen\n",
       "></iframe>\n"
      ]
     },
     "metadata": {},
     "output_type": "display_data"
    }
   ],
   "source": [
    "fig_tuesday_cluster = px.scatter_mapbox(\n",
    "        tuesday[tuesday.cluster != -1], \n",
    "        lat=\"Lat\", \n",
    "        lon=\"Lon\",\n",
    "        color=\"cluster\",\n",
    "        mapbox_style=\"carto-positron\"\n",
    ")\n",
    "\n",
    "fig_tuesday_cluster.show()"
   ]
  },
  {
   "cell_type": "markdown",
   "metadata": {},
   "source": [
    "### Picking Wednesday to observe how the clustering algorithm behaves"
   ]
  },
  {
   "cell_type": "code",
   "execution_count": 102,
   "metadata": {},
   "outputs": [
    {
     "data": {
      "text/plain": [
       "(19474, 8)"
      ]
     },
     "execution_count": 102,
     "metadata": {},
     "output_type": "execute_result"
    }
   ],
   "source": [
    "wednesday.shape"
   ]
  },
  {
   "cell_type": "code",
   "execution_count": 103,
   "metadata": {},
   "outputs": [
    {
     "data": {
      "text/html": [
       "<iframe\n",
       "    scrolling=\"no\"\n",
       "    width=\"100%\"\n",
       "    height=\"545px\"\n",
       "    src=\"iframe_figures/figure_103.html\"\n",
       "    frameborder=\"0\"\n",
       "    allowfullscreen\n",
       "></iframe>\n"
      ]
     },
     "metadata": {},
     "output_type": "display_data"
    }
   ],
   "source": [
    "fig_wednesday = px.scatter_mapbox(\n",
    "        wednesday, \n",
    "        lat=\"Lat\", \n",
    "        lon=\"Lon\",\n",
    "        mapbox_style=\"carto-positron\"\n",
    ")\n",
    "\n",
    "fig_wednesday.show()"
   ]
  },
  {
   "cell_type": "markdown",
   "metadata": {},
   "source": [
    "##### Dropping unnecessary columns of the dataset"
   ]
  },
  {
   "cell_type": "code",
   "execution_count": 104,
   "metadata": {},
   "outputs": [],
   "source": [
    "wednesday = wednesday.drop(columns=[\"Year\", \"Month\", \"Day\"])"
   ]
  },
  {
   "cell_type": "code",
   "execution_count": 105,
   "metadata": {},
   "outputs": [
    {
     "data": {
      "text/html": [
       "<div>\n",
       "<style scoped>\n",
       "    .dataframe tbody tr th:only-of-type {\n",
       "        vertical-align: middle;\n",
       "    }\n",
       "\n",
       "    .dataframe tbody tr th {\n",
       "        vertical-align: top;\n",
       "    }\n",
       "\n",
       "    .dataframe thead th {\n",
       "        text-align: right;\n",
       "    }\n",
       "</style>\n",
       "<table border=\"1\" class=\"dataframe\">\n",
       "  <thead>\n",
       "    <tr style=\"text-align: right;\">\n",
       "      <th></th>\n",
       "      <th>Lat</th>\n",
       "      <th>Lon</th>\n",
       "      <th>Hour</th>\n",
       "      <th>Minutes</th>\n",
       "      <th>DayOfWeek</th>\n",
       "    </tr>\n",
       "  </thead>\n",
       "  <tbody>\n",
       "    <tr>\n",
       "      <th>320963</th>\n",
       "      <td>40.7347</td>\n",
       "      <td>-73.9988</td>\n",
       "      <td>8</td>\n",
       "      <td>7</td>\n",
       "      <td>Wednesday</td>\n",
       "    </tr>\n",
       "    <tr>\n",
       "      <th>552251</th>\n",
       "      <td>40.7417</td>\n",
       "      <td>-73.9975</td>\n",
       "      <td>20</td>\n",
       "      <td>35</td>\n",
       "      <td>Wednesday</td>\n",
       "    </tr>\n",
       "    <tr>\n",
       "      <th>208316</th>\n",
       "      <td>40.7279</td>\n",
       "      <td>-74.0056</td>\n",
       "      <td>10</td>\n",
       "      <td>47</td>\n",
       "      <td>Wednesday</td>\n",
       "    </tr>\n",
       "    <tr>\n",
       "      <th>216764</th>\n",
       "      <td>40.7199</td>\n",
       "      <td>-74.0003</td>\n",
       "      <td>20</td>\n",
       "      <td>48</td>\n",
       "      <td>Wednesday</td>\n",
       "    </tr>\n",
       "    <tr>\n",
       "      <th>321496</th>\n",
       "      <td>40.7851</td>\n",
       "      <td>-73.9732</td>\n",
       "      <td>10</td>\n",
       "      <td>5</td>\n",
       "      <td>Wednesday</td>\n",
       "    </tr>\n",
       "  </tbody>\n",
       "</table>\n",
       "</div>"
      ],
      "text/plain": [
       "            Lat      Lon  Hour  Minutes  DayOfWeek\n",
       "320963  40.7347 -73.9988     8        7  Wednesday\n",
       "552251  40.7417 -73.9975    20       35  Wednesday\n",
       "208316  40.7279 -74.0056    10       47  Wednesday\n",
       "216764  40.7199 -74.0003    20       48  Wednesday\n",
       "321496  40.7851 -73.9732    10        5  Wednesday"
      ]
     },
     "execution_count": 105,
     "metadata": {},
     "output_type": "execute_result"
    }
   ],
   "source": [
    "wednesday.head()"
   ]
  },
  {
   "cell_type": "markdown",
   "metadata": {},
   "source": [
    "##### Scaling numerical data and one-hot encoding categorical data"
   ]
  },
  {
   "cell_type": "code",
   "execution_count": 106,
   "metadata": {},
   "outputs": [
    {
     "name": "stdout",
     "output_type": "stream",
     "text": [
      "Preprocessing on dataset...\n",
      "            Lat      Lon  Hour  Minutes  DayOfWeek\n",
      "320963  40.7347 -73.9988     8        7  Wednesday\n",
      "552251  40.7417 -73.9975    20       35  Wednesday\n",
      "208316  40.7279 -74.0056    10       47  Wednesday\n",
      "216764  40.7199 -74.0003    20       48  Wednesday\n",
      "321496  40.7851 -73.9732    10        5  Wednesday\n",
      "...Completed.\n",
      "[[-0.22594531 -0.4227325  -1.21379746 -1.28319539]\n",
      " [-0.02247787 -0.39634334  1.00946035  0.32817791]\n",
      " [-0.4235994  -0.56076809 -0.84325449  1.01876647]\n",
      " [-0.65613362 -0.45318153  1.00946035  1.07631552]\n",
      " [ 1.23902027  0.09693092 -0.84325449 -1.39829348]]\n",
      "\n"
     ]
    }
   ],
   "source": [
    "numeric_features = [0, 1, 2, 3] # Positions of numerical variables\n",
    "numeric_transformer = StandardScaler()\n",
    "\n",
    "# Creation of the transformer for categorical values\n",
    "categorical_features = [4] # Positions of categorical variables\n",
    "categorical_transformer = OneHotEncoder(drop='first')\n",
    "\n",
    "# Combining the transformers in ColumnTransformer\n",
    "preprocessor = ColumnTransformer(\n",
    "    transformers=[\n",
    "        ('num', numeric_transformer, numeric_features),\n",
    "        ('cat', categorical_transformer, categorical_features)\n",
    "    ])\n",
    "\n",
    "print(\"Preprocessing on dataset...\")\n",
    "print(wednesday.head())\n",
    "scaled_X_wednesday = preprocessor.fit_transform(wednesday)\n",
    "print('...Completed.')\n",
    "print(scaled_X_wednesday[0:5, :])\n",
    "print()"
   ]
  },
  {
   "cell_type": "markdown",
   "metadata": {},
   "source": [
    "#####  Use DBSCAN and a for loop to create a variety of models testing different epsilon values"
   ]
  },
  {
   "cell_type": "code",
   "execution_count": 107,
   "metadata": {},
   "outputs": [],
   "source": [
    "from sklearn.cluster import DBSCAN\n",
    "\n",
    "outlier_percent = []\n",
    "\n",
    "for eps in np.linspace(0.1, 2, 10):\n",
    "    \n",
    "    # Create Model\n",
    "    dbscan = DBSCAN(eps=eps,min_samples=2*scaled_X_wednesday.shape[1], metric=\"manhattan\", algorithm=\"brute\")\n",
    "    dbscan.fit(scaled_X_wednesday)\n",
    "   \n",
    "     \n",
    "    # Log percentage of points that are outliers\n",
    "    perc_outliers = 100 * np.sum(dbscan.labels_ == -1) / len(dbscan.labels_)\n",
    "    \n",
    "    outlier_percent.append(perc_outliers)"
   ]
  },
  {
   "cell_type": "markdown",
   "metadata": {},
   "source": [
    "##### Creating a line plot of the percentage of outlier points versus the epsilon value choice"
   ]
  },
  {
   "cell_type": "code",
   "execution_count": 108,
   "metadata": {},
   "outputs": [
    {
     "data": {
      "text/plain": [
       "Text(0.5, 0, 'Epsilon value')"
      ]
     },
     "execution_count": 108,
     "metadata": {},
     "output_type": "execute_result"
    },
    {
     "data": {
      "image/png": "[encoded data removed]",
      "text/plain": [
       "<Figure size 432x288 with 1 Axes>"
      ]
     },
     "metadata": {
      "needs_background": "light"
     },
     "output_type": "display_data"
    }
   ],
   "source": [
    "import seaborn as sns\n",
    "import matplotlib.pyplot as plt\n",
    "sns.lineplot(x=np.linspace(0.1, 2, 10), y=outlier_percent)\n",
    "plt.ylabel(\"Percentage of points classified as outliers\")\n",
    "plt.xlabel(\"Epsilon value\")"
   ]
  },
  {
   "cell_type": "markdown",
   "metadata": {},
   "source": [
    "##### Retraining a DBSCAN model with epsilon value = 0.5, based on the plot created above, and min_samples = 8"
   ]
  },
  {
   "cell_type": "code",
   "execution_count": 109,
   "metadata": {},
   "outputs": [
    {
     "data": {
      "text/plain": [
       "DBSCAN(algorithm='brute', metric='manhattan', min_samples=8)"
      ]
     },
     "execution_count": 109,
     "metadata": {},
     "output_type": "execute_result"
    }
   ],
   "source": [
    "eps = 0.5\n",
    "min_samples = 8\n",
    "dbscan = DBSCAN(eps=eps, min_samples=min_samples, metric=\"manhattan\", algorithm=\"brute\")\n",
    "dbscan.fit(scaled_X_wednesday)"
   ]
  },
  {
   "cell_type": "code",
   "execution_count": 110,
   "metadata": {},
   "outputs": [
    {
     "data": {
      "text/plain": [
       "(array([-1,  0,  1,  2,  3,  4,  5,  6,  7,  8,  9, 10, 11, 12, 13, 14, 15,\n",
       "        16, 17, 18, 19, 20, 21, 22, 23, 24, 25, 26, 27, 28, 29]),\n",
       " array([ 2516, 16025,   272,   232,    17,     6,    59,     8,    16,\n",
       "            8,    35,    11,    31,    11,    30,    11,    28,    12,\n",
       "            5,     8,    16,    15,    10,     9,     9,    12,    16,\n",
       "           10,    10,    22,     4]))"
      ]
     },
     "execution_count": 110,
     "metadata": {},
     "output_type": "execute_result"
    }
   ],
   "source": [
    "np.unique(dbscan.labels_, return_counts=True)"
   ]
  },
  {
   "cell_type": "code",
   "execution_count": 111,
   "metadata": {},
   "outputs": [
    {
     "data": {
      "text/html": [
       "<div>\n",
       "<style scoped>\n",
       "    .dataframe tbody tr th:only-of-type {\n",
       "        vertical-align: middle;\n",
       "    }\n",
       "\n",
       "    .dataframe tbody tr th {\n",
       "        vertical-align: top;\n",
       "    }\n",
       "\n",
       "    .dataframe thead th {\n",
       "        text-align: right;\n",
       "    }\n",
       "</style>\n",
       "<table border=\"1\" class=\"dataframe\">\n",
       "  <thead>\n",
       "    <tr style=\"text-align: right;\">\n",
       "      <th></th>\n",
       "      <th>Lat</th>\n",
       "      <th>Lon</th>\n",
       "      <th>Hour</th>\n",
       "      <th>Minutes</th>\n",
       "      <th>DayOfWeek</th>\n",
       "      <th>cluster</th>\n",
       "    </tr>\n",
       "  </thead>\n",
       "  <tbody>\n",
       "    <tr>\n",
       "      <th>320963</th>\n",
       "      <td>40.7347</td>\n",
       "      <td>-73.9988</td>\n",
       "      <td>8</td>\n",
       "      <td>7</td>\n",
       "      <td>Wednesday</td>\n",
       "      <td>0</td>\n",
       "    </tr>\n",
       "    <tr>\n",
       "      <th>552251</th>\n",
       "      <td>40.7417</td>\n",
       "      <td>-73.9975</td>\n",
       "      <td>20</td>\n",
       "      <td>35</td>\n",
       "      <td>Wednesday</td>\n",
       "      <td>0</td>\n",
       "    </tr>\n",
       "    <tr>\n",
       "      <th>208316</th>\n",
       "      <td>40.7279</td>\n",
       "      <td>-74.0056</td>\n",
       "      <td>10</td>\n",
       "      <td>47</td>\n",
       "      <td>Wednesday</td>\n",
       "      <td>0</td>\n",
       "    </tr>\n",
       "    <tr>\n",
       "      <th>216764</th>\n",
       "      <td>40.7199</td>\n",
       "      <td>-74.0003</td>\n",
       "      <td>20</td>\n",
       "      <td>48</td>\n",
       "      <td>Wednesday</td>\n",
       "      <td>0</td>\n",
       "    </tr>\n",
       "    <tr>\n",
       "      <th>321496</th>\n",
       "      <td>40.7851</td>\n",
       "      <td>-73.9732</td>\n",
       "      <td>10</td>\n",
       "      <td>5</td>\n",
       "      <td>Wednesday</td>\n",
       "      <td>0</td>\n",
       "    </tr>\n",
       "  </tbody>\n",
       "</table>\n",
       "</div>"
      ],
      "text/plain": [
       "            Lat      Lon  Hour  Minutes  DayOfWeek  cluster\n",
       "320963  40.7347 -73.9988     8        7  Wednesday        0\n",
       "552251  40.7417 -73.9975    20       35  Wednesday        0\n",
       "208316  40.7279 -74.0056    10       47  Wednesday        0\n",
       "216764  40.7199 -74.0003    20       48  Wednesday        0\n",
       "321496  40.7851 -73.9732    10        5  Wednesday        0"
      ]
     },
     "execution_count": 111,
     "metadata": {},
     "output_type": "execute_result"
    }
   ],
   "source": [
    "wednesday[\"cluster\"] = dbscan.labels_\n",
    "wednesday.head()"
   ]
  },
  {
   "cell_type": "markdown",
   "metadata": {},
   "source": [
    "##### A scatterplot to see how the DBSCAN algorithm has clustered the pick-up points, except outliers, in New York city on Wednesdays"
   ]
  },
  {
   "cell_type": "code",
   "execution_count": 112,
   "metadata": {},
   "outputs": [
    {
     "data": {
      "text/html": [
       "<iframe\n",
       "    scrolling=\"no\"\n",
       "    width=\"100%\"\n",
       "    height=\"545px\"\n",
       "    src=\"iframe_figures/figure_112.html\"\n",
       "    frameborder=\"0\"\n",
       "    allowfullscreen\n",
       "></iframe>\n"
      ]
     },
     "metadata": {},
     "output_type": "display_data"
    }
   ],
   "source": [
    "fig_wednesday_cluster = px.scatter_mapbox(\n",
    "        wednesday[wednesday.cluster != -1], \n",
    "        lat=\"Lat\", \n",
    "        lon=\"Lon\",\n",
    "        color=\"cluster\",\n",
    "        mapbox_style=\"carto-positron\"\n",
    ")\n",
    "\n",
    "fig_wednesday_cluster.show()"
   ]
  },
  {
   "cell_type": "markdown",
   "metadata": {},
   "source": [
    "### Picking Thursday to observe how the clustering algorithm behaves"
   ]
  },
  {
   "cell_type": "code",
   "execution_count": 113,
   "metadata": {},
   "outputs": [
    {
     "data": {
      "text/plain": [
       "(14911, 8)"
      ]
     },
     "execution_count": 113,
     "metadata": {},
     "output_type": "execute_result"
    }
   ],
   "source": [
    "thursday.shape"
   ]
  },
  {
   "cell_type": "code",
   "execution_count": 114,
   "metadata": {},
   "outputs": [
    {
     "data": {
      "text/html": [
       "<iframe\n",
       "    scrolling=\"no\"\n",
       "    width=\"100%\"\n",
       "    height=\"545px\"\n",
       "    src=\"iframe_figures/figure_114.html\"\n",
       "    frameborder=\"0\"\n",
       "    allowfullscreen\n",
       "></iframe>\n"
      ]
     },
     "metadata": {},
     "output_type": "display_data"
    }
   ],
   "source": [
    "fig_thursday = px.scatter_mapbox(\n",
    "        thursday, \n",
    "        lat=\"Lat\", \n",
    "        lon=\"Lon\",\n",
    "        mapbox_style=\"carto-positron\"\n",
    ")\n",
    "\n",
    "fig_thursday.show()"
   ]
  },
  {
   "cell_type": "markdown",
   "metadata": {},
   "source": [
    "##### Dropping unnecessary columns of the dataset"
   ]
  },
  {
   "cell_type": "code",
   "execution_count": 115,
   "metadata": {},
   "outputs": [],
   "source": [
    "thursday = thursday.drop(columns=[\"Year\", \"Month\", \"Day\"])"
   ]
  },
  {
   "cell_type": "code",
   "execution_count": 116,
   "metadata": {},
   "outputs": [
    {
     "data": {
      "text/html": [
       "<div>\n",
       "<style scoped>\n",
       "    .dataframe tbody tr th:only-of-type {\n",
       "        vertical-align: middle;\n",
       "    }\n",
       "\n",
       "    .dataframe tbody tr th {\n",
       "        vertical-align: top;\n",
       "    }\n",
       "\n",
       "    .dataframe thead th {\n",
       "        text-align: right;\n",
       "    }\n",
       "</style>\n",
       "<table border=\"1\" class=\"dataframe\">\n",
       "  <thead>\n",
       "    <tr style=\"text-align: right;\">\n",
       "      <th></th>\n",
       "      <th>Lat</th>\n",
       "      <th>Lon</th>\n",
       "      <th>Hour</th>\n",
       "      <th>Minutes</th>\n",
       "      <th>DayOfWeek</th>\n",
       "    </tr>\n",
       "  </thead>\n",
       "  <tbody>\n",
       "    <tr>\n",
       "      <th>255224</th>\n",
       "      <td>40.7514</td>\n",
       "      <td>-73.9719</td>\n",
       "      <td>18</td>\n",
       "      <td>11</td>\n",
       "      <td>Thursday</td>\n",
       "    </tr>\n",
       "    <tr>\n",
       "      <th>161774</th>\n",
       "      <td>40.7656</td>\n",
       "      <td>-73.9680</td>\n",
       "      <td>15</td>\n",
       "      <td>43</td>\n",
       "      <td>Thursday</td>\n",
       "    </tr>\n",
       "    <tr>\n",
       "      <th>2881</th>\n",
       "      <td>40.7690</td>\n",
       "      <td>-73.9632</td>\n",
       "      <td>14</td>\n",
       "      <td>32</td>\n",
       "      <td>Thursday</td>\n",
       "    </tr>\n",
       "    <tr>\n",
       "      <th>85655</th>\n",
       "      <td>40.7564</td>\n",
       "      <td>-73.9831</td>\n",
       "      <td>20</td>\n",
       "      <td>25</td>\n",
       "      <td>Thursday</td>\n",
       "    </tr>\n",
       "    <tr>\n",
       "      <th>162280</th>\n",
       "      <td>40.7246</td>\n",
       "      <td>-73.9984</td>\n",
       "      <td>16</td>\n",
       "      <td>38</td>\n",
       "      <td>Thursday</td>\n",
       "    </tr>\n",
       "  </tbody>\n",
       "</table>\n",
       "</div>"
      ],
      "text/plain": [
       "            Lat      Lon  Hour  Minutes DayOfWeek\n",
       "255224  40.7514 -73.9719    18       11  Thursday\n",
       "161774  40.7656 -73.9680    15       43  Thursday\n",
       "2881    40.7690 -73.9632    14       32  Thursday\n",
       "85655   40.7564 -73.9831    20       25  Thursday\n",
       "162280  40.7246 -73.9984    16       38  Thursday"
      ]
     },
     "execution_count": 116,
     "metadata": {},
     "output_type": "execute_result"
    }
   ],
   "source": [
    "thursday.head()"
   ]
  },
  {
   "cell_type": "markdown",
   "metadata": {},
   "source": [
    "##### Scaling numerical data and one-hot encoding categorical data"
   ]
  },
  {
   "cell_type": "code",
   "execution_count": 117,
   "metadata": {},
   "outputs": [
    {
     "name": "stdout",
     "output_type": "stream",
     "text": [
      "Preprocessing on dataset...\n",
      "            Lat      Lon  Hour  Minutes DayOfWeek\n",
      "255224  40.7514 -73.9719    18       11  Thursday\n",
      "161774  40.7656 -73.9680    15       43  Thursday\n",
      "2881    40.7690 -73.9632    14       32  Thursday\n",
      "85655   40.7564 -73.9831    20       25  Thursday\n",
      "162280  40.7246 -73.9984    16       38  Thursday\n",
      "...Completed.\n",
      "[[ 0.28120671  0.12638804  0.55608171 -1.06794955]\n",
      " [ 0.69120335  0.20590791  0.01309727  0.77796617]\n",
      " [ 0.78937156  0.30377852 -0.16789754  0.14343264]\n",
      " [ 0.42557172 -0.10197672  0.91807134 -0.26036142]\n",
      " [-0.49258977 -0.4139393   0.19409208  0.48954184]]\n",
      "\n"
     ]
    }
   ],
   "source": [
    "numeric_features = [0, 1, 2, 3] # Positions of numerical variables\n",
    "numeric_transformer = StandardScaler()\n",
    "\n",
    "# Creation of the transformer for categorical values\n",
    "categorical_features = [4] # Positions of categorical variables\n",
    "categorical_transformer = OneHotEncoder(drop='first')\n",
    "\n",
    "# Combining the transformers in ColumnTransformer\n",
    "preprocessor = ColumnTransformer(\n",
    "    transformers=[\n",
    "        ('num', numeric_transformer, numeric_features),\n",
    "        ('cat', categorical_transformer, categorical_features)\n",
    "    ])\n",
    "\n",
    "print(\"Preprocessing on dataset...\")\n",
    "print(thursday.head())\n",
    "scaled_X_thursday = preprocessor.fit_transform(thursday)\n",
    "print('...Completed.')\n",
    "print(scaled_X_thursday[0:5, :])\n",
    "print()"
   ]
  },
  {
   "cell_type": "markdown",
   "metadata": {},
   "source": [
    "#####  Use DBSCAN and a for loop to create a variety of models testing different epsilon values"
   ]
  },
  {
   "cell_type": "code",
   "execution_count": 118,
   "metadata": {},
   "outputs": [],
   "source": [
    "from sklearn.cluster import DBSCAN\n",
    "\n",
    "outlier_percent = []\n",
    "\n",
    "for eps in np.linspace(0.1, 2, 10):\n",
    "    \n",
    "    # Create Model\n",
    "    dbscan = DBSCAN(eps=eps,min_samples=2*scaled_X_thursday.shape[1], metric=\"manhattan\", algorithm=\"brute\")\n",
    "    dbscan.fit(scaled_X_thursday)\n",
    "   \n",
    "     \n",
    "    # Log percentage of points that are outliers\n",
    "    perc_outliers = 100 * np.sum(dbscan.labels_ == -1) / len(dbscan.labels_)\n",
    "    \n",
    "    outlier_percent.append(perc_outliers)"
   ]
  },
  {
   "cell_type": "markdown",
   "metadata": {},
   "source": [
    "##### Creating a line plot of the percentage of outlier points versus the epsilon value choice"
   ]
  },
  {
   "cell_type": "code",
   "execution_count": 119,
   "metadata": {},
   "outputs": [
    {
     "data": {
      "text/plain": [
       "Text(0.5, 0, 'Epsilon value')"
      ]
     },
     "execution_count": 119,
     "metadata": {},
     "output_type": "execute_result"
    },
    {
     "data": {
      "image/png": "[encoded data removed]",
      "text/plain": [
       "<Figure size 432x288 with 1 Axes>"
      ]
     },
     "metadata": {
      "needs_background": "light"
     },
     "output_type": "display_data"
    }
   ],
   "source": [
    "import seaborn as sns\n",
    "import matplotlib.pyplot as plt\n",
    "sns.lineplot(x=np.linspace(0.1, 2, 10), y=outlier_percent)\n",
    "plt.ylabel(\"Percentage of points classified as outliers\")\n",
    "plt.xlabel(\"Epsilon value\")"
   ]
  },
  {
   "cell_type": "markdown",
   "metadata": {},
   "source": [
    "##### Retraining a DBSCAN model with epsilon value = 0.5, based on the plot created above, and min_samples = 8"
   ]
  },
  {
   "cell_type": "code",
   "execution_count": 120,
   "metadata": {},
   "outputs": [
    {
     "data": {
      "text/plain": [
       "DBSCAN(algorithm='brute', metric='manhattan', min_samples=8)"
      ]
     },
     "execution_count": 120,
     "metadata": {},
     "output_type": "execute_result"
    }
   ],
   "source": [
    "eps = 0.5\n",
    "dbscan = DBSCAN(eps=eps, min_samples=min_samples, metric=\"manhattan\", algorithm=\"brute\")\n",
    "dbscan.fit(scaled_X_thursday)"
   ]
  },
  {
   "cell_type": "code",
   "execution_count": 121,
   "metadata": {},
   "outputs": [
    {
     "data": {
      "text/plain": [
       "(array([-1,  0,  1,  2,  3,  4,  5,  6,  7,  8,  9, 10, 11, 12, 13, 14, 15,\n",
       "        16, 17, 18, 19, 20]),\n",
       " array([ 2366, 11869,   181,   290,     8,    10,    29,    27,    19,\n",
       "           14,    11,     8,     3,     8,     8,    14,     9,     8,\n",
       "           10,     7,     4,     8]))"
      ]
     },
     "execution_count": 121,
     "metadata": {},
     "output_type": "execute_result"
    }
   ],
   "source": [
    "np.unique(dbscan.labels_, return_counts=True)"
   ]
  },
  {
   "cell_type": "code",
   "execution_count": 122,
   "metadata": {},
   "outputs": [
    {
     "data": {
      "text/html": [
       "<div>\n",
       "<style scoped>\n",
       "    .dataframe tbody tr th:only-of-type {\n",
       "        vertical-align: middle;\n",
       "    }\n",
       "\n",
       "    .dataframe tbody tr th {\n",
       "        vertical-align: top;\n",
       "    }\n",
       "\n",
       "    .dataframe thead th {\n",
       "        text-align: right;\n",
       "    }\n",
       "</style>\n",
       "<table border=\"1\" class=\"dataframe\">\n",
       "  <thead>\n",
       "    <tr style=\"text-align: right;\">\n",
       "      <th></th>\n",
       "      <th>Lat</th>\n",
       "      <th>Lon</th>\n",
       "      <th>Hour</th>\n",
       "      <th>Minutes</th>\n",
       "      <th>DayOfWeek</th>\n",
       "      <th>cluster</th>\n",
       "    </tr>\n",
       "  </thead>\n",
       "  <tbody>\n",
       "    <tr>\n",
       "      <th>255224</th>\n",
       "      <td>40.7514</td>\n",
       "      <td>-73.9719</td>\n",
       "      <td>18</td>\n",
       "      <td>11</td>\n",
       "      <td>Thursday</td>\n",
       "      <td>0</td>\n",
       "    </tr>\n",
       "    <tr>\n",
       "      <th>161774</th>\n",
       "      <td>40.7656</td>\n",
       "      <td>-73.9680</td>\n",
       "      <td>15</td>\n",
       "      <td>43</td>\n",
       "      <td>Thursday</td>\n",
       "      <td>0</td>\n",
       "    </tr>\n",
       "    <tr>\n",
       "      <th>2881</th>\n",
       "      <td>40.7690</td>\n",
       "      <td>-73.9632</td>\n",
       "      <td>14</td>\n",
       "      <td>32</td>\n",
       "      <td>Thursday</td>\n",
       "      <td>0</td>\n",
       "    </tr>\n",
       "    <tr>\n",
       "      <th>85655</th>\n",
       "      <td>40.7564</td>\n",
       "      <td>-73.9831</td>\n",
       "      <td>20</td>\n",
       "      <td>25</td>\n",
       "      <td>Thursday</td>\n",
       "      <td>0</td>\n",
       "    </tr>\n",
       "    <tr>\n",
       "      <th>162280</th>\n",
       "      <td>40.7246</td>\n",
       "      <td>-73.9984</td>\n",
       "      <td>16</td>\n",
       "      <td>38</td>\n",
       "      <td>Thursday</td>\n",
       "      <td>0</td>\n",
       "    </tr>\n",
       "  </tbody>\n",
       "</table>\n",
       "</div>"
      ],
      "text/plain": [
       "            Lat      Lon  Hour  Minutes DayOfWeek  cluster\n",
       "255224  40.7514 -73.9719    18       11  Thursday        0\n",
       "161774  40.7656 -73.9680    15       43  Thursday        0\n",
       "2881    40.7690 -73.9632    14       32  Thursday        0\n",
       "85655   40.7564 -73.9831    20       25  Thursday        0\n",
       "162280  40.7246 -73.9984    16       38  Thursday        0"
      ]
     },
     "execution_count": 122,
     "metadata": {},
     "output_type": "execute_result"
    }
   ],
   "source": [
    "thursday[\"cluster\"] = dbscan.labels_\n",
    "thursday.head()"
   ]
  },
  {
   "cell_type": "markdown",
   "metadata": {},
   "source": [
    "##### A scatterplot to see how the DBSCAN algorithm has clustered the pick-up points, except outliers, in New York city on Thursdays"
   ]
  },
  {
   "cell_type": "code",
   "execution_count": 123,
   "metadata": {},
   "outputs": [
    {
     "data": {
      "text/html": [
       "<iframe\n",
       "    scrolling=\"no\"\n",
       "    width=\"100%\"\n",
       "    height=\"545px\"\n",
       "    src=\"iframe_figures/figure_123.html\"\n",
       "    frameborder=\"0\"\n",
       "    allowfullscreen\n",
       "></iframe>\n"
      ]
     },
     "metadata": {},
     "output_type": "display_data"
    }
   ],
   "source": [
    "fig_thursday_cluster = px.scatter_mapbox(\n",
    "        thursday[thursday.cluster != -1], \n",
    "        lat=\"Lat\", \n",
    "        lon=\"Lon\",\n",
    "        color=\"cluster\",\n",
    "        mapbox_style=\"carto-positron\"\n",
    ")\n",
    "\n",
    "fig_thursday_cluster.show()"
   ]
  },
  {
   "cell_type": "markdown",
   "metadata": {},
   "source": [
    "### Picking Friday to observe how the clustering algorithm behaves"
   ]
  },
  {
   "cell_type": "code",
   "execution_count": 124,
   "metadata": {},
   "outputs": [
    {
     "data": {
      "text/plain": [
       "(15883, 8)"
      ]
     },
     "execution_count": 124,
     "metadata": {},
     "output_type": "execute_result"
    }
   ],
   "source": [
    "friday.shape"
   ]
  },
  {
   "cell_type": "code",
   "execution_count": 125,
   "metadata": {},
   "outputs": [
    {
     "data": {
      "text/html": [
       "<iframe\n",
       "    scrolling=\"no\"\n",
       "    width=\"100%\"\n",
       "    height=\"545px\"\n",
       "    src=\"iframe_figures/figure_125.html\"\n",
       "    frameborder=\"0\"\n",
       "    allowfullscreen\n",
       "></iframe>\n"
      ]
     },
     "metadata": {},
     "output_type": "display_data"
    }
   ],
   "source": [
    "fig_friday = px.scatter_mapbox(\n",
    "        friday, \n",
    "        lat=\"Lat\", \n",
    "        lon=\"Lon\",\n",
    "        mapbox_style=\"carto-positron\"\n",
    ")\n",
    "\n",
    "fig_friday.show()"
   ]
  },
  {
   "cell_type": "markdown",
   "metadata": {},
   "source": [
    "##### Dropping unnecessary columns of the dataset"
   ]
  },
  {
   "cell_type": "code",
   "execution_count": 126,
   "metadata": {},
   "outputs": [],
   "source": [
    "friday = friday.drop(columns=[\"Year\", \"Month\", \"Day\"])"
   ]
  },
  {
   "cell_type": "code",
   "execution_count": 127,
   "metadata": {},
   "outputs": [
    {
     "data": {
      "text/html": [
       "<div>\n",
       "<style scoped>\n",
       "    .dataframe tbody tr th:only-of-type {\n",
       "        vertical-align: middle;\n",
       "    }\n",
       "\n",
       "    .dataframe tbody tr th {\n",
       "        vertical-align: top;\n",
       "    }\n",
       "\n",
       "    .dataframe thead th {\n",
       "        text-align: right;\n",
       "    }\n",
       "</style>\n",
       "<table border=\"1\" class=\"dataframe\">\n",
       "  <thead>\n",
       "    <tr style=\"text-align: right;\">\n",
       "      <th></th>\n",
       "      <th>Lat</th>\n",
       "      <th>Lon</th>\n",
       "      <th>Hour</th>\n",
       "      <th>Minutes</th>\n",
       "      <th>DayOfWeek</th>\n",
       "    </tr>\n",
       "  </thead>\n",
       "  <tbody>\n",
       "    <tr>\n",
       "      <th>507958</th>\n",
       "      <td>40.7451</td>\n",
       "      <td>-73.9827</td>\n",
       "      <td>17</td>\n",
       "      <td>43</td>\n",
       "      <td>Friday</td>\n",
       "    </tr>\n",
       "    <tr>\n",
       "      <th>88320</th>\n",
       "      <td>40.7210</td>\n",
       "      <td>-74.0038</td>\n",
       "      <td>11</td>\n",
       "      <td>27</td>\n",
       "      <td>Friday</td>\n",
       "    </tr>\n",
       "    <tr>\n",
       "      <th>457215</th>\n",
       "      <td>40.7702</td>\n",
       "      <td>-73.9106</td>\n",
       "      <td>3</td>\n",
       "      <td>52</td>\n",
       "      <td>Friday</td>\n",
       "    </tr>\n",
       "    <tr>\n",
       "      <th>409048</th>\n",
       "      <td>40.7611</td>\n",
       "      <td>-73.9852</td>\n",
       "      <td>11</td>\n",
       "      <td>7</td>\n",
       "      <td>Friday</td>\n",
       "    </tr>\n",
       "    <tr>\n",
       "      <th>457644</th>\n",
       "      <td>40.7294</td>\n",
       "      <td>-73.9811</td>\n",
       "      <td>7</td>\n",
       "      <td>9</td>\n",
       "      <td>Friday</td>\n",
       "    </tr>\n",
       "  </tbody>\n",
       "</table>\n",
       "</div>"
      ],
      "text/plain": [
       "            Lat      Lon  Hour  Minutes DayOfWeek\n",
       "507958  40.7451 -73.9827    17       43    Friday\n",
       "88320   40.7210 -74.0038    11       27    Friday\n",
       "457215  40.7702 -73.9106     3       52    Friday\n",
       "409048  40.7611 -73.9852    11        7    Friday\n",
       "457644  40.7294 -73.9811     7        9    Friday"
      ]
     },
     "execution_count": 127,
     "metadata": {},
     "output_type": "execute_result"
    }
   ],
   "source": [
    "friday.head()"
   ]
  },
  {
   "cell_type": "markdown",
   "metadata": {},
   "source": [
    "##### Scaling numerical data and one-hot encoding categorical data"
   ]
  },
  {
   "cell_type": "code",
   "execution_count": 128,
   "metadata": {},
   "outputs": [
    {
     "name": "stdout",
     "output_type": "stream",
     "text": [
      "Preprocessing on dataset...\n",
      "            Lat      Lon  Hour  Minutes DayOfWeek\n",
      "507958  40.7451 -73.9827    17       43    Friday\n",
      "88320   40.7210 -74.0038    11       27    Friday\n",
      "457215  40.7702 -73.9106     3       52    Friday\n",
      "409048  40.7611 -73.9852    11        7    Friday\n",
      "457644  40.7294 -73.9811     7        9    Friday\n",
      "...Completed.\n",
      "[[ 0.14733888 -0.08472943  0.34234552  0.761886  ]\n",
      " [-0.57366662 -0.5404411  -0.68874841 -0.16183953]\n",
      " [ 0.89826161  1.47246542 -2.06354032  1.2814816 ]\n",
      " [ 0.62601472 -0.13872371 -0.68874841 -1.31649643]\n",
      " [-0.3223618  -0.0501731  -1.37614437 -1.20103074]]\n",
      "\n"
     ]
    }
   ],
   "source": [
    "numeric_features = [0, 1, 2, 3] # Positions of numerical variables\n",
    "numeric_transformer = StandardScaler()\n",
    "\n",
    "# Creation of the transformer for categorical values\n",
    "categorical_features = [4] # Positions of categorical variables\n",
    "categorical_transformer = OneHotEncoder(drop='first')\n",
    "\n",
    "# Combining the transformers in ColumnTransformer\n",
    "preprocessor = ColumnTransformer(\n",
    "    transformers=[\n",
    "        ('num', numeric_transformer, numeric_features),\n",
    "        ('cat', categorical_transformer, categorical_features)\n",
    "    ])\n",
    "\n",
    "print(\"Preprocessing on dataset...\")\n",
    "print(friday.head())\n",
    "scaled_X_friday = preprocessor.fit_transform(friday)\n",
    "print('...Completed.')\n",
    "print(scaled_X_friday[0:5, :])\n",
    "print()"
   ]
  },
  {
   "cell_type": "markdown",
   "metadata": {},
   "source": [
    "#####  Use DBSCAN and a for loop to create a variety of models testing different epsilon values"
   ]
  },
  {
   "cell_type": "code",
   "execution_count": 129,
   "metadata": {},
   "outputs": [],
   "source": [
    "from sklearn.cluster import DBSCAN\n",
    "\n",
    "outlier_percent = []\n",
    "\n",
    "for eps in np.linspace(0.1, 2, 10):\n",
    "    \n",
    "    # Create Model\n",
    "    dbscan = DBSCAN(eps=eps,min_samples=2*scaled_X_friday.shape[1], metric=\"manhattan\", algorithm=\"brute\")\n",
    "    dbscan.fit(scaled_X_friday)\n",
    "   \n",
    "     \n",
    "    # Log percentage of points that are outliers\n",
    "    perc_outliers = 100 * np.sum(dbscan.labels_ == -1) / len(dbscan.labels_)\n",
    "    \n",
    "    outlier_percent.append(perc_outliers)"
   ]
  },
  {
   "cell_type": "markdown",
   "metadata": {},
   "source": [
    "##### Creating a line plot of the percentage of outlier points versus the epsilon value choice"
   ]
  },
  {
   "cell_type": "code",
   "execution_count": 130,
   "metadata": {},
   "outputs": [
    {
     "data": {
      "text/plain": [
       "Text(0.5, 0, 'Epsilon value')"
      ]
     },
     "execution_count": 130,
     "metadata": {},
     "output_type": "execute_result"
    },
    {
     "data": {
      "image/png": "[encoded data removed]",
      "text/plain": [
       "<Figure size 432x288 with 1 Axes>"
      ]
     },
     "metadata": {
      "needs_background": "light"
     },
     "output_type": "display_data"
    }
   ],
   "source": [
    "import seaborn as sns\n",
    "import matplotlib.pyplot as plt\n",
    "sns.lineplot(x=np.linspace(0.1, 2, 10), y=outlier_percent)\n",
    "plt.ylabel(\"Percentage of points classified as outliers\")\n",
    "plt.xlabel(\"Epsilon value\")"
   ]
  },
  {
   "cell_type": "markdown",
   "metadata": {},
   "source": [
    "##### Retraining a DBSCAN model with epsilon value = 0.5, based on the plot created above, and min_samples = 8"
   ]
  },
  {
   "cell_type": "code",
   "execution_count": 131,
   "metadata": {},
   "outputs": [
    {
     "data": {
      "text/plain": [
       "DBSCAN(algorithm='brute', metric='manhattan', min_samples=8)"
      ]
     },
     "execution_count": 131,
     "metadata": {},
     "output_type": "execute_result"
    }
   ],
   "source": [
    "eps = 0.5\n",
    "dbscan = DBSCAN(eps=eps, min_samples=min_samples, metric=\"manhattan\", algorithm=\"brute\")\n",
    "dbscan.fit(scaled_X_friday)"
   ]
  },
  {
   "cell_type": "code",
   "execution_count": 132,
   "metadata": {},
   "outputs": [
    {
     "data": {
      "text/plain": [
       "(array([-1,  0,  1,  2,  3,  4,  5,  6,  7,  8,  9, 10, 11, 12, 13, 14, 15,\n",
       "        16, 17, 18, 19, 20, 21, 22, 23, 24, 25]),\n",
       " array([ 2533, 12670,   130,    43,   157,    19,    46,    20,     8,\n",
       "           42,    26,     8,    17,    33,    16,    11,     8,     8,\n",
       "           24,     8,     8,    10,     8,     8,     6,     8,     8]))"
      ]
     },
     "execution_count": 132,
     "metadata": {},
     "output_type": "execute_result"
    }
   ],
   "source": [
    "np.unique(dbscan.labels_, return_counts=True)"
   ]
  },
  {
   "cell_type": "code",
   "execution_count": 133,
   "metadata": {},
   "outputs": [
    {
     "data": {
      "text/html": [
       "<div>\n",
       "<style scoped>\n",
       "    .dataframe tbody tr th:only-of-type {\n",
       "        vertical-align: middle;\n",
       "    }\n",
       "\n",
       "    .dataframe tbody tr th {\n",
       "        vertical-align: top;\n",
       "    }\n",
       "\n",
       "    .dataframe thead th {\n",
       "        text-align: right;\n",
       "    }\n",
       "</style>\n",
       "<table border=\"1\" class=\"dataframe\">\n",
       "  <thead>\n",
       "    <tr style=\"text-align: right;\">\n",
       "      <th></th>\n",
       "      <th>Lat</th>\n",
       "      <th>Lon</th>\n",
       "      <th>Hour</th>\n",
       "      <th>Minutes</th>\n",
       "      <th>DayOfWeek</th>\n",
       "      <th>cluster</th>\n",
       "    </tr>\n",
       "  </thead>\n",
       "  <tbody>\n",
       "    <tr>\n",
       "      <th>507958</th>\n",
       "      <td>40.7451</td>\n",
       "      <td>-73.9827</td>\n",
       "      <td>17</td>\n",
       "      <td>43</td>\n",
       "      <td>Friday</td>\n",
       "      <td>0</td>\n",
       "    </tr>\n",
       "    <tr>\n",
       "      <th>88320</th>\n",
       "      <td>40.7210</td>\n",
       "      <td>-74.0038</td>\n",
       "      <td>11</td>\n",
       "      <td>27</td>\n",
       "      <td>Friday</td>\n",
       "      <td>0</td>\n",
       "    </tr>\n",
       "    <tr>\n",
       "      <th>457215</th>\n",
       "      <td>40.7702</td>\n",
       "      <td>-73.9106</td>\n",
       "      <td>3</td>\n",
       "      <td>52</td>\n",
       "      <td>Friday</td>\n",
       "      <td>-1</td>\n",
       "    </tr>\n",
       "    <tr>\n",
       "      <th>409048</th>\n",
       "      <td>40.7611</td>\n",
       "      <td>-73.9852</td>\n",
       "      <td>11</td>\n",
       "      <td>7</td>\n",
       "      <td>Friday</td>\n",
       "      <td>0</td>\n",
       "    </tr>\n",
       "    <tr>\n",
       "      <th>457644</th>\n",
       "      <td>40.7294</td>\n",
       "      <td>-73.9811</td>\n",
       "      <td>7</td>\n",
       "      <td>9</td>\n",
       "      <td>Friday</td>\n",
       "      <td>0</td>\n",
       "    </tr>\n",
       "  </tbody>\n",
       "</table>\n",
       "</div>"
      ],
      "text/plain": [
       "            Lat      Lon  Hour  Minutes DayOfWeek  cluster\n",
       "507958  40.7451 -73.9827    17       43    Friday        0\n",
       "88320   40.7210 -74.0038    11       27    Friday        0\n",
       "457215  40.7702 -73.9106     3       52    Friday       -1\n",
       "409048  40.7611 -73.9852    11        7    Friday        0\n",
       "457644  40.7294 -73.9811     7        9    Friday        0"
      ]
     },
     "execution_count": 133,
     "metadata": {},
     "output_type": "execute_result"
    }
   ],
   "source": [
    "friday[\"cluster\"] = dbscan.labels_\n",
    "friday.head()"
   ]
  },
  {
   "cell_type": "markdown",
   "metadata": {},
   "source": [
    "##### A scatterplot to see how the DBSCAN algorithm has clustered the pick-up points, except outliers, in New York city on Fridays"
   ]
  },
  {
   "cell_type": "code",
   "execution_count": 134,
   "metadata": {},
   "outputs": [
    {
     "data": {
      "text/html": [
       "<iframe\n",
       "    scrolling=\"no\"\n",
       "    width=\"100%\"\n",
       "    height=\"545px\"\n",
       "    src=\"iframe_figures/figure_134.html\"\n",
       "    frameborder=\"0\"\n",
       "    allowfullscreen\n",
       "></iframe>\n"
      ]
     },
     "metadata": {},
     "output_type": "display_data"
    }
   ],
   "source": [
    "fig_friday_cluster = px.scatter_mapbox(\n",
    "        friday[friday.cluster != -1], \n",
    "        lat=\"Lat\", \n",
    "        lon=\"Lon\",\n",
    "        color=\"cluster\",\n",
    "        mapbox_style=\"carto-positron\"\n",
    ")\n",
    "\n",
    "fig_friday_cluster.show()"
   ]
  },
  {
   "cell_type": "markdown",
   "metadata": {},
   "source": [
    "### Picking Saturday to observe how the clustering algorithm behaves"
   ]
  },
  {
   "cell_type": "code",
   "execution_count": 135,
   "metadata": {},
   "outputs": [
    {
     "data": {
      "text/plain": [
       "(13686, 8)"
      ]
     },
     "execution_count": 135,
     "metadata": {},
     "output_type": "execute_result"
    }
   ],
   "source": [
    "saturday.shape"
   ]
  },
  {
   "cell_type": "code",
   "execution_count": 136,
   "metadata": {},
   "outputs": [
    {
     "data": {
      "text/html": [
       "<iframe\n",
       "    scrolling=\"no\"\n",
       "    width=\"100%\"\n",
       "    height=\"545px\"\n",
       "    src=\"iframe_figures/figure_136.html\"\n",
       "    frameborder=\"0\"\n",
       "    allowfullscreen\n",
       "></iframe>\n"
      ]
     },
     "metadata": {},
     "output_type": "display_data"
    }
   ],
   "source": [
    "fig_saturday = px.scatter_mapbox(\n",
    "        saturday, \n",
    "        lat=\"Lat\", \n",
    "        lon=\"Lon\",\n",
    "        mapbox_style=\"carto-positron\"\n",
    ")\n",
    "\n",
    "fig_saturday.show()"
   ]
  },
  {
   "cell_type": "markdown",
   "metadata": {},
   "source": [
    "##### Dropping unnecessary columns of the dataset"
   ]
  },
  {
   "cell_type": "code",
   "execution_count": 137,
   "metadata": {},
   "outputs": [],
   "source": [
    "saturday = saturday.drop(columns=[\"Year\", \"Month\", \"Day\"])"
   ]
  },
  {
   "cell_type": "code",
   "execution_count": 138,
   "metadata": {},
   "outputs": [
    {
     "data": {
      "text/html": [
       "<div>\n",
       "<style scoped>\n",
       "    .dataframe tbody tr th:only-of-type {\n",
       "        vertical-align: middle;\n",
       "    }\n",
       "\n",
       "    .dataframe tbody tr th {\n",
       "        vertical-align: top;\n",
       "    }\n",
       "\n",
       "    .dataframe thead th {\n",
       "        text-align: right;\n",
       "    }\n",
       "</style>\n",
       "<table border=\"1\" class=\"dataframe\">\n",
       "  <thead>\n",
       "    <tr style=\"text-align: right;\">\n",
       "      <th></th>\n",
       "      <th>Lat</th>\n",
       "      <th>Lon</th>\n",
       "      <th>Hour</th>\n",
       "      <th>Minutes</th>\n",
       "      <th>DayOfWeek</th>\n",
       "    </tr>\n",
       "  </thead>\n",
       "  <tbody>\n",
       "    <tr>\n",
       "      <th>367199</th>\n",
       "      <td>40.7383</td>\n",
       "      <td>-74.0021</td>\n",
       "      <td>19</td>\n",
       "      <td>52</td>\n",
       "      <td>Saturday</td>\n",
       "    </tr>\n",
       "    <tr>\n",
       "      <th>237504</th>\n",
       "      <td>40.8344</td>\n",
       "      <td>-73.8166</td>\n",
       "      <td>18</td>\n",
       "      <td>42</td>\n",
       "      <td>Saturday</td>\n",
       "    </tr>\n",
       "    <tr>\n",
       "      <th>177399</th>\n",
       "      <td>40.7119</td>\n",
       "      <td>-74.0062</td>\n",
       "      <td>4</td>\n",
       "      <td>34</td>\n",
       "      <td>Saturday</td>\n",
       "    </tr>\n",
       "    <tr>\n",
       "      <th>29157</th>\n",
       "      <td>40.7658</td>\n",
       "      <td>-73.9679</td>\n",
       "      <td>15</td>\n",
       "      <td>40</td>\n",
       "      <td>Saturday</td>\n",
       "    </tr>\n",
       "    <tr>\n",
       "      <th>420337</th>\n",
       "      <td>40.7607</td>\n",
       "      <td>-73.9818</td>\n",
       "      <td>19</td>\n",
       "      <td>51</td>\n",
       "      <td>Saturday</td>\n",
       "    </tr>\n",
       "  </tbody>\n",
       "</table>\n",
       "</div>"
      ],
      "text/plain": [
       "            Lat      Lon  Hour  Minutes DayOfWeek\n",
       "367199  40.7383 -74.0021    19       52  Saturday\n",
       "237504  40.8344 -73.8166    18       42  Saturday\n",
       "177399  40.7119 -74.0062     4       34  Saturday\n",
       "29157   40.7658 -73.9679    15       40  Saturday\n",
       "420337  40.7607 -73.9818    19       51  Saturday"
      ]
     },
     "execution_count": 138,
     "metadata": {},
     "output_type": "execute_result"
    }
   ],
   "source": [
    "saturday.head()"
   ]
  },
  {
   "cell_type": "markdown",
   "metadata": {},
   "source": [
    "##### Scaling numerical data and one-hot encoding categorical data"
   ]
  },
  {
   "cell_type": "code",
   "execution_count": 139,
   "metadata": {},
   "outputs": [
    {
     "name": "stdout",
     "output_type": "stream",
     "text": [
      "Preprocessing on dataset...\n",
      "            Lat      Lon  Hour  Minutes DayOfWeek\n",
      "367199  40.7383 -74.0021    19       52  Saturday\n",
      "237504  40.8344 -73.8166    18       42  Saturday\n",
      "177399  40.7119 -74.0062     4       34  Saturday\n",
      "29157   40.7658 -73.9679    15       40  Saturday\n",
      "420337  40.7607 -73.9818    19       51  Saturday\n",
      "...Completed.\n",
      "[[ 0.04647551 -0.48510024  0.59557768  1.2989964 ]\n",
      " [ 2.57211305  3.24362677  0.44236196  0.72211615]\n",
      " [-0.64735208 -0.56751415 -1.70265806  0.26061195]\n",
      " [ 0.76921258  0.2023524  -0.01728519  0.6067401 ]\n",
      " [ 0.6351777  -0.07705087  0.59557768  1.24130837]]\n",
      "\n"
     ]
    }
   ],
   "source": [
    "numeric_features = [0, 1, 2, 3] # Positions of numerical variables\n",
    "numeric_transformer = StandardScaler()\n",
    "\n",
    "# Creation of the transformer for categorical values\n",
    "categorical_features = [4] # Positions of categorical variables\n",
    "categorical_transformer = OneHotEncoder(drop='first')\n",
    "\n",
    "# Combining the transformers in ColumnTransformer\n",
    "preprocessor = ColumnTransformer(\n",
    "    transformers=[\n",
    "        ('num', numeric_transformer, numeric_features),\n",
    "        ('cat', categorical_transformer, categorical_features)\n",
    "    ])\n",
    "\n",
    "print(\"Preprocessing on dataset...\")\n",
    "print(saturday.head())\n",
    "scaled_X_saturday = preprocessor.fit_transform(saturday)\n",
    "print('...Completed.')\n",
    "print(scaled_X_saturday[0:5, :])\n",
    "print()"
   ]
  },
  {
   "cell_type": "markdown",
   "metadata": {},
   "source": [
    "#####  Use DBSCAN and a for loop to create a variety of models testing different epsilon values"
   ]
  },
  {
   "cell_type": "code",
   "execution_count": 140,
   "metadata": {},
   "outputs": [],
   "source": [
    "from sklearn.cluster import DBSCAN\n",
    "\n",
    "outlier_percent = []\n",
    "\n",
    "for eps in np.linspace(0.1, 2, 10):\n",
    "    \n",
    "    # Create Model\n",
    "    dbscan = DBSCAN(eps=eps,min_samples=2*scaled_X_saturday.shape[1], metric=\"manhattan\", algorithm=\"brute\")\n",
    "    dbscan.fit(scaled_X_saturday)\n",
    "   \n",
    "     \n",
    "    # Log percentage of points that are outliers\n",
    "    perc_outliers = 100 * np.sum(dbscan.labels_ == -1) / len(dbscan.labels_)\n",
    "    \n",
    "    outlier_percent.append(perc_outliers)"
   ]
  },
  {
   "cell_type": "markdown",
   "metadata": {},
   "source": [
    "##### Creating a line plot of the percentage of outlier points versus the epsilon value choice"
   ]
  },
  {
   "cell_type": "code",
   "execution_count": 141,
   "metadata": {},
   "outputs": [
    {
     "data": {
      "text/plain": [
       "Text(0.5, 0, 'Epsilon value')"
      ]
     },
     "execution_count": 141,
     "metadata": {},
     "output_type": "execute_result"
    },
    {
     "data": {
      "image/png": "[encoded data removed]",
      "text/plain": [
       "<Figure size 432x288 with 1 Axes>"
      ]
     },
     "metadata": {
      "needs_background": "light"
     },
     "output_type": "display_data"
    }
   ],
   "source": [
    "import seaborn as sns\n",
    "import matplotlib.pyplot as plt\n",
    "sns.lineplot(x=np.linspace(0.1, 2, 10), y=outlier_percent)\n",
    "plt.ylabel(\"Percentage of points classified as outliers\")\n",
    "plt.xlabel(\"Epsilon value\")"
   ]
  },
  {
   "cell_type": "markdown",
   "metadata": {},
   "source": [
    "##### Retraining a DBSCAN model with epsilon value = 0.6, based on the plot created above, and min_samples = 8"
   ]
  },
  {
   "cell_type": "code",
   "execution_count": 142,
   "metadata": {},
   "outputs": [
    {
     "data": {
      "text/plain": [
       "DBSCAN(algorithm='brute', eps=0.6, metric='manhattan', min_samples=8)"
      ]
     },
     "execution_count": 142,
     "metadata": {},
     "output_type": "execute_result"
    }
   ],
   "source": [
    "eps = 0.6\n",
    "dbscan = DBSCAN(eps=eps, min_samples=min_samples, metric=\"manhattan\", algorithm=\"brute\")\n",
    "dbscan.fit(scaled_X_saturday)"
   ]
  },
  {
   "cell_type": "code",
   "execution_count": 143,
   "metadata": {},
   "outputs": [
    {
     "data": {
      "text/plain": [
       "(array([-1,  0,  1,  2,  3,  4,  5,  6]),\n",
       " array([ 1567, 11965,   110,     7,     8,    12,    12,     5]))"
      ]
     },
     "execution_count": 143,
     "metadata": {},
     "output_type": "execute_result"
    }
   ],
   "source": [
    "np.unique(dbscan.labels_, return_counts=True)"
   ]
  },
  {
   "cell_type": "code",
   "execution_count": 144,
   "metadata": {},
   "outputs": [
    {
     "data": {
      "text/html": [
       "<div>\n",
       "<style scoped>\n",
       "    .dataframe tbody tr th:only-of-type {\n",
       "        vertical-align: middle;\n",
       "    }\n",
       "\n",
       "    .dataframe tbody tr th {\n",
       "        vertical-align: top;\n",
       "    }\n",
       "\n",
       "    .dataframe thead th {\n",
       "        text-align: right;\n",
       "    }\n",
       "</style>\n",
       "<table border=\"1\" class=\"dataframe\">\n",
       "  <thead>\n",
       "    <tr style=\"text-align: right;\">\n",
       "      <th></th>\n",
       "      <th>Lat</th>\n",
       "      <th>Lon</th>\n",
       "      <th>Hour</th>\n",
       "      <th>Minutes</th>\n",
       "      <th>DayOfWeek</th>\n",
       "      <th>cluster</th>\n",
       "    </tr>\n",
       "  </thead>\n",
       "  <tbody>\n",
       "    <tr>\n",
       "      <th>367199</th>\n",
       "      <td>40.7383</td>\n",
       "      <td>-74.0021</td>\n",
       "      <td>19</td>\n",
       "      <td>52</td>\n",
       "      <td>Saturday</td>\n",
       "      <td>0</td>\n",
       "    </tr>\n",
       "    <tr>\n",
       "      <th>237504</th>\n",
       "      <td>40.8344</td>\n",
       "      <td>-73.8166</td>\n",
       "      <td>18</td>\n",
       "      <td>42</td>\n",
       "      <td>Saturday</td>\n",
       "      <td>-1</td>\n",
       "    </tr>\n",
       "    <tr>\n",
       "      <th>177399</th>\n",
       "      <td>40.7119</td>\n",
       "      <td>-74.0062</td>\n",
       "      <td>4</td>\n",
       "      <td>34</td>\n",
       "      <td>Saturday</td>\n",
       "      <td>0</td>\n",
       "    </tr>\n",
       "    <tr>\n",
       "      <th>29157</th>\n",
       "      <td>40.7658</td>\n",
       "      <td>-73.9679</td>\n",
       "      <td>15</td>\n",
       "      <td>40</td>\n",
       "      <td>Saturday</td>\n",
       "      <td>0</td>\n",
       "    </tr>\n",
       "    <tr>\n",
       "      <th>420337</th>\n",
       "      <td>40.7607</td>\n",
       "      <td>-73.9818</td>\n",
       "      <td>19</td>\n",
       "      <td>51</td>\n",
       "      <td>Saturday</td>\n",
       "      <td>0</td>\n",
       "    </tr>\n",
       "  </tbody>\n",
       "</table>\n",
       "</div>"
      ],
      "text/plain": [
       "            Lat      Lon  Hour  Minutes DayOfWeek  cluster\n",
       "367199  40.7383 -74.0021    19       52  Saturday        0\n",
       "237504  40.8344 -73.8166    18       42  Saturday       -1\n",
       "177399  40.7119 -74.0062     4       34  Saturday        0\n",
       "29157   40.7658 -73.9679    15       40  Saturday        0\n",
       "420337  40.7607 -73.9818    19       51  Saturday        0"
      ]
     },
     "execution_count": 144,
     "metadata": {},
     "output_type": "execute_result"
    }
   ],
   "source": [
    "saturday[\"cluster\"] = dbscan.labels_\n",
    "saturday.head()"
   ]
  },
  {
   "cell_type": "markdown",
   "metadata": {},
   "source": [
    "##### A scatterplot to see how the DBSCAN algorithm has clustered the pick-up points, except outliers, in New York city on Saturdays"
   ]
  },
  {
   "cell_type": "code",
   "execution_count": 145,
   "metadata": {},
   "outputs": [
    {
     "data": {
      "text/html": [
       "<iframe\n",
       "    scrolling=\"no\"\n",
       "    width=\"100%\"\n",
       "    height=\"545px\"\n",
       "    src=\"iframe_figures/figure_145.html\"\n",
       "    frameborder=\"0\"\n",
       "    allowfullscreen\n",
       "></iframe>\n"
      ]
     },
     "metadata": {},
     "output_type": "display_data"
    }
   ],
   "source": [
    "fig_saturday_cluster = px.scatter_mapbox(\n",
    "        saturday[saturday.cluster != -1], \n",
    "        lat=\"Lat\", \n",
    "        lon=\"Lon\",\n",
    "        color=\"cluster\",\n",
    "        mapbox_style=\"carto-positron\"\n",
    ")\n",
    "\n",
    "fig_saturday_cluster.show()"
   ]
  },
  {
   "cell_type": "markdown",
   "metadata": {},
   "source": [
    "## Hot zones per day of week in New York City"
   ]
  },
  {
   "cell_type": "markdown",
   "metadata": {},
   "source": [
    "## Showing clusters per hour for Sunday"
   ]
  },
  {
   "cell_type": "code",
   "execution_count": 146,
   "metadata": {},
   "outputs": [],
   "source": [
    "sunday_sort = sunday.sort_values(by=[\"Hour\"])"
   ]
  },
  {
   "cell_type": "code",
   "execution_count": 147,
   "metadata": {},
   "outputs": [
    {
     "data": {
      "text/html": [
       "<iframe\n",
       "    scrolling=\"no\"\n",
       "    width=\"620px\"\n",
       "    height=\"620\"\n",
       "    src=\"iframe_figures/figure_147.html\"\n",
       "    frameborder=\"0\"\n",
       "    allowfullscreen\n",
       "></iframe>\n"
      ]
     },
     "metadata": {},
     "output_type": "display_data"
    }
   ],
   "source": [
    "fig_sunday_cluster = px.scatter_mapbox(\n",
    "    sunday_sort[sunday_sort.cluster != -1],\n",
    "    lat=\"Lat\",\n",
    "    lon=\"Lon\",\n",
    "    color=\"cluster\",\n",
    "    mapbox_style=\"carto-positron\",\n",
    "    color_continuous_scale=None,\n",
    "    zoom=10,\n",
    "    animation_frame=\"Hour\",\n",
    ")\n",
    "\n",
    "\n",
    "fig_sunday_cluster.update_layout(\n",
    "    autosize=False,\n",
    "    width=600,\n",
    "    height=600,\n",
    "    showlegend=False,\n",
    "    title= \"Traffic by hour on Sunday\"\n",
    "      )\n",
    "img_name = \"Traffic by hour on Sunday\"\n",
    "fig_sunday_cluster.write_html(img_name)\n",
    "fig_sunday_cluster.show()"
   ]
  },
  {
   "cell_type": "markdown",
   "metadata": {},
   "source": [
    "### Showing clusters per hour for Monday"
   ]
  },
  {
   "cell_type": "code",
   "execution_count": 148,
   "metadata": {},
   "outputs": [
    {
     "data": {
      "text/html": [
       "<iframe\n",
       "    scrolling=\"no\"\n",
       "    width=\"620px\"\n",
       "    height=\"620\"\n",
       "    src=\"iframe_figures/figure_148.html\"\n",
       "    frameborder=\"0\"\n",
       "    allowfullscreen\n",
       "></iframe>\n"
      ]
     },
     "metadata": {},
     "output_type": "display_data"
    }
   ],
   "source": [
    "monday_sort = monday.sort_values(by=[\"Hour\"])\n",
    "fig_monday_cluster = px.scatter_mapbox(\n",
    "    monday_sort[monday_sort.cluster != -1],\n",
    "    lat=\"Lat\",\n",
    "    lon=\"Lon\",\n",
    "    color=\"cluster\",\n",
    "    mapbox_style=\"carto-positron\",\n",
    "    color_continuous_scale=None,\n",
    "    zoom=10,\n",
    "    animation_frame=\"Hour\",\n",
    ")\n",
    "\n",
    "\n",
    "fig_monday_cluster.update_layout(\n",
    "    autosize=False,\n",
    "    width=600,\n",
    "    height=600,\n",
    "    showlegend=False,\n",
    "    title= \"Traffic by hour on Monday\"\n",
    "      )\n",
    "img_name = \"Traffic by hour on Monday\"\n",
    "fig_monday_cluster.write_html(img_name)\n",
    "fig_monday_cluster.show()"
   ]
  },
  {
   "cell_type": "markdown",
   "metadata": {},
   "source": [
    "### Showing clusters per hour for Tuesday"
   ]
  },
  {
   "cell_type": "code",
   "execution_count": 149,
   "metadata": {},
   "outputs": [
    {
     "data": {
      "text/html": [
       "<iframe\n",
       "    scrolling=\"no\"\n",
       "    width=\"620px\"\n",
       "    height=\"620\"\n",
       "    src=\"iframe_figures/figure_149.html\"\n",
       "    frameborder=\"0\"\n",
       "    allowfullscreen\n",
       "></iframe>\n"
      ]
     },
     "metadata": {},
     "output_type": "display_data"
    }
   ],
   "source": [
    "tuesday_sort = tuesday.sort_values(by=[\"Hour\"])\n",
    "fig_tuesday_cluster = px.scatter_mapbox(\n",
    "    tuesday_sort[tuesday_sort.cluster != -1],\n",
    "    lat=\"Lat\",\n",
    "    lon=\"Lon\",\n",
    "    color=\"cluster\",\n",
    "    mapbox_style=\"carto-positron\",\n",
    "    color_continuous_scale=None,\n",
    "    zoom=10,\n",
    "    animation_frame=\"Hour\",\n",
    ")\n",
    "\n",
    "\n",
    "fig_tuesday_cluster.update_layout(\n",
    "    autosize=False,\n",
    "    width=600,\n",
    "    height=600,\n",
    "    showlegend=False,\n",
    "    title= \"Traffic by hour on Tuesday\"\n",
    "      )\n",
    "img_name = \"Traffic by hour on Tuesday\"\n",
    "fig_tuesday_cluster.write_html(img_name)\n",
    "fig_tuesday_cluster.show()"
   ]
  },
  {
   "cell_type": "markdown",
   "metadata": {},
   "source": [
    "### Showing clusters per hour for Wednesday"
   ]
  },
  {
   "cell_type": "code",
   "execution_count": 150,
   "metadata": {},
   "outputs": [
    {
     "data": {
      "text/html": [
       "<iframe\n",
       "    scrolling=\"no\"\n",
       "    width=\"620px\"\n",
       "    height=\"620\"\n",
       "    src=\"iframe_figures/figure_150.html\"\n",
       "    frameborder=\"0\"\n",
       "    allowfullscreen\n",
       "></iframe>\n"
      ]
     },
     "metadata": {},
     "output_type": "display_data"
    }
   ],
   "source": [
    "wednesday_sort = wednesday.sort_values(by=[\"Hour\"])\n",
    "fig_wednesday_cluster = px.scatter_mapbox(\n",
    "    wednesday_sort[wednesday_sort.cluster != -1],\n",
    "    lat=\"Lat\",\n",
    "    lon=\"Lon\",\n",
    "    color=\"cluster\",\n",
    "    mapbox_style=\"carto-positron\",\n",
    "    color_continuous_scale=None,\n",
    "    zoom=10,\n",
    "    animation_frame=\"Hour\",\n",
    ")\n",
    "\n",
    "\n",
    "fig_wednesday_cluster.update_layout(\n",
    "    autosize=False,\n",
    "    width=600,\n",
    "    height=600,\n",
    "    showlegend=False,\n",
    "    title= \"Traffic by hour on Wednesday\"\n",
    "      )\n",
    "img_name = \"Traffic by hour on Wednesday\"\n",
    "fig_wednesday_cluster.write_html(img_name)\n",
    "fig_wednesday_cluster.show()"
   ]
  },
  {
   "cell_type": "markdown",
   "metadata": {},
   "source": [
    "### Showing clusters per hour for Thursday"
   ]
  },
  {
   "cell_type": "code",
   "execution_count": 151,
   "metadata": {},
   "outputs": [
    {
     "data": {
      "text/html": [
       "<iframe\n",
       "    scrolling=\"no\"\n",
       "    width=\"620px\"\n",
       "    height=\"620\"\n",
       "    src=\"iframe_figures/figure_151.html\"\n",
       "    frameborder=\"0\"\n",
       "    allowfullscreen\n",
       "></iframe>\n"
      ]
     },
     "metadata": {},
     "output_type": "display_data"
    }
   ],
   "source": [
    "thursday_sort = thursday.sort_values(by=[\"Hour\"])\n",
    "fig_thursday_cluster = px.scatter_mapbox(\n",
    "    thursday_sort[thursday_sort.cluster != -1],\n",
    "    lat=\"Lat\",\n",
    "    lon=\"Lon\",\n",
    "    color=\"cluster\",\n",
    "    mapbox_style=\"carto-positron\",\n",
    "    color_continuous_scale=None,\n",
    "    zoom=10,\n",
    "    animation_frame=\"Hour\",\n",
    ")\n",
    "\n",
    "\n",
    "fig_thursday_cluster.update_layout(\n",
    "    autosize=False,\n",
    "    width=600,\n",
    "    height=600,\n",
    "    showlegend=False,\n",
    "    title= \"Traffic by hour on Thursday\"\n",
    "      )\n",
    "img_name = \"Traffic by hour on Thursday\"\n",
    "fig_thursday_cluster.write_html(img_name)\n",
    "fig_thursday_cluster.show()"
   ]
  },
  {
   "cell_type": "markdown",
   "metadata": {},
   "source": [
    "### Showing clusters per hour for Friday"
   ]
  },
  {
   "cell_type": "code",
   "execution_count": 152,
   "metadata": {},
   "outputs": [
    {
     "data": {
      "text/html": [
       "<iframe\n",
       "    scrolling=\"no\"\n",
       "    width=\"620px\"\n",
       "    height=\"620\"\n",
       "    src=\"iframe_figures/figure_152.html\"\n",
       "    frameborder=\"0\"\n",
       "    allowfullscreen\n",
       "></iframe>\n"
      ]
     },
     "metadata": {},
     "output_type": "display_data"
    }
   ],
   "source": [
    "friday_sort = friday.sort_values(by=[\"Hour\"])\n",
    "fig_friday_cluster = px.scatter_mapbox(\n",
    "    friday_sort[friday_sort.cluster != -1],\n",
    "    lat=\"Lat\",\n",
    "    lon=\"Lon\",\n",
    "    color=\"cluster\",\n",
    "    mapbox_style=\"carto-positron\",\n",
    "    color_continuous_scale=None,\n",
    "    zoom=10,\n",
    "    animation_frame=\"Hour\",\n",
    ")\n",
    "\n",
    "\n",
    "fig_friday_cluster.update_layout(\n",
    "    autosize=False,\n",
    "    width=600,\n",
    "    height=600,\n",
    "    showlegend=False,\n",
    "    title= \"Traffic by hour on Friday\"\n",
    "      )\n",
    "img_name = \"Traffic by hour on Friday\"\n",
    "fig_friday_cluster.write_html(img_name)\n",
    "fig_friday_cluster.show()"
   ]
  },
  {
   "cell_type": "markdown",
   "metadata": {},
   "source": [
    "### Showing clusters per hour for Saturday"
   ]
  },
  {
   "cell_type": "code",
   "execution_count": 153,
   "metadata": {},
   "outputs": [
    {
     "data": {
      "text/html": [
       "<iframe\n",
       "    scrolling=\"no\"\n",
       "    width=\"620px\"\n",
       "    height=\"620\"\n",
       "    src=\"iframe_figures/figure_153.html\"\n",
       "    frameborder=\"0\"\n",
       "    allowfullscreen\n",
       "></iframe>\n"
      ]
     },
     "metadata": {},
     "output_type": "display_data"
    }
   ],
   "source": [
    "saturday_sort = saturday.sort_values(by=[\"Hour\"])\n",
    "fig_saturday_cluster = px.scatter_mapbox(\n",
    "    saturday_sort[saturday_sort.cluster != -1],\n",
    "    lat=\"Lat\",\n",
    "    lon=\"Lon\",\n",
    "    color=\"cluster\",\n",
    "    mapbox_style=\"carto-positron\",\n",
    "    color_continuous_scale=None,\n",
    "    zoom=10,\n",
    "    animation_frame=\"Hour\",\n",
    ")\n",
    "\n",
    "\n",
    "fig_saturday_cluster.update_layout(\n",
    "    autosize=False,\n",
    "    width=600,\n",
    "    height=600,\n",
    "    showlegend=False,\n",
    "    title= \"Traffic by hour on Saturday\"\n",
    "      )\n",
    "img_name = \"Traffic by hour on Saturday\"\n",
    "fig_saturday_cluster.write_html(img_name)\n",
    "fig_saturday_cluster.show()"
   ]
  },
  {
   "cell_type": "markdown",
   "metadata": {},
   "source": [
    "### Picking Sunday to observe how the K-means clustering algorithm behaves"
   ]
  },
  {
   "cell_type": "code",
   "execution_count": 154,
   "metadata": {},
   "outputs": [
    {
     "data": {
      "text/html": [
       "<div>\n",
       "<style scoped>\n",
       "    .dataframe tbody tr th:only-of-type {\n",
       "        vertical-align: middle;\n",
       "    }\n",
       "\n",
       "    .dataframe tbody tr th {\n",
       "        vertical-align: top;\n",
       "    }\n",
       "\n",
       "    .dataframe thead th {\n",
       "        text-align: right;\n",
       "    }\n",
       "</style>\n",
       "<table border=\"1\" class=\"dataframe\">\n",
       "  <thead>\n",
       "    <tr style=\"text-align: right;\">\n",
       "      <th></th>\n",
       "      <th>Lat</th>\n",
       "      <th>Lon</th>\n",
       "      <th>Hour</th>\n",
       "      <th>Minutes</th>\n",
       "      <th>DayOfWeek</th>\n",
       "      <th>cluster</th>\n",
       "    </tr>\n",
       "  </thead>\n",
       "  <tbody>\n",
       "    <tr>\n",
       "      <th>311452</th>\n",
       "      <td>40.7473</td>\n",
       "      <td>-73.9722</td>\n",
       "      <td>9</td>\n",
       "      <td>45</td>\n",
       "      <td>Sunday</td>\n",
       "      <td>0</td>\n",
       "    </tr>\n",
       "    <tr>\n",
       "      <th>188045</th>\n",
       "      <td>40.7396</td>\n",
       "      <td>-73.9927</td>\n",
       "      <td>13</td>\n",
       "      <td>23</td>\n",
       "      <td>Sunday</td>\n",
       "      <td>0</td>\n",
       "    </tr>\n",
       "    <tr>\n",
       "      <th>371454</th>\n",
       "      <td>40.7381</td>\n",
       "      <td>-74.0094</td>\n",
       "      <td>2</td>\n",
       "      <td>50</td>\n",
       "      <td>Sunday</td>\n",
       "      <td>0</td>\n",
       "    </tr>\n",
       "    <tr>\n",
       "      <th>287702</th>\n",
       "      <td>40.7244</td>\n",
       "      <td>-73.9998</td>\n",
       "      <td>16</td>\n",
       "      <td>56</td>\n",
       "      <td>Sunday</td>\n",
       "      <td>0</td>\n",
       "    </tr>\n",
       "    <tr>\n",
       "      <th>556733</th>\n",
       "      <td>40.7638</td>\n",
       "      <td>-73.9756</td>\n",
       "      <td>21</td>\n",
       "      <td>43</td>\n",
       "      <td>Sunday</td>\n",
       "      <td>0</td>\n",
       "    </tr>\n",
       "  </tbody>\n",
       "</table>\n",
       "</div>"
      ],
      "text/plain": [
       "            Lat      Lon  Hour  Minutes DayOfWeek  cluster\n",
       "311452  40.7473 -73.9722     9       45    Sunday        0\n",
       "188045  40.7396 -73.9927    13       23    Sunday        0\n",
       "371454  40.7381 -74.0094     2       50    Sunday        0\n",
       "287702  40.7244 -73.9998    16       56    Sunday        0\n",
       "556733  40.7638 -73.9756    21       43    Sunday        0"
      ]
     },
     "execution_count": 154,
     "metadata": {},
     "output_type": "execute_result"
    }
   ],
   "source": [
    "sunday.head()"
   ]
  },
  {
   "cell_type": "code",
   "execution_count": 160,
   "metadata": {},
   "outputs": [],
   "source": [
    "sunday = sunday.drop(\"DayOfWeek\", axis = 1)\n",
    "sunday = sunday.drop(\"cluster\",  axis = 1)"
   ]
  },
  {
   "cell_type": "markdown",
   "metadata": {},
   "source": [
    "##### Scaling numerical data and one-hot encoding categorical data"
   ]
  },
  {
   "cell_type": "code",
   "execution_count": 161,
   "metadata": {},
   "outputs": [
    {
     "data": {
      "text/plain": [
       "array([[ 0.3429522 , -0.02960783, -0.43520565,  0.9268784 ],\n",
       "       [ 0.1552193 , -0.35556205,  0.142177  , -0.33653042],\n",
       "       [ 0.11864796, -0.62109549, -1.44562528,  1.21401677],\n",
       "       [-0.21537033, -0.46845351,  0.57521398,  1.55858281],\n",
       "       [ 0.74523699, -0.08366853,  1.29694229,  0.81202306]])"
      ]
     },
     "execution_count": 161,
     "metadata": {},
     "output_type": "execute_result"
    }
   ],
   "source": [
    "# Import Standard Scaler\n",
    "from sklearn.preprocessing import StandardScaler\n",
    "\n",
    "# Initialize StandardScaler\n",
    "# StandardScaler will substract mean and divide by standard deviation to each observation\n",
    "sc = StandardScaler()\n",
    "\n",
    "# Apply StandardScaler to X\n",
    "X = sc.fit_transform(sunday)\n",
    "\n",
    "# Visualize first five rows \n",
    "# Standard scaler transform X as numpy array. Therefore you can't use .head()\n",
    "X[:5]"
   ]
  },
  {
   "cell_type": "markdown",
   "metadata": {},
   "source": [
    "##### Determining how many clusters we should have using the Elbow method"
   ]
  },
  {
   "cell_type": "code",
   "execution_count": 162,
   "metadata": {},
   "outputs": [
    {
     "name": "stdout",
     "output_type": "stream",
     "text": [
      "WCSS for K=1 --> 35676.00000000011\n",
      "WCSS for K=2 --> 28824.984443237496\n",
      "WCSS for K=3 --> 22922.526768285974\n",
      "WCSS for K=4 --> 18210.955711592374\n",
      "WCSS for K=5 --> 15972.026891072312\n",
      "WCSS for K=6 --> 14431.770538903847\n",
      "WCSS for K=7 --> 13107.224935884513\n",
      "WCSS for K=8 --> 11824.19503239547\n",
      "WCSS for K=9 --> 11116.812897787255\n",
      "WCSS for K=10 --> 10458.981824730907\n"
     ]
    }
   ],
   "source": [
    "from sklearn.cluster import KMeans\n",
    "# Creating a loop that will collect the Within-sum-of-square (wcss) for each value of K \n",
    "# Use .inertia_ parameter to get the within sum of square value for each value of K \n",
    "wcss =  []\n",
    "k = []\n",
    "for i in range (1,11): \n",
    "    kmeans = KMeans(n_clusters= i, random_state = 0)\n",
    "    kmeans.fit(X)\n",
    "    wcss.append(kmeans.inertia_)\n",
    "    k.append(i)\n",
    "    print(\"WCSS for K={} --> {}\".format(i, wcss[-1]))"
   ]
  },
  {
   "cell_type": "markdown",
   "metadata": {},
   "source": [
    "##### Visualizing inertia as a function of K using plotly"
   ]
  },
  {
   "cell_type": "code",
   "execution_count": 163,
   "metadata": {},
   "outputs": [
    {
     "data": {
      "text/html": [
       "<iframe\n",
       "    scrolling=\"no\"\n",
       "    width=\"100%\"\n",
       "    height=\"545px\"\n",
       "    src=\"iframe_figures/figure_163.html\"\n",
       "    frameborder=\"0\"\n",
       "    allowfullscreen\n",
       "></iframe>\n"
      ]
     },
     "metadata": {},
     "output_type": "display_data"
    }
   ],
   "source": [
    "import plotly.express as px\n",
    "\n",
    "# Create DataFrame\n",
    "wcss_frame = pd.DataFrame(wcss)\n",
    "k_frame = pd.Series(k)\n",
    "\n",
    "# Create figure\n",
    "fig= px.line(\n",
    "    wcss_frame,\n",
    "    x=k_frame,\n",
    "    y=wcss_frame.iloc[:,-1]\n",
    ")\n",
    "\n",
    "# Create title and axis labels\n",
    "fig.update_layout(\n",
    "    yaxis_title=\"Inertia\",\n",
    "    xaxis_title=\"# Clusters\",\n",
    "    title=\"Inertia per cluster\"\n",
    ")\n",
    "\n",
    "# Render\n",
    "#fig.show(renderer=\"notebook\")\n",
    "fig.show(renderer=\"iframe\")"
   ]
  },
  {
   "cell_type": "markdown",
   "metadata": {},
   "source": [
    "##### It can be seen above that after K=4, inertia is not decreasing a lot."
   ]
  },
  {
   "cell_type": "markdown",
   "metadata": {},
   "source": [
    "##### Double-checking with the Silhouette method"
   ]
  },
  {
   "cell_type": "code",
   "execution_count": 164,
   "metadata": {},
   "outputs": [
    {
     "name": "stdout",
     "output_type": "stream",
     "text": [
      "Silhouette score for K=2 is 0.22472478661847733\n",
      "Silhouette score for K=3 is 0.27275670635856847\n",
      "Silhouette score for K=4 is 0.2906977879558777\n",
      "Silhouette score for K=5 is 0.2795408091470601\n",
      "Silhouette score for K=6 is 0.2702052798112637\n",
      "Silhouette score for K=7 is 0.27581800165990533\n",
      "Silhouette score for K=8 is 0.29258957553821124\n",
      "Silhouette score for K=9 is 0.2732481992309657\n",
      "Silhouette score for K=10 is 0.25889897108569354\n"
     ]
    }
   ],
   "source": [
    "# Import silhouette score\n",
    "from sklearn.metrics import silhouette_score\n",
    "\n",
    "# Computer mean silhouette score\n",
    "sil = []\n",
    "k = []\n",
    "\n",
    "## Careful, you need to start at i=2 as silhouette score cannot accept less than 2 labels \n",
    "for i in range (2,11): \n",
    "    kmeans = KMeans(n_clusters= i, init = \"k-means++\", random_state = 0)\n",
    "    kmeans.fit(X)\n",
    "    sil.append(silhouette_score(X, kmeans.predict(X)))\n",
    "    k.append(i)\n",
    "    print(\"Silhouette score for K={} is {}\".format(i, sil[-1]))"
   ]
  },
  {
   "cell_type": "markdown",
   "metadata": {},
   "source": [
    "##### Visualizing inertia as a function of K using plotly"
   ]
  },
  {
   "cell_type": "code",
   "execution_count": 165,
   "metadata": {},
   "outputs": [
    {
     "data": {
      "text/html": [
       "<iframe\n",
       "    scrolling=\"no\"\n",
       "    width=\"100%\"\n",
       "    height=\"545px\"\n",
       "    src=\"iframe_figures/figure_165.html\"\n",
       "    frameborder=\"0\"\n",
       "    allowfullscreen\n",
       "></iframe>\n"
      ]
     },
     "metadata": {},
     "output_type": "display_data"
    }
   ],
   "source": [
    "# Create a data frame \n",
    "cluster_scores=pd.DataFrame(sil)\n",
    "k_frame = pd.Series(k)\n",
    "\n",
    "# Create figure\n",
    "fig = px.bar(data_frame=cluster_scores,  \n",
    "             x=k, \n",
    "             y=cluster_scores.iloc[:, -1]\n",
    "            )\n",
    "\n",
    "# Add title and axis labels\n",
    "fig.update_layout(\n",
    "    yaxis_title=\"Silhouette Score\",\n",
    "    xaxis_title=\"# Clusters\",\n",
    "    title=\"Silhouette Score per cluster\"\n",
    ")\n",
    "\n",
    "# Render\n",
    "#fig.show(renderer=\"notebook\")\n",
    "fig.show(renderer=\"iframe\") # if using workspace"
   ]
  },
  {
   "cell_type": "markdown",
   "metadata": {},
   "source": [
    "##### The Silhouette method also suggests that K=4 is appropriate"
   ]
  },
  {
   "cell_type": "code",
   "execution_count": 166,
   "metadata": {},
   "outputs": [
    {
     "data": {
      "text/plain": [
       "KMeans(n_clusters=4, random_state=0)"
      ]
     },
     "execution_count": 166,
     "metadata": {},
     "output_type": "execute_result"
    }
   ],
   "source": [
    "# Import K-Means \n",
    "from sklearn.cluster import KMeans\n",
    "\n",
    "# Instanciate KMeans with k=3 and initialisation with k-means++\n",
    "# You should always use k-means++ as it alleviate the problem of local minimum convergence \n",
    "kmeans = KMeans(n_clusters=4, init = \"k-means++\", random_state=0)\n",
    "\n",
    "# Fit kmeans to our dataset\n",
    "kmeans.fit(X)"
   ]
  },
  {
   "cell_type": "markdown",
   "metadata": {},
   "source": [
    "##### Checking the coordinates of each cluster centers"
   ]
  },
  {
   "cell_type": "code",
   "execution_count": 167,
   "metadata": {},
   "outputs": [
    {
     "data": {
      "text/plain": [
       "<AxesSubplot:>"
      ]
     },
     "execution_count": 167,
     "metadata": {},
     "output_type": "execute_result"
    },
    {
     "data": {
      "image/png": "[encoded data removed]",
      "text/plain": [
       "<Figure size 432x288 with 2 Axes>"
      ]
     },
     "metadata": {
      "needs_background": "light"
     },
     "output_type": "display_data"
    }
   ],
   "source": [
    "# Cluster centers coordinates\n",
    "# Let's use inverse transform to have the real coordinates \n",
    "cluster_centers = sc.inverse_transform(kmeans.cluster_centers_)\n",
    "\n",
    "# Let's get column names to facilita understanding \n",
    "labels = sunday.columns\n",
    "\n",
    "# Let's visualize on a heatmap \n",
    "## Import Seaborn and pandas \n",
    "import seaborn as sns\n",
    "import pandas as pd \n",
    "\n",
    "# Create a heatmap \n",
    "sns.heatmap(pd.DataFrame(cluster_centers, columns=labels),  annot=True)"
   ]
  },
  {
   "cell_type": "code",
   "execution_count": 168,
   "metadata": {},
   "outputs": [
    {
     "name": "stdout",
     "output_type": "stream",
     "text": [
      "Point 1 belongs to cluster: 0\n",
      "Point 2 belongs to cluster: 3\n",
      "Point 3 belongs to cluster: 0\n",
      "Point 4 belongs to cluster: 3\n",
      "Point 5 belongs to cluster: 3\n"
     ]
    }
   ],
   "source": [
    "## Create data using numpy \n",
    "import numpy as np \n",
    "point_1 = np.array([[40.7436, -73.9537, 0, 15]])\n",
    "point_2 = np.array([[40.6994, -73.9471, 8, 44]])\n",
    "point_3 = np.array([[40.7341, -74.0081, 5, 13]])\n",
    "point_4 = np.array([[40.7472, -73.9776, 14, 59]])\n",
    "point_5 = np.array([[40.7669, -73.9791, 11, 48]])\n",
    "\n",
    "## Apply standard scaler \n",
    "point_1 = sc.transform(point_1)\n",
    "point_2 = sc.transform(point_2)\n",
    "point_3 = sc.transform(point_3)\n",
    "point_4 = sc.transform(point_4)\n",
    "point_5 = sc.transform(point_5)\n",
    "\n",
    "\n",
    "## Get cluster \n",
    "predict_point_1 = kmeans.predict(point_1)\n",
    "predict_point_2 = kmeans.predict(point_2)\n",
    "predict_point_3 = kmeans.predict(point_3)\n",
    "predict_point_4 = kmeans.predict(point_4)\n",
    "predict_point_5 = kmeans.predict(point_5)\n",
    "\n",
    "print(\"Point 1 belongs to cluster: {}\".format(predict_point_1[0]))\n",
    "print(\"Point 2 belongs to cluster: {}\".format(predict_point_2[0]))\n",
    "print(\"Point 3 belongs to cluster: {}\".format(predict_point_3[0]))\n",
    "print(\"Point 4 belongs to cluster: {}\".format(predict_point_4[0]))\n",
    "print(\"Point 5 belongs to cluster: {}\".format(predict_point_5[0]))"
   ]
  },
  {
   "cell_type": "markdown",
   "metadata": {},
   "source": [
    "##### Conclusion : As far as my knowledge goes in  this domain, K-means algorithm does not seem appropriate to solve this clustering problem"
   ]
  }
 ],
 "metadata": {
  "kernelspec": {
   "display_name": "Python 3",
   "language": "python",
   "name": "python3"
  },
  "language_info": {
   "codemirror_mode": {
    "name": "ipython",
    "version": 3
   },
   "file_extension": ".py",
   "mimetype": "text/x-python",
   "name": "python",
   "nbconvert_exporter": "python",
   "pygments_lexer": "ipython3",
   "version": "3.8.6"
  }
 },
 "nbformat": 4,
 "nbformat_minor": 4
}
