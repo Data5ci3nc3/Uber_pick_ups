{
 "cells": [
  {
   "cell_type": "markdown",
   "metadata": {},
   "source": [
    "<img src=\"https://upload.wikimedia.org/wikipedia/commons/thumb/5/58/Uber_logo_2018.svg/1024px-Uber_logo_2018.svg.png\" alt=\"UBER LOGO\" width=\"50%\" />\n",
    "\n",
    "# UBER Pickups"
   ]
  },
  {
   "cell_type": "markdown",
   "metadata": {},
   "source": [
    "## Company's Description 📇\n",
    "\n",
    "<a href=\"http://uber.com/\" target=\"_blank\">Uber</a> is one of the most famous startup in the world. It started as a ride-sharing application for people who couldn't afford a taxi. Now, Uber expanded its activities to Food Delivery with <a href=\"https://www.ubereats.com/fr-en\" target=\"_blank\">Uber Eats</a>, package delivery, freight transportation and even urban transportation with <a href=\"https://www.uber.com/fr/en/ride/uber-bike/\" target=\"_blank\"> Jump Bike</a> and <a href=\"https://www.li.me/\" target=\"_blank\"> Lime </a> that the company funded. \n",
    "\n",
    "\n",
    "The company's goal is to revolutionize transportation accross the globe. It operates now on about 70 countries and 900 cities and generates over $14 billion revenue! 😮\n"
   ]
  },
  {
   "cell_type": "markdown",
   "metadata": {},
   "source": [
    "## Project 🚧\n",
    "\n",
    "One of the main pain point that Uber's team found is that sometimes drivers are not around when users need them. For example, a user might be in San Francisco's Financial District whereas Uber drivers are looking for customers in Castro.  \n",
    "\n",
    "(If you are not familiar with the bay area, check out <a href=\"https://www.google.com/maps/place/San+Francisco,+CA,+USA/@37.7515389,-122.4567213,13.43z/data=!4m5!3m4!1s0x80859a6d00690021:0x4a501367f076adff!8m2!3d37.7749295!4d-122.4194155\" target=\"_blank\">Google Maps</a>)\n",
    "\n",
    "Eventhough both neighborhood are not that far away, users would still have to wait 10 to 15 minutes before being picked-up, which is too long. Uber's research shows that users accept to wait 5-7 minutes, otherwise they would cancel their ride. \n",
    "\n",
    "Therefore, Uber's data team would like to work on a project where **their app would recommend hot-zones in major cities to be in at any given time of day.**  "
   ]
  },
  {
   "cell_type": "markdown",
   "metadata": {},
   "source": [
    "## Goals 🎯\n",
    "\n",
    "Uber already has data about pickups in major cities. Your objective is to create algorithms that will determine where are the hot-zones that drivers should be in. Therefore you will:\n",
    "\n",
    "* Create an algorithm to find hot zones \n",
    "* Visualize results on a nice dashboard "
   ]
  },
  {
   "cell_type": "markdown",
   "metadata": {},
   "source": [
    "## Scope of this project 🖼️\n",
    "\n",
    "To start off, Uber wants to try this feature in New York city. Therefore you will only focus on this city. Data can be found here: \n",
    "\n",
    "👉👉<a href=\"https://full-stack-bigdata-datasets.s3.eu-west-3.amazonaws.com/Machine+Learning+non+Supervis%C3%A9/Projects/uber-trip-data.zip\" target=\"_blank\"> Uber Trip Data</a> 👈👈\n",
    "\n",
    "**You only need to focus on New York City for this project**"
   ]
  },
  {
   "cell_type": "markdown",
   "metadata": {},
   "source": [
    "## Helpers 🦮\n",
    "\n",
    "To help you achieve this project, here are a few tips that should help you: \n",
    "\n",
    "### Clustering is your friend \n",
    "\n",
    "Clustering technics are a perfect fit for the job. Think about it, all the pickup locations can be gathered into different clusters. You can then use **cluster coordinates to pin hot zones** 😉\n",
    "    \n",
    "\n",
    "### Create maps with `plotly` \n",
    "\n",
    "Check out <a href=\"https://plotly.com/\" target=\"_blank\">Plotly</a> documentation, you can create maps and populate them easily. Obviously, there are other libraries but this one should do the job pretty well. \n",
    "\n",
    "\n",
    "### Start small grow big \n",
    "\n",
    "Eventhough Uber wants to have hot-zones per hour and per day of week, you should first **start small**. Pick one day at a given hour and **then start to generalize** your approach. "
   ]
  },
  {
   "cell_type": "markdown",
   "metadata": {},
   "source": [
    "## Deliverable 📬\n",
    "\n",
    "To complete this project, your team should: \n",
    "\n",
    "* Have a map with hot-zones using any python library (`plotly` or anything else). \n",
    "* You should **at least** describe hot-zones per day of week. \n",
    "* Compare results with **at least** two unsupervised algorithms like KMeans and DBScan. \n",
    "\n",
    "Your maps should look something like this: \n",
    "\n",
    "<img src=\"https://full-stack-assets.s3.eu-west-3.amazonaws.com/images/Clusters_uber_pickups.png\" alt=\"Uber Cluster Map\" />"
   ]
  },
  {
   "cell_type": "markdown",
   "metadata": {},
   "source": [
    "### Working on the project with DBSCAN clustering algorithm"
   ]
  },
  {
   "cell_type": "markdown",
   "metadata": {},
   "source": [
    "##### Installing Plotly"
   ]
  },
  {
   "cell_type": "code",
   "execution_count": 1,
   "metadata": {},
   "outputs": [
    {
     "name": "stdout",
     "output_type": "stream",
     "text": [
      "Collecting plotly\n",
      "  Using cached plotly-5.5.0-py2.py3-none-any.whl (26.5 MB)\n",
      "Collecting tenacity>=6.2.0\n",
      "  Using cached tenacity-8.0.1-py3-none-any.whl (24 kB)\n",
      "Requirement already satisfied: six in /opt/conda/lib/python3.8/site-packages (from plotly) (1.15.0)\n",
      "Installing collected packages: tenacity, plotly\n",
      "Successfully installed plotly-5.5.0 tenacity-8.0.1\n"
     ]
    }
   ],
   "source": [
    "!pip install plotly"
   ]
  },
  {
   "cell_type": "markdown",
   "metadata": {},
   "source": [
    "##### Importing adequate librairies"
   ]
  },
  {
   "cell_type": "code",
   "execution_count": 2,
   "metadata": {},
   "outputs": [],
   "source": [
    "import pandas as pd \n",
    "import numpy as np \n",
    "\n",
    "from sklearn.preprocessing import  OneHotEncoder, StandardScaler\n",
    "from sklearn.compose import ColumnTransformer\n",
    "\n",
    "import plotly.express as px\n",
    "import plotly.io as pio\n",
    "pio.renderers.default = \"iframe_connected\""
   ]
  },
  {
   "cell_type": "markdown",
   "metadata": {},
   "source": [
    "##### Loading the dataset"
   ]
  },
  {
   "cell_type": "code",
   "execution_count": 3,
   "metadata": {},
   "outputs": [],
   "source": [
    "df = pd.read_csv(\"https://raw.githubusercontent.com/fivethirtyeight/uber-tlc-foil-response/master/uber-trip-data/uber-raw-data-apr14.csv\")"
   ]
  },
  {
   "cell_type": "markdown",
   "metadata": {},
   "source": [
    "##### Understanding the overall structure of the dataset"
   ]
  },
  {
   "cell_type": "code",
   "execution_count": 4,
   "metadata": {},
   "outputs": [
    {
     "data": {
      "text/html": [
       "<div>\n",
       "<style scoped>\n",
       "    .dataframe tbody tr th:only-of-type {\n",
       "        vertical-align: middle;\n",
       "    }\n",
       "\n",
       "    .dataframe tbody tr th {\n",
       "        vertical-align: top;\n",
       "    }\n",
       "\n",
       "    .dataframe thead th {\n",
       "        text-align: right;\n",
       "    }\n",
       "</style>\n",
       "<table border=\"1\" class=\"dataframe\">\n",
       "  <thead>\n",
       "    <tr style=\"text-align: right;\">\n",
       "      <th></th>\n",
       "      <th>Date/Time</th>\n",
       "      <th>Lat</th>\n",
       "      <th>Lon</th>\n",
       "      <th>Base</th>\n",
       "    </tr>\n",
       "  </thead>\n",
       "  <tbody>\n",
       "    <tr>\n",
       "      <th>0</th>\n",
       "      <td>4/1/2014 0:11:00</td>\n",
       "      <td>40.7690</td>\n",
       "      <td>-73.9549</td>\n",
       "      <td>B02512</td>\n",
       "    </tr>\n",
       "    <tr>\n",
       "      <th>1</th>\n",
       "      <td>4/1/2014 0:17:00</td>\n",
       "      <td>40.7267</td>\n",
       "      <td>-74.0345</td>\n",
       "      <td>B02512</td>\n",
       "    </tr>\n",
       "    <tr>\n",
       "      <th>2</th>\n",
       "      <td>4/1/2014 0:21:00</td>\n",
       "      <td>40.7316</td>\n",
       "      <td>-73.9873</td>\n",
       "      <td>B02512</td>\n",
       "    </tr>\n",
       "    <tr>\n",
       "      <th>3</th>\n",
       "      <td>4/1/2014 0:28:00</td>\n",
       "      <td>40.7588</td>\n",
       "      <td>-73.9776</td>\n",
       "      <td>B02512</td>\n",
       "    </tr>\n",
       "    <tr>\n",
       "      <th>4</th>\n",
       "      <td>4/1/2014 0:33:00</td>\n",
       "      <td>40.7594</td>\n",
       "      <td>-73.9722</td>\n",
       "      <td>B02512</td>\n",
       "    </tr>\n",
       "  </tbody>\n",
       "</table>\n",
       "</div>"
      ],
      "text/plain": [
       "          Date/Time      Lat      Lon    Base\n",
       "0  4/1/2014 0:11:00  40.7690 -73.9549  B02512\n",
       "1  4/1/2014 0:17:00  40.7267 -74.0345  B02512\n",
       "2  4/1/2014 0:21:00  40.7316 -73.9873  B02512\n",
       "3  4/1/2014 0:28:00  40.7588 -73.9776  B02512\n",
       "4  4/1/2014 0:33:00  40.7594 -73.9722  B02512"
      ]
     },
     "execution_count": 4,
     "metadata": {},
     "output_type": "execute_result"
    }
   ],
   "source": [
    "df.head()"
   ]
  },
  {
   "cell_type": "code",
   "execution_count": 5,
   "metadata": {},
   "outputs": [
    {
     "name": "stdout",
     "output_type": "stream",
     "text": [
      "The dataset contains 564516 observations\n"
     ]
    }
   ],
   "source": [
    "print (\"The dataset contains {} observations\".format(df.shape[0]))"
   ]
  },
  {
   "cell_type": "code",
   "execution_count": 6,
   "metadata": {},
   "outputs": [
    {
     "name": "stdout",
     "output_type": "stream",
     "text": [
      "The dataset contains 4 columns\n"
     ]
    }
   ],
   "source": [
    "print (\"The dataset contains {} columns\".format(df.shape[1]))"
   ]
  },
  {
   "cell_type": "code",
   "execution_count": 7,
   "metadata": {},
   "outputs": [
    {
     "name": "stdout",
     "output_type": "stream",
     "text": [
      "<class 'pandas.core.frame.DataFrame'>\n",
      "RangeIndex: 564516 entries, 0 to 564515\n",
      "Data columns (total 4 columns):\n",
      " #   Column     Non-Null Count   Dtype  \n",
      "---  ------     --------------   -----  \n",
      " 0   Date/Time  564516 non-null  object \n",
      " 1   Lat        564516 non-null  float64\n",
      " 2   Lon        564516 non-null  float64\n",
      " 3   Base       564516 non-null  object \n",
      "dtypes: float64(2), object(2)\n",
      "memory usage: 17.2+ MB\n"
     ]
    }
   ],
   "source": [
    "df.info()"
   ]
  },
  {
   "cell_type": "markdown",
   "metadata": {},
   "source": [
    "##### Take a sample of 100 000 observations from the dataset"
   ]
  },
  {
   "cell_type": "code",
   "execution_count": 8,
   "metadata": {},
   "outputs": [
    {
     "data": {
      "text/html": [
       "<div>\n",
       "<style scoped>\n",
       "    .dataframe tbody tr th:only-of-type {\n",
       "        vertical-align: middle;\n",
       "    }\n",
       "\n",
       "    .dataframe tbody tr th {\n",
       "        vertical-align: top;\n",
       "    }\n",
       "\n",
       "    .dataframe thead th {\n",
       "        text-align: right;\n",
       "    }\n",
       "</style>\n",
       "<table border=\"1\" class=\"dataframe\">\n",
       "  <thead>\n",
       "    <tr style=\"text-align: right;\">\n",
       "      <th></th>\n",
       "      <th>Date/Time</th>\n",
       "      <th>Lat</th>\n",
       "      <th>Lon</th>\n",
       "      <th>Base</th>\n",
       "    </tr>\n",
       "  </thead>\n",
       "  <tbody>\n",
       "    <tr>\n",
       "      <th>264036</th>\n",
       "      <td>4/13/2014 0:15:00</td>\n",
       "      <td>40.7436</td>\n",
       "      <td>-73.9537</td>\n",
       "      <td>B02617</td>\n",
       "    </tr>\n",
       "    <tr>\n",
       "      <th>93727</th>\n",
       "      <td>4/12/2014 7:37:00</td>\n",
       "      <td>40.7138</td>\n",
       "      <td>-74.0066</td>\n",
       "      <td>B02598</td>\n",
       "    </tr>\n",
       "    <tr>\n",
       "      <th>226177</th>\n",
       "      <td>4/3/2014 7:16:00</td>\n",
       "      <td>40.7790</td>\n",
       "      <td>-73.9873</td>\n",
       "      <td>B02617</td>\n",
       "    </tr>\n",
       "    <tr>\n",
       "      <th>98088</th>\n",
       "      <td>4/12/2014 22:27:00</td>\n",
       "      <td>40.6465</td>\n",
       "      <td>-73.7896</td>\n",
       "      <td>B02598</td>\n",
       "    </tr>\n",
       "    <tr>\n",
       "      <th>326296</th>\n",
       "      <td>4/30/2014 21:52:00</td>\n",
       "      <td>40.7435</td>\n",
       "      <td>-73.9727</td>\n",
       "      <td>B02617</td>\n",
       "    </tr>\n",
       "  </tbody>\n",
       "</table>\n",
       "</div>"
      ],
      "text/plain": [
       "                 Date/Time      Lat      Lon    Base\n",
       "264036   4/13/2014 0:15:00  40.7436 -73.9537  B02617\n",
       "93727    4/12/2014 7:37:00  40.7138 -74.0066  B02598\n",
       "226177    4/3/2014 7:16:00  40.7790 -73.9873  B02617\n",
       "98088   4/12/2014 22:27:00  40.6465 -73.7896  B02598\n",
       "326296  4/30/2014 21:52:00  40.7435 -73.9727  B02617"
      ]
     },
     "execution_count": 8,
     "metadata": {},
     "output_type": "execute_result"
    }
   ],
   "source": [
    "dataset = df.sample(100000)\n",
    "dataset.head()"
   ]
  },
  {
   "cell_type": "markdown",
   "metadata": {},
   "source": [
    "##### Converting \"Date/Time\" column to datetime format"
   ]
  },
  {
   "cell_type": "code",
   "execution_count": 9,
   "metadata": {},
   "outputs": [],
   "source": [
    "dataset[\"Date/Time\"] = pd.to_datetime(dataset[\"Date/Time\"])"
   ]
  },
  {
   "cell_type": "markdown",
   "metadata": {},
   "source": [
    "##### Verifying that the dataframe does not contain any missing values"
   ]
  },
  {
   "cell_type": "code",
   "execution_count": 10,
   "metadata": {},
   "outputs": [
    {
     "data": {
      "text/plain": [
       "Date/Time    0\n",
       "Lat          0\n",
       "Lon          0\n",
       "Base         0\n",
       "dtype: int64"
      ]
     },
     "execution_count": 10,
     "metadata": {},
     "output_type": "execute_result"
    }
   ],
   "source": [
    "dataset.isnull().sum()"
   ]
  },
  {
   "cell_type": "code",
   "execution_count": 11,
   "metadata": {},
   "outputs": [
    {
     "name": "stdout",
     "output_type": "stream",
     "text": [
      "<class 'pandas.core.frame.DataFrame'>\n",
      "Int64Index: 100000 entries, 264036 to 204443\n",
      "Data columns (total 4 columns):\n",
      " #   Column     Non-Null Count   Dtype         \n",
      "---  ------     --------------   -----         \n",
      " 0   Date/Time  100000 non-null  datetime64[ns]\n",
      " 1   Lat        100000 non-null  float64       \n",
      " 2   Lon        100000 non-null  float64       \n",
      " 3   Base       100000 non-null  object        \n",
      "dtypes: datetime64[ns](1), float64(2), object(1)\n",
      "memory usage: 3.8+ MB\n"
     ]
    }
   ],
   "source": [
    "dataset.info()"
   ]
  },
  {
   "cell_type": "code",
   "execution_count": 12,
   "metadata": {},
   "outputs": [],
   "source": [
    "sample_data = dataset"
   ]
  },
  {
   "cell_type": "markdown",
   "metadata": {},
   "source": [
    "##### Basic feature engineering from after conversion of \"Date/Time\" column to datetime format"
   ]
  },
  {
   "cell_type": "code",
   "execution_count": 13,
   "metadata": {},
   "outputs": [],
   "source": [
    "sample_data[\"Year\"] = sample_data[\"Date/Time\"].dt.year\n",
    "sample_data[\"Month\"] = sample_data[\"Date/Time\"].dt.month\n",
    "sample_data[\"Day\"] = sample_data[\"Date/Time\"].dt.day\n",
    "sample_data[\"Hour\"] = sample_data[\"Date/Time\"].dt.hour\n",
    "sample_data[\"Minutes\"] = sample_data[\"Date/Time\"].dt.minute\n",
    "sample_data[\"DayOfWeek\"] = sample_data[\"Date/Time\"].dt.day_name()"
   ]
  },
  {
   "cell_type": "code",
   "execution_count": 14,
   "metadata": {},
   "outputs": [
    {
     "data": {
      "text/html": [
       "<div>\n",
       "<style scoped>\n",
       "    .dataframe tbody tr th:only-of-type {\n",
       "        vertical-align: middle;\n",
       "    }\n",
       "\n",
       "    .dataframe tbody tr th {\n",
       "        vertical-align: top;\n",
       "    }\n",
       "\n",
       "    .dataframe thead th {\n",
       "        text-align: right;\n",
       "    }\n",
       "</style>\n",
       "<table border=\"1\" class=\"dataframe\">\n",
       "  <thead>\n",
       "    <tr style=\"text-align: right;\">\n",
       "      <th></th>\n",
       "      <th>Date/Time</th>\n",
       "      <th>Lat</th>\n",
       "      <th>Lon</th>\n",
       "      <th>Base</th>\n",
       "      <th>Year</th>\n",
       "      <th>Month</th>\n",
       "      <th>Day</th>\n",
       "      <th>Hour</th>\n",
       "      <th>Minutes</th>\n",
       "      <th>DayOfWeek</th>\n",
       "    </tr>\n",
       "  </thead>\n",
       "  <tbody>\n",
       "    <tr>\n",
       "      <th>264036</th>\n",
       "      <td>2014-04-13 00:15:00</td>\n",
       "      <td>40.7436</td>\n",
       "      <td>-73.9537</td>\n",
       "      <td>B02617</td>\n",
       "      <td>2014</td>\n",
       "      <td>4</td>\n",
       "      <td>13</td>\n",
       "      <td>0</td>\n",
       "      <td>15</td>\n",
       "      <td>Sunday</td>\n",
       "    </tr>\n",
       "    <tr>\n",
       "      <th>93727</th>\n",
       "      <td>2014-04-12 07:37:00</td>\n",
       "      <td>40.7138</td>\n",
       "      <td>-74.0066</td>\n",
       "      <td>B02598</td>\n",
       "      <td>2014</td>\n",
       "      <td>4</td>\n",
       "      <td>12</td>\n",
       "      <td>7</td>\n",
       "      <td>37</td>\n",
       "      <td>Saturday</td>\n",
       "    </tr>\n",
       "    <tr>\n",
       "      <th>226177</th>\n",
       "      <td>2014-04-03 07:16:00</td>\n",
       "      <td>40.7790</td>\n",
       "      <td>-73.9873</td>\n",
       "      <td>B02617</td>\n",
       "      <td>2014</td>\n",
       "      <td>4</td>\n",
       "      <td>3</td>\n",
       "      <td>7</td>\n",
       "      <td>16</td>\n",
       "      <td>Thursday</td>\n",
       "    </tr>\n",
       "  </tbody>\n",
       "</table>\n",
       "</div>"
      ],
      "text/plain": [
       "                 Date/Time      Lat      Lon    Base  Year  Month  Day  Hour  \\\n",
       "264036 2014-04-13 00:15:00  40.7436 -73.9537  B02617  2014      4   13     0   \n",
       "93727  2014-04-12 07:37:00  40.7138 -74.0066  B02598  2014      4   12     7   \n",
       "226177 2014-04-03 07:16:00  40.7790 -73.9873  B02617  2014      4    3     7   \n",
       "\n",
       "        Minutes DayOfWeek  \n",
       "264036       15    Sunday  \n",
       "93727        37  Saturday  \n",
       "226177       16  Thursday  "
      ]
     },
     "execution_count": 14,
     "metadata": {},
     "output_type": "execute_result"
    }
   ],
   "source": [
    "sample_data.head(3)"
   ]
  },
  {
   "cell_type": "markdown",
   "metadata": {},
   "source": [
    "##### Dropping \"Date/Time\" and \"Base\" column before further processing"
   ]
  },
  {
   "cell_type": "code",
   "execution_count": 15,
   "metadata": {},
   "outputs": [],
   "source": [
    "sample_data = sample_data.drop(columns=[\"Date/Time\", \"Base\"])"
   ]
  },
  {
   "cell_type": "code",
   "execution_count": 16,
   "metadata": {},
   "outputs": [
    {
     "data": {
      "text/html": [
       "<div>\n",
       "<style scoped>\n",
       "    .dataframe tbody tr th:only-of-type {\n",
       "        vertical-align: middle;\n",
       "    }\n",
       "\n",
       "    .dataframe tbody tr th {\n",
       "        vertical-align: top;\n",
       "    }\n",
       "\n",
       "    .dataframe thead th {\n",
       "        text-align: right;\n",
       "    }\n",
       "</style>\n",
       "<table border=\"1\" class=\"dataframe\">\n",
       "  <thead>\n",
       "    <tr style=\"text-align: right;\">\n",
       "      <th></th>\n",
       "      <th>Lat</th>\n",
       "      <th>Lon</th>\n",
       "      <th>Year</th>\n",
       "      <th>Month</th>\n",
       "      <th>Day</th>\n",
       "      <th>Hour</th>\n",
       "      <th>Minutes</th>\n",
       "      <th>DayOfWeek</th>\n",
       "    </tr>\n",
       "  </thead>\n",
       "  <tbody>\n",
       "    <tr>\n",
       "      <th>264036</th>\n",
       "      <td>40.7436</td>\n",
       "      <td>-73.9537</td>\n",
       "      <td>2014</td>\n",
       "      <td>4</td>\n",
       "      <td>13</td>\n",
       "      <td>0</td>\n",
       "      <td>15</td>\n",
       "      <td>Sunday</td>\n",
       "    </tr>\n",
       "    <tr>\n",
       "      <th>93727</th>\n",
       "      <td>40.7138</td>\n",
       "      <td>-74.0066</td>\n",
       "      <td>2014</td>\n",
       "      <td>4</td>\n",
       "      <td>12</td>\n",
       "      <td>7</td>\n",
       "      <td>37</td>\n",
       "      <td>Saturday</td>\n",
       "    </tr>\n",
       "    <tr>\n",
       "      <th>226177</th>\n",
       "      <td>40.7790</td>\n",
       "      <td>-73.9873</td>\n",
       "      <td>2014</td>\n",
       "      <td>4</td>\n",
       "      <td>3</td>\n",
       "      <td>7</td>\n",
       "      <td>16</td>\n",
       "      <td>Thursday</td>\n",
       "    </tr>\n",
       "    <tr>\n",
       "      <th>98088</th>\n",
       "      <td>40.6465</td>\n",
       "      <td>-73.7896</td>\n",
       "      <td>2014</td>\n",
       "      <td>4</td>\n",
       "      <td>12</td>\n",
       "      <td>22</td>\n",
       "      <td>27</td>\n",
       "      <td>Saturday</td>\n",
       "    </tr>\n",
       "    <tr>\n",
       "      <th>326296</th>\n",
       "      <td>40.7435</td>\n",
       "      <td>-73.9727</td>\n",
       "      <td>2014</td>\n",
       "      <td>4</td>\n",
       "      <td>30</td>\n",
       "      <td>21</td>\n",
       "      <td>52</td>\n",
       "      <td>Wednesday</td>\n",
       "    </tr>\n",
       "  </tbody>\n",
       "</table>\n",
       "</div>"
      ],
      "text/plain": [
       "            Lat      Lon  Year  Month  Day  Hour  Minutes  DayOfWeek\n",
       "264036  40.7436 -73.9537  2014      4   13     0       15     Sunday\n",
       "93727   40.7138 -74.0066  2014      4   12     7       37   Saturday\n",
       "226177  40.7790 -73.9873  2014      4    3     7       16   Thursday\n",
       "98088   40.6465 -73.7896  2014      4   12    22       27   Saturday\n",
       "326296  40.7435 -73.9727  2014      4   30    21       52  Wednesday"
      ]
     },
     "execution_count": 16,
     "metadata": {},
     "output_type": "execute_result"
    }
   ],
   "source": [
    "sample_data.head()"
   ]
  },
  {
   "cell_type": "code",
   "execution_count": 17,
   "metadata": {},
   "outputs": [
    {
     "data": {
      "text/plain": [
       "(100000, 8)"
      ]
     },
     "execution_count": 17,
     "metadata": {},
     "output_type": "execute_result"
    }
   ],
   "source": [
    "sample_data.shape"
   ]
  },
  {
   "cell_type": "markdown",
   "metadata": {},
   "source": [
    "##### Verifying that \"DayOfWeek\" column contains all the 7 days of the week"
   ]
  },
  {
   "cell_type": "code",
   "execution_count": 18,
   "metadata": {},
   "outputs": [
    {
     "data": {
      "text/plain": [
       "array(['Sunday', 'Saturday', 'Thursday', 'Wednesday', 'Tuesday', 'Friday',\n",
       "       'Monday'], dtype=object)"
      ]
     },
     "execution_count": 18,
     "metadata": {},
     "output_type": "execute_result"
    }
   ],
   "source": [
    "sample_data[\"DayOfWeek\"].unique()"
   ]
  },
  {
   "cell_type": "markdown",
   "metadata": {},
   "source": [
    "##### Verifying that \"Day\" column contains all the 30 days of April"
   ]
  },
  {
   "cell_type": "code",
   "execution_count": 19,
   "metadata": {},
   "outputs": [
    {
     "data": {
      "text/plain": [
       "array([13, 12,  3, 30, 19, 29, 15,  2, 11, 27, 17, 21, 20, 25, 10, 22, 16,\n",
       "       28,  4,  8,  9, 26,  7, 18,  5,  6, 23,  1, 24, 14])"
      ]
     },
     "execution_count": 19,
     "metadata": {},
     "output_type": "execute_result"
    }
   ],
   "source": [
    "sample_data[\"Day\"].unique()"
   ]
  },
  {
   "cell_type": "code",
   "execution_count": 20,
   "metadata": {},
   "outputs": [
    {
     "data": {
      "text/plain": [
       "30"
      ]
     },
     "execution_count": 20,
     "metadata": {},
     "output_type": "execute_result"
    }
   ],
   "source": [
    "len(sample_data[\"Day\"].unique())"
   ]
  },
  {
   "cell_type": "markdown",
   "metadata": {},
   "source": [
    "##### Verifying the values in the \"Hour\" column"
   ]
  },
  {
   "cell_type": "code",
   "execution_count": 21,
   "metadata": {},
   "outputs": [
    {
     "data": {
      "text/plain": [
       "array([ 0,  7, 22, 21, 13, 18, 11,  5,  8,  6, 17, 15, 16, 20, 19,  9, 14,\n",
       "       12,  1, 10,  3,  4, 23,  2])"
      ]
     },
     "execution_count": 21,
     "metadata": {},
     "output_type": "execute_result"
    }
   ],
   "source": [
    "sample_data[\"Hour\"].unique()"
   ]
  },
  {
   "cell_type": "code",
   "execution_count": 22,
   "metadata": {},
   "outputs": [
    {
     "data": {
      "text/plain": [
       "24"
      ]
     },
     "execution_count": 22,
     "metadata": {},
     "output_type": "execute_result"
    }
   ],
   "source": [
    "len(sample_data[\"Hour\"].unique())"
   ]
  },
  {
   "cell_type": "markdown",
   "metadata": {},
   "source": [
    "##### Creating dataframes for information concerning each of the seven days of the week for April"
   ]
  },
  {
   "cell_type": "code",
   "execution_count": 23,
   "metadata": {},
   "outputs": [],
   "source": [
    "monday = sample_data[sample_data.DayOfWeek == \"Monday\"]"
   ]
  },
  {
   "cell_type": "code",
   "execution_count": 24,
   "metadata": {},
   "outputs": [],
   "source": [
    "tuesday = sample_data[sample_data.DayOfWeek == \"Tuesday\"]"
   ]
  },
  {
   "cell_type": "code",
   "execution_count": 25,
   "metadata": {},
   "outputs": [],
   "source": [
    "wednesday = sample_data[sample_data.DayOfWeek == \"Wednesday\"]"
   ]
  },
  {
   "cell_type": "code",
   "execution_count": 26,
   "metadata": {},
   "outputs": [],
   "source": [
    "thursday = sample_data[sample_data.DayOfWeek == \"Thursday\"]"
   ]
  },
  {
   "cell_type": "code",
   "execution_count": 27,
   "metadata": {},
   "outputs": [],
   "source": [
    "friday = sample_data[sample_data.DayOfWeek == \"Friday\"]"
   ]
  },
  {
   "cell_type": "code",
   "execution_count": 28,
   "metadata": {},
   "outputs": [],
   "source": [
    "saturday = sample_data[sample_data.DayOfWeek == \"Saturday\"]"
   ]
  },
  {
   "cell_type": "code",
   "execution_count": 29,
   "metadata": {},
   "outputs": [],
   "source": [
    "sunday = sample_data[sample_data.DayOfWeek == \"Sunday\"]"
   ]
  },
  {
   "cell_type": "markdown",
   "metadata": {},
   "source": [
    "##### Verifying that the number of rows of each of the dataframes add up to the total number of rows of the original dataset"
   ]
  },
  {
   "cell_type": "code",
   "execution_count": 30,
   "metadata": {},
   "outputs": [
    {
     "data": {
      "text/plain": [
       "100000"
      ]
     },
     "execution_count": 30,
     "metadata": {},
     "output_type": "execute_result"
    }
   ],
   "source": [
    "monday.shape[0]+tuesday.shape[0]+wednesday.shape[0]+thursday.shape[0]+friday.shape[0]+saturday.shape[0]+sunday.shape[0]"
   ]
  },
  {
   "cell_type": "markdown",
   "metadata": {},
   "source": [
    "##### Creating dataframes for information concerning each of the 24 hours of the day"
   ]
  },
  {
   "cell_type": "code",
   "execution_count": 31,
   "metadata": {},
   "outputs": [],
   "source": [
    "midnight = sample_data[sample_data.Hour == 0]"
   ]
  },
  {
   "cell_type": "code",
   "execution_count": 32,
   "metadata": {},
   "outputs": [],
   "source": [
    "one = sample_data[sample_data.Hour == 1]"
   ]
  },
  {
   "cell_type": "code",
   "execution_count": 33,
   "metadata": {},
   "outputs": [],
   "source": [
    "two = sample_data[sample_data.Hour == 2]"
   ]
  },
  {
   "cell_type": "code",
   "execution_count": 34,
   "metadata": {},
   "outputs": [],
   "source": [
    "three = sample_data[sample_data.Hour == 3]"
   ]
  },
  {
   "cell_type": "code",
   "execution_count": 35,
   "metadata": {},
   "outputs": [],
   "source": [
    "four = sample_data[sample_data.Hour == 4]"
   ]
  },
  {
   "cell_type": "code",
   "execution_count": 36,
   "metadata": {},
   "outputs": [],
   "source": [
    "five = sample_data[sample_data.Hour == 5]"
   ]
  },
  {
   "cell_type": "code",
   "execution_count": 37,
   "metadata": {},
   "outputs": [],
   "source": [
    "six = sample_data[sample_data.Hour == 6]"
   ]
  },
  {
   "cell_type": "code",
   "execution_count": 38,
   "metadata": {},
   "outputs": [],
   "source": [
    "seven = sample_data[sample_data.Hour == 7]"
   ]
  },
  {
   "cell_type": "code",
   "execution_count": 39,
   "metadata": {},
   "outputs": [],
   "source": [
    "eight = sample_data[sample_data.Hour == 8]"
   ]
  },
  {
   "cell_type": "code",
   "execution_count": 40,
   "metadata": {},
   "outputs": [],
   "source": [
    "nine = sample_data[sample_data.Hour == 9]"
   ]
  },
  {
   "cell_type": "code",
   "execution_count": 41,
   "metadata": {},
   "outputs": [],
   "source": [
    "ten = sample_data[sample_data.Hour == 10]"
   ]
  },
  {
   "cell_type": "code",
   "execution_count": 42,
   "metadata": {},
   "outputs": [],
   "source": [
    "eleven = sample_data[sample_data.Hour == 11]"
   ]
  },
  {
   "cell_type": "code",
   "execution_count": 43,
   "metadata": {},
   "outputs": [],
   "source": [
    "twelve = sample_data[sample_data.Hour == 12]"
   ]
  },
  {
   "cell_type": "code",
   "execution_count": 44,
   "metadata": {},
   "outputs": [],
   "source": [
    "thirteen = sample_data[sample_data.Hour == 13]"
   ]
  },
  {
   "cell_type": "code",
   "execution_count": 45,
   "metadata": {},
   "outputs": [],
   "source": [
    "fourteen = sample_data[sample_data.Hour == 14]"
   ]
  },
  {
   "cell_type": "code",
   "execution_count": 46,
   "metadata": {},
   "outputs": [],
   "source": [
    "fifteen = sample_data[sample_data.Hour == 15]"
   ]
  },
  {
   "cell_type": "code",
   "execution_count": 47,
   "metadata": {},
   "outputs": [],
   "source": [
    "sixteen = sample_data[sample_data.Hour == 16]"
   ]
  },
  {
   "cell_type": "code",
   "execution_count": 48,
   "metadata": {},
   "outputs": [],
   "source": [
    "seventeen = sample_data[sample_data.Hour == 17]"
   ]
  },
  {
   "cell_type": "code",
   "execution_count": 49,
   "metadata": {},
   "outputs": [],
   "source": [
    "eighteen = sample_data[sample_data.Hour == 18]"
   ]
  },
  {
   "cell_type": "code",
   "execution_count": 50,
   "metadata": {},
   "outputs": [],
   "source": [
    "nineteen = sample_data[sample_data.Hour == 19]"
   ]
  },
  {
   "cell_type": "code",
   "execution_count": 51,
   "metadata": {},
   "outputs": [],
   "source": [
    "twenty = sample_data[sample_data.Hour == 20]"
   ]
  },
  {
   "cell_type": "code",
   "execution_count": 52,
   "metadata": {},
   "outputs": [],
   "source": [
    "twenty_one = sample_data[sample_data.Hour == 21]"
   ]
  },
  {
   "cell_type": "code",
   "execution_count": 53,
   "metadata": {},
   "outputs": [],
   "source": [
    "twenty_two = sample_data[sample_data.Hour == 22]"
   ]
  },
  {
   "cell_type": "code",
   "execution_count": 54,
   "metadata": {},
   "outputs": [],
   "source": [
    "twenty_three = sample_data[sample_data.Hour == 23]"
   ]
  },
  {
   "cell_type": "markdown",
   "metadata": {},
   "source": [
    "##### Verifying that the number of rows of each of the dataframes add up to the total number of rows of the original dataset"
   ]
  },
  {
   "cell_type": "code",
   "execution_count": 55,
   "metadata": {},
   "outputs": [
    {
     "data": {
      "text/plain": [
       "100000"
      ]
     },
     "execution_count": 55,
     "metadata": {},
     "output_type": "execute_result"
    }
   ],
   "source": [
    "one.shape[0]+two.shape[0]+three.shape[0]+four.shape[0]+five.shape[0]+six.shape[0]+seven.shape[0]+eight.shape[0]+nine.shape[0]+ten.shape[0]+eleven.shape[0]+twelve.shape[0]+thirteen.shape[0]+fourteen.shape[0]+fifteen.shape[0]+sixteen.shape[0]+seventeen.shape[0]+eighteen.shape[0]+nineteen.shape[0]+twenty.shape[0]+twenty_one.shape[0]+twenty_two.shape[0]+twenty_three.shape[0]+midnight.shape[0]"
   ]
  },
  {
   "cell_type": "markdown",
   "metadata": {},
   "source": [
    "### Picking one day at a given hour, as asked in the exercise, for a test"
   ]
  },
  {
   "cell_type": "code",
   "execution_count": 56,
   "metadata": {},
   "outputs": [
    {
     "data": {
      "text/html": [
       "<div>\n",
       "<style scoped>\n",
       "    .dataframe tbody tr th:only-of-type {\n",
       "        vertical-align: middle;\n",
       "    }\n",
       "\n",
       "    .dataframe tbody tr th {\n",
       "        vertical-align: top;\n",
       "    }\n",
       "\n",
       "    .dataframe thead th {\n",
       "        text-align: right;\n",
       "    }\n",
       "</style>\n",
       "<table border=\"1\" class=\"dataframe\">\n",
       "  <thead>\n",
       "    <tr style=\"text-align: right;\">\n",
       "      <th></th>\n",
       "      <th>Lat</th>\n",
       "      <th>Lon</th>\n",
       "      <th>Year</th>\n",
       "      <th>Month</th>\n",
       "      <th>Day</th>\n",
       "      <th>Hour</th>\n",
       "      <th>Minutes</th>\n",
       "      <th>DayOfWeek</th>\n",
       "    </tr>\n",
       "  </thead>\n",
       "  <tbody>\n",
       "    <tr>\n",
       "      <th>240302</th>\n",
       "      <td>40.7389</td>\n",
       "      <td>-73.9915</td>\n",
       "      <td>2014</td>\n",
       "      <td>4</td>\n",
       "      <td>6</td>\n",
       "      <td>12</td>\n",
       "      <td>12</td>\n",
       "      <td>Sunday</td>\n",
       "    </tr>\n",
       "    <tr>\n",
       "      <th>63786</th>\n",
       "      <td>40.7505</td>\n",
       "      <td>-73.9694</td>\n",
       "      <td>2014</td>\n",
       "      <td>4</td>\n",
       "      <td>6</td>\n",
       "      <td>12</td>\n",
       "      <td>55</td>\n",
       "      <td>Sunday</td>\n",
       "    </tr>\n",
       "    <tr>\n",
       "      <th>471534</th>\n",
       "      <td>40.7570</td>\n",
       "      <td>-73.9720</td>\n",
       "      <td>2014</td>\n",
       "      <td>4</td>\n",
       "      <td>20</td>\n",
       "      <td>12</td>\n",
       "      <td>23</td>\n",
       "      <td>Sunday</td>\n",
       "    </tr>\n",
       "    <tr>\n",
       "      <th>311707</th>\n",
       "      <td>40.7367</td>\n",
       "      <td>-73.9792</td>\n",
       "      <td>2014</td>\n",
       "      <td>4</td>\n",
       "      <td>27</td>\n",
       "      <td>12</td>\n",
       "      <td>0</td>\n",
       "      <td>Sunday</td>\n",
       "    </tr>\n",
       "    <tr>\n",
       "      <th>372961</th>\n",
       "      <td>40.7056</td>\n",
       "      <td>-74.0080</td>\n",
       "      <td>2014</td>\n",
       "      <td>4</td>\n",
       "      <td>6</td>\n",
       "      <td>12</td>\n",
       "      <td>51</td>\n",
       "      <td>Sunday</td>\n",
       "    </tr>\n",
       "  </tbody>\n",
       "</table>\n",
       "</div>"
      ],
      "text/plain": [
       "            Lat      Lon  Year  Month  Day  Hour  Minutes DayOfWeek\n",
       "240302  40.7389 -73.9915  2014      4    6    12       12    Sunday\n",
       "63786   40.7505 -73.9694  2014      4    6    12       55    Sunday\n",
       "471534  40.7570 -73.9720  2014      4   20    12       23    Sunday\n",
       "311707  40.7367 -73.9792  2014      4   27    12        0    Sunday\n",
       "372961  40.7056 -74.0080  2014      4    6    12       51    Sunday"
      ]
     },
     "execution_count": 56,
     "metadata": {},
     "output_type": "execute_result"
    }
   ],
   "source": [
    "sunday_noon = sunday[sunday.Hour == 12]\n",
    "sunday_noon.head()"
   ]
  },
  {
   "cell_type": "code",
   "execution_count": 57,
   "metadata": {},
   "outputs": [
    {
     "data": {
      "text/plain": [
       "(430, 8)"
      ]
     },
     "execution_count": 57,
     "metadata": {},
     "output_type": "execute_result"
    }
   ],
   "source": [
    "sunday_noon.shape"
   ]
  },
  {
   "cell_type": "markdown",
   "metadata": {},
   "source": [
    "##### Dropping unnecessary columns of the dataset"
   ]
  },
  {
   "cell_type": "code",
   "execution_count": 58,
   "metadata": {},
   "outputs": [],
   "source": [
    "sunday_noon = sunday_noon.drop(columns=[\"Year\", \"Month\", \"Day\"])"
   ]
  },
  {
   "cell_type": "code",
   "execution_count": 59,
   "metadata": {},
   "outputs": [
    {
     "data": {
      "text/html": [
       "<div>\n",
       "<style scoped>\n",
       "    .dataframe tbody tr th:only-of-type {\n",
       "        vertical-align: middle;\n",
       "    }\n",
       "\n",
       "    .dataframe tbody tr th {\n",
       "        vertical-align: top;\n",
       "    }\n",
       "\n",
       "    .dataframe thead th {\n",
       "        text-align: right;\n",
       "    }\n",
       "</style>\n",
       "<table border=\"1\" class=\"dataframe\">\n",
       "  <thead>\n",
       "    <tr style=\"text-align: right;\">\n",
       "      <th></th>\n",
       "      <th>Lat</th>\n",
       "      <th>Lon</th>\n",
       "      <th>Hour</th>\n",
       "      <th>Minutes</th>\n",
       "      <th>DayOfWeek</th>\n",
       "    </tr>\n",
       "  </thead>\n",
       "  <tbody>\n",
       "    <tr>\n",
       "      <th>240302</th>\n",
       "      <td>40.7389</td>\n",
       "      <td>-73.9915</td>\n",
       "      <td>12</td>\n",
       "      <td>12</td>\n",
       "      <td>Sunday</td>\n",
       "    </tr>\n",
       "    <tr>\n",
       "      <th>63786</th>\n",
       "      <td>40.7505</td>\n",
       "      <td>-73.9694</td>\n",
       "      <td>12</td>\n",
       "      <td>55</td>\n",
       "      <td>Sunday</td>\n",
       "    </tr>\n",
       "    <tr>\n",
       "      <th>471534</th>\n",
       "      <td>40.7570</td>\n",
       "      <td>-73.9720</td>\n",
       "      <td>12</td>\n",
       "      <td>23</td>\n",
       "      <td>Sunday</td>\n",
       "    </tr>\n",
       "    <tr>\n",
       "      <th>311707</th>\n",
       "      <td>40.7367</td>\n",
       "      <td>-73.9792</td>\n",
       "      <td>12</td>\n",
       "      <td>0</td>\n",
       "      <td>Sunday</td>\n",
       "    </tr>\n",
       "    <tr>\n",
       "      <th>372961</th>\n",
       "      <td>40.7056</td>\n",
       "      <td>-74.0080</td>\n",
       "      <td>12</td>\n",
       "      <td>51</td>\n",
       "      <td>Sunday</td>\n",
       "    </tr>\n",
       "  </tbody>\n",
       "</table>\n",
       "</div>"
      ],
      "text/plain": [
       "            Lat      Lon  Hour  Minutes DayOfWeek\n",
       "240302  40.7389 -73.9915    12       12    Sunday\n",
       "63786   40.7505 -73.9694    12       55    Sunday\n",
       "471534  40.7570 -73.9720    12       23    Sunday\n",
       "311707  40.7367 -73.9792    12        0    Sunday\n",
       "372961  40.7056 -74.0080    12       51    Sunday"
      ]
     },
     "execution_count": 59,
     "metadata": {},
     "output_type": "execute_result"
    }
   ],
   "source": [
    "sunday_noon.head()"
   ]
  },
  {
   "cell_type": "markdown",
   "metadata": {},
   "source": [
    "##### A scatterplot to show how the pick-up points are scattered in New York city on Sundays between noon and 12 h 59"
   ]
  },
  {
   "cell_type": "code",
   "execution_count": 178,
   "metadata": {},
   "outputs": [
    {
     "data": {
      "text/html": [
       "<iframe\n",
       "    scrolling=\"no\"\n",
       "    width=\"100%\"\n",
       "    height=\"545px\"\n",
       "    src=\"iframe_figures/figure_178.html\"\n",
       "    frameborder=\"0\"\n",
       "    allowfullscreen\n",
       "></iframe>\n"
      ]
     },
     "metadata": {},
     "output_type": "display_data"
    }
   ],
   "source": [
    "fig_sunday_noon = px.scatter_mapbox(\n",
    "        sunday_noon, \n",
    "        lat=\"Lat\", \n",
    "        lon=\"Lon\",\n",
    "        mapbox_style=\"carto-positron\"\n",
    ")\n",
    "\n",
    "fig_sunday_noon.show()"
   ]
  },
  {
   "cell_type": "markdown",
   "metadata": {},
   "source": [
    "##### Scaling numerical data and one-hot encoding categorical data"
   ]
  },
  {
   "cell_type": "code",
   "execution_count": 61,
   "metadata": {},
   "outputs": [
    {
     "name": "stdout",
     "output_type": "stream",
     "text": [
      "Preprocessing on dataset...\n",
      "            Lat      Lon  Hour  Minutes DayOfWeek\n",
      "240302  40.7389 -73.9915    12       12    Sunday\n",
      "63786   40.7505 -73.9694    12       55    Sunday\n",
      "471534  40.7570 -73.9720    12       23    Sunday\n",
      "311707  40.7367 -73.9792    12        0    Sunday\n",
      "372961  40.7056 -74.0080    12       51    Sunday\n",
      "...Completed.\n",
      "[[ 0.04882641 -0.27928243  0.         -1.00153037]\n",
      " [ 0.31934308  0.07691418  0.          1.50772391]\n",
      " [ 0.47092569  0.0350087   0.         -0.35962812]\n",
      " [-0.00247847 -0.08103726  0.         -1.70178738]\n",
      " [-0.72774297 -0.54522107  0.          1.27430491]]\n",
      "\n"
     ]
    }
   ],
   "source": [
    "numeric_features = [0, 1, 2, 3] # Positions of numerical variables\n",
    "numeric_transformer = StandardScaler()\n",
    "\n",
    "# Creation of the transformer for categorical values\n",
    "categorical_features = [4] # Positions of categorical variables\n",
    "categorical_transformer = OneHotEncoder(drop='first')\n",
    "\n",
    "# Combining the transformers in ColumnTransformer\n",
    "preprocessor = ColumnTransformer(\n",
    "    transformers=[\n",
    "        ('num', numeric_transformer, numeric_features),\n",
    "        ('cat', categorical_transformer, categorical_features)\n",
    "    ])\n",
    "\n",
    "print(\"Preprocessing on dataset...\")\n",
    "print(sunday_noon.head())\n",
    "scaled_X_sunday_noon = preprocessor.fit_transform(sunday_noon)\n",
    "print('...Completed.')\n",
    "print(scaled_X_sunday_noon[0:5, :])\n",
    "print()"
   ]
  },
  {
   "cell_type": "markdown",
   "metadata": {},
   "source": [
    "#####  Use DBSCAN and a for loop to create a variety of models testing different epsilon values"
   ]
  },
  {
   "cell_type": "code",
   "execution_count": 62,
   "metadata": {},
   "outputs": [],
   "source": [
    "from sklearn.cluster import DBSCAN\n",
    "\n",
    "outlier_percent = []\n",
    "\n",
    "for eps in np.linspace(0.001, 3, 100):\n",
    "    \n",
    "    # Create Model\n",
    "    dbscan = DBSCAN(eps=eps,min_samples=2*scaled_X_sunday_noon.shape[1], metric=\"manhattan\", algorithm=\"brute\")\n",
    "    dbscan.fit(scaled_X_sunday_noon)\n",
    "   \n",
    "     \n",
    "    # Log percentage of points that are outliers\n",
    "    perc_outliers = 100 * np.sum(dbscan.labels_ == -1) / len(dbscan.labels_)\n",
    "    \n",
    "    outlier_percent.append(perc_outliers)"
   ]
  },
  {
   "cell_type": "markdown",
   "metadata": {},
   "source": [
    "##### Creating a line plot of the percentage of outlier points versus the epsilon value choice"
   ]
  },
  {
   "cell_type": "code",
   "execution_count": 63,
   "metadata": {},
   "outputs": [
    {
     "data": {
      "text/plain": [
       "Text(0.5, 0, 'Epsilon value')"
      ]
     },
     "execution_count": 63,
     "metadata": {},
     "output_type": "execute_result"
    },
    {
     "data": {
      "image/png": "[encoded data removed]",
      "text/plain": [
       "<Figure size 432x288 with 1 Axes>"
      ]
     },
     "metadata": {
      "needs_background": "light"
     },
     "output_type": "display_data"
    }
   ],
   "source": [
    "import seaborn as sns\n",
    "import matplotlib.pyplot as plt\n",
    "sns.lineplot(x=np.linspace(0.001, 3, 100),y=outlier_percent)\n",
    "plt.ylabel(\"Percentage of points classified as outliers\")\n",
    "plt.xlabel(\"Epsilon value\")"
   ]
  },
  {
   "cell_type": "markdown",
   "metadata": {},
   "source": [
    "##### Following the litterature on DBSCAN, min_samples should be two times the number of dimensions"
   ]
  },
  {
   "cell_type": "code",
   "execution_count": 64,
   "metadata": {},
   "outputs": [
    {
     "data": {
      "text/plain": [
       "10"
      ]
     },
     "execution_count": 64,
     "metadata": {},
     "output_type": "execute_result"
    }
   ],
   "source": [
    "min_samples = (2*sunday_noon.shape[1])\n",
    "min_samples"
   ]
  },
  {
   "cell_type": "markdown",
   "metadata": {},
   "source": [
    "##### Retraining a DBSCAN model with epsilon value = 0.6, based on the plot created above, and min_samples = 8"
   ]
  },
  {
   "cell_type": "code",
   "execution_count": 65,
   "metadata": {},
   "outputs": [
    {
     "data": {
      "text/plain": [
       "DBSCAN(algorithm='brute', eps=0.6, metric='manhattan', min_samples=8)"
      ]
     },
     "execution_count": 65,
     "metadata": {},
     "output_type": "execute_result"
    }
   ],
   "source": [
    "eps = 0.6\n",
    "min_samples = 8\n",
    "dbscan = DBSCAN(eps=eps, min_samples=min_samples, metric=\"manhattan\", algorithm=\"brute\")\n",
    "dbscan.fit(scaled_X_sunday_noon)"
   ]
  },
  {
   "cell_type": "code",
   "execution_count": 66,
   "metadata": {},
   "outputs": [
    {
     "data": {
      "text/plain": [
       "(array([-1,  0]), array([128, 302]))"
      ]
     },
     "execution_count": 66,
     "metadata": {},
     "output_type": "execute_result"
    }
   ],
   "source": [
    "np.unique(dbscan.labels_, return_counts=True)"
   ]
  },
  {
   "cell_type": "code",
   "execution_count": 67,
   "metadata": {},
   "outputs": [
    {
     "data": {
      "text/html": [
       "<div>\n",
       "<style scoped>\n",
       "    .dataframe tbody tr th:only-of-type {\n",
       "        vertical-align: middle;\n",
       "    }\n",
       "\n",
       "    .dataframe tbody tr th {\n",
       "        vertical-align: top;\n",
       "    }\n",
       "\n",
       "    .dataframe thead th {\n",
       "        text-align: right;\n",
       "    }\n",
       "</style>\n",
       "<table border=\"1\" class=\"dataframe\">\n",
       "  <thead>\n",
       "    <tr style=\"text-align: right;\">\n",
       "      <th></th>\n",
       "      <th>Lat</th>\n",
       "      <th>Lon</th>\n",
       "      <th>Hour</th>\n",
       "      <th>Minutes</th>\n",
       "      <th>DayOfWeek</th>\n",
       "      <th>cluster</th>\n",
       "    </tr>\n",
       "  </thead>\n",
       "  <tbody>\n",
       "    <tr>\n",
       "      <th>240302</th>\n",
       "      <td>40.7389</td>\n",
       "      <td>-73.9915</td>\n",
       "      <td>12</td>\n",
       "      <td>12</td>\n",
       "      <td>Sunday</td>\n",
       "      <td>0</td>\n",
       "    </tr>\n",
       "    <tr>\n",
       "      <th>63786</th>\n",
       "      <td>40.7505</td>\n",
       "      <td>-73.9694</td>\n",
       "      <td>12</td>\n",
       "      <td>55</td>\n",
       "      <td>Sunday</td>\n",
       "      <td>0</td>\n",
       "    </tr>\n",
       "    <tr>\n",
       "      <th>471534</th>\n",
       "      <td>40.7570</td>\n",
       "      <td>-73.9720</td>\n",
       "      <td>12</td>\n",
       "      <td>23</td>\n",
       "      <td>Sunday</td>\n",
       "      <td>0</td>\n",
       "    </tr>\n",
       "    <tr>\n",
       "      <th>311707</th>\n",
       "      <td>40.7367</td>\n",
       "      <td>-73.9792</td>\n",
       "      <td>12</td>\n",
       "      <td>0</td>\n",
       "      <td>Sunday</td>\n",
       "      <td>0</td>\n",
       "    </tr>\n",
       "    <tr>\n",
       "      <th>372961</th>\n",
       "      <td>40.7056</td>\n",
       "      <td>-74.0080</td>\n",
       "      <td>12</td>\n",
       "      <td>51</td>\n",
       "      <td>Sunday</td>\n",
       "      <td>0</td>\n",
       "    </tr>\n",
       "  </tbody>\n",
       "</table>\n",
       "</div>"
      ],
      "text/plain": [
       "            Lat      Lon  Hour  Minutes DayOfWeek  cluster\n",
       "240302  40.7389 -73.9915    12       12    Sunday        0\n",
       "63786   40.7505 -73.9694    12       55    Sunday        0\n",
       "471534  40.7570 -73.9720    12       23    Sunday        0\n",
       "311707  40.7367 -73.9792    12        0    Sunday        0\n",
       "372961  40.7056 -74.0080    12       51    Sunday        0"
      ]
     },
     "execution_count": 67,
     "metadata": {},
     "output_type": "execute_result"
    }
   ],
   "source": [
    "sunday_noon[\"cluster\"] = dbscan.labels_\n",
    "sunday_noon.head()"
   ]
  },
  {
   "cell_type": "markdown",
   "metadata": {},
   "source": [
    "##### A scatterplot to see how the DBSCAN algorithm has clustered the pick-up points in New York city, except outliers on Sundays from noon to 12 h 59"
   ]
  },
  {
   "cell_type": "code",
   "execution_count": 179,
   "metadata": {},
   "outputs": [
    {
     "data": {
      "text/html": [
       "<iframe\n",
       "    scrolling=\"no\"\n",
       "    width=\"100%\"\n",
       "    height=\"545px\"\n",
       "    src=\"iframe_figures/figure_179.html\"\n",
       "    frameborder=\"0\"\n",
       "    allowfullscreen\n",
       "></iframe>\n"
      ]
     },
     "metadata": {},
     "output_type": "display_data"
    }
   ],
   "source": [
    "fig_sunday_noon_cluster = px.scatter_mapbox(\n",
    "        sunday_noon[sunday_noon.cluster != -1], \n",
    "        lat=\"Lat\", \n",
    "        lon=\"Lon\",\n",
    "        color=\"cluster\",\n",
    "        mapbox_style=\"carto-positron\"\n",
    ")\n",
    "\n",
    "fig_sunday_noon_cluster.show()"
   ]
  },
  {
   "cell_type": "markdown",
   "metadata": {},
   "source": [
    "### Picking Sunday to observe how the clustering algorithm behaves"
   ]
  },
  {
   "cell_type": "code",
   "execution_count": 69,
   "metadata": {},
   "outputs": [
    {
     "data": {
      "text/plain": [
       "(8923, 8)"
      ]
     },
     "execution_count": 69,
     "metadata": {},
     "output_type": "execute_result"
    }
   ],
   "source": [
    "sunday.shape"
   ]
  },
  {
   "cell_type": "code",
   "execution_count": 180,
   "metadata": {},
   "outputs": [
    {
     "data": {
      "text/html": [
       "<iframe\n",
       "    scrolling=\"no\"\n",
       "    width=\"100%\"\n",
       "    height=\"545px\"\n",
       "    src=\"iframe_figures/figure_180.html\"\n",
       "    frameborder=\"0\"\n",
       "    allowfullscreen\n",
       "></iframe>\n"
      ]
     },
     "metadata": {},
     "output_type": "display_data"
    }
   ],
   "source": [
    "fig_sunday = px.scatter_mapbox(\n",
    "        sunday, \n",
    "        lat=\"Lat\", \n",
    "        lon=\"Lon\",\n",
    "        mapbox_style=\"carto-positron\"\n",
    ")\n",
    "\n",
    "fig_sunday.show()"
   ]
  },
  {
   "cell_type": "markdown",
   "metadata": {},
   "source": [
    "##### Dropping unnecessary columns of the dataset"
   ]
  },
  {
   "cell_type": "code",
   "execution_count": 71,
   "metadata": {},
   "outputs": [],
   "source": [
    "sunday = sunday.drop(columns=[\"Year\", \"Month\", \"Day\"])"
   ]
  },
  {
   "cell_type": "code",
   "execution_count": 72,
   "metadata": {},
   "outputs": [
    {
     "data": {
      "text/html": [
       "<div>\n",
       "<style scoped>\n",
       "    .dataframe tbody tr th:only-of-type {\n",
       "        vertical-align: middle;\n",
       "    }\n",
       "\n",
       "    .dataframe tbody tr th {\n",
       "        vertical-align: top;\n",
       "    }\n",
       "\n",
       "    .dataframe thead th {\n",
       "        text-align: right;\n",
       "    }\n",
       "</style>\n",
       "<table border=\"1\" class=\"dataframe\">\n",
       "  <thead>\n",
       "    <tr style=\"text-align: right;\">\n",
       "      <th></th>\n",
       "      <th>Lat</th>\n",
       "      <th>Lon</th>\n",
       "      <th>Hour</th>\n",
       "      <th>Minutes</th>\n",
       "      <th>DayOfWeek</th>\n",
       "    </tr>\n",
       "  </thead>\n",
       "  <tbody>\n",
       "    <tr>\n",
       "      <th>264036</th>\n",
       "      <td>40.7436</td>\n",
       "      <td>-73.9537</td>\n",
       "      <td>0</td>\n",
       "      <td>15</td>\n",
       "      <td>Sunday</td>\n",
       "    </tr>\n",
       "    <tr>\n",
       "      <th>311372</th>\n",
       "      <td>40.6994</td>\n",
       "      <td>-73.9471</td>\n",
       "      <td>8</td>\n",
       "      <td>44</td>\n",
       "      <td>Sunday</td>\n",
       "    </tr>\n",
       "    <tr>\n",
       "      <th>470569</th>\n",
       "      <td>40.7341</td>\n",
       "      <td>-74.0081</td>\n",
       "      <td>5</td>\n",
       "      <td>13</td>\n",
       "      <td>Sunday</td>\n",
       "    </tr>\n",
       "    <tr>\n",
       "      <th>188566</th>\n",
       "      <td>40.7472</td>\n",
       "      <td>-73.9776</td>\n",
       "      <td>14</td>\n",
       "      <td>59</td>\n",
       "      <td>Sunday</td>\n",
       "    </tr>\n",
       "    <tr>\n",
       "      <th>264925</th>\n",
       "      <td>40.7669</td>\n",
       "      <td>-73.9791</td>\n",
       "      <td>11</td>\n",
       "      <td>48</td>\n",
       "      <td>Sunday</td>\n",
       "    </tr>\n",
       "  </tbody>\n",
       "</table>\n",
       "</div>"
      ],
      "text/plain": [
       "            Lat      Lon  Hour  Minutes DayOfWeek\n",
       "264036  40.7436 -73.9537     0       15    Sunday\n",
       "311372  40.6994 -73.9471     8       44    Sunday\n",
       "470569  40.7341 -74.0081     5       13    Sunday\n",
       "188566  40.7472 -73.9776    14       59    Sunday\n",
       "264925  40.7669 -73.9791    11       48    Sunday"
      ]
     },
     "execution_count": 72,
     "metadata": {},
     "output_type": "execute_result"
    }
   ],
   "source": [
    "sunday.head()"
   ]
  },
  {
   "cell_type": "markdown",
   "metadata": {},
   "source": [
    "##### Scaling numerical data and one-hot encoding categorical data"
   ]
  },
  {
   "cell_type": "code",
   "execution_count": 73,
   "metadata": {},
   "outputs": [
    {
     "name": "stdout",
     "output_type": "stream",
     "text": [
      "Preprocessing on dataset...\n",
      "            Lat      Lon  Hour  Minutes DayOfWeek\n",
      "264036  40.7436 -73.9537     0       15    Sunday\n",
      "311372  40.6994 -73.9471     8       44    Sunday\n",
      "470569  40.7341 -74.0081     5       13    Sunday\n",
      "188566  40.7472 -73.9776    14       59    Sunday\n",
      "264925  40.7669 -73.9791    11       48    Sunday\n",
      "...Completed.\n",
      "[[ 0.26172219  0.28515837 -1.72012334 -0.80713652]\n",
      " [-0.82239466  0.3921136  -0.56735632  0.86249029]\n",
      " [ 0.02871065 -0.596412   -0.99964395 -0.9222832 ]\n",
      " [ 0.35002131 -0.1021492   0.29721894  1.72609037]\n",
      " [ 0.83321366 -0.12645721 -0.13506869  1.09278364]]\n",
      "\n"
     ]
    }
   ],
   "source": [
    "numeric_features = [0, 1, 2, 3] # Positions of numerical variables\n",
    "numeric_transformer = StandardScaler()\n",
    "\n",
    "# Creation of the transformer for categorical values\n",
    "categorical_features = [4] # Positions of categorical variables\n",
    "categorical_transformer = OneHotEncoder(drop='first')\n",
    "\n",
    "# Combining the transformers in ColumnTransformer\n",
    "preprocessor = ColumnTransformer(\n",
    "    transformers=[\n",
    "        ('num', numeric_transformer, numeric_features),\n",
    "        ('cat', categorical_transformer, categorical_features)\n",
    "    ])\n",
    "\n",
    "print(\"Preprocessing on dataset...\")\n",
    "print(sunday.head())\n",
    "scaled_X_sunday = preprocessor.fit_transform(sunday)\n",
    "print('...Completed.')\n",
    "print(scaled_X_sunday[0:5, :])\n",
    "print()"
   ]
  },
  {
   "cell_type": "markdown",
   "metadata": {},
   "source": [
    "#####  Use DBSCAN and a for loop to create a variety of models testing different epsilon values"
   ]
  },
  {
   "cell_type": "code",
   "execution_count": 74,
   "metadata": {},
   "outputs": [],
   "source": [
    "from sklearn.cluster import DBSCAN\n",
    "\n",
    "outlier_percent = []\n",
    "\n",
    "for eps in np.linspace(0.1, 2, 10):\n",
    "    \n",
    "    # Create Model\n",
    "    dbscan = DBSCAN(eps=eps,min_samples=2*scaled_X_sunday.shape[1], metric=\"manhattan\", algorithm=\"brute\")\n",
    "    dbscan.fit(scaled_X_sunday)\n",
    "   \n",
    "     \n",
    "    # Log percentage of points that are outliers\n",
    "    perc_outliers = 100 * np.sum(dbscan.labels_ == -1) / len(dbscan.labels_)\n",
    "    \n",
    "    outlier_percent.append(perc_outliers)"
   ]
  },
  {
   "cell_type": "markdown",
   "metadata": {},
   "source": [
    "##### Creating a line plot of the percentage of outlier points versus the epsilon value choice"
   ]
  },
  {
   "cell_type": "code",
   "execution_count": 75,
   "metadata": {},
   "outputs": [
    {
     "data": {
      "text/plain": [
       "Text(0.5, 0, 'Epsilon value')"
      ]
     },
     "execution_count": 75,
     "metadata": {},
     "output_type": "execute_result"
    },
    {
     "data": {
      "image/png": "[encoded data removed]",
      "text/plain": [
       "<Figure size 432x288 with 1 Axes>"
      ]
     },
     "metadata": {
      "needs_background": "light"
     },
     "output_type": "display_data"
    }
   ],
   "source": [
    "import seaborn as sns\n",
    "import matplotlib.pyplot as plt\n",
    "sns.lineplot(x=np.linspace(0.1, 2, 10), y=outlier_percent)\n",
    "plt.ylabel(\"Percentage of points classified as outliers\")\n",
    "plt.xlabel(\"Epsilon value\")"
   ]
  },
  {
   "cell_type": "markdown",
   "metadata": {},
   "source": [
    "##### Retraining a DBSCAN model with epsilon value = 0.75, based on the plot created above, and min_samples = 6"
   ]
  },
  {
   "cell_type": "code",
   "execution_count": 76,
   "metadata": {},
   "outputs": [
    {
     "data": {
      "text/plain": [
       "DBSCAN(algorithm='brute', eps=0.75, metric='manhattan', min_samples=6)"
      ]
     },
     "execution_count": 76,
     "metadata": {},
     "output_type": "execute_result"
    }
   ],
   "source": [
    "eps = 0.75\n",
    "min_samples = 6\n",
    "\n",
    "dbscan = DBSCAN(eps=eps, min_samples=min_samples, metric=\"manhattan\", algorithm=\"brute\")\n",
    "dbscan.fit(scaled_X_sunday)"
   ]
  },
  {
   "cell_type": "code",
   "execution_count": 77,
   "metadata": {},
   "outputs": [
    {
     "data": {
      "text/plain": [
       "(array([-1,  0,  1,  2,  3,  4]), array([ 535, 7988,  291,   77,   26,    6]))"
      ]
     },
     "execution_count": 77,
     "metadata": {},
     "output_type": "execute_result"
    }
   ],
   "source": [
    "np.unique(dbscan.labels_, return_counts=True)"
   ]
  },
  {
   "cell_type": "code",
   "execution_count": 78,
   "metadata": {},
   "outputs": [
    {
     "data": {
      "text/html": [
       "<div>\n",
       "<style scoped>\n",
       "    .dataframe tbody tr th:only-of-type {\n",
       "        vertical-align: middle;\n",
       "    }\n",
       "\n",
       "    .dataframe tbody tr th {\n",
       "        vertical-align: top;\n",
       "    }\n",
       "\n",
       "    .dataframe thead th {\n",
       "        text-align: right;\n",
       "    }\n",
       "</style>\n",
       "<table border=\"1\" class=\"dataframe\">\n",
       "  <thead>\n",
       "    <tr style=\"text-align: right;\">\n",
       "      <th></th>\n",
       "      <th>Lat</th>\n",
       "      <th>Lon</th>\n",
       "      <th>Hour</th>\n",
       "      <th>Minutes</th>\n",
       "      <th>DayOfWeek</th>\n",
       "      <th>cluster</th>\n",
       "    </tr>\n",
       "  </thead>\n",
       "  <tbody>\n",
       "    <tr>\n",
       "      <th>264036</th>\n",
       "      <td>40.7436</td>\n",
       "      <td>-73.9537</td>\n",
       "      <td>0</td>\n",
       "      <td>15</td>\n",
       "      <td>Sunday</td>\n",
       "      <td>0</td>\n",
       "    </tr>\n",
       "    <tr>\n",
       "      <th>311372</th>\n",
       "      <td>40.6994</td>\n",
       "      <td>-73.9471</td>\n",
       "      <td>8</td>\n",
       "      <td>44</td>\n",
       "      <td>Sunday</td>\n",
       "      <td>0</td>\n",
       "    </tr>\n",
       "    <tr>\n",
       "      <th>470569</th>\n",
       "      <td>40.7341</td>\n",
       "      <td>-74.0081</td>\n",
       "      <td>5</td>\n",
       "      <td>13</td>\n",
       "      <td>Sunday</td>\n",
       "      <td>0</td>\n",
       "    </tr>\n",
       "    <tr>\n",
       "      <th>188566</th>\n",
       "      <td>40.7472</td>\n",
       "      <td>-73.9776</td>\n",
       "      <td>14</td>\n",
       "      <td>59</td>\n",
       "      <td>Sunday</td>\n",
       "      <td>0</td>\n",
       "    </tr>\n",
       "    <tr>\n",
       "      <th>264925</th>\n",
       "      <td>40.7669</td>\n",
       "      <td>-73.9791</td>\n",
       "      <td>11</td>\n",
       "      <td>48</td>\n",
       "      <td>Sunday</td>\n",
       "      <td>0</td>\n",
       "    </tr>\n",
       "  </tbody>\n",
       "</table>\n",
       "</div>"
      ],
      "text/plain": [
       "            Lat      Lon  Hour  Minutes DayOfWeek  cluster\n",
       "264036  40.7436 -73.9537     0       15    Sunday        0\n",
       "311372  40.6994 -73.9471     8       44    Sunday        0\n",
       "470569  40.7341 -74.0081     5       13    Sunday        0\n",
       "188566  40.7472 -73.9776    14       59    Sunday        0\n",
       "264925  40.7669 -73.9791    11       48    Sunday        0"
      ]
     },
     "execution_count": 78,
     "metadata": {},
     "output_type": "execute_result"
    }
   ],
   "source": [
    "sunday[\"cluster\"] = dbscan.labels_\n",
    "sunday.head()"
   ]
  },
  {
   "cell_type": "markdown",
   "metadata": {},
   "source": [
    "##### A scatterplot to see how the DBSCAN algorithm has clustered the pick-up points, except outliers, in New York city on Sundays"
   ]
  },
  {
   "cell_type": "code",
   "execution_count": 177,
   "metadata": {},
   "outputs": [
    {
     "data": {
      "text/html": [
       "<iframe\n",
       "    scrolling=\"no\"\n",
       "    width=\"100%\"\n",
       "    height=\"545px\"\n",
       "    src=\"iframe_figures/figure_177.html\"\n",
       "    frameborder=\"0\"\n",
       "    allowfullscreen\n",
       "></iframe>\n"
      ]
     },
     "metadata": {},
     "output_type": "display_data"
    }
   ],
   "source": [
    "fig_sunday_cluster = px.scatter_mapbox(\n",
    "        sunday[sunday.cluster != -1], \n",
    "        lat=\"Lat\", \n",
    "        lon=\"Lon\",\n",
    "        color=\"cluster\",\n",
    "        mapbox_style=\"carto-positron\"\n",
    ")\n",
    "\n",
    "fig_sunday_cluster.show()"
   ]
  },
  {
   "cell_type": "markdown",
   "metadata": {},
   "source": [
    "### Picking Monday to observe how the clustering algorithm behaves"
   ]
  },
  {
   "cell_type": "code",
   "execution_count": 80,
   "metadata": {},
   "outputs": [
    {
     "data": {
      "text/plain": [
       "(10851, 8)"
      ]
     },
     "execution_count": 80,
     "metadata": {},
     "output_type": "execute_result"
    }
   ],
   "source": [
    "monday.shape"
   ]
  },
  {
   "cell_type": "code",
   "execution_count": 176,
   "metadata": {},
   "outputs": [
    {
     "data": {
      "text/html": [
       "<iframe\n",
       "    scrolling=\"no\"\n",
       "    width=\"100%\"\n",
       "    height=\"545px\"\n",
       "    src=\"iframe_figures/figure_176.html\"\n",
       "    frameborder=\"0\"\n",
       "    allowfullscreen\n",
       "></iframe>\n"
      ]
     },
     "metadata": {},
     "output_type": "display_data"
    }
   ],
   "source": [
    "fig_monday = px.scatter_mapbox(\n",
    "        monday, \n",
    "        lat=\"Lat\", \n",
    "        lon=\"Lon\",\n",
    "        mapbox_style=\"carto-positron\"\n",
    ")\n",
    "\n",
    "fig_monday.show()"
   ]
  },
  {
   "cell_type": "markdown",
   "metadata": {},
   "source": [
    "##### Dropping unnecessary columns of the dataset"
   ]
  },
  {
   "cell_type": "code",
   "execution_count": 82,
   "metadata": {},
   "outputs": [],
   "source": [
    "monday = monday.drop(columns=[\"Year\", \"Month\", \"Day\"])"
   ]
  },
  {
   "cell_type": "code",
   "execution_count": 83,
   "metadata": {},
   "outputs": [
    {
     "data": {
      "text/html": [
       "<div>\n",
       "<style scoped>\n",
       "    .dataframe tbody tr th:only-of-type {\n",
       "        vertical-align: middle;\n",
       "    }\n",
       "\n",
       "    .dataframe tbody tr th {\n",
       "        vertical-align: top;\n",
       "    }\n",
       "\n",
       "    .dataframe thead th {\n",
       "        text-align: right;\n",
       "    }\n",
       "</style>\n",
       "<table border=\"1\" class=\"dataframe\">\n",
       "  <thead>\n",
       "    <tr style=\"text-align: right;\">\n",
       "      <th></th>\n",
       "      <th>Lat</th>\n",
       "      <th>Lon</th>\n",
       "      <th>Hour</th>\n",
       "      <th>Minutes</th>\n",
       "      <th>DayOfWeek</th>\n",
       "    </tr>\n",
       "  </thead>\n",
       "  <tbody>\n",
       "    <tr>\n",
       "      <th>143425</th>\n",
       "      <td>40.7312</td>\n",
       "      <td>-74.0014</td>\n",
       "      <td>17</td>\n",
       "      <td>18</td>\n",
       "      <td>Monday</td>\n",
       "    </tr>\n",
       "    <tr>\n",
       "      <th>191329</th>\n",
       "      <td>40.7224</td>\n",
       "      <td>-73.9576</td>\n",
       "      <td>5</td>\n",
       "      <td>3</td>\n",
       "      <td>Monday</td>\n",
       "    </tr>\n",
       "    <tr>\n",
       "      <th>8681</th>\n",
       "      <td>40.7418</td>\n",
       "      <td>-74.0073</td>\n",
       "      <td>18</td>\n",
       "      <td>13</td>\n",
       "      <td>Monday</td>\n",
       "    </tr>\n",
       "    <tr>\n",
       "      <th>479413</th>\n",
       "      <td>40.7439</td>\n",
       "      <td>-73.9879</td>\n",
       "      <td>22</td>\n",
       "      <td>21</td>\n",
       "      <td>Monday</td>\n",
       "    </tr>\n",
       "    <tr>\n",
       "      <th>8467</th>\n",
       "      <td>40.7269</td>\n",
       "      <td>-73.9915</td>\n",
       "      <td>16</td>\n",
       "      <td>58</td>\n",
       "      <td>Monday</td>\n",
       "    </tr>\n",
       "  </tbody>\n",
       "</table>\n",
       "</div>"
      ],
      "text/plain": [
       "            Lat      Lon  Hour  Minutes DayOfWeek\n",
       "143425  40.7312 -74.0014    17       18    Monday\n",
       "191329  40.7224 -73.9576     5        3    Monday\n",
       "8681    40.7418 -74.0073    18       13    Monday\n",
       "479413  40.7439 -73.9879    22       21    Monday\n",
       "8467    40.7269 -73.9915    16       58    Monday"
      ]
     },
     "execution_count": 83,
     "metadata": {},
     "output_type": "execute_result"
    }
   ],
   "source": [
    "monday.head()"
   ]
  },
  {
   "cell_type": "markdown",
   "metadata": {},
   "source": [
    "##### Scaling numerical data and one-hot encoding categorical data"
   ]
  },
  {
   "cell_type": "code",
   "execution_count": 84,
   "metadata": {},
   "outputs": [
    {
     "name": "stdout",
     "output_type": "stream",
     "text": [
      "Preprocessing on dataset...\n",
      "            Lat      Lon  Hour  Minutes DayOfWeek\n",
      "143425  40.7312 -74.0014    17       18    Monday\n",
      "191329  40.7224 -73.9576     5        3    Monday\n",
      "8681    40.7418 -74.0073    18       13    Monday\n",
      "479413  40.7439 -73.9879    22       21    Monday\n",
      "8467    40.7269 -73.9915    16       58    Monday\n",
      "...Completed.\n",
      "[[-0.2368569  -0.50733763  0.54670453 -0.6709109 ]\n",
      " [-0.4638698   0.26012169 -1.6374968  -1.54324031]\n",
      " [ 0.03659045 -0.61071685  0.7287213  -0.96168737]\n",
      " [ 0.09076398 -0.27079195  1.45678841 -0.49644502]\n",
      " [-0.34778366 -0.3338708   0.36468775  1.65530086]]\n",
      "\n"
     ]
    }
   ],
   "source": [
    "numeric_features = [0, 1, 2, 3] # Positions of numerical variables\n",
    "numeric_transformer = StandardScaler()\n",
    "\n",
    "# Creation of the transformer for categorical values\n",
    "categorical_features = [4] # Positions of categorical variables\n",
    "categorical_transformer = OneHotEncoder(drop='first')\n",
    "\n",
    "# Combining the transformers in ColumnTransformer\n",
    "preprocessor = ColumnTransformer(\n",
    "    transformers=[\n",
    "        ('num', numeric_transformer, numeric_features),\n",
    "        ('cat', categorical_transformer, categorical_features)\n",
    "    ])\n",
    "\n",
    "print(\"Preprocessing on dataset...\")\n",
    "print(monday.head())\n",
    "scaled_X_monday = preprocessor.fit_transform(monday)\n",
    "print('...Completed.')\n",
    "print(scaled_X_monday[0:5, :])\n",
    "print()"
   ]
  },
  {
   "cell_type": "markdown",
   "metadata": {},
   "source": [
    "#####  Use DBSCAN and a for loop to create a variety of models testing different epsilon values"
   ]
  },
  {
   "cell_type": "code",
   "execution_count": 85,
   "metadata": {},
   "outputs": [],
   "source": [
    "from sklearn.cluster import DBSCAN\n",
    "\n",
    "outlier_percent = []\n",
    "\n",
    "for eps in np.linspace(0.1, 2, 10):\n",
    "    \n",
    "    # Create Model\n",
    "    dbscan = DBSCAN(eps=eps,min_samples=2*scaled_X_monday.shape[1], metric=\"manhattan\", algorithm=\"brute\")\n",
    "    dbscan.fit(scaled_X_monday)\n",
    "   \n",
    "     \n",
    "    # Log percentage of points that are outliers\n",
    "    perc_outliers = 100 * np.sum(dbscan.labels_ == -1) / len(dbscan.labels_)\n",
    "    \n",
    "    outlier_percent.append(perc_outliers)"
   ]
  },
  {
   "cell_type": "markdown",
   "metadata": {},
   "source": [
    "##### Creating a line plot of the percentage of outlier points versus the epsilon value choice"
   ]
  },
  {
   "cell_type": "code",
   "execution_count": 86,
   "metadata": {},
   "outputs": [
    {
     "data": {
      "text/plain": [
       "Text(0.5, 0, 'Epsilon value')"
      ]
     },
     "execution_count": 86,
     "metadata": {},
     "output_type": "execute_result"
    },
    {
     "data": {
      "image/png": "[encoded data removed]",
      "text/plain": [
       "<Figure size 432x288 with 1 Axes>"
      ]
     },
     "metadata": {
      "needs_background": "light"
     },
     "output_type": "display_data"
    }
   ],
   "source": [
    "import seaborn as sns\n",
    "import matplotlib.pyplot as plt\n",
    "sns.lineplot(x=np.linspace(0.1, 2, 10), y=outlier_percent)\n",
    "plt.ylabel(\"Percentage of points classified as outliers\")\n",
    "plt.xlabel(\"Epsilon value\")"
   ]
  },
  {
   "cell_type": "markdown",
   "metadata": {},
   "source": [
    "##### Retraining a DBSCAN model with epsilon value = 0.5, based on the plot created above, and min_samples = 8"
   ]
  },
  {
   "cell_type": "code",
   "execution_count": 87,
   "metadata": {},
   "outputs": [
    {
     "data": {
      "text/plain": [
       "DBSCAN(algorithm='brute', metric='manhattan', min_samples=8)"
      ]
     },
     "execution_count": 87,
     "metadata": {},
     "output_type": "execute_result"
    }
   ],
   "source": [
    "eps = 0.5\n",
    "min_samples = 8\n",
    "\n",
    "dbscan = DBSCAN(eps=eps, min_samples=min_samples, metric=\"manhattan\", algorithm=\"brute\")\n",
    "dbscan.fit(scaled_X_monday)"
   ]
  },
  {
   "cell_type": "code",
   "execution_count": 88,
   "metadata": {},
   "outputs": [
    {
     "data": {
      "text/plain": [
       "(array([-1,  0,  1,  2,  3,  4,  5,  6,  7,  8,  9, 10, 11]),\n",
       " array([1927, 8228,  295,  225,   61,   16,    8,   16,   31,   11,   11,\n",
       "          15,    7]))"
      ]
     },
     "execution_count": 88,
     "metadata": {},
     "output_type": "execute_result"
    }
   ],
   "source": [
    "np.unique(dbscan.labels_, return_counts=True)"
   ]
  },
  {
   "cell_type": "code",
   "execution_count": 89,
   "metadata": {},
   "outputs": [
    {
     "data": {
      "text/html": [
       "<div>\n",
       "<style scoped>\n",
       "    .dataframe tbody tr th:only-of-type {\n",
       "        vertical-align: middle;\n",
       "    }\n",
       "\n",
       "    .dataframe tbody tr th {\n",
       "        vertical-align: top;\n",
       "    }\n",
       "\n",
       "    .dataframe thead th {\n",
       "        text-align: right;\n",
       "    }\n",
       "</style>\n",
       "<table border=\"1\" class=\"dataframe\">\n",
       "  <thead>\n",
       "    <tr style=\"text-align: right;\">\n",
       "      <th></th>\n",
       "      <th>Lat</th>\n",
       "      <th>Lon</th>\n",
       "      <th>Hour</th>\n",
       "      <th>Minutes</th>\n",
       "      <th>DayOfWeek</th>\n",
       "      <th>cluster</th>\n",
       "    </tr>\n",
       "  </thead>\n",
       "  <tbody>\n",
       "    <tr>\n",
       "      <th>143425</th>\n",
       "      <td>40.7312</td>\n",
       "      <td>-74.0014</td>\n",
       "      <td>17</td>\n",
       "      <td>18</td>\n",
       "      <td>Monday</td>\n",
       "      <td>0</td>\n",
       "    </tr>\n",
       "    <tr>\n",
       "      <th>191329</th>\n",
       "      <td>40.7224</td>\n",
       "      <td>-73.9576</td>\n",
       "      <td>5</td>\n",
       "      <td>3</td>\n",
       "      <td>Monday</td>\n",
       "      <td>-1</td>\n",
       "    </tr>\n",
       "    <tr>\n",
       "      <th>8681</th>\n",
       "      <td>40.7418</td>\n",
       "      <td>-74.0073</td>\n",
       "      <td>18</td>\n",
       "      <td>13</td>\n",
       "      <td>Monday</td>\n",
       "      <td>0</td>\n",
       "    </tr>\n",
       "    <tr>\n",
       "      <th>479413</th>\n",
       "      <td>40.7439</td>\n",
       "      <td>-73.9879</td>\n",
       "      <td>22</td>\n",
       "      <td>21</td>\n",
       "      <td>Monday</td>\n",
       "      <td>0</td>\n",
       "    </tr>\n",
       "    <tr>\n",
       "      <th>8467</th>\n",
       "      <td>40.7269</td>\n",
       "      <td>-73.9915</td>\n",
       "      <td>16</td>\n",
       "      <td>58</td>\n",
       "      <td>Monday</td>\n",
       "      <td>0</td>\n",
       "    </tr>\n",
       "  </tbody>\n",
       "</table>\n",
       "</div>"
      ],
      "text/plain": [
       "            Lat      Lon  Hour  Minutes DayOfWeek  cluster\n",
       "143425  40.7312 -74.0014    17       18    Monday        0\n",
       "191329  40.7224 -73.9576     5        3    Monday       -1\n",
       "8681    40.7418 -74.0073    18       13    Monday        0\n",
       "479413  40.7439 -73.9879    22       21    Monday        0\n",
       "8467    40.7269 -73.9915    16       58    Monday        0"
      ]
     },
     "execution_count": 89,
     "metadata": {},
     "output_type": "execute_result"
    }
   ],
   "source": [
    "monday[\"cluster\"] = dbscan.labels_\n",
    "monday.head()"
   ]
  },
  {
   "cell_type": "markdown",
   "metadata": {},
   "source": [
    "##### A scatterplot to see how the DBSCAN algorithm has clustered the pick-up points, except outliers, in New York city on Mondays"
   ]
  },
  {
   "cell_type": "code",
   "execution_count": 159,
   "metadata": {},
   "outputs": [
    {
     "data": {
      "text/html": [
       "<iframe\n",
       "    scrolling=\"no\"\n",
       "    width=\"100%\"\n",
       "    height=\"545px\"\n",
       "    src=\"iframe_figures/figure_159.html\"\n",
       "    frameborder=\"0\"\n",
       "    allowfullscreen\n",
       "></iframe>\n"
      ]
     },
     "metadata": {},
     "output_type": "display_data"
    }
   ],
   "source": [
    "fig_monday_cluster = px.scatter_mapbox(\n",
    "        monday[monday.cluster != -1], \n",
    "        lat=\"Lat\", \n",
    "        lon=\"Lon\",\n",
    "        color=\"cluster\",\n",
    "        mapbox_style=\"carto-positron\"\n",
    ")\n",
    "\n",
    "fig_monday_cluster.show()"
   ]
  },
  {
   "cell_type": "markdown",
   "metadata": {},
   "source": [
    "### Picking Tuesday to observe how the clustering algorithm behaves"
   ]
  },
  {
   "cell_type": "code",
   "execution_count": 91,
   "metadata": {},
   "outputs": [
    {
     "data": {
      "text/plain": [
       "(16242, 8)"
      ]
     },
     "execution_count": 91,
     "metadata": {},
     "output_type": "execute_result"
    }
   ],
   "source": [
    "tuesday.shape"
   ]
  },
  {
   "cell_type": "code",
   "execution_count": 160,
   "metadata": {},
   "outputs": [
    {
     "data": {
      "text/html": [
       "<iframe\n",
       "    scrolling=\"no\"\n",
       "    width=\"100%\"\n",
       "    height=\"545px\"\n",
       "    src=\"iframe_figures/figure_160.html\"\n",
       "    frameborder=\"0\"\n",
       "    allowfullscreen\n",
       "></iframe>\n"
      ]
     },
     "metadata": {},
     "output_type": "display_data"
    }
   ],
   "source": [
    "fig_tuesday = px.scatter_mapbox(\n",
    "        tuesday, \n",
    "        lat=\"Lat\", \n",
    "        lon=\"Lon\",\n",
    "        mapbox_style=\"carto-positron\"\n",
    ")\n",
    "fig_tuesday.show()"
   ]
  },
  {
   "cell_type": "markdown",
   "metadata": {},
   "source": [
    "##### Dropping unnecessary columns of the dataset"
   ]
  },
  {
   "cell_type": "code",
   "execution_count": 93,
   "metadata": {},
   "outputs": [],
   "source": [
    "tuesday = tuesday.drop(columns=[\"Year\", \"Month\", \"Day\"])"
   ]
  },
  {
   "cell_type": "code",
   "execution_count": 94,
   "metadata": {},
   "outputs": [
    {
     "data": {
      "text/html": [
       "<div>\n",
       "<style scoped>\n",
       "    .dataframe tbody tr th:only-of-type {\n",
       "        vertical-align: middle;\n",
       "    }\n",
       "\n",
       "    .dataframe tbody tr th {\n",
       "        vertical-align: top;\n",
       "    }\n",
       "\n",
       "    .dataframe thead th {\n",
       "        text-align: right;\n",
       "    }\n",
       "</style>\n",
       "<table border=\"1\" class=\"dataframe\">\n",
       "  <thead>\n",
       "    <tr style=\"text-align: right;\">\n",
       "      <th></th>\n",
       "      <th>Lat</th>\n",
       "      <th>Lon</th>\n",
       "      <th>Hour</th>\n",
       "      <th>Minutes</th>\n",
       "      <th>DayOfWeek</th>\n",
       "    </tr>\n",
       "  </thead>\n",
       "  <tbody>\n",
       "    <tr>\n",
       "      <th>319024</th>\n",
       "      <td>40.7409</td>\n",
       "      <td>-73.9851</td>\n",
       "      <td>18</td>\n",
       "      <td>55</td>\n",
       "      <td>Tuesday</td>\n",
       "    </tr>\n",
       "    <tr>\n",
       "      <th>204546</th>\n",
       "      <td>40.7447</td>\n",
       "      <td>-73.9797</td>\n",
       "      <td>21</td>\n",
       "      <td>22</td>\n",
       "      <td>Tuesday</td>\n",
       "    </tr>\n",
       "    <tr>\n",
       "      <th>270220</th>\n",
       "      <td>40.8894</td>\n",
       "      <td>-73.9458</td>\n",
       "      <td>13</td>\n",
       "      <td>52</td>\n",
       "      <td>Tuesday</td>\n",
       "    </tr>\n",
       "    <tr>\n",
       "      <th>147808</th>\n",
       "      <td>40.7232</td>\n",
       "      <td>-73.9976</td>\n",
       "      <td>15</td>\n",
       "      <td>42</td>\n",
       "      <td>Tuesday</td>\n",
       "    </tr>\n",
       "    <tr>\n",
       "      <th>72402</th>\n",
       "      <td>40.7213</td>\n",
       "      <td>-74.0016</td>\n",
       "      <td>9</td>\n",
       "      <td>37</td>\n",
       "      <td>Tuesday</td>\n",
       "    </tr>\n",
       "  </tbody>\n",
       "</table>\n",
       "</div>"
      ],
      "text/plain": [
       "            Lat      Lon  Hour  Minutes DayOfWeek\n",
       "319024  40.7409 -73.9851    18       55   Tuesday\n",
       "204546  40.7447 -73.9797    21       22   Tuesday\n",
       "270220  40.8894 -73.9458    13       52   Tuesday\n",
       "147808  40.7232 -73.9976    15       42   Tuesday\n",
       "72402   40.7213 -74.0016     9       37   Tuesday"
      ]
     },
     "execution_count": 94,
     "metadata": {},
     "output_type": "execute_result"
    }
   ],
   "source": [
    "tuesday.head()"
   ]
  },
  {
   "cell_type": "markdown",
   "metadata": {},
   "source": [
    "##### Scaling numerical data and one-hot encoding categorical data"
   ]
  },
  {
   "cell_type": "code",
   "execution_count": 95,
   "metadata": {},
   "outputs": [
    {
     "name": "stdout",
     "output_type": "stream",
     "text": [
      "Preprocessing on dataset...\n",
      "            Lat      Lon  Hour  Minutes DayOfWeek\n",
      "319024  40.7409 -73.9851    18       55   Tuesday\n",
      "204546  40.7447 -73.9797    21       22   Tuesday\n",
      "270220  40.8894 -73.9458    13       52   Tuesday\n",
      "147808  40.7232 -73.9976    15       42   Tuesday\n",
      "72402   40.7213 -74.0016     9       37   Tuesday\n",
      "...Completed.\n",
      "[[-0.0307187  -0.16272162  0.64938051  1.47387791]\n",
      " [ 0.07644957 -0.05291579  1.20310914 -0.43420759]\n",
      " [ 4.15730482  0.63642077 -0.27350053  1.30041559]\n",
      " [-0.52989727 -0.41690176  0.09565189  0.72220786]\n",
      " [-0.58348141 -0.49823941 -1.01180536  0.433104  ]]\n",
      "\n"
     ]
    }
   ],
   "source": [
    "numeric_features = [0, 1, 2, 3] # Positions of numerical variables\n",
    "numeric_transformer = StandardScaler()\n",
    "\n",
    "# Creation of the transformer for categorical values\n",
    "categorical_features = [4] # Positions of categorical variables\n",
    "categorical_transformer = OneHotEncoder(drop='first')\n",
    "\n",
    "# Combining the transformers in ColumnTransformer\n",
    "preprocessor = ColumnTransformer(\n",
    "    transformers=[\n",
    "        ('num', numeric_transformer, numeric_features),\n",
    "        ('cat', categorical_transformer, categorical_features)\n",
    "    ])\n",
    "\n",
    "print(\"Preprocessing on dataset...\")\n",
    "print(tuesday.head())\n",
    "scaled_X_tuesday = preprocessor.fit_transform(tuesday)\n",
    "print('...Completed.')\n",
    "print(scaled_X_tuesday[0:5, :])\n",
    "print()"
   ]
  },
  {
   "cell_type": "markdown",
   "metadata": {},
   "source": [
    "#####  Use DBSCAN and a for loop to create a variety of models testing different epsilon values"
   ]
  },
  {
   "cell_type": "code",
   "execution_count": 96,
   "metadata": {},
   "outputs": [],
   "source": [
    "from sklearn.cluster import DBSCAN\n",
    "\n",
    "outlier_percent = []\n",
    "\n",
    "for eps in np.linspace(0.1, 2, 10):\n",
    "    \n",
    "    # Create Model\n",
    "    dbscan = DBSCAN(eps=eps,min_samples=2*scaled_X_tuesday.shape[1], metric=\"manhattan\", algorithm=\"brute\")\n",
    "    dbscan.fit(scaled_X_tuesday)\n",
    "   \n",
    "     \n",
    "    # Log percentage of points that are outliers\n",
    "    perc_outliers = 100 * np.sum(dbscan.labels_ == -1) / len(dbscan.labels_)\n",
    "    \n",
    "    outlier_percent.append(perc_outliers)"
   ]
  },
  {
   "cell_type": "markdown",
   "metadata": {},
   "source": [
    "##### Creating a line plot of the percentage of outlier points versus the epsilon value choice"
   ]
  },
  {
   "cell_type": "code",
   "execution_count": 97,
   "metadata": {},
   "outputs": [
    {
     "data": {
      "text/plain": [
       "Text(0.5, 0, 'Epsilon value')"
      ]
     },
     "execution_count": 97,
     "metadata": {},
     "output_type": "execute_result"
    },
    {
     "data": {
      "image/png": "[encoded data removed]",
      "text/plain": [
       "<Figure size 432x288 with 1 Axes>"
      ]
     },
     "metadata": {
      "needs_background": "light"
     },
     "output_type": "display_data"
    }
   ],
   "source": [
    "import seaborn as sns\n",
    "import matplotlib.pyplot as plt\n",
    "sns.lineplot(x=np.linspace(0.1, 2, 10), y=outlier_percent)\n",
    "plt.ylabel(\"Percentage of points classified as outliers\")\n",
    "plt.xlabel(\"Epsilon value\")"
   ]
  },
  {
   "cell_type": "markdown",
   "metadata": {},
   "source": [
    "##### Retraining a DBSCAN model with epsilon value = 0.5, based on the plot created above, and min_samples = 8"
   ]
  },
  {
   "cell_type": "code",
   "execution_count": 98,
   "metadata": {},
   "outputs": [
    {
     "data": {
      "text/plain": [
       "DBSCAN(algorithm='brute', metric='manhattan', min_samples=8)"
      ]
     },
     "execution_count": 98,
     "metadata": {},
     "output_type": "execute_result"
    }
   ],
   "source": [
    "eps = 0.5\n",
    "dbscan = DBSCAN(eps=eps, min_samples=min_samples, metric=\"manhattan\", algorithm=\"brute\")\n",
    "dbscan.fit(scaled_X_tuesday)"
   ]
  },
  {
   "cell_type": "code",
   "execution_count": 99,
   "metadata": {},
   "outputs": [
    {
     "data": {
      "text/plain": [
       "(array([-1,  0,  1,  2,  3,  4,  5,  6,  7,  8,  9, 10, 11, 12, 13, 14, 15,\n",
       "        16, 17, 18, 19, 20, 21, 22, 23, 24, 25, 26, 27, 28, 29, 30, 31]),\n",
       " array([ 2421, 13085,   103,    28,   178,    64,    22,    11,    15,\n",
       "           34,    36,     8,    24,    12,    28,     7,    19,    23,\n",
       "           15,     8,    12,     8,     7,     8,     7,    10,    14,\n",
       "            9,     2,     3,     7,     8,     6]))"
      ]
     },
     "execution_count": 99,
     "metadata": {},
     "output_type": "execute_result"
    }
   ],
   "source": [
    "np.unique(dbscan.labels_, return_counts=True)"
   ]
  },
  {
   "cell_type": "code",
   "execution_count": 100,
   "metadata": {},
   "outputs": [
    {
     "data": {
      "text/html": [
       "<div>\n",
       "<style scoped>\n",
       "    .dataframe tbody tr th:only-of-type {\n",
       "        vertical-align: middle;\n",
       "    }\n",
       "\n",
       "    .dataframe tbody tr th {\n",
       "        vertical-align: top;\n",
       "    }\n",
       "\n",
       "    .dataframe thead th {\n",
       "        text-align: right;\n",
       "    }\n",
       "</style>\n",
       "<table border=\"1\" class=\"dataframe\">\n",
       "  <thead>\n",
       "    <tr style=\"text-align: right;\">\n",
       "      <th></th>\n",
       "      <th>Lat</th>\n",
       "      <th>Lon</th>\n",
       "      <th>Hour</th>\n",
       "      <th>Minutes</th>\n",
       "      <th>DayOfWeek</th>\n",
       "      <th>cluster</th>\n",
       "    </tr>\n",
       "  </thead>\n",
       "  <tbody>\n",
       "    <tr>\n",
       "      <th>319024</th>\n",
       "      <td>40.7409</td>\n",
       "      <td>-73.9851</td>\n",
       "      <td>18</td>\n",
       "      <td>55</td>\n",
       "      <td>Tuesday</td>\n",
       "      <td>0</td>\n",
       "    </tr>\n",
       "    <tr>\n",
       "      <th>204546</th>\n",
       "      <td>40.7447</td>\n",
       "      <td>-73.9797</td>\n",
       "      <td>21</td>\n",
       "      <td>22</td>\n",
       "      <td>Tuesday</td>\n",
       "      <td>0</td>\n",
       "    </tr>\n",
       "    <tr>\n",
       "      <th>270220</th>\n",
       "      <td>40.8894</td>\n",
       "      <td>-73.9458</td>\n",
       "      <td>13</td>\n",
       "      <td>52</td>\n",
       "      <td>Tuesday</td>\n",
       "      <td>-1</td>\n",
       "    </tr>\n",
       "    <tr>\n",
       "      <th>147808</th>\n",
       "      <td>40.7232</td>\n",
       "      <td>-73.9976</td>\n",
       "      <td>15</td>\n",
       "      <td>42</td>\n",
       "      <td>Tuesday</td>\n",
       "      <td>0</td>\n",
       "    </tr>\n",
       "    <tr>\n",
       "      <th>72402</th>\n",
       "      <td>40.7213</td>\n",
       "      <td>-74.0016</td>\n",
       "      <td>9</td>\n",
       "      <td>37</td>\n",
       "      <td>Tuesday</td>\n",
       "      <td>0</td>\n",
       "    </tr>\n",
       "  </tbody>\n",
       "</table>\n",
       "</div>"
      ],
      "text/plain": [
       "            Lat      Lon  Hour  Minutes DayOfWeek  cluster\n",
       "319024  40.7409 -73.9851    18       55   Tuesday        0\n",
       "204546  40.7447 -73.9797    21       22   Tuesday        0\n",
       "270220  40.8894 -73.9458    13       52   Tuesday       -1\n",
       "147808  40.7232 -73.9976    15       42   Tuesday        0\n",
       "72402   40.7213 -74.0016     9       37   Tuesday        0"
      ]
     },
     "execution_count": 100,
     "metadata": {},
     "output_type": "execute_result"
    }
   ],
   "source": [
    "tuesday[\"cluster\"] = dbscan.labels_\n",
    "tuesday.head()"
   ]
  },
  {
   "cell_type": "markdown",
   "metadata": {},
   "source": [
    "##### A scatterplot to see how the DBSCAN algorithm has clustered the pick-up points, except outliers, in New York city on Tuesdays"
   ]
  },
  {
   "cell_type": "code",
   "execution_count": 161,
   "metadata": {},
   "outputs": [
    {
     "data": {
      "text/html": [
       "<iframe\n",
       "    scrolling=\"no\"\n",
       "    width=\"100%\"\n",
       "    height=\"545px\"\n",
       "    src=\"iframe_figures/figure_161.html\"\n",
       "    frameborder=\"0\"\n",
       "    allowfullscreen\n",
       "></iframe>\n"
      ]
     },
     "metadata": {},
     "output_type": "display_data"
    }
   ],
   "source": [
    "fig_tuesday_cluster = px.scatter_mapbox(\n",
    "        tuesday[tuesday.cluster != -1], \n",
    "        lat=\"Lat\", \n",
    "        lon=\"Lon\",\n",
    "        color=\"cluster\",\n",
    "        mapbox_style=\"carto-positron\"\n",
    ")\n",
    "\n",
    "fig_tuesday_cluster.show()"
   ]
  },
  {
   "cell_type": "markdown",
   "metadata": {},
   "source": [
    "### Picking Wednesday to observe how the clustering algorithm behaves"
   ]
  },
  {
   "cell_type": "code",
   "execution_count": 102,
   "metadata": {},
   "outputs": [
    {
     "data": {
      "text/plain": [
       "(19255, 8)"
      ]
     },
     "execution_count": 102,
     "metadata": {},
     "output_type": "execute_result"
    }
   ],
   "source": [
    "wednesday.shape"
   ]
  },
  {
   "cell_type": "code",
   "execution_count": 162,
   "metadata": {},
   "outputs": [
    {
     "data": {
      "text/html": [
       "<iframe\n",
       "    scrolling=\"no\"\n",
       "    width=\"100%\"\n",
       "    height=\"545px\"\n",
       "    src=\"iframe_figures/figure_162.html\"\n",
       "    frameborder=\"0\"\n",
       "    allowfullscreen\n",
       "></iframe>\n"
      ]
     },
     "metadata": {},
     "output_type": "display_data"
    }
   ],
   "source": [
    "fig_wednesday = px.scatter_mapbox(\n",
    "        wednesday, \n",
    "        lat=\"Lat\", \n",
    "        lon=\"Lon\",\n",
    "        mapbox_style=\"carto-positron\"\n",
    ")\n",
    "\n",
    "fig_wednesday.show()"
   ]
  },
  {
   "cell_type": "markdown",
   "metadata": {},
   "source": [
    "##### Dropping unnecessary columns of the dataset"
   ]
  },
  {
   "cell_type": "code",
   "execution_count": 104,
   "metadata": {},
   "outputs": [],
   "source": [
    "wednesday = wednesday.drop(columns=[\"Year\", \"Month\", \"Day\"])"
   ]
  },
  {
   "cell_type": "code",
   "execution_count": 105,
   "metadata": {},
   "outputs": [
    {
     "data": {
      "text/html": [
       "<div>\n",
       "<style scoped>\n",
       "    .dataframe tbody tr th:only-of-type {\n",
       "        vertical-align: middle;\n",
       "    }\n",
       "\n",
       "    .dataframe tbody tr th {\n",
       "        vertical-align: top;\n",
       "    }\n",
       "\n",
       "    .dataframe thead th {\n",
       "        text-align: right;\n",
       "    }\n",
       "</style>\n",
       "<table border=\"1\" class=\"dataframe\">\n",
       "  <thead>\n",
       "    <tr style=\"text-align: right;\">\n",
       "      <th></th>\n",
       "      <th>Lat</th>\n",
       "      <th>Lon</th>\n",
       "      <th>Hour</th>\n",
       "      <th>Minutes</th>\n",
       "      <th>DayOfWeek</th>\n",
       "    </tr>\n",
       "  </thead>\n",
       "  <tbody>\n",
       "    <tr>\n",
       "      <th>326296</th>\n",
       "      <td>40.7435</td>\n",
       "      <td>-73.9727</td>\n",
       "      <td>21</td>\n",
       "      <td>52</td>\n",
       "      <td>Wednesday</td>\n",
       "    </tr>\n",
       "    <tr>\n",
       "      <th>555032</th>\n",
       "      <td>40.7623</td>\n",
       "      <td>-73.9682</td>\n",
       "      <td>11</td>\n",
       "      <td>52</td>\n",
       "      <td>Wednesday</td>\n",
       "    </tr>\n",
       "    <tr>\n",
       "      <th>115644</th>\n",
       "      <td>40.7143</td>\n",
       "      <td>-74.0086</td>\n",
       "      <td>16</td>\n",
       "      <td>2</td>\n",
       "      <td>Wednesday</td>\n",
       "    </tr>\n",
       "    <tr>\n",
       "      <th>325676</th>\n",
       "      <td>40.6420</td>\n",
       "      <td>-73.7883</td>\n",
       "      <td>20</td>\n",
       "      <td>28</td>\n",
       "      <td>Wednesday</td>\n",
       "    </tr>\n",
       "    <tr>\n",
       "      <th>394260</th>\n",
       "      <td>40.7433</td>\n",
       "      <td>-73.9855</td>\n",
       "      <td>14</td>\n",
       "      <td>34</td>\n",
       "      <td>Wednesday</td>\n",
       "    </tr>\n",
       "  </tbody>\n",
       "</table>\n",
       "</div>"
      ],
      "text/plain": [
       "            Lat      Lon  Hour  Minutes  DayOfWeek\n",
       "326296  40.7435 -73.9727    21       52  Wednesday\n",
       "555032  40.7623 -73.9682    11       52  Wednesday\n",
       "115644  40.7143 -74.0086    16        2  Wednesday\n",
       "325676  40.6420 -73.7883    20       28  Wednesday\n",
       "394260  40.7433 -73.9855    14       34  Wednesday"
      ]
     },
     "execution_count": 105,
     "metadata": {},
     "output_type": "execute_result"
    }
   ],
   "source": [
    "wednesday.head()"
   ]
  },
  {
   "cell_type": "markdown",
   "metadata": {},
   "source": [
    "##### Scaling numerical data and one-hot encoding categorical data"
   ]
  },
  {
   "cell_type": "code",
   "execution_count": 106,
   "metadata": {},
   "outputs": [
    {
     "name": "stdout",
     "output_type": "stream",
     "text": [
      "Preprocessing on dataset...\n",
      "            Lat      Lon  Hour  Minutes  DayOfWeek\n",
      "326296  40.7435 -73.9727    21       52  Wednesday\n",
      "555032  40.7623 -73.9682    11       52  Wednesday\n",
      "115644  40.7143 -74.0086    16        2  Wednesday\n",
      "325676  40.6420 -73.7883    20       28  Wednesday\n",
      "394260  40.7433 -73.9855    14       34  Wednesday\n",
      "...Completed.\n",
      "[[ 0.02251492  0.1098951   1.19053738  1.30138599]\n",
      " [ 0.56945396  0.20482293 -0.6669641   1.30138599]\n",
      " [-0.82698613 -0.64741809  0.26178664 -1.57971319]\n",
      " [-2.93037402  3.99982688  1.00478723 -0.08154162]\n",
      " [ 0.01669642 -0.16012186 -0.10971366  0.26419029]]\n",
      "\n"
     ]
    }
   ],
   "source": [
    "numeric_features = [0, 1, 2, 3] # Positions of numerical variables\n",
    "numeric_transformer = StandardScaler()\n",
    "\n",
    "# Creation of the transformer for categorical values\n",
    "categorical_features = [4] # Positions of categorical variables\n",
    "categorical_transformer = OneHotEncoder(drop='first')\n",
    "\n",
    "# Combining the transformers in ColumnTransformer\n",
    "preprocessor = ColumnTransformer(\n",
    "    transformers=[\n",
    "        ('num', numeric_transformer, numeric_features),\n",
    "        ('cat', categorical_transformer, categorical_features)\n",
    "    ])\n",
    "\n",
    "print(\"Preprocessing on dataset...\")\n",
    "print(wednesday.head())\n",
    "scaled_X_wednesday = preprocessor.fit_transform(wednesday)\n",
    "print('...Completed.')\n",
    "print(scaled_X_wednesday[0:5, :])\n",
    "print()"
   ]
  },
  {
   "cell_type": "markdown",
   "metadata": {},
   "source": [
    "#####  Use DBSCAN and a for loop to create a variety of models testing different epsilon values"
   ]
  },
  {
   "cell_type": "code",
   "execution_count": 107,
   "metadata": {},
   "outputs": [],
   "source": [
    "from sklearn.cluster import DBSCAN\n",
    "\n",
    "outlier_percent = []\n",
    "\n",
    "for eps in np.linspace(0.1, 2, 10):\n",
    "    \n",
    "    # Create Model\n",
    "    dbscan = DBSCAN(eps=eps,min_samples=2*scaled_X_wednesday.shape[1], metric=\"manhattan\", algorithm=\"brute\")\n",
    "    dbscan.fit(scaled_X_wednesday)\n",
    "   \n",
    "     \n",
    "    # Log percentage of points that are outliers\n",
    "    perc_outliers = 100 * np.sum(dbscan.labels_ == -1) / len(dbscan.labels_)\n",
    "    \n",
    "    outlier_percent.append(perc_outliers)"
   ]
  },
  {
   "cell_type": "markdown",
   "metadata": {},
   "source": [
    "##### Creating a line plot of the percentage of outlier points versus the epsilon value choice"
   ]
  },
  {
   "cell_type": "code",
   "execution_count": 108,
   "metadata": {},
   "outputs": [
    {
     "data": {
      "text/plain": [
       "Text(0.5, 0, 'Epsilon value')"
      ]
     },
     "execution_count": 108,
     "metadata": {},
     "output_type": "execute_result"
    },
    {
     "data": {
      "image/png": "[encoded data removed]",
      "text/plain": [
       "<Figure size 432x288 with 1 Axes>"
      ]
     },
     "metadata": {
      "needs_background": "light"
     },
     "output_type": "display_data"
    }
   ],
   "source": [
    "import seaborn as sns\n",
    "import matplotlib.pyplot as plt\n",
    "sns.lineplot(x=np.linspace(0.1, 2, 10), y=outlier_percent)\n",
    "plt.ylabel(\"Percentage of points classified as outliers\")\n",
    "plt.xlabel(\"Epsilon value\")"
   ]
  },
  {
   "cell_type": "markdown",
   "metadata": {},
   "source": [
    "##### Retraining a DBSCAN model with epsilon value = 0.5, based on the plot created above, and min_samples = 8"
   ]
  },
  {
   "cell_type": "code",
   "execution_count": 109,
   "metadata": {},
   "outputs": [
    {
     "data": {
      "text/plain": [
       "DBSCAN(algorithm='brute', metric='manhattan', min_samples=8)"
      ]
     },
     "execution_count": 109,
     "metadata": {},
     "output_type": "execute_result"
    }
   ],
   "source": [
    "eps = 0.5\n",
    "min_samples = 8\n",
    "dbscan = DBSCAN(eps=eps, min_samples=min_samples, metric=\"manhattan\", algorithm=\"brute\")\n",
    "dbscan.fit(scaled_X_wednesday)"
   ]
  },
  {
   "cell_type": "code",
   "execution_count": 110,
   "metadata": {},
   "outputs": [
    {
     "data": {
      "text/plain": [
       "(array([-1,  0,  1,  2,  3,  4,  5,  6,  7,  8,  9, 10, 11, 12, 13, 14, 15,\n",
       "        16, 17, 18, 19, 20, 21, 22, 23, 24, 25, 26, 27, 28, 29, 30]),\n",
       " array([ 2580, 15882,   247,    94,    13,    48,    16,    17,    81,\n",
       "            9,    12,    55,    14,    13,    15,    17,     3,    13,\n",
       "           11,    12,     6,    17,     7,     8,     7,    10,     8,\n",
       "            7,     8,     9,    10,     6]))"
      ]
     },
     "execution_count": 110,
     "metadata": {},
     "output_type": "execute_result"
    }
   ],
   "source": [
    "np.unique(dbscan.labels_, return_counts=True)"
   ]
  },
  {
   "cell_type": "code",
   "execution_count": 111,
   "metadata": {},
   "outputs": [
    {
     "data": {
      "text/html": [
       "<div>\n",
       "<style scoped>\n",
       "    .dataframe tbody tr th:only-of-type {\n",
       "        vertical-align: middle;\n",
       "    }\n",
       "\n",
       "    .dataframe tbody tr th {\n",
       "        vertical-align: top;\n",
       "    }\n",
       "\n",
       "    .dataframe thead th {\n",
       "        text-align: right;\n",
       "    }\n",
       "</style>\n",
       "<table border=\"1\" class=\"dataframe\">\n",
       "  <thead>\n",
       "    <tr style=\"text-align: right;\">\n",
       "      <th></th>\n",
       "      <th>Lat</th>\n",
       "      <th>Lon</th>\n",
       "      <th>Hour</th>\n",
       "      <th>Minutes</th>\n",
       "      <th>DayOfWeek</th>\n",
       "      <th>cluster</th>\n",
       "    </tr>\n",
       "  </thead>\n",
       "  <tbody>\n",
       "    <tr>\n",
       "      <th>326296</th>\n",
       "      <td>40.7435</td>\n",
       "      <td>-73.9727</td>\n",
       "      <td>21</td>\n",
       "      <td>52</td>\n",
       "      <td>Wednesday</td>\n",
       "      <td>0</td>\n",
       "    </tr>\n",
       "    <tr>\n",
       "      <th>555032</th>\n",
       "      <td>40.7623</td>\n",
       "      <td>-73.9682</td>\n",
       "      <td>11</td>\n",
       "      <td>52</td>\n",
       "      <td>Wednesday</td>\n",
       "      <td>0</td>\n",
       "    </tr>\n",
       "    <tr>\n",
       "      <th>115644</th>\n",
       "      <td>40.7143</td>\n",
       "      <td>-74.0086</td>\n",
       "      <td>16</td>\n",
       "      <td>2</td>\n",
       "      <td>Wednesday</td>\n",
       "      <td>0</td>\n",
       "    </tr>\n",
       "    <tr>\n",
       "      <th>325676</th>\n",
       "      <td>40.6420</td>\n",
       "      <td>-73.7883</td>\n",
       "      <td>20</td>\n",
       "      <td>28</td>\n",
       "      <td>Wednesday</td>\n",
       "      <td>1</td>\n",
       "    </tr>\n",
       "    <tr>\n",
       "      <th>394260</th>\n",
       "      <td>40.7433</td>\n",
       "      <td>-73.9855</td>\n",
       "      <td>14</td>\n",
       "      <td>34</td>\n",
       "      <td>Wednesday</td>\n",
       "      <td>0</td>\n",
       "    </tr>\n",
       "  </tbody>\n",
       "</table>\n",
       "</div>"
      ],
      "text/plain": [
       "            Lat      Lon  Hour  Minutes  DayOfWeek  cluster\n",
       "326296  40.7435 -73.9727    21       52  Wednesday        0\n",
       "555032  40.7623 -73.9682    11       52  Wednesday        0\n",
       "115644  40.7143 -74.0086    16        2  Wednesday        0\n",
       "325676  40.6420 -73.7883    20       28  Wednesday        1\n",
       "394260  40.7433 -73.9855    14       34  Wednesday        0"
      ]
     },
     "execution_count": 111,
     "metadata": {},
     "output_type": "execute_result"
    }
   ],
   "source": [
    "wednesday[\"cluster\"] = dbscan.labels_\n",
    "wednesday.head()"
   ]
  },
  {
   "cell_type": "markdown",
   "metadata": {},
   "source": [
    "##### A scatterplot to see how the DBSCAN algorithm has clustered the pick-up points, except outliers, in New York city on Wednesdays"
   ]
  },
  {
   "cell_type": "code",
   "execution_count": 163,
   "metadata": {},
   "outputs": [
    {
     "data": {
      "text/html": [
       "<iframe\n",
       "    scrolling=\"no\"\n",
       "    width=\"100%\"\n",
       "    height=\"545px\"\n",
       "    src=\"iframe_figures/figure_163.html\"\n",
       "    frameborder=\"0\"\n",
       "    allowfullscreen\n",
       "></iframe>\n"
      ]
     },
     "metadata": {},
     "output_type": "display_data"
    }
   ],
   "source": [
    "fig_wednesday_cluster = px.scatter_mapbox(\n",
    "        wednesday[wednesday.cluster != -1], \n",
    "        lat=\"Lat\", \n",
    "        lon=\"Lon\",\n",
    "        color=\"cluster\",\n",
    "        mapbox_style=\"carto-positron\"\n",
    ")\n",
    "\n",
    "fig_wednesday_cluster.show()"
   ]
  },
  {
   "cell_type": "markdown",
   "metadata": {},
   "source": [
    "### Picking Thursday to observe how the clustering algorithm behaves"
   ]
  },
  {
   "cell_type": "code",
   "execution_count": 113,
   "metadata": {},
   "outputs": [
    {
     "data": {
      "text/plain": [
       "(15078, 8)"
      ]
     },
     "execution_count": 113,
     "metadata": {},
     "output_type": "execute_result"
    }
   ],
   "source": [
    "thursday.shape"
   ]
  },
  {
   "cell_type": "code",
   "execution_count": 164,
   "metadata": {},
   "outputs": [
    {
     "data": {
      "text/html": [
       "<iframe\n",
       "    scrolling=\"no\"\n",
       "    width=\"100%\"\n",
       "    height=\"545px\"\n",
       "    src=\"iframe_figures/figure_164.html\"\n",
       "    frameborder=\"0\"\n",
       "    allowfullscreen\n",
       "></iframe>\n"
      ]
     },
     "metadata": {},
     "output_type": "display_data"
    }
   ],
   "source": [
    "fig_thursday = px.scatter_mapbox(\n",
    "        thursday, \n",
    "        lat=\"Lat\", \n",
    "        lon=\"Lon\",\n",
    "        mapbox_style=\"carto-positron\"\n",
    ")\n",
    "\n",
    "fig_thursday.show()"
   ]
  },
  {
   "cell_type": "markdown",
   "metadata": {},
   "source": [
    "##### Dropping unnecessary columns of the dataset"
   ]
  },
  {
   "cell_type": "code",
   "execution_count": 115,
   "metadata": {},
   "outputs": [],
   "source": [
    "thursday = thursday.drop(columns=[\"Year\", \"Month\", \"Day\"])"
   ]
  },
  {
   "cell_type": "code",
   "execution_count": 116,
   "metadata": {},
   "outputs": [
    {
     "data": {
      "text/html": [
       "<div>\n",
       "<style scoped>\n",
       "    .dataframe tbody tr th:only-of-type {\n",
       "        vertical-align: middle;\n",
       "    }\n",
       "\n",
       "    .dataframe tbody tr th {\n",
       "        vertical-align: top;\n",
       "    }\n",
       "\n",
       "    .dataframe thead th {\n",
       "        text-align: right;\n",
       "    }\n",
       "</style>\n",
       "<table border=\"1\" class=\"dataframe\">\n",
       "  <thead>\n",
       "    <tr style=\"text-align: right;\">\n",
       "      <th></th>\n",
       "      <th>Lat</th>\n",
       "      <th>Lon</th>\n",
       "      <th>Hour</th>\n",
       "      <th>Minutes</th>\n",
       "      <th>DayOfWeek</th>\n",
       "    </tr>\n",
       "  </thead>\n",
       "  <tbody>\n",
       "    <tr>\n",
       "      <th>226177</th>\n",
       "      <td>40.7790</td>\n",
       "      <td>-73.9873</td>\n",
       "      <td>7</td>\n",
       "      <td>16</td>\n",
       "      <td>Thursday</td>\n",
       "    </tr>\n",
       "    <tr>\n",
       "      <th>119130</th>\n",
       "      <td>40.7308</td>\n",
       "      <td>-74.0053</td>\n",
       "      <td>6</td>\n",
       "      <td>38</td>\n",
       "      <td>Thursday</td>\n",
       "    </tr>\n",
       "    <tr>\n",
       "      <th>226220</th>\n",
       "      <td>40.7287</td>\n",
       "      <td>-73.9861</td>\n",
       "      <td>7</td>\n",
       "      <td>27</td>\n",
       "      <td>Thursday</td>\n",
       "    </tr>\n",
       "    <tr>\n",
       "      <th>82365</th>\n",
       "      <td>40.7543</td>\n",
       "      <td>-73.9739</td>\n",
       "      <td>11</td>\n",
       "      <td>48</td>\n",
       "      <td>Thursday</td>\n",
       "    </tr>\n",
       "    <tr>\n",
       "      <th>402053</th>\n",
       "      <td>40.7254</td>\n",
       "      <td>-73.9966</td>\n",
       "      <td>15</td>\n",
       "      <td>42</td>\n",
       "      <td>Thursday</td>\n",
       "    </tr>\n",
       "  </tbody>\n",
       "</table>\n",
       "</div>"
      ],
      "text/plain": [
       "            Lat      Lon  Hour  Minutes DayOfWeek\n",
       "226177  40.7790 -73.9873     7       16  Thursday\n",
       "119130  40.7308 -74.0053     6       38  Thursday\n",
       "226220  40.7287 -73.9861     7       27  Thursday\n",
       "82365   40.7543 -73.9739    11       48  Thursday\n",
       "402053  40.7254 -73.9966    15       42  Thursday"
      ]
     },
     "execution_count": 116,
     "metadata": {},
     "output_type": "execute_result"
    }
   ],
   "source": [
    "thursday.head()"
   ]
  },
  {
   "cell_type": "markdown",
   "metadata": {},
   "source": [
    "##### Scaling numerical data and one-hot encoding categorical data"
   ]
  },
  {
   "cell_type": "code",
   "execution_count": 117,
   "metadata": {},
   "outputs": [
    {
     "name": "stdout",
     "output_type": "stream",
     "text": [
      "Preprocessing on dataset...\n",
      "            Lat      Lon  Hour  Minutes DayOfWeek\n",
      "226177  40.7790 -73.9873     7       16  Thursday\n",
      "119130  40.7308 -74.0053     6       38  Thursday\n",
      "226220  40.7287 -73.9861     7       27  Thursday\n",
      "82365   40.7543 -73.9739    11       48  Thursday\n",
      "402053  40.7254 -73.9966    15       42  Thursday\n",
      "...Completed.\n",
      "[[ 1.10562475 -0.18833127 -1.45489825 -0.78749559]\n",
      " [-0.31501482 -0.5671427  -1.63623886  0.4872634 ]\n",
      " [-0.3769099  -0.16307717 -1.45489825 -0.15011609]\n",
      " [ 0.37762066  0.0936728  -0.72953578  1.0666993 ]\n",
      " [-0.47417361 -0.38405051 -0.00417331  0.71903776]]\n",
      "\n"
     ]
    }
   ],
   "source": [
    "numeric_features = [0, 1, 2, 3] # Positions of numerical variables\n",
    "numeric_transformer = StandardScaler()\n",
    "\n",
    "# Creation of the transformer for categorical values\n",
    "categorical_features = [4] # Positions of categorical variables\n",
    "categorical_transformer = OneHotEncoder(drop='first')\n",
    "\n",
    "# Combining the transformers in ColumnTransformer\n",
    "preprocessor = ColumnTransformer(\n",
    "    transformers=[\n",
    "        ('num', numeric_transformer, numeric_features),\n",
    "        ('cat', categorical_transformer, categorical_features)\n",
    "    ])\n",
    "\n",
    "print(\"Preprocessing on dataset...\")\n",
    "print(thursday.head())\n",
    "scaled_X_thursday = preprocessor.fit_transform(thursday)\n",
    "print('...Completed.')\n",
    "print(scaled_X_thursday[0:5, :])\n",
    "print()"
   ]
  },
  {
   "cell_type": "markdown",
   "metadata": {},
   "source": [
    "#####  Use DBSCAN and a for loop to create a variety of models testing different epsilon values"
   ]
  },
  {
   "cell_type": "code",
   "execution_count": 118,
   "metadata": {},
   "outputs": [],
   "source": [
    "from sklearn.cluster import DBSCAN\n",
    "\n",
    "outlier_percent = []\n",
    "\n",
    "for eps in np.linspace(0.1, 2, 10):\n",
    "    \n",
    "    # Create Model\n",
    "    dbscan = DBSCAN(eps=eps,min_samples=2*scaled_X_thursday.shape[1], metric=\"manhattan\", algorithm=\"brute\")\n",
    "    dbscan.fit(scaled_X_thursday)\n",
    "   \n",
    "     \n",
    "    # Log percentage of points that are outliers\n",
    "    perc_outliers = 100 * np.sum(dbscan.labels_ == -1) / len(dbscan.labels_)\n",
    "    \n",
    "    outlier_percent.append(perc_outliers)"
   ]
  },
  {
   "cell_type": "markdown",
   "metadata": {},
   "source": [
    "##### Creating a line plot of the percentage of outlier points versus the epsilon value choice"
   ]
  },
  {
   "cell_type": "code",
   "execution_count": 119,
   "metadata": {},
   "outputs": [
    {
     "data": {
      "text/plain": [
       "Text(0.5, 0, 'Epsilon value')"
      ]
     },
     "execution_count": 119,
     "metadata": {},
     "output_type": "execute_result"
    },
    {
     "data": {
      "image/png": "[encoded data removed]",
      "text/plain": [
       "<Figure size 432x288 with 1 Axes>"
      ]
     },
     "metadata": {
      "needs_background": "light"
     },
     "output_type": "display_data"
    }
   ],
   "source": [
    "import seaborn as sns\n",
    "import matplotlib.pyplot as plt\n",
    "sns.lineplot(x=np.linspace(0.1, 2, 10), y=outlier_percent)\n",
    "plt.ylabel(\"Percentage of points classified as outliers\")\n",
    "plt.xlabel(\"Epsilon value\")"
   ]
  },
  {
   "cell_type": "markdown",
   "metadata": {},
   "source": [
    "##### Retraining a DBSCAN model with epsilon value = 0.5, based on the plot created above, and min_samples = 8"
   ]
  },
  {
   "cell_type": "code",
   "execution_count": 120,
   "metadata": {},
   "outputs": [
    {
     "data": {
      "text/plain": [
       "DBSCAN(algorithm='brute', metric='manhattan', min_samples=8)"
      ]
     },
     "execution_count": 120,
     "metadata": {},
     "output_type": "execute_result"
    }
   ],
   "source": [
    "eps = 0.5\n",
    "dbscan = DBSCAN(eps=eps, min_samples=min_samples, metric=\"manhattan\", algorithm=\"brute\")\n",
    "dbscan.fit(scaled_X_thursday)"
   ]
  },
  {
   "cell_type": "code",
   "execution_count": 121,
   "metadata": {},
   "outputs": [
    {
     "data": {
      "text/plain": [
       "(array([-1,  0,  1,  2,  3,  4,  5,  6,  7,  8,  9, 10, 11, 12, 13, 14, 15,\n",
       "        16, 17, 18, 19, 20, 21, 22, 23, 24, 25]),\n",
       " array([ 2396, 11998,   248,   130,    23,    20,    12,    22,    41,\n",
       "           37,    17,     8,     8,     7,    13,     9,     8,     9,\n",
       "            5,     8,     5,    15,     8,     8,     8,     8,     7]))"
      ]
     },
     "execution_count": 121,
     "metadata": {},
     "output_type": "execute_result"
    }
   ],
   "source": [
    "np.unique(dbscan.labels_, return_counts=True)"
   ]
  },
  {
   "cell_type": "code",
   "execution_count": 122,
   "metadata": {},
   "outputs": [
    {
     "data": {
      "text/html": [
       "<div>\n",
       "<style scoped>\n",
       "    .dataframe tbody tr th:only-of-type {\n",
       "        vertical-align: middle;\n",
       "    }\n",
       "\n",
       "    .dataframe tbody tr th {\n",
       "        vertical-align: top;\n",
       "    }\n",
       "\n",
       "    .dataframe thead th {\n",
       "        text-align: right;\n",
       "    }\n",
       "</style>\n",
       "<table border=\"1\" class=\"dataframe\">\n",
       "  <thead>\n",
       "    <tr style=\"text-align: right;\">\n",
       "      <th></th>\n",
       "      <th>Lat</th>\n",
       "      <th>Lon</th>\n",
       "      <th>Hour</th>\n",
       "      <th>Minutes</th>\n",
       "      <th>DayOfWeek</th>\n",
       "      <th>cluster</th>\n",
       "    </tr>\n",
       "  </thead>\n",
       "  <tbody>\n",
       "    <tr>\n",
       "      <th>226177</th>\n",
       "      <td>40.7790</td>\n",
       "      <td>-73.9873</td>\n",
       "      <td>7</td>\n",
       "      <td>16</td>\n",
       "      <td>Thursday</td>\n",
       "      <td>0</td>\n",
       "    </tr>\n",
       "    <tr>\n",
       "      <th>119130</th>\n",
       "      <td>40.7308</td>\n",
       "      <td>-74.0053</td>\n",
       "      <td>6</td>\n",
       "      <td>38</td>\n",
       "      <td>Thursday</td>\n",
       "      <td>0</td>\n",
       "    </tr>\n",
       "    <tr>\n",
       "      <th>226220</th>\n",
       "      <td>40.7287</td>\n",
       "      <td>-73.9861</td>\n",
       "      <td>7</td>\n",
       "      <td>27</td>\n",
       "      <td>Thursday</td>\n",
       "      <td>0</td>\n",
       "    </tr>\n",
       "    <tr>\n",
       "      <th>82365</th>\n",
       "      <td>40.7543</td>\n",
       "      <td>-73.9739</td>\n",
       "      <td>11</td>\n",
       "      <td>48</td>\n",
       "      <td>Thursday</td>\n",
       "      <td>0</td>\n",
       "    </tr>\n",
       "    <tr>\n",
       "      <th>402053</th>\n",
       "      <td>40.7254</td>\n",
       "      <td>-73.9966</td>\n",
       "      <td>15</td>\n",
       "      <td>42</td>\n",
       "      <td>Thursday</td>\n",
       "      <td>0</td>\n",
       "    </tr>\n",
       "  </tbody>\n",
       "</table>\n",
       "</div>"
      ],
      "text/plain": [
       "            Lat      Lon  Hour  Minutes DayOfWeek  cluster\n",
       "226177  40.7790 -73.9873     7       16  Thursday        0\n",
       "119130  40.7308 -74.0053     6       38  Thursday        0\n",
       "226220  40.7287 -73.9861     7       27  Thursday        0\n",
       "82365   40.7543 -73.9739    11       48  Thursday        0\n",
       "402053  40.7254 -73.9966    15       42  Thursday        0"
      ]
     },
     "execution_count": 122,
     "metadata": {},
     "output_type": "execute_result"
    }
   ],
   "source": [
    "thursday[\"cluster\"] = dbscan.labels_\n",
    "thursday.head()"
   ]
  },
  {
   "cell_type": "markdown",
   "metadata": {},
   "source": [
    "##### A scatterplot to see how the DBSCAN algorithm has clustered the pick-up points, except outliers, in New York city on Thursdays"
   ]
  },
  {
   "cell_type": "code",
   "execution_count": 165,
   "metadata": {},
   "outputs": [
    {
     "data": {
      "text/html": [
       "<iframe\n",
       "    scrolling=\"no\"\n",
       "    width=\"100%\"\n",
       "    height=\"545px\"\n",
       "    src=\"iframe_figures/figure_165.html\"\n",
       "    frameborder=\"0\"\n",
       "    allowfullscreen\n",
       "></iframe>\n"
      ]
     },
     "metadata": {},
     "output_type": "display_data"
    }
   ],
   "source": [
    "fig_thursday_cluster = px.scatter_mapbox(\n",
    "        thursday[thursday.cluster != -1], \n",
    "        lat=\"Lat\", \n",
    "        lon=\"Lon\",\n",
    "        color=\"cluster\",\n",
    "        mapbox_style=\"carto-positron\"\n",
    ")\n",
    "\n",
    "fig_thursday_cluster.show()"
   ]
  },
  {
   "cell_type": "markdown",
   "metadata": {},
   "source": [
    "### Picking Friday to observe how the clustering algorithm behaves"
   ]
  },
  {
   "cell_type": "code",
   "execution_count": 124,
   "metadata": {},
   "outputs": [
    {
     "data": {
      "text/plain": [
       "(15991, 8)"
      ]
     },
     "execution_count": 124,
     "metadata": {},
     "output_type": "execute_result"
    }
   ],
   "source": [
    "friday.shape"
   ]
  },
  {
   "cell_type": "code",
   "execution_count": 125,
   "metadata": {},
   "outputs": [
    {
     "data": {
      "text/html": [
       "<iframe\n",
       "    scrolling=\"no\"\n",
       "    width=\"100%\"\n",
       "    height=\"545px\"\n",
       "    src=\"iframe_figures/figure_125.html\"\n",
       "    frameborder=\"0\"\n",
       "    allowfullscreen\n",
       "></iframe>\n"
      ]
     },
     "metadata": {},
     "output_type": "display_data"
    }
   ],
   "source": [
    "fig_friday = px.scatter_mapbox(\n",
    "        friday, \n",
    "        lat=\"Lat\", \n",
    "        lon=\"Lon\",\n",
    "        mapbox_style=\"carto-positron\"\n",
    ")\n",
    "\n",
    "fig_friday.show()"
   ]
  },
  {
   "cell_type": "markdown",
   "metadata": {},
   "source": [
    "##### Dropping unnecessary columns of the dataset"
   ]
  },
  {
   "cell_type": "code",
   "execution_count": 126,
   "metadata": {},
   "outputs": [],
   "source": [
    "friday = friday.drop(columns=[\"Year\", \"Month\", \"Day\"])"
   ]
  },
  {
   "cell_type": "code",
   "execution_count": 127,
   "metadata": {},
   "outputs": [
    {
     "data": {
      "text/html": [
       "<div>\n",
       "<style scoped>\n",
       "    .dataframe tbody tr th:only-of-type {\n",
       "        vertical-align: middle;\n",
       "    }\n",
       "\n",
       "    .dataframe tbody tr th {\n",
       "        vertical-align: top;\n",
       "    }\n",
       "\n",
       "    .dataframe thead th {\n",
       "        text-align: right;\n",
       "    }\n",
       "</style>\n",
       "<table border=\"1\" class=\"dataframe\">\n",
       "  <thead>\n",
       "    <tr style=\"text-align: right;\">\n",
       "      <th></th>\n",
       "      <th>Lat</th>\n",
       "      <th>Lon</th>\n",
       "      <th>Hour</th>\n",
       "      <th>Minutes</th>\n",
       "      <th>DayOfWeek</th>\n",
       "    </tr>\n",
       "  </thead>\n",
       "  <tbody>\n",
       "    <tr>\n",
       "      <th>12701</th>\n",
       "      <td>40.7330</td>\n",
       "      <td>-73.9961</td>\n",
       "      <td>5</td>\n",
       "      <td>34</td>\n",
       "      <td>Friday</td>\n",
       "    </tr>\n",
       "    <tr>\n",
       "      <th>562503</th>\n",
       "      <td>40.7326</td>\n",
       "      <td>-73.9969</td>\n",
       "      <td>21</td>\n",
       "      <td>1</td>\n",
       "      <td>Friday</td>\n",
       "    </tr>\n",
       "    <tr>\n",
       "      <th>234387</th>\n",
       "      <td>40.7277</td>\n",
       "      <td>-73.9837</td>\n",
       "      <td>20</td>\n",
       "      <td>58</td>\n",
       "      <td>Friday</td>\n",
       "    </tr>\n",
       "    <tr>\n",
       "      <th>54521</th>\n",
       "      <td>40.7549</td>\n",
       "      <td>-73.9705</td>\n",
       "      <td>19</td>\n",
       "      <td>47</td>\n",
       "      <td>Friday</td>\n",
       "    </tr>\n",
       "    <tr>\n",
       "      <th>171840</th>\n",
       "      <td>40.7645</td>\n",
       "      <td>-73.9728</td>\n",
       "      <td>18</td>\n",
       "      <td>9</td>\n",
       "      <td>Friday</td>\n",
       "    </tr>\n",
       "  </tbody>\n",
       "</table>\n",
       "</div>"
      ],
      "text/plain": [
       "            Lat      Lon  Hour  Minutes DayOfWeek\n",
       "12701   40.7330 -73.9961     5       34    Friday\n",
       "562503  40.7326 -73.9969    21        1    Friday\n",
       "234387  40.7277 -73.9837    20       58    Friday\n",
       "54521   40.7549 -73.9705    19       47    Friday\n",
       "171840  40.7645 -73.9728    18        9    Friday"
      ]
     },
     "execution_count": 127,
     "metadata": {},
     "output_type": "execute_result"
    }
   ],
   "source": [
    "friday.head()"
   ]
  },
  {
   "cell_type": "markdown",
   "metadata": {},
   "source": [
    "##### Scaling numerical data and one-hot encoding categorical data"
   ]
  },
  {
   "cell_type": "code",
   "execution_count": 128,
   "metadata": {},
   "outputs": [
    {
     "name": "stdout",
     "output_type": "stream",
     "text": [
      "Preprocessing on dataset...\n",
      "            Lat      Lon  Hour  Minutes DayOfWeek\n",
      "12701   40.7330 -73.9961     5       34    Friday\n",
      "562503  40.7326 -73.9969    21        1    Friday\n",
      "234387  40.7277 -73.9837    20       58    Friday\n",
      "54521   40.7549 -73.9705    19       47    Friday\n",
      "171840  40.7645 -73.9728    18        9    Friday\n",
      "...Completed.\n",
      "[[-0.22368226 -0.37605887 -1.73677079  0.23675765]\n",
      " [-0.23502112 -0.39371084  1.01349521 -1.6742187 ]\n",
      " [-0.37392227 -0.10245318  0.84160358  1.62655863]\n",
      " [ 0.39712083  0.18880449  0.66971196  0.98956652]\n",
      " [ 0.66925368  0.13805505  0.49782033 -1.2109517 ]]\n",
      "\n"
     ]
    }
   ],
   "source": [
    "numeric_features = [0, 1, 2, 3] # Positions of numerical variables\n",
    "numeric_transformer = StandardScaler()\n",
    "\n",
    "# Creation of the transformer for categorical values\n",
    "categorical_features = [4] # Positions of categorical variables\n",
    "categorical_transformer = OneHotEncoder(drop='first')\n",
    "\n",
    "# Combining the transformers in ColumnTransformer\n",
    "preprocessor = ColumnTransformer(\n",
    "    transformers=[\n",
    "        ('num', numeric_transformer, numeric_features),\n",
    "        ('cat', categorical_transformer, categorical_features)\n",
    "    ])\n",
    "\n",
    "print(\"Preprocessing on dataset...\")\n",
    "print(friday.head())\n",
    "scaled_X_friday = preprocessor.fit_transform(friday)\n",
    "print('...Completed.')\n",
    "print(scaled_X_friday[0:5, :])\n",
    "print()"
   ]
  },
  {
   "cell_type": "markdown",
   "metadata": {},
   "source": [
    "#####  Use DBSCAN and a for loop to create a variety of models testing different epsilon values"
   ]
  },
  {
   "cell_type": "code",
   "execution_count": 129,
   "metadata": {},
   "outputs": [],
   "source": [
    "from sklearn.cluster import DBSCAN\n",
    "\n",
    "outlier_percent = []\n",
    "\n",
    "for eps in np.linspace(0.1, 2, 10):\n",
    "    \n",
    "    # Create Model\n",
    "    dbscan = DBSCAN(eps=eps,min_samples=2*scaled_X_friday.shape[1], metric=\"manhattan\", algorithm=\"brute\")\n",
    "    dbscan.fit(scaled_X_friday)\n",
    "   \n",
    "     \n",
    "    # Log percentage of points that are outliers\n",
    "    perc_outliers = 100 * np.sum(dbscan.labels_ == -1) / len(dbscan.labels_)\n",
    "    \n",
    "    outlier_percent.append(perc_outliers)"
   ]
  },
  {
   "cell_type": "markdown",
   "metadata": {},
   "source": [
    "##### Creating a line plot of the percentage of outlier points versus the epsilon value choice"
   ]
  },
  {
   "cell_type": "code",
   "execution_count": 130,
   "metadata": {},
   "outputs": [
    {
     "data": {
      "text/plain": [
       "Text(0.5, 0, 'Epsilon value')"
      ]
     },
     "execution_count": 130,
     "metadata": {},
     "output_type": "execute_result"
    },
    {
     "data": {
      "image/png": "[encoded data removed]",
      "text/plain": [
       "<Figure size 432x288 with 1 Axes>"
      ]
     },
     "metadata": {
      "needs_background": "light"
     },
     "output_type": "display_data"
    }
   ],
   "source": [
    "import seaborn as sns\n",
    "import matplotlib.pyplot as plt\n",
    "sns.lineplot(x=np.linspace(0.1, 2, 10), y=outlier_percent)\n",
    "plt.ylabel(\"Percentage of points classified as outliers\")\n",
    "plt.xlabel(\"Epsilon value\")"
   ]
  },
  {
   "cell_type": "markdown",
   "metadata": {},
   "source": [
    "##### Retraining a DBSCAN model with epsilon value = 0.5, based on the plot created above, and min_samples = 8"
   ]
  },
  {
   "cell_type": "code",
   "execution_count": 131,
   "metadata": {},
   "outputs": [
    {
     "data": {
      "text/plain": [
       "DBSCAN(algorithm='brute', metric='manhattan', min_samples=8)"
      ]
     },
     "execution_count": 131,
     "metadata": {},
     "output_type": "execute_result"
    }
   ],
   "source": [
    "eps = 0.5\n",
    "dbscan = DBSCAN(eps=eps, min_samples=min_samples, metric=\"manhattan\", algorithm=\"brute\")\n",
    "dbscan.fit(scaled_X_friday)"
   ]
  },
  {
   "cell_type": "code",
   "execution_count": 132,
   "metadata": {},
   "outputs": [
    {
     "data": {
      "text/plain": [
       "(array([-1,  0,  1,  2,  3,  4,  5,  6,  7,  8,  9, 10, 11, 12, 13, 14, 15,\n",
       "        16, 17, 18, 19, 20, 21, 22, 23, 24, 25, 26]),\n",
       " array([ 2578, 12802,   165,     5,    32,     6,    69,    35,    79,\n",
       "           25,    24,     8,    20,    10,     8,     8,     8,    20,\n",
       "           15,    12,     8,     5,    12,     7,     8,     8,     7,\n",
       "            7]))"
      ]
     },
     "execution_count": 132,
     "metadata": {},
     "output_type": "execute_result"
    }
   ],
   "source": [
    "np.unique(dbscan.labels_, return_counts=True)"
   ]
  },
  {
   "cell_type": "code",
   "execution_count": 133,
   "metadata": {},
   "outputs": [
    {
     "data": {
      "text/html": [
       "<div>\n",
       "<style scoped>\n",
       "    .dataframe tbody tr th:only-of-type {\n",
       "        vertical-align: middle;\n",
       "    }\n",
       "\n",
       "    .dataframe tbody tr th {\n",
       "        vertical-align: top;\n",
       "    }\n",
       "\n",
       "    .dataframe thead th {\n",
       "        text-align: right;\n",
       "    }\n",
       "</style>\n",
       "<table border=\"1\" class=\"dataframe\">\n",
       "  <thead>\n",
       "    <tr style=\"text-align: right;\">\n",
       "      <th></th>\n",
       "      <th>Lat</th>\n",
       "      <th>Lon</th>\n",
       "      <th>Hour</th>\n",
       "      <th>Minutes</th>\n",
       "      <th>DayOfWeek</th>\n",
       "      <th>cluster</th>\n",
       "    </tr>\n",
       "  </thead>\n",
       "  <tbody>\n",
       "    <tr>\n",
       "      <th>12701</th>\n",
       "      <td>40.7330</td>\n",
       "      <td>-73.9961</td>\n",
       "      <td>5</td>\n",
       "      <td>34</td>\n",
       "      <td>Friday</td>\n",
       "      <td>0</td>\n",
       "    </tr>\n",
       "    <tr>\n",
       "      <th>562503</th>\n",
       "      <td>40.7326</td>\n",
       "      <td>-73.9969</td>\n",
       "      <td>21</td>\n",
       "      <td>1</td>\n",
       "      <td>Friday</td>\n",
       "      <td>0</td>\n",
       "    </tr>\n",
       "    <tr>\n",
       "      <th>234387</th>\n",
       "      <td>40.7277</td>\n",
       "      <td>-73.9837</td>\n",
       "      <td>20</td>\n",
       "      <td>58</td>\n",
       "      <td>Friday</td>\n",
       "      <td>0</td>\n",
       "    </tr>\n",
       "    <tr>\n",
       "      <th>54521</th>\n",
       "      <td>40.7549</td>\n",
       "      <td>-73.9705</td>\n",
       "      <td>19</td>\n",
       "      <td>47</td>\n",
       "      <td>Friday</td>\n",
       "      <td>0</td>\n",
       "    </tr>\n",
       "    <tr>\n",
       "      <th>171840</th>\n",
       "      <td>40.7645</td>\n",
       "      <td>-73.9728</td>\n",
       "      <td>18</td>\n",
       "      <td>9</td>\n",
       "      <td>Friday</td>\n",
       "      <td>0</td>\n",
       "    </tr>\n",
       "  </tbody>\n",
       "</table>\n",
       "</div>"
      ],
      "text/plain": [
       "            Lat      Lon  Hour  Minutes DayOfWeek  cluster\n",
       "12701   40.7330 -73.9961     5       34    Friday        0\n",
       "562503  40.7326 -73.9969    21        1    Friday        0\n",
       "234387  40.7277 -73.9837    20       58    Friday        0\n",
       "54521   40.7549 -73.9705    19       47    Friday        0\n",
       "171840  40.7645 -73.9728    18        9    Friday        0"
      ]
     },
     "execution_count": 133,
     "metadata": {},
     "output_type": "execute_result"
    }
   ],
   "source": [
    "friday[\"cluster\"] = dbscan.labels_\n",
    "friday.head()"
   ]
  },
  {
   "cell_type": "markdown",
   "metadata": {},
   "source": [
    "##### A scatterplot to see how the DBSCAN algorithm has clustered the pick-up points, except outliers, in New York city on Fridays"
   ]
  },
  {
   "cell_type": "code",
   "execution_count": 166,
   "metadata": {},
   "outputs": [
    {
     "data": {
      "text/html": [
       "<iframe\n",
       "    scrolling=\"no\"\n",
       "    width=\"100%\"\n",
       "    height=\"545px\"\n",
       "    src=\"iframe_figures/figure_166.html\"\n",
       "    frameborder=\"0\"\n",
       "    allowfullscreen\n",
       "></iframe>\n"
      ]
     },
     "metadata": {},
     "output_type": "display_data"
    }
   ],
   "source": [
    "fig_friday_cluster = px.scatter_mapbox(\n",
    "        friday[friday.cluster != -1], \n",
    "        lat=\"Lat\", \n",
    "        lon=\"Lon\",\n",
    "        color=\"cluster\",\n",
    "        mapbox_style=\"carto-positron\"\n",
    ")\n",
    "\n",
    "fig_friday_cluster.show()"
   ]
  },
  {
   "cell_type": "markdown",
   "metadata": {},
   "source": [
    "### Picking Saturday to observe how the clustering algorithm behaves"
   ]
  },
  {
   "cell_type": "code",
   "execution_count": 135,
   "metadata": {},
   "outputs": [
    {
     "data": {
      "text/plain": [
       "(13660, 8)"
      ]
     },
     "execution_count": 135,
     "metadata": {},
     "output_type": "execute_result"
    }
   ],
   "source": [
    "saturday.shape"
   ]
  },
  {
   "cell_type": "code",
   "execution_count": 167,
   "metadata": {},
   "outputs": [
    {
     "data": {
      "text/html": [
       "<iframe\n",
       "    scrolling=\"no\"\n",
       "    width=\"100%\"\n",
       "    height=\"545px\"\n",
       "    src=\"iframe_figures/figure_167.html\"\n",
       "    frameborder=\"0\"\n",
       "    allowfullscreen\n",
       "></iframe>\n"
      ]
     },
     "metadata": {},
     "output_type": "display_data"
    }
   ],
   "source": [
    "fig_saturday = px.scatter_mapbox(\n",
    "        saturday, \n",
    "        lat=\"Lat\", \n",
    "        lon=\"Lon\",\n",
    "        mapbox_style=\"carto-positron\"\n",
    ")\n",
    "\n",
    "fig_saturday.show()"
   ]
  },
  {
   "cell_type": "markdown",
   "metadata": {},
   "source": [
    "##### Dropping unnecessary columns of the dataset"
   ]
  },
  {
   "cell_type": "code",
   "execution_count": 137,
   "metadata": {},
   "outputs": [],
   "source": [
    "saturday = saturday.drop(columns=[\"Year\", \"Month\", \"Day\"])"
   ]
  },
  {
   "cell_type": "code",
   "execution_count": 138,
   "metadata": {},
   "outputs": [
    {
     "data": {
      "text/html": [
       "<div>\n",
       "<style scoped>\n",
       "    .dataframe tbody tr th:only-of-type {\n",
       "        vertical-align: middle;\n",
       "    }\n",
       "\n",
       "    .dataframe tbody tr th {\n",
       "        vertical-align: top;\n",
       "    }\n",
       "\n",
       "    .dataframe thead th {\n",
       "        text-align: right;\n",
       "    }\n",
       "</style>\n",
       "<table border=\"1\" class=\"dataframe\">\n",
       "  <thead>\n",
       "    <tr style=\"text-align: right;\">\n",
       "      <th></th>\n",
       "      <th>Lat</th>\n",
       "      <th>Lon</th>\n",
       "      <th>Hour</th>\n",
       "      <th>Minutes</th>\n",
       "      <th>DayOfWeek</th>\n",
       "    </tr>\n",
       "  </thead>\n",
       "  <tbody>\n",
       "    <tr>\n",
       "      <th>93727</th>\n",
       "      <td>40.7138</td>\n",
       "      <td>-74.0066</td>\n",
       "      <td>7</td>\n",
       "      <td>37</td>\n",
       "      <td>Saturday</td>\n",
       "    </tr>\n",
       "    <tr>\n",
       "      <th>98088</th>\n",
       "      <td>40.6465</td>\n",
       "      <td>-73.7896</td>\n",
       "      <td>22</td>\n",
       "      <td>27</td>\n",
       "      <td>Saturday</td>\n",
       "    </tr>\n",
       "    <tr>\n",
       "      <th>466158</th>\n",
       "      <td>40.6884</td>\n",
       "      <td>-73.9628</td>\n",
       "      <td>13</td>\n",
       "      <td>45</td>\n",
       "      <td>Saturday</td>\n",
       "    </tr>\n",
       "    <tr>\n",
       "      <th>519354</th>\n",
       "      <td>40.7226</td>\n",
       "      <td>-73.9890</td>\n",
       "      <td>20</td>\n",
       "      <td>9</td>\n",
       "      <td>Saturday</td>\n",
       "    </tr>\n",
       "    <tr>\n",
       "      <th>368277</th>\n",
       "      <td>40.7353</td>\n",
       "      <td>-74.0099</td>\n",
       "      <td>21</td>\n",
       "      <td>38</td>\n",
       "      <td>Saturday</td>\n",
       "    </tr>\n",
       "  </tbody>\n",
       "</table>\n",
       "</div>"
      ],
      "text/plain": [
       "            Lat      Lon  Hour  Minutes DayOfWeek\n",
       "93727   40.7138 -74.0066     7       37  Saturday\n",
       "98088   40.6465 -73.7896    22       27  Saturday\n",
       "466158  40.6884 -73.9628    13       45  Saturday\n",
       "519354  40.7226 -73.9890    20        9  Saturday\n",
       "368277  40.7353 -74.0099    21       38  Saturday"
      ]
     },
     "execution_count": 138,
     "metadata": {},
     "output_type": "execute_result"
    }
   ],
   "source": [
    "saturday.head()"
   ]
  },
  {
   "cell_type": "markdown",
   "metadata": {},
   "source": [
    "##### Scaling numerical data and one-hot encoding categorical data"
   ]
  },
  {
   "cell_type": "code",
   "execution_count": 139,
   "metadata": {},
   "outputs": [
    {
     "name": "stdout",
     "output_type": "stream",
     "text": [
      "Preprocessing on dataset...\n",
      "            Lat      Lon  Hour  Minutes DayOfWeek\n",
      "93727   40.7138 -74.0066     7       37  Saturday\n",
      "98088   40.6465 -73.7896    22       27  Saturday\n",
      "466158  40.6884 -73.9628    13       45  Saturday\n",
      "519354  40.7226 -73.9890    20        9  Saturday\n",
      "368277  40.7353 -74.0099    21       38  Saturday\n",
      "...Completed.\n",
      "[[-0.59852202 -0.59045203 -1.23748905  0.42755983]\n",
      " [-2.43376614  4.00964856  1.04946545 -0.15002945]\n",
      " [-1.29116987  0.33804754 -0.32270725  0.88963126]\n",
      " [-0.35854953 -0.21735631  0.74453818 -1.18969016]\n",
      " [-0.0122256  -0.66040747  0.89700182  0.48531876]]\n",
      "\n"
     ]
    }
   ],
   "source": [
    "numeric_features = [0, 1, 2, 3] # Positions of numerical variables\n",
    "numeric_transformer = StandardScaler()\n",
    "\n",
    "# Creation of the transformer for categorical values\n",
    "categorical_features = [4] # Positions of categorical variables\n",
    "categorical_transformer = OneHotEncoder(drop='first')\n",
    "\n",
    "# Combining the transformers in ColumnTransformer\n",
    "preprocessor = ColumnTransformer(\n",
    "    transformers=[\n",
    "        ('num', numeric_transformer, numeric_features),\n",
    "        ('cat', categorical_transformer, categorical_features)\n",
    "    ])\n",
    "\n",
    "print(\"Preprocessing on dataset...\")\n",
    "print(saturday.head())\n",
    "scaled_X_saturday = preprocessor.fit_transform(saturday)\n",
    "print('...Completed.')\n",
    "print(scaled_X_saturday[0:5, :])\n",
    "print()"
   ]
  },
  {
   "cell_type": "markdown",
   "metadata": {},
   "source": [
    "#####  Use DBSCAN and a for loop to create a variety of models testing different epsilon values"
   ]
  },
  {
   "cell_type": "code",
   "execution_count": 140,
   "metadata": {},
   "outputs": [],
   "source": [
    "from sklearn.cluster import DBSCAN\n",
    "\n",
    "outlier_percent = []\n",
    "\n",
    "for eps in np.linspace(0.1, 2, 10):\n",
    "    \n",
    "    # Create Model\n",
    "    dbscan = DBSCAN(eps=eps,min_samples=2*scaled_X_saturday.shape[1], metric=\"manhattan\", algorithm=\"brute\")\n",
    "    dbscan.fit(scaled_X_saturday)\n",
    "   \n",
    "     \n",
    "    # Log percentage of points that are outliers\n",
    "    perc_outliers = 100 * np.sum(dbscan.labels_ == -1) / len(dbscan.labels_)\n",
    "    \n",
    "    outlier_percent.append(perc_outliers)"
   ]
  },
  {
   "cell_type": "markdown",
   "metadata": {},
   "source": [
    "##### Creating a line plot of the percentage of outlier points versus the epsilon value choice"
   ]
  },
  {
   "cell_type": "code",
   "execution_count": 141,
   "metadata": {},
   "outputs": [
    {
     "data": {
      "text/plain": [
       "Text(0.5, 0, 'Epsilon value')"
      ]
     },
     "execution_count": 141,
     "metadata": {},
     "output_type": "execute_result"
    },
    {
     "data": {
      "image/png": "[encoded data removed]",
      "text/plain": [
       "<Figure size 432x288 with 1 Axes>"
      ]
     },
     "metadata": {
      "needs_background": "light"
     },
     "output_type": "display_data"
    }
   ],
   "source": [
    "import seaborn as sns\n",
    "import matplotlib.pyplot as plt\n",
    "sns.lineplot(x=np.linspace(0.1, 2, 10), y=outlier_percent)\n",
    "plt.ylabel(\"Percentage of points classified as outliers\")\n",
    "plt.xlabel(\"Epsilon value\")"
   ]
  },
  {
   "cell_type": "markdown",
   "metadata": {},
   "source": [
    "##### Retraining a DBSCAN model with epsilon value = 0.6, based on the plot created above, and min_samples = 8"
   ]
  },
  {
   "cell_type": "code",
   "execution_count": 142,
   "metadata": {},
   "outputs": [
    {
     "data": {
      "text/plain": [
       "DBSCAN(algorithm='brute', eps=0.6, metric='manhattan', min_samples=8)"
      ]
     },
     "execution_count": 142,
     "metadata": {},
     "output_type": "execute_result"
    }
   ],
   "source": [
    "eps = 0.6\n",
    "dbscan = DBSCAN(eps=eps, min_samples=min_samples, metric=\"manhattan\", algorithm=\"brute\")\n",
    "dbscan.fit(scaled_X_saturday)"
   ]
  },
  {
   "cell_type": "code",
   "execution_count": 143,
   "metadata": {},
   "outputs": [
    {
     "data": {
      "text/plain": [
       "(array([-1,  0,  1,  2,  3,  4,  5,  6,  7,  8,  9, 10]),\n",
       " array([ 1704, 11780,    15,    99,     8,    11,     8,     8,     6,\n",
       "            5,     8,     8]))"
      ]
     },
     "execution_count": 143,
     "metadata": {},
     "output_type": "execute_result"
    }
   ],
   "source": [
    "np.unique(dbscan.labels_, return_counts=True)"
   ]
  },
  {
   "cell_type": "code",
   "execution_count": 144,
   "metadata": {},
   "outputs": [
    {
     "data": {
      "text/html": [
       "<div>\n",
       "<style scoped>\n",
       "    .dataframe tbody tr th:only-of-type {\n",
       "        vertical-align: middle;\n",
       "    }\n",
       "\n",
       "    .dataframe tbody tr th {\n",
       "        vertical-align: top;\n",
       "    }\n",
       "\n",
       "    .dataframe thead th {\n",
       "        text-align: right;\n",
       "    }\n",
       "</style>\n",
       "<table border=\"1\" class=\"dataframe\">\n",
       "  <thead>\n",
       "    <tr style=\"text-align: right;\">\n",
       "      <th></th>\n",
       "      <th>Lat</th>\n",
       "      <th>Lon</th>\n",
       "      <th>Hour</th>\n",
       "      <th>Minutes</th>\n",
       "      <th>DayOfWeek</th>\n",
       "      <th>cluster</th>\n",
       "    </tr>\n",
       "  </thead>\n",
       "  <tbody>\n",
       "    <tr>\n",
       "      <th>93727</th>\n",
       "      <td>40.7138</td>\n",
       "      <td>-74.0066</td>\n",
       "      <td>7</td>\n",
       "      <td>37</td>\n",
       "      <td>Saturday</td>\n",
       "      <td>0</td>\n",
       "    </tr>\n",
       "    <tr>\n",
       "      <th>98088</th>\n",
       "      <td>40.6465</td>\n",
       "      <td>-73.7896</td>\n",
       "      <td>22</td>\n",
       "      <td>27</td>\n",
       "      <td>Saturday</td>\n",
       "      <td>2</td>\n",
       "    </tr>\n",
       "    <tr>\n",
       "      <th>466158</th>\n",
       "      <td>40.6884</td>\n",
       "      <td>-73.9628</td>\n",
       "      <td>13</td>\n",
       "      <td>45</td>\n",
       "      <td>Saturday</td>\n",
       "      <td>0</td>\n",
       "    </tr>\n",
       "    <tr>\n",
       "      <th>519354</th>\n",
       "      <td>40.7226</td>\n",
       "      <td>-73.9890</td>\n",
       "      <td>20</td>\n",
       "      <td>9</td>\n",
       "      <td>Saturday</td>\n",
       "      <td>0</td>\n",
       "    </tr>\n",
       "    <tr>\n",
       "      <th>368277</th>\n",
       "      <td>40.7353</td>\n",
       "      <td>-74.0099</td>\n",
       "      <td>21</td>\n",
       "      <td>38</td>\n",
       "      <td>Saturday</td>\n",
       "      <td>0</td>\n",
       "    </tr>\n",
       "  </tbody>\n",
       "</table>\n",
       "</div>"
      ],
      "text/plain": [
       "            Lat      Lon  Hour  Minutes DayOfWeek  cluster\n",
       "93727   40.7138 -74.0066     7       37  Saturday        0\n",
       "98088   40.6465 -73.7896    22       27  Saturday        2\n",
       "466158  40.6884 -73.9628    13       45  Saturday        0\n",
       "519354  40.7226 -73.9890    20        9  Saturday        0\n",
       "368277  40.7353 -74.0099    21       38  Saturday        0"
      ]
     },
     "execution_count": 144,
     "metadata": {},
     "output_type": "execute_result"
    }
   ],
   "source": [
    "saturday[\"cluster\"] = dbscan.labels_\n",
    "saturday.head()"
   ]
  },
  {
   "cell_type": "markdown",
   "metadata": {},
   "source": [
    "##### A scatterplot to see how the DBSCAN algorithm has clustered the pick-up points, except outliers, in New York city on Saturdays"
   ]
  },
  {
   "cell_type": "code",
   "execution_count": 168,
   "metadata": {},
   "outputs": [
    {
     "data": {
      "text/html": [
       "<iframe\n",
       "    scrolling=\"no\"\n",
       "    width=\"100%\"\n",
       "    height=\"545px\"\n",
       "    src=\"iframe_figures/figure_168.html\"\n",
       "    frameborder=\"0\"\n",
       "    allowfullscreen\n",
       "></iframe>\n"
      ]
     },
     "metadata": {},
     "output_type": "display_data"
    }
   ],
   "source": [
    "fig_saturday_cluster = px.scatter_mapbox(\n",
    "        saturday[saturday.cluster != -1], \n",
    "        lat=\"Lat\", \n",
    "        lon=\"Lon\",\n",
    "        color=\"cluster\",\n",
    "        mapbox_style=\"carto-positron\"\n",
    ")\n",
    "\n",
    "fig_saturday_cluster.show()"
   ]
  },
  {
   "cell_type": "markdown",
   "metadata": {},
   "source": [
    "## Hot zones per day of week in New York City"
   ]
  },
  {
   "cell_type": "markdown",
   "metadata": {},
   "source": [
    "## Showing clusters per hour for Sunday"
   ]
  },
  {
   "cell_type": "code",
   "execution_count": 146,
   "metadata": {},
   "outputs": [],
   "source": [
    "sunday_sort = sunday.sort_values(by=[\"Hour\"])"
   ]
  },
  {
   "cell_type": "code",
   "execution_count": 169,
   "metadata": {},
   "outputs": [
    {
     "data": {
      "text/html": [
       "<iframe\n",
       "    scrolling=\"no\"\n",
       "    width=\"620px\"\n",
       "    height=\"620\"\n",
       "    src=\"iframe_figures/figure_169.html\"\n",
       "    frameborder=\"0\"\n",
       "    allowfullscreen\n",
       "></iframe>\n"
      ]
     },
     "metadata": {},
     "output_type": "display_data"
    }
   ],
   "source": [
    "fig_sunday_cluster = px.scatter_mapbox(\n",
    "    sunday_sort[sunday_sort.cluster != -1],\n",
    "    lat=\"Lat\",\n",
    "    lon=\"Lon\",\n",
    "    color=\"cluster\",\n",
    "    mapbox_style=\"carto-positron\",\n",
    "    color_continuous_scale=None,\n",
    "    zoom=10,\n",
    "    animation_frame=\"Hour\",\n",
    ")\n",
    "\n",
    "\n",
    "fig_sunday_cluster.update_layout(\n",
    "    autosize=False,\n",
    "    width=600,\n",
    "    height=600,\n",
    "    showlegend=False,\n",
    "    title= \"Traffic by hour on Sunday\"\n",
    "      )\n",
    "img_name = \"Traffic by hour on Sunday\"\n",
    "fig_sunday_cluster.write_html(img_name)\n",
    "fig_sunday_cluster.show()"
   ]
  },
  {
   "cell_type": "markdown",
   "metadata": {},
   "source": [
    "### Showing clusters per hour for Monday"
   ]
  },
  {
   "cell_type": "code",
   "execution_count": 170,
   "metadata": {},
   "outputs": [
    {
     "data": {
      "text/html": [
       "<iframe\n",
       "    scrolling=\"no\"\n",
       "    width=\"620px\"\n",
       "    height=\"620\"\n",
       "    src=\"iframe_figures/figure_170.html\"\n",
       "    frameborder=\"0\"\n",
       "    allowfullscreen\n",
       "></iframe>\n"
      ]
     },
     "metadata": {},
     "output_type": "display_data"
    }
   ],
   "source": [
    "monday_sort = monday.sort_values(by=[\"Hour\"])\n",
    "fig_monday_cluster = px.scatter_mapbox(\n",
    "    monday_sort[monday_sort.cluster != -1],\n",
    "    lat=\"Lat\",\n",
    "    lon=\"Lon\",\n",
    "    color=\"cluster\",\n",
    "    mapbox_style=\"carto-positron\",\n",
    "    color_continuous_scale=None,\n",
    "    zoom=10,\n",
    "    animation_frame=\"Hour\",\n",
    ")\n",
    "\n",
    "\n",
    "fig_monday_cluster.update_layout(\n",
    "    autosize=False,\n",
    "    width=600,\n",
    "    height=600,\n",
    "    showlegend=False,\n",
    "    title= \"Traffic by hour on Monday\"\n",
    "      )\n",
    "img_name = \"Traffic by hour on Monday\"\n",
    "fig_monday_cluster.write_html(img_name)\n",
    "fig_monday_cluster.show()"
   ]
  },
  {
   "cell_type": "markdown",
   "metadata": {},
   "source": [
    "### Showing clusters per hour for Tuesday"
   ]
  },
  {
   "cell_type": "code",
   "execution_count": 171,
   "metadata": {},
   "outputs": [
    {
     "data": {
      "text/html": [
       "<iframe\n",
       "    scrolling=\"no\"\n",
       "    width=\"620px\"\n",
       "    height=\"620\"\n",
       "    src=\"iframe_figures/figure_171.html\"\n",
       "    frameborder=\"0\"\n",
       "    allowfullscreen\n",
       "></iframe>\n"
      ]
     },
     "metadata": {},
     "output_type": "display_data"
    }
   ],
   "source": [
    "tuesday_sort = tuesday.sort_values(by=[\"Hour\"])\n",
    "fig_tuesday_cluster = px.scatter_mapbox(\n",
    "    tuesday_sort[tuesday_sort.cluster != -1],\n",
    "    lat=\"Lat\",\n",
    "    lon=\"Lon\",\n",
    "    color=\"cluster\",\n",
    "    mapbox_style=\"carto-positron\",\n",
    "    color_continuous_scale=None,\n",
    "    zoom=10,\n",
    "    animation_frame=\"Hour\",\n",
    ")\n",
    "\n",
    "\n",
    "fig_tuesday_cluster.update_layout(\n",
    "    autosize=False,\n",
    "    width=600,\n",
    "    height=600,\n",
    "    showlegend=False,\n",
    "    title= \"Traffic by hour on Tuesday\"\n",
    "      )\n",
    "img_name = \"Traffic by hour on Tuesday\"\n",
    "fig_tuesday_cluster.write_html(img_name)\n",
    "fig_tuesday_cluster.show()"
   ]
  },
  {
   "cell_type": "markdown",
   "metadata": {},
   "source": [
    "### Showing clusters per hour for Wednesday"
   ]
  },
  {
   "cell_type": "code",
   "execution_count": 172,
   "metadata": {},
   "outputs": [
    {
     "data": {
      "text/html": [
       "<iframe\n",
       "    scrolling=\"no\"\n",
       "    width=\"620px\"\n",
       "    height=\"620\"\n",
       "    src=\"iframe_figures/figure_172.html\"\n",
       "    frameborder=\"0\"\n",
       "    allowfullscreen\n",
       "></iframe>\n"
      ]
     },
     "metadata": {},
     "output_type": "display_data"
    }
   ],
   "source": [
    "wednesday_sort = wednesday.sort_values(by=[\"Hour\"])\n",
    "fig_wednesday_cluster = px.scatter_mapbox(\n",
    "    wednesday_sort[wednesday_sort.cluster != -1],\n",
    "    lat=\"Lat\",\n",
    "    lon=\"Lon\",\n",
    "    color=\"cluster\",\n",
    "    mapbox_style=\"carto-positron\",\n",
    "    color_continuous_scale=None,\n",
    "    zoom=10,\n",
    "    animation_frame=\"Hour\",\n",
    ")\n",
    "\n",
    "\n",
    "fig_wednesday_cluster.update_layout(\n",
    "    autosize=False,\n",
    "    width=600,\n",
    "    height=600,\n",
    "    showlegend=False,\n",
    "    title= \"Traffic by hour on Wednesday\"\n",
    "      )\n",
    "img_name = \"Traffic by hour on Wednesday\"\n",
    "fig_wednesday_cluster.write_html(img_name)\n",
    "fig_wednesday_cluster.show()"
   ]
  },
  {
   "cell_type": "markdown",
   "metadata": {},
   "source": [
    "### Showing clusters per hour for Thursday"
   ]
  },
  {
   "cell_type": "code",
   "execution_count": 173,
   "metadata": {},
   "outputs": [
    {
     "data": {
      "text/html": [
       "<iframe\n",
       "    scrolling=\"no\"\n",
       "    width=\"620px\"\n",
       "    height=\"620\"\n",
       "    src=\"iframe_figures/figure_173.html\"\n",
       "    frameborder=\"0\"\n",
       "    allowfullscreen\n",
       "></iframe>\n"
      ]
     },
     "metadata": {},
     "output_type": "display_data"
    }
   ],
   "source": [
    "thursday_sort = thursday.sort_values(by=[\"Hour\"])\n",
    "fig_thursday_cluster = px.scatter_mapbox(\n",
    "    thursday_sort[thursday_sort.cluster != -1],\n",
    "    lat=\"Lat\",\n",
    "    lon=\"Lon\",\n",
    "    color=\"cluster\",\n",
    "    mapbox_style=\"carto-positron\",\n",
    "    color_continuous_scale=None,\n",
    "    zoom=10,\n",
    "    animation_frame=\"Hour\",\n",
    ")\n",
    "\n",
    "\n",
    "fig_thursday_cluster.update_layout(\n",
    "    autosize=False,\n",
    "    width=600,\n",
    "    height=600,\n",
    "    showlegend=False,\n",
    "    title= \"Traffic by hour on Thursday\"\n",
    "      )\n",
    "img_name = \"Traffic by hour on Thursday\"\n",
    "fig_thursday_cluster.write_html(img_name)\n",
    "fig_thursday_cluster.show()"
   ]
  },
  {
   "cell_type": "markdown",
   "metadata": {},
   "source": [
    "### Showing clusters per hour for Friday"
   ]
  },
  {
   "cell_type": "code",
   "execution_count": 174,
   "metadata": {},
   "outputs": [
    {
     "data": {
      "text/html": [
       "<iframe\n",
       "    scrolling=\"no\"\n",
       "    width=\"620px\"\n",
       "    height=\"620\"\n",
       "    src=\"iframe_figures/figure_174.html\"\n",
       "    frameborder=\"0\"\n",
       "    allowfullscreen\n",
       "></iframe>\n"
      ]
     },
     "metadata": {},
     "output_type": "display_data"
    }
   ],
   "source": [
    "friday_sort = friday.sort_values(by=[\"Hour\"])\n",
    "fig_friday_cluster = px.scatter_mapbox(\n",
    "    friday_sort[friday_sort.cluster != -1],\n",
    "    lat=\"Lat\",\n",
    "    lon=\"Lon\",\n",
    "    color=\"cluster\",\n",
    "    mapbox_style=\"carto-positron\",\n",
    "    color_continuous_scale=None,\n",
    "    zoom=10,\n",
    "    animation_frame=\"Hour\",\n",
    ")\n",
    "\n",
    "\n",
    "fig_friday_cluster.update_layout(\n",
    "    autosize=False,\n",
    "    width=600,\n",
    "    height=600,\n",
    "    showlegend=False,\n",
    "    title= \"Traffic by hour on Friday\"\n",
    "      )\n",
    "img_name = \"Traffic by hour on Friday\"\n",
    "fig_friday_cluster.write_html(img_name)\n",
    "fig_friday_cluster.show()"
   ]
  },
  {
   "cell_type": "markdown",
   "metadata": {},
   "source": [
    "### Showing clusters per hour for Saturday"
   ]
  },
  {
   "cell_type": "code",
   "execution_count": 175,
   "metadata": {},
   "outputs": [
    {
     "data": {
      "text/html": [
       "<iframe\n",
       "    scrolling=\"no\"\n",
       "    width=\"620px\"\n",
       "    height=\"620\"\n",
       "    src=\"iframe_figures/figure_175.html\"\n",
       "    frameborder=\"0\"\n",
       "    allowfullscreen\n",
       "></iframe>\n"
      ]
     },
     "metadata": {},
     "output_type": "display_data"
    }
   ],
   "source": [
    "saturday_sort = saturday.sort_values(by=[\"Hour\"])\n",
    "fig_saturday_cluster = px.scatter_mapbox(\n",
    "    saturday_sort[saturday_sort.cluster != -1],\n",
    "    lat=\"Lat\",\n",
    "    lon=\"Lon\",\n",
    "    color=\"cluster\",\n",
    "    mapbox_style=\"carto-positron\",\n",
    "    color_continuous_scale=None,\n",
    "    zoom=10,\n",
    "    animation_frame=\"Hour\",\n",
    ")\n",
    "\n",
    "\n",
    "fig_saturday_cluster.update_layout(\n",
    "    autosize=False,\n",
    "    width=600,\n",
    "    height=600,\n",
    "    showlegend=False,\n",
    "    title= \"Traffic by hour on Saturday\"\n",
    "      )\n",
    "img_name = \"Traffic by hour on Saturday\"\n",
    "fig_saturday_cluster.write_html(img_name)\n",
    "fig_saturday_cluster.show()"
   ]
  },
  {
   "cell_type": "markdown",
   "metadata": {},
   "source": [
    "### Picking Sunday to observe how the K-means clustering algorithm behaves"
   ]
  },
  {
   "cell_type": "code",
   "execution_count": 215,
   "metadata": {},
   "outputs": [
    {
     "data": {
      "text/html": [
       "<div>\n",
       "<style scoped>\n",
       "    .dataframe tbody tr th:only-of-type {\n",
       "        vertical-align: middle;\n",
       "    }\n",
       "\n",
       "    .dataframe tbody tr th {\n",
       "        vertical-align: top;\n",
       "    }\n",
       "\n",
       "    .dataframe thead th {\n",
       "        text-align: right;\n",
       "    }\n",
       "</style>\n",
       "<table border=\"1\" class=\"dataframe\">\n",
       "  <thead>\n",
       "    <tr style=\"text-align: right;\">\n",
       "      <th></th>\n",
       "      <th>Lat</th>\n",
       "      <th>Lon</th>\n",
       "      <th>Hour</th>\n",
       "      <th>Minutes</th>\n",
       "    </tr>\n",
       "  </thead>\n",
       "  <tbody>\n",
       "    <tr>\n",
       "      <th>264036</th>\n",
       "      <td>40.7436</td>\n",
       "      <td>-73.9537</td>\n",
       "      <td>0</td>\n",
       "      <td>15</td>\n",
       "    </tr>\n",
       "    <tr>\n",
       "      <th>311372</th>\n",
       "      <td>40.6994</td>\n",
       "      <td>-73.9471</td>\n",
       "      <td>8</td>\n",
       "      <td>44</td>\n",
       "    </tr>\n",
       "    <tr>\n",
       "      <th>470569</th>\n",
       "      <td>40.7341</td>\n",
       "      <td>-74.0081</td>\n",
       "      <td>5</td>\n",
       "      <td>13</td>\n",
       "    </tr>\n",
       "    <tr>\n",
       "      <th>188566</th>\n",
       "      <td>40.7472</td>\n",
       "      <td>-73.9776</td>\n",
       "      <td>14</td>\n",
       "      <td>59</td>\n",
       "    </tr>\n",
       "    <tr>\n",
       "      <th>264925</th>\n",
       "      <td>40.7669</td>\n",
       "      <td>-73.9791</td>\n",
       "      <td>11</td>\n",
       "      <td>48</td>\n",
       "    </tr>\n",
       "  </tbody>\n",
       "</table>\n",
       "</div>"
      ],
      "text/plain": [
       "            Lat      Lon  Hour  Minutes\n",
       "264036  40.7436 -73.9537     0       15\n",
       "311372  40.6994 -73.9471     8       44\n",
       "470569  40.7341 -74.0081     5       13\n",
       "188566  40.7472 -73.9776    14       59\n",
       "264925  40.7669 -73.9791    11       48"
      ]
     },
     "execution_count": 215,
     "metadata": {},
     "output_type": "execute_result"
    }
   ],
   "source": [
    "sunday.head()"
   ]
  },
  {
   "cell_type": "markdown",
   "metadata": {},
   "source": [
    "##### Scaling numerical data and one-hot encoding categorical data"
   ]
  },
  {
   "cell_type": "code",
   "execution_count": 216,
   "metadata": {},
   "outputs": [
    {
     "data": {
      "text/plain": [
       "array([[ 0.26172219,  0.28515837, -1.72012334, -0.80713652],\n",
       "       [-0.82239466,  0.3921136 , -0.56735632,  0.86249029],\n",
       "       [ 0.02871065, -0.596412  , -0.99964395, -0.9222832 ],\n",
       "       [ 0.35002131, -0.1021492 ,  0.29721894,  1.72609037],\n",
       "       [ 0.83321366, -0.12645721, -0.13506869,  1.09278364]])"
      ]
     },
     "execution_count": 216,
     "metadata": {},
     "output_type": "execute_result"
    }
   ],
   "source": [
    "# Import Standard Scaler\n",
    "from sklearn.preprocessing import StandardScaler\n",
    "\n",
    "# Initialize StandardScaler\n",
    "# StandardScaler will substract mean and divide by standard deviation to each observation\n",
    "sc = StandardScaler()\n",
    "\n",
    "# Apply StandardScaler to X\n",
    "X = sc.fit_transform(sunday)\n",
    "\n",
    "# Visualize first five rows \n",
    "# Standard scaler transform X as numpy array. Therefore you can't use .head()\n",
    "X[:5]"
   ]
  },
  {
   "cell_type": "markdown",
   "metadata": {},
   "source": [
    "##### Determining how many clusters we should have using the Elbow method"
   ]
  },
  {
   "cell_type": "code",
   "execution_count": 217,
   "metadata": {},
   "outputs": [
    {
     "name": "stdout",
     "output_type": "stream",
     "text": [
      "WCSS for K=1 --> 35691.99999999995\n",
      "WCSS for K=2 --> 28872.960992442946\n",
      "WCSS for K=3 --> 23355.219809138838\n",
      "WCSS for K=4 --> 18679.64147697494\n",
      "WCSS for K=5 --> 16375.95966257533\n",
      "WCSS for K=6 --> 14762.627421479543\n",
      "WCSS for K=7 --> 13373.642624441172\n",
      "WCSS for K=8 --> 12028.428629411157\n",
      "WCSS for K=9 --> 11254.208108326906\n",
      "WCSS for K=10 --> 10645.522362064748\n"
     ]
    }
   ],
   "source": [
    "from sklearn.cluster import KMeans\n",
    "# Creating a loop that will collect the Within-sum-of-square (wcss) for each value of K \n",
    "# Use .inertia_ parameter to get the within sum of square value for each value of K \n",
    "wcss =  []\n",
    "k = []\n",
    "for i in range (1,11): \n",
    "    kmeans = KMeans(n_clusters= i, random_state = 0)\n",
    "    kmeans.fit(X)\n",
    "    wcss.append(kmeans.inertia_)\n",
    "    k.append(i)\n",
    "    print(\"WCSS for K={} --> {}\".format(i, wcss[-1]))"
   ]
  },
  {
   "cell_type": "markdown",
   "metadata": {},
   "source": [
    "##### Visualizing inertia as a function of K using plotly"
   ]
  },
  {
   "cell_type": "code",
   "execution_count": 218,
   "metadata": {},
   "outputs": [
    {
     "data": {
      "text/html": [
       "<iframe\n",
       "    scrolling=\"no\"\n",
       "    width=\"100%\"\n",
       "    height=\"545px\"\n",
       "    src=\"iframe_figures/figure_218.html\"\n",
       "    frameborder=\"0\"\n",
       "    allowfullscreen\n",
       "></iframe>\n"
      ]
     },
     "metadata": {},
     "output_type": "display_data"
    }
   ],
   "source": [
    "import plotly.express as px\n",
    "\n",
    "# Create DataFrame\n",
    "wcss_frame = pd.DataFrame(wcss)\n",
    "k_frame = pd.Series(k)\n",
    "\n",
    "# Create figure\n",
    "fig= px.line(\n",
    "    wcss_frame,\n",
    "    x=k_frame,\n",
    "    y=wcss_frame.iloc[:,-1]\n",
    ")\n",
    "\n",
    "# Create title and axis labels\n",
    "fig.update_layout(\n",
    "    yaxis_title=\"Inertia\",\n",
    "    xaxis_title=\"# Clusters\",\n",
    "    title=\"Inertia per cluster\"\n",
    ")\n",
    "\n",
    "# Render\n",
    "#fig.show(renderer=\"notebook\")\n",
    "fig.show(renderer=\"iframe\")"
   ]
  },
  {
   "cell_type": "markdown",
   "metadata": {},
   "source": [
    "##### It can be seen above that after K=4, inertia is not decreasing a lot."
   ]
  },
  {
   "cell_type": "markdown",
   "metadata": {},
   "source": [
    "##### Double-checking with the Silhouette method"
   ]
  },
  {
   "cell_type": "code",
   "execution_count": 219,
   "metadata": {},
   "outputs": [
    {
     "name": "stdout",
     "output_type": "stream",
     "text": [
      "Silhouette score for K=2 is 0.22648809231413095\n",
      "Silhouette score for K=3 is 0.26881339777681884\n",
      "Silhouette score for K=4 is 0.28445428100270004\n",
      "Silhouette score for K=5 is 0.2769683964415783\n",
      "Silhouette score for K=6 is 0.2634982199838762\n",
      "Silhouette score for K=7 is 0.2787769334874289\n",
      "Silhouette score for K=8 is 0.2892637613689813\n",
      "Silhouette score for K=9 is 0.27305822633219257\n",
      "Silhouette score for K=10 is 0.27985843858196413\n"
     ]
    }
   ],
   "source": [
    "# Import silhouette score\n",
    "from sklearn.metrics import silhouette_score\n",
    "\n",
    "# Computer mean silhouette score\n",
    "sil = []\n",
    "k = []\n",
    "\n",
    "## Careful, you need to start at i=2 as silhouette score cannot accept less than 2 labels \n",
    "for i in range (2,11): \n",
    "    kmeans = KMeans(n_clusters= i, init = \"k-means++\", random_state = 0)\n",
    "    kmeans.fit(X)\n",
    "    sil.append(silhouette_score(X, kmeans.predict(X)))\n",
    "    k.append(i)\n",
    "    print(\"Silhouette score for K={} is {}\".format(i, sil[-1]))"
   ]
  },
  {
   "cell_type": "markdown",
   "metadata": {},
   "source": [
    "##### Visualizing inertia as a function of K using plotly"
   ]
  },
  {
   "cell_type": "code",
   "execution_count": 220,
   "metadata": {},
   "outputs": [
    {
     "data": {
      "text/html": [
       "<iframe\n",
       "    scrolling=\"no\"\n",
       "    width=\"100%\"\n",
       "    height=\"545px\"\n",
       "    src=\"iframe_figures/figure_220.html\"\n",
       "    frameborder=\"0\"\n",
       "    allowfullscreen\n",
       "></iframe>\n"
      ]
     },
     "metadata": {},
     "output_type": "display_data"
    }
   ],
   "source": [
    "# Create a data frame \n",
    "cluster_scores=pd.DataFrame(sil)\n",
    "k_frame = pd.Series(k)\n",
    "\n",
    "# Create figure\n",
    "fig = px.bar(data_frame=cluster_scores,  \n",
    "             x=k, \n",
    "             y=cluster_scores.iloc[:, -1]\n",
    "            )\n",
    "\n",
    "# Add title and axis labels\n",
    "fig.update_layout(\n",
    "    yaxis_title=\"Silhouette Score\",\n",
    "    xaxis_title=\"# Clusters\",\n",
    "    title=\"Silhouette Score per cluster\"\n",
    ")\n",
    "\n",
    "# Render\n",
    "#fig.show(renderer=\"notebook\")\n",
    "fig.show(renderer=\"iframe\") # if using workspace"
   ]
  },
  {
   "cell_type": "markdown",
   "metadata": {},
   "source": [
    "##### The Silhouette method also suggests that K=4 is appropriate"
   ]
  },
  {
   "cell_type": "code",
   "execution_count": 221,
   "metadata": {},
   "outputs": [
    {
     "data": {
      "text/plain": [
       "KMeans(n_clusters=4, random_state=0)"
      ]
     },
     "execution_count": 221,
     "metadata": {},
     "output_type": "execute_result"
    }
   ],
   "source": [
    "# Import K-Means \n",
    "from sklearn.cluster import KMeans\n",
    "\n",
    "# Instanciate KMeans with k=3 and initialisation with k-means++\n",
    "# You should always use k-means++ as it alleviate the problem of local minimum convergence \n",
    "kmeans = KMeans(n_clusters=4, init = \"k-means++\", random_state=0)\n",
    "\n",
    "# Fit kmeans to our dataset\n",
    "kmeans.fit(X)"
   ]
  },
  {
   "cell_type": "markdown",
   "metadata": {},
   "source": [
    "##### Checking the coordinates of each cluster centers"
   ]
  },
  {
   "cell_type": "code",
   "execution_count": 223,
   "metadata": {},
   "outputs": [
    {
     "data": {
      "text/plain": [
       "<AxesSubplot:>"
      ]
     },
     "execution_count": 223,
     "metadata": {},
     "output_type": "execute_result"
    },
    {
     "data": {
      "image/png": "[encoded data removed]",
      "text/plain": [
       "<Figure size 432x288 with 2 Axes>"
      ]
     },
     "metadata": {
      "needs_background": "light"
     },
     "output_type": "display_data"
    }
   ],
   "source": [
    "# Cluster centers coordinates\n",
    "# Let's use inverse transform to have the real coordinates \n",
    "cluster_centers = sc.inverse_transform(kmeans.cluster_centers_)\n",
    "\n",
    "# Let's get column names to facilita understanding \n",
    "labels = sunday.columns\n",
    "\n",
    "# Let's visualize on a heatmap \n",
    "## Import Seaborn and pandas \n",
    "import seaborn as sns\n",
    "import pandas as pd \n",
    "\n",
    "# Create a heatmap \n",
    "sns.heatmap(pd.DataFrame(cluster_centers, columns=labels),  annot=True)"
   ]
  },
  {
   "cell_type": "code",
   "execution_count": 224,
   "metadata": {},
   "outputs": [
    {
     "name": "stdout",
     "output_type": "stream",
     "text": [
      "Point 1 belongs to cluster: 2\n",
      "Point 2 belongs to cluster: 3\n",
      "Point 3 belongs to cluster: 2\n",
      "Point 4 belongs to cluster: 3\n",
      "Point 5 belongs to cluster: 3\n"
     ]
    }
   ],
   "source": [
    "## Create data using numpy \n",
    "import numpy as np \n",
    "point_1 = np.array([[40.7436, -73.9537, 0, 15]])\n",
    "point_2 = np.array([[40.6994, -73.9471, 8, 44]])\n",
    "point_3 = np.array([[40.7341, -74.0081, 5, 13]])\n",
    "point_4 = np.array([[40.7472, -73.9776, 14, 59]])\n",
    "point_5 = np.array([[40.7669, -73.9791, 11, 48]])\n",
    "\n",
    "## Apply standard scaler \n",
    "point_1 = sc.transform(point_1)\n",
    "point_2 = sc.transform(point_2)\n",
    "point_3 = sc.transform(point_3)\n",
    "point_4 = sc.transform(point_4)\n",
    "point_5 = sc.transform(point_5)\n",
    "\n",
    "\n",
    "## Get cluster \n",
    "predict_point_1 = kmeans.predict(point_1)\n",
    "predict_point_2 = kmeans.predict(point_2)\n",
    "predict_point_3 = kmeans.predict(point_3)\n",
    "predict_point_4 = kmeans.predict(point_4)\n",
    "predict_point_5 = kmeans.predict(point_5)\n",
    "\n",
    "print(\"Point 1 belongs to cluster: {}\".format(predict_point_1[0]))\n",
    "print(\"Point 2 belongs to cluster: {}\".format(predict_point_2[0]))\n",
    "print(\"Point 3 belongs to cluster: {}\".format(predict_point_3[0]))\n",
    "print(\"Point 4 belongs to cluster: {}\".format(predict_point_4[0]))\n",
    "print(\"Point 5 belongs to cluster: {}\".format(predict_point_5[0]))"
   ]
  },
  {
   "cell_type": "markdown",
   "metadata": {},
   "source": [
    "##### Conclusion : As far as my knowledge goes in  this domain, K-means algorithm does not seem appropriate to solve this clustering problem"
   ]
  }
 ],
 "metadata": {
  "kernelspec": {
   "display_name": "Python 3",
   "language": "python",
   "name": "python3"
  },
  "language_info": {
   "codemirror_mode": {
    "name": "ipython",
    "version": 3
   },
   "file_extension": ".py",
   "mimetype": "text/x-python",
   "name": "python",
   "nbconvert_exporter": "python",
   "pygments_lexer": "ipython3",
   "version": "3.8.6"
  }
 },
 "nbformat": 4,
 "nbformat_minor": 4
}
